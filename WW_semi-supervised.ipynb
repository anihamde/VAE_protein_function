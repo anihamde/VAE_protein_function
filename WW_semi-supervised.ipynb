{
 "cells": [
  {
   "cell_type": "markdown",
   "metadata": {},
   "source": [
    "### Using a Variational Auto-encoder to predict protein fitness from evolutionary data\n",
    "\n",
    "July 20, 2017\n",
    "### Sam Sinai and Eric Kelsic\n",
    "\n",
    "\n",
    "## For the blog post associated with this notebook see [this post](https://samsinai.github.io/jekyll/update/2017/08/14/Using-a-Variational-Autoencoder-to-predict-protein-function.html). \n",
    "\n",
    "\n",
    "This notebook it organized in 3 sections. In section 1 we show our workflow for pre-processing the biological data. We then train the model on the alignment data in section 2. In section 3 we compare the predictions of the model on the [PABP yeast](https://www.ncbi.nlm.nih.gov/pmc/articles/PMC3851721/) dataset. In section 4 we report the results from analyzing multiple other datasets. Finally we pose some questions with regards to improving the model for interested researcher."
   ]
  },
  {
   "cell_type": "code",
   "execution_count": 5,
   "metadata": {},
   "outputs": [],
   "source": [
    "# Generic imports\n",
    "from __future__ import print_function\n",
    "%matplotlib inline\n",
    "import matplotlib.pyplot as plt\n",
    "import numpy as np\n",
    "import pandas as pd\n",
    "import math,random,re\n",
    "import time\n",
    "from sklearn.decomposition import PCA\n",
    "\n",
    "from Bio import SeqIO"
   ]
  },
  {
   "cell_type": "code",
   "execution_count": 6,
   "metadata": {},
   "outputs": [],
   "source": [
    "#Machine learning/Stats imports \n",
    "from scipy.stats import norm\n",
    "from scipy.stats import spearmanr,pearsonr\n",
    "from sklearn.preprocessing import normalize\n",
    "from sklearn.model_selection import train_test_split\n",
    "import torch\n",
    "import torch.nn as nn\n",
    "import torch.nn.functional as F\n",
    "from torch.autograd import Variable\n",
    "import torch.distributions as D"
   ]
  },
  {
   "cell_type": "code",
   "execution_count": 7,
   "metadata": {},
   "outputs": [],
   "source": [
    "from sklearn.ensemble import RandomForestRegressor\n",
    "from sklearn.ensemble import RandomForestClassifier\n",
    "\n",
    "from sklearn.model_selection import train_test_split"
   ]
  },
  {
   "cell_type": "code",
   "execution_count": 70,
   "metadata": {},
   "outputs": [],
   "source": [
    "from sklearn.ensemble import GradientBoostingRegressor"
   ]
  },
  {
   "cell_type": "code",
   "execution_count": 9,
   "metadata": {},
   "outputs": [],
   "source": [
    "from models import *"
   ]
  },
  {
   "cell_type": "code",
   "execution_count": 10,
   "metadata": {},
   "outputs": [],
   "source": [
    "import umap"
   ]
  },
  {
   "cell_type": "code",
   "execution_count": 11,
   "metadata": {},
   "outputs": [],
   "source": [
    "import warnings\n",
    "warnings.simplefilter(action='ignore', category=FutureWarning)"
   ]
  },
  {
   "cell_type": "markdown",
   "metadata": {},
   "source": [
    "## 1.  Data pre-processing\n",
    "\n",
    "Defining the alphabet that is used for Amino-Acids throughout."
   ]
  },
  {
   "cell_type": "code",
   "execution_count": 12,
   "metadata": {},
   "outputs": [],
   "source": [
    "#Invariants\n",
    "ORDER_KEY=\"XILVAGMFYWEDQNHCRKSTPBZ-*\"[::-1]\n",
    "ORDER_LIST=list(ORDER_KEY)"
   ]
  },
  {
   "cell_type": "markdown",
   "metadata": {},
   "source": [
    "These are helper functions to clean and process data. "
   ]
  },
  {
   "cell_type": "code",
   "execution_count": 17,
   "metadata": {},
   "outputs": [],
   "source": [
    "%reload_ext autoreload\n",
    "%autoreload 1\n",
    "from helper_tools import *\n",
    "from helper_tools_for_plotting import *"
   ]
  },
  {
   "cell_type": "markdown",
   "metadata": {},
   "source": [
    "Import the alignment data:"
   ]
  },
  {
   "cell_type": "code",
   "execution_count": 38,
   "metadata": {
    "scrolled": true
   },
   "outputs": [],
   "source": [
    "fowler = pd.read_csv(\"fowler_data.txt\", delimiter=\"\\t\")"
   ]
  },
  {
   "cell_type": "code",
   "execution_count": 39,
   "metadata": {},
   "outputs": [],
   "source": [
    "seqs = []\n",
    "for record in SeqIO.parse(\"fowler_aligned_partial.fasta\", \"fasta\"):\n",
    "    seqs.append(\"\".join(record.seq))\n",
    "\n",
    "seqs.append(seqs[0])\n",
    "\n",
    "data = pd.DataFrame({\"sequence\": seqs})"
   ]
  },
  {
   "cell_type": "code",
   "execution_count": 40,
   "metadata": {},
   "outputs": [
    {
     "data": {
      "text/plain": [
       "'DLPLPPGWEMAYTENGRVYFIDHNTKTTTWLDPR'"
      ]
     },
     "execution_count": 40,
     "metadata": {},
     "output_type": "execute_result"
    }
   ],
   "source": [
    "data.iloc[0][\"sequence\"]"
   ]
  },
  {
   "cell_type": "markdown",
   "metadata": {},
   "source": [
    "Let's see how long the sequence is"
   ]
  },
  {
   "cell_type": "code",
   "execution_count": 41,
   "metadata": {},
   "outputs": [
    {
     "name": "stdout",
     "output_type": "stream",
     "text": [
      "length of sequence: 34\n",
      "sample sequence:  DLPLPPGWEMAYTENGRVYFIDHNTKTTTWLDPR\n"
     ]
    }
   ],
   "source": [
    "print (\"length of sequence:\", len(data.iloc[0][\"sequence\"]))#, len(data.iloc[0][\"seq\"]))\n",
    "print (\"sample sequence: \", data.iloc[0][\"sequence\"])"
   ]
  },
  {
   "cell_type": "markdown",
   "metadata": {},
   "source": [
    "We are only really interested in the columns that do align. This means that for every column that we include, at least 50% of sequences are not gaps. Note that this threshold is imposed by the alignment parameters loaded above. So let's make a column for that. Meanwhile, we keep track of the indices that did align."
   ]
  },
  {
   "cell_type": "code",
   "execution_count": 42,
   "metadata": {},
   "outputs": [
    {
     "data": {
      "text/html": [
       "<div>\n",
       "<style scoped>\n",
       "    .dataframe tbody tr th:only-of-type {\n",
       "        vertical-align: middle;\n",
       "    }\n",
       "\n",
       "    .dataframe tbody tr th {\n",
       "        vertical-align: top;\n",
       "    }\n",
       "\n",
       "    .dataframe thead th {\n",
       "        text-align: right;\n",
       "    }\n",
       "</style>\n",
       "<table border=\"1\" class=\"dataframe\">\n",
       "  <thead>\n",
       "    <tr style=\"text-align: right;\">\n",
       "      <th></th>\n",
       "      <th>sequence</th>\n",
       "      <th>seq</th>\n",
       "    </tr>\n",
       "  </thead>\n",
       "  <tbody>\n",
       "    <tr>\n",
       "      <th>0</th>\n",
       "      <td>DLPLPPGWEMAYTENGRVYFIDHNTKTTTWLDPR</td>\n",
       "      <td>DLPLPPGWEMAYTENGRVYFIDHNTKTTTWLDPR</td>\n",
       "    </tr>\n",
       "    <tr>\n",
       "      <th>1</th>\n",
       "      <td>DVPLPAGWEMAKTRSGQRYFLNHVDQTTKWQDPR</td>\n",
       "      <td>DVPLPAGWEMAKTRSGQRYFLNHVDQTTKWQDPR</td>\n",
       "    </tr>\n",
       "    <tr>\n",
       "      <th>2</th>\n",
       "      <td>DVPLPAGWEMAKTSSGQRYFLNHIDQTTTWQDPR</td>\n",
       "      <td>DVPLPAGWEMAKTSSGQRYFLNHIDQTTTWQDPR</td>\n",
       "    </tr>\n",
       "    <tr>\n",
       "      <th>3</th>\n",
       "      <td>DVPLPAGWEMAKTSSGQRYFLNHIDQTTTWQDPR</td>\n",
       "      <td>DVPLPAGWEMAKTSSGQRYFLNHIDQTTTWQDPR</td>\n",
       "    </tr>\n",
       "    <tr>\n",
       "      <th>4</th>\n",
       "      <td>DVPLPAGWEMAKTSSGQRYFLNHIDQTTTWQDPR</td>\n",
       "      <td>DVPLPAGWEMAKTSSGQRYFLNHIDQTTTWQDPR</td>\n",
       "    </tr>\n",
       "  </tbody>\n",
       "</table>\n",
       "</div>"
      ],
      "text/plain": [
       "                             sequence                                 seq\n",
       "0  DLPLPPGWEMAYTENGRVYFIDHNTKTTTWLDPR  DLPLPPGWEMAYTENGRVYFIDHNTKTTTWLDPR\n",
       "1  DVPLPAGWEMAKTRSGQRYFLNHVDQTTKWQDPR  DVPLPAGWEMAKTRSGQRYFLNHVDQTTKWQDPR\n",
       "2  DVPLPAGWEMAKTSSGQRYFLNHIDQTTTWQDPR  DVPLPAGWEMAKTSSGQRYFLNHIDQTTTWQDPR\n",
       "3  DVPLPAGWEMAKTSSGQRYFLNHIDQTTTWQDPR  DVPLPAGWEMAKTSSGQRYFLNHIDQTTTWQDPR\n",
       "4  DVPLPAGWEMAKTSSGQRYFLNHIDQTTTWQDPR  DVPLPAGWEMAKTSSGQRYFLNHIDQTTTWQDPR"
      ]
     },
     "execution_count": 42,
     "metadata": {},
     "output_type": "execute_result"
    }
   ],
   "source": [
    "indices=index_of_non_lower_case_dot(data.iloc[0][\"sequence\"])\n",
    "data[\"seq\"]=list(map(prune_seq,data[\"sequence\"]))\n",
    "data.head()"
   ]
  },
  {
   "cell_type": "markdown",
   "metadata": {},
   "source": [
    "Let's see how many columns remained. "
   ]
  },
  {
   "cell_type": "code",
   "execution_count": 43,
   "metadata": {},
   "outputs": [
    {
     "name": "stdout",
     "output_type": "stream",
     "text": [
      "pruned sequence length: 34\n"
     ]
    }
   ],
   "source": [
    "print (\"pruned sequence length:\", len(data.iloc[0][\"seq\"]))\n",
    "PRUNED_SEQ_LENGTH=len(data.iloc[0][\"seq\"])"
   ]
  },
  {
   "cell_type": "markdown",
   "metadata": {},
   "source": [
    "A few optional lines of code to run. Printing indices, and deleting the sequence column so that it doesn't stay in memory for no reason. "
   ]
  },
  {
   "cell_type": "markdown",
   "metadata": {},
   "source": [
    "Next we translate the sequence into a one hot encoding and shape the input sequences into a m*n matrix. Here m is the number of the data points and $n=$ alphbet size $\\times$ sequence length."
   ]
  },
  {
   "cell_type": "code",
   "execution_count": 44,
   "metadata": {},
   "outputs": [
    {
     "name": "stdout",
     "output_type": "stream",
     "text": [
      "16668 25 34\n",
      "(16668, 850)\n"
     ]
    }
   ],
   "source": [
    "#Encode Orthologs\n",
    "ortholog_data_one_hot=[]\n",
    "labels=[]\n",
    "for i, row in data.iterrows():\n",
    "    ortholog_data_one_hot.append(translate_string_to_one_hot(row[\"seq\"],ORDER_LIST))\n",
    "print (len(ortholog_data_one_hot),len(ortholog_data_one_hot[0]),len(ortholog_data_one_hot[0][0]))\n",
    "#plt.imshow(training_data_one_hot[0],cmap=\"Greys\")\n",
    "ortholog_data=np.array([np.array(list(sample.T.flatten())) for sample in ortholog_data_one_hot])\n",
    "print(ortholog_data.shape)"
   ]
  },
  {
   "cell_type": "code",
   "execution_count": 45,
   "metadata": {},
   "outputs": [
    {
     "name": "stdout",
     "output_type": "stream",
     "text": [
      "47000 25 34\n",
      "(47000, 850)\n"
     ]
    }
   ],
   "source": [
    "#Encode fowler data to one hot\n",
    "fowler_data_one_hot=[]\n",
    "labels=[]\n",
    "for i, row in fowler.iterrows():\n",
    "    fowler_data_one_hot.append(translate_string_to_one_hot(row[\"sequence\"],ORDER_LIST))\n",
    "print (len(fowler_data_one_hot),len(fowler_data_one_hot[0]),len(fowler_data_one_hot[0][0]))\n",
    "#plt.imshow(training_data_one_hot[0],cmap=\"Greys\")\n",
    "fowler_data=np.array([np.array(list(sample.T.flatten())) for sample in fowler_data_one_hot])\n",
    "# training_data=np.array([np.array(list(sample.flatten())).T for sample in training_data_one_hot])\n",
    "print(fowler_data.shape)"
   ]
  },
  {
   "cell_type": "markdown",
   "metadata": {},
   "source": [
    "## Basic Functions"
   ]
  },
  {
   "cell_type": "code",
   "execution_count": 205,
   "metadata": {},
   "outputs": [],
   "source": [
    "def build_PCA(data, n_components):\n",
    "    pca = PCA(n_components=n_components)\n",
    "    pca.fit(data)\n",
    "    return pca\n",
    "\n",
    "def feed_PCA(pca, data):\n",
    "    return pca.transform(data)\n",
    "\n",
    "def split_data(xdata, ydata, train_size):\n",
    "    x_train, x_test, y_train, y_test = train_test_split(xdata, ydata, train_size=train_size, random_state=10)\n",
    "    return (x_train, x_test, y_train, y_test)\n",
    "\n",
    "def train_test(x_train, x_test, y_train, y_test, model_type=\"reg\"):\n",
    "    if (model_type == \"reg\"):\n",
    "        reg = GradientBoostingRegressor(max_depth=6)\n",
    "        reg.fit(x_train, y_train)\n",
    "        return (spearmanr(reg.predict(x_test), y_test))\n",
    "#         return (reg.score(x_test, y_test))\n",
    "    \n",
    "    elif (model_type == \"clf\"):\n",
    "        clf = RandomForestClassifier()\n",
    "        clf.fit(x_train, y_train > 0.5)\n",
    "        return (clf.score(x_test, y_test > 0.5))\n",
    "    \n",
    "    return None    \n",
    "\n",
    "def augmented_learning(data, additional_data, labels, n_components, train_size):\n",
    "    x_train, x_test, y_train, y_test = split_data(data, labels, train_size=train_size)\n",
    "    \n",
    "    augmented_data = np.concatenate([x_train, additional_data])\n",
    "    pca = build_PCA(augmented_data, n_components=n_components)\n",
    "    transformed_train = feed_PCA(pca, x_train)\n",
    "    transformed_test = feed_PCA(pca, x_test)\n",
    "\n",
    "    \n",
    "    reg_score = train_test(transformed_train, transformed_test, y_train, y_test, model_type=\"reg\")\n",
    "    clf_score = train_test(transformed_train, transformed_test, y_train, y_test, model_type=\"clf\")\n",
    "    \n",
    "    return (reg_score, clf_score)\n",
    "\n",
    "def normal_learning(data, labels, train_size):\n",
    "    x_train, x_test, y_train, y_test = split_data(data, labels, train_size=train_size)\n",
    "\n",
    "    reg_score = train_test(x_train, x_test, y_train, y_test, model_type=\"reg\")\n",
    "    clf_score = train_test(x_train, x_test, y_train, y_test, model_type=\"clf\")\n",
    "    \n",
    "    return (reg_score, clf_score)\n",
    "\n",
    "def PCA_learning(data, labels, n_components, train_size):\n",
    "    x_train, x_test, y_train, y_test = split_data(data, labels, train_size=train_size)\n",
    "    \n",
    "    pca = build_PCA(x_train, n_components=n_components)\n",
    "    transformed_train = feed_PCA(pca, x_train)\n",
    "    transformed_test = feed_PCA(pca, x_test)\n",
    "    \n",
    "    reg_score = train_test(transformed_train, transformed_test, y_train, y_test, model_type=\"reg\")\n",
    "    clf_score = train_test(transformed_train, transformed_test, y_train, y_test, model_type=\"clf\")\n",
    "    \n",
    "    return (reg_score, clf_score)"
   ]
  },
  {
   "cell_type": "markdown",
   "metadata": {},
   "source": [
    "## Baseline One-hot model "
   ]
  },
  {
   "cell_type": "code",
   "execution_count": 50,
   "metadata": {},
   "outputs": [
    {
     "data": {
      "image/png": "[encoded data removed]",
      "text/plain": [
       "<Figure size 432x288 with 1 Axes>"
      ]
     },
     "metadata": {
      "needs_background": "light"
     },
     "output_type": "display_data"
    }
   ],
   "source": [
    "plt.hist(fowler['fitness'])\n",
    "plt.title(\"Fowler dataset fitness distribution\")\n",
    "plt.show()"
   ]
  },
  {
   "cell_type": "code",
   "execution_count": 48,
   "metadata": {},
   "outputs": [
    {
     "ename": "KeyboardInterrupt",
     "evalue": "",
     "output_type": "error",
     "traceback": [
      "\u001b[0;31m---------------------------------------------------------------------------\u001b[0m",
      "\u001b[0;31mKeyboardInterrupt\u001b[0m                         Traceback (most recent call last)",
      "\u001b[0;32m<ipython-input-48-deec34e4d1b0>\u001b[0m in \u001b[0;36m<module>\u001b[0;34m\u001b[0m\n\u001b[0;32m----> 1\u001b[0;31m \u001b[0maccuracies\u001b[0m \u001b[0;34m=\u001b[0m \u001b[0mnormal_learning\u001b[0m\u001b[0;34m(\u001b[0m\u001b[0mfowler_data\u001b[0m\u001b[0;34m,\u001b[0m \u001b[0mfowler\u001b[0m\u001b[0;34m[\u001b[0m\u001b[0;34m'fitness'\u001b[0m\u001b[0;34m]\u001b[0m\u001b[0;34m,\u001b[0m \u001b[0mtrain_size\u001b[0m\u001b[0;34m=\u001b[0m\u001b[0;36m0.7\u001b[0m\u001b[0;34m)\u001b[0m\u001b[0;34m\u001b[0m\u001b[0;34m\u001b[0m\u001b[0m\n\u001b[0m",
      "\u001b[0;32m<ipython-input-46-c1cf2099324e>\u001b[0m in \u001b[0;36mnormal_learning\u001b[0;34m(data, labels, train_size)\u001b[0m\n\u001b[1;32m     41\u001b[0m     \u001b[0mx_train\u001b[0m\u001b[0;34m,\u001b[0m \u001b[0mx_test\u001b[0m\u001b[0;34m,\u001b[0m \u001b[0my_train\u001b[0m\u001b[0;34m,\u001b[0m \u001b[0my_test\u001b[0m \u001b[0;34m=\u001b[0m \u001b[0msplit_data\u001b[0m\u001b[0;34m(\u001b[0m\u001b[0mdata\u001b[0m\u001b[0;34m,\u001b[0m \u001b[0mlabels\u001b[0m\u001b[0;34m,\u001b[0m \u001b[0mtrain_size\u001b[0m\u001b[0;34m=\u001b[0m\u001b[0mtrain_size\u001b[0m\u001b[0;34m)\u001b[0m\u001b[0;34m\u001b[0m\u001b[0;34m\u001b[0m\u001b[0m\n\u001b[1;32m     42\u001b[0m \u001b[0;34m\u001b[0m\u001b[0m\n\u001b[0;32m---> 43\u001b[0;31m     \u001b[0mreg_score\u001b[0m \u001b[0;34m=\u001b[0m \u001b[0mtrain_test\u001b[0m\u001b[0;34m(\u001b[0m\u001b[0mx_train\u001b[0m\u001b[0;34m,\u001b[0m \u001b[0mx_test\u001b[0m\u001b[0;34m,\u001b[0m \u001b[0my_train\u001b[0m\u001b[0;34m,\u001b[0m \u001b[0my_test\u001b[0m\u001b[0;34m,\u001b[0m \u001b[0mmodel_type\u001b[0m\u001b[0;34m=\u001b[0m\u001b[0;34m\"reg\"\u001b[0m\u001b[0;34m)\u001b[0m\u001b[0;34m\u001b[0m\u001b[0;34m\u001b[0m\u001b[0m\n\u001b[0m\u001b[1;32m     44\u001b[0m     \u001b[0mclf_score\u001b[0m \u001b[0;34m=\u001b[0m \u001b[0mtrain_test\u001b[0m\u001b[0;34m(\u001b[0m\u001b[0mx_train\u001b[0m\u001b[0;34m,\u001b[0m \u001b[0mx_test\u001b[0m\u001b[0;34m,\u001b[0m \u001b[0my_train\u001b[0m\u001b[0;34m,\u001b[0m \u001b[0my_test\u001b[0m\u001b[0;34m,\u001b[0m \u001b[0mmodel_type\u001b[0m\u001b[0;34m=\u001b[0m\u001b[0;34m\"clf\"\u001b[0m\u001b[0;34m)\u001b[0m\u001b[0;34m\u001b[0m\u001b[0;34m\u001b[0m\u001b[0m\n\u001b[1;32m     45\u001b[0m \u001b[0;34m\u001b[0m\u001b[0m\n",
      "\u001b[0;32m<ipython-input-46-c1cf2099324e>\u001b[0m in \u001b[0;36mtrain_test\u001b[0;34m(x_train, x_test, y_train, y_test, model_type)\u001b[0m\n\u001b[1;32m     14\u001b[0m     \u001b[0;32mif\u001b[0m \u001b[0;34m(\u001b[0m\u001b[0mmodel_type\u001b[0m \u001b[0;34m==\u001b[0m \u001b[0;34m\"reg\"\u001b[0m\u001b[0;34m)\u001b[0m\u001b[0;34m:\u001b[0m\u001b[0;34m\u001b[0m\u001b[0;34m\u001b[0m\u001b[0m\n\u001b[1;32m     15\u001b[0m         \u001b[0mreg\u001b[0m \u001b[0;34m=\u001b[0m \u001b[0mGradientBoostingRegressor\u001b[0m\u001b[0;34m(\u001b[0m\u001b[0mmax_depth\u001b[0m\u001b[0;34m=\u001b[0m\u001b[0;36m6\u001b[0m\u001b[0;34m)\u001b[0m\u001b[0;34m\u001b[0m\u001b[0;34m\u001b[0m\u001b[0m\n\u001b[0;32m---> 16\u001b[0;31m         \u001b[0mreg\u001b[0m\u001b[0;34m.\u001b[0m\u001b[0mfit\u001b[0m\u001b[0;34m(\u001b[0m\u001b[0mx_train\u001b[0m\u001b[0;34m,\u001b[0m \u001b[0my_train\u001b[0m\u001b[0;34m)\u001b[0m\u001b[0;34m\u001b[0m\u001b[0;34m\u001b[0m\u001b[0m\n\u001b[0m\u001b[1;32m     17\u001b[0m         \u001b[0;32mreturn\u001b[0m \u001b[0;34m(\u001b[0m\u001b[0mreg\u001b[0m\u001b[0;34m.\u001b[0m\u001b[0mscore\u001b[0m\u001b[0;34m(\u001b[0m\u001b[0mx_test\u001b[0m\u001b[0;34m,\u001b[0m \u001b[0my_test\u001b[0m\u001b[0;34m)\u001b[0m\u001b[0;34m)\u001b[0m\u001b[0;34m\u001b[0m\u001b[0;34m\u001b[0m\u001b[0m\n\u001b[1;32m     18\u001b[0m \u001b[0;34m\u001b[0m\u001b[0m\n",
      "\u001b[0;32m//anaconda/envs/ML_env/lib/python3.6/site-packages/sklearn/ensemble/gradient_boosting.py\u001b[0m in \u001b[0;36mfit\u001b[0;34m(self, X, y, sample_weight, monitor)\u001b[0m\n\u001b[1;32m   1463\u001b[0m         n_stages = self._fit_stages(X, y, y_pred, sample_weight, self._rng,\n\u001b[1;32m   1464\u001b[0m                                     \u001b[0mX_val\u001b[0m\u001b[0;34m,\u001b[0m \u001b[0my_val\u001b[0m\u001b[0;34m,\u001b[0m \u001b[0msample_weight_val\u001b[0m\u001b[0;34m,\u001b[0m\u001b[0;34m\u001b[0m\u001b[0;34m\u001b[0m\u001b[0m\n\u001b[0;32m-> 1465\u001b[0;31m                                     begin_at_stage, monitor, X_idx_sorted)\n\u001b[0m\u001b[1;32m   1466\u001b[0m \u001b[0;34m\u001b[0m\u001b[0m\n\u001b[1;32m   1467\u001b[0m         \u001b[0;31m# change shape of arrays after fit (early-stopping or additional ests)\u001b[0m\u001b[0;34m\u001b[0m\u001b[0;34m\u001b[0m\u001b[0;34m\u001b[0m\u001b[0m\n",
      "\u001b[0;32m//anaconda/envs/ML_env/lib/python3.6/site-packages/sklearn/ensemble/gradient_boosting.py\u001b[0m in \u001b[0;36m_fit_stages\u001b[0;34m(self, X, y, y_pred, sample_weight, random_state, X_val, y_val, sample_weight_val, begin_at_stage, monitor, X_idx_sorted)\u001b[0m\n\u001b[1;32m   1527\u001b[0m             y_pred = self._fit_stage(i, X, y, y_pred, sample_weight,\n\u001b[1;32m   1528\u001b[0m                                      \u001b[0msample_mask\u001b[0m\u001b[0;34m,\u001b[0m \u001b[0mrandom_state\u001b[0m\u001b[0;34m,\u001b[0m \u001b[0mX_idx_sorted\u001b[0m\u001b[0;34m,\u001b[0m\u001b[0;34m\u001b[0m\u001b[0;34m\u001b[0m\u001b[0m\n\u001b[0;32m-> 1529\u001b[0;31m                                      X_csc, X_csr)\n\u001b[0m\u001b[1;32m   1530\u001b[0m \u001b[0;34m\u001b[0m\u001b[0m\n\u001b[1;32m   1531\u001b[0m             \u001b[0;31m# track deviance (= loss)\u001b[0m\u001b[0;34m\u001b[0m\u001b[0;34m\u001b[0m\u001b[0;34m\u001b[0m\u001b[0m\n",
      "\u001b[0;32m//anaconda/envs/ML_env/lib/python3.6/site-packages/sklearn/ensemble/gradient_boosting.py\u001b[0m in \u001b[0;36m_fit_stage\u001b[0;34m(self, i, X, y, y_pred, sample_weight, sample_mask, random_state, X_idx_sorted, X_csc, X_csr)\u001b[0m\n\u001b[1;32m   1192\u001b[0m             \u001b[0mX\u001b[0m \u001b[0;34m=\u001b[0m \u001b[0mX_csr\u001b[0m \u001b[0;32mif\u001b[0m \u001b[0mX_csr\u001b[0m \u001b[0;32mis\u001b[0m \u001b[0;32mnot\u001b[0m \u001b[0;32mNone\u001b[0m \u001b[0;32melse\u001b[0m \u001b[0mX\u001b[0m\u001b[0;34m\u001b[0m\u001b[0;34m\u001b[0m\u001b[0m\n\u001b[1;32m   1193\u001b[0m             tree.fit(X, residual, sample_weight=sample_weight,\n\u001b[0;32m-> 1194\u001b[0;31m                      check_input=False, X_idx_sorted=X_idx_sorted)\n\u001b[0m\u001b[1;32m   1195\u001b[0m \u001b[0;34m\u001b[0m\u001b[0m\n\u001b[1;32m   1196\u001b[0m             \u001b[0;31m# update tree leaves\u001b[0m\u001b[0;34m\u001b[0m\u001b[0;34m\u001b[0m\u001b[0;34m\u001b[0m\u001b[0m\n",
      "\u001b[0;32m//anaconda/envs/ML_env/lib/python3.6/site-packages/sklearn/tree/tree.py\u001b[0m in \u001b[0;36mfit\u001b[0;34m(self, X, y, sample_weight, check_input, X_idx_sorted)\u001b[0m\n\u001b[1;32m   1140\u001b[0m             \u001b[0msample_weight\u001b[0m\u001b[0;34m=\u001b[0m\u001b[0msample_weight\u001b[0m\u001b[0;34m,\u001b[0m\u001b[0;34m\u001b[0m\u001b[0;34m\u001b[0m\u001b[0m\n\u001b[1;32m   1141\u001b[0m             \u001b[0mcheck_input\u001b[0m\u001b[0;34m=\u001b[0m\u001b[0mcheck_input\u001b[0m\u001b[0;34m,\u001b[0m\u001b[0;34m\u001b[0m\u001b[0;34m\u001b[0m\u001b[0m\n\u001b[0;32m-> 1142\u001b[0;31m             X_idx_sorted=X_idx_sorted)\n\u001b[0m\u001b[1;32m   1143\u001b[0m         \u001b[0;32mreturn\u001b[0m \u001b[0mself\u001b[0m\u001b[0;34m\u001b[0m\u001b[0;34m\u001b[0m\u001b[0m\n\u001b[1;32m   1144\u001b[0m \u001b[0;34m\u001b[0m\u001b[0m\n",
      "\u001b[0;32m//anaconda/envs/ML_env/lib/python3.6/site-packages/sklearn/tree/tree.py\u001b[0m in \u001b[0;36mfit\u001b[0;34m(self, X, y, sample_weight, check_input, X_idx_sorted)\u001b[0m\n\u001b[1;32m    364\u001b[0m                                            min_impurity_split)\n\u001b[1;32m    365\u001b[0m \u001b[0;34m\u001b[0m\u001b[0m\n\u001b[0;32m--> 366\u001b[0;31m         \u001b[0mbuilder\u001b[0m\u001b[0;34m.\u001b[0m\u001b[0mbuild\u001b[0m\u001b[0;34m(\u001b[0m\u001b[0mself\u001b[0m\u001b[0;34m.\u001b[0m\u001b[0mtree_\u001b[0m\u001b[0;34m,\u001b[0m \u001b[0mX\u001b[0m\u001b[0;34m,\u001b[0m \u001b[0my\u001b[0m\u001b[0;34m,\u001b[0m \u001b[0msample_weight\u001b[0m\u001b[0;34m,\u001b[0m \u001b[0mX_idx_sorted\u001b[0m\u001b[0;34m)\u001b[0m\u001b[0;34m\u001b[0m\u001b[0;34m\u001b[0m\u001b[0m\n\u001b[0m\u001b[1;32m    367\u001b[0m \u001b[0;34m\u001b[0m\u001b[0m\n\u001b[1;32m    368\u001b[0m         \u001b[0;32mif\u001b[0m \u001b[0mself\u001b[0m\u001b[0;34m.\u001b[0m\u001b[0mn_outputs_\u001b[0m \u001b[0;34m==\u001b[0m \u001b[0;36m1\u001b[0m\u001b[0;34m:\u001b[0m\u001b[0;34m\u001b[0m\u001b[0;34m\u001b[0m\u001b[0m\n",
      "\u001b[0;31mKeyboardInterrupt\u001b[0m: "
     ]
    }
   ],
   "source": [
    "accuracies = normal_learning(fowler_data, fowler['fitness'], train_size=0.7)"
   ]
  },
  {
   "cell_type": "code",
   "execution_count": null,
   "metadata": {},
   "outputs": [],
   "source": [
    "accuracies[0]"
   ]
  },
  {
   "cell_type": "markdown",
   "metadata": {},
   "source": [
    "## Data-Augmentation in low-data settings"
   ]
  },
  {
   "cell_type": "code",
   "execution_count": 206,
   "metadata": {},
   "outputs": [],
   "source": [
    "training_sizes = [100, 300, 500, 1000, 2000, 5000, 10000]\n",
    "n_components = 100\n",
    "\n",
    "reg_score_normal = []\n",
    "reg_score_augmented = []\n",
    "reg_score_PCA = []\n",
    "clf_score_normal = []\n",
    "clf_score_augmented = []\n",
    "\n",
    "for size in training_sizes:\n",
    "    aug_run = augmented_learning(fowler_data, fowler_data[:size], fowler['fitness'], n_components, size)\n",
    "    normal_run = normal_learning(fowler_data, fowler['fitness'], size)\n",
    "    pca_run = PCA_learning(fowler_data, fowler['fitness'], n_components, size)\n",
    "    reg_score_normal.append(normal_run[0])\n",
    "    reg_score_augmented.append(aug_run[0])\n",
    "    reg_score_PCA.append(pca_run[0])\n",
    "#     clf_score_normal.append(normal_run[1])\n",
    "#     clf_score_augmented.append(aug_run[1])"
   ]
  },
  {
   "cell_type": "code",
   "execution_count": 220,
   "metadata": {},
   "outputs": [
    {
     "data": {
      "text/plain": [
       "[0.23088924713215622,\n",
       " 0.267905324194388,\n",
       " 0.28868956549751046,\n",
       " 0.3578618625493755,\n",
       " 0.38566115051369765,\n",
       " 0.41700561112622936,\n",
       " 0.43087886648885904]"
      ]
     },
     "execution_count": 220,
     "metadata": {},
     "output_type": "execute_result"
    }
   ],
   "source": [
    "[i[0] for i in reg_score_normal]"
   ]
  },
  {
   "cell_type": "code",
   "execution_count": 219,
   "metadata": {},
   "outputs": [
    {
     "data": {
      "text/plain": [
       "0.23088924713215622"
      ]
     },
     "execution_count": 219,
     "metadata": {},
     "output_type": "execute_result"
    }
   ],
   "source": [
    "reg_score_normal[0][0]"
   ]
  },
  {
   "cell_type": "code",
   "execution_count": 223,
   "metadata": {},
   "outputs": [
    {
     "data": {
      "image/png": "[encoded data removed]",
      "text/plain": [
       "<Figure size 432x288 with 1 Axes>"
      ]
     },
     "metadata": {
      "needs_background": "light"
     },
     "output_type": "display_data"
    }
   ],
   "source": [
    "plt.scatter(training_sizes, [i[0] for i in reg_score_normal], label=\"One-hot\")\n",
    "plt.scatter(training_sizes, [i[0] for i in reg_score_augmented], label=\"PCA Augmented\")\n",
    "plt.scatter(training_sizes, [i[0] for i in reg_score_PCA], label=\"PCA without augmentation\")\n",
    "\n",
    "plt.xlabel(\"Training size\")\n",
    "plt.title(\"PCA = 30, Regression Accuracy\")\n",
    "plt.legend()\n",
    "plt.savefig(\"PCA_30_Reg_WW.png\")\n",
    "plt.show()"
   ]
  },
  {
   "cell_type": "code",
   "execution_count": 615,
   "metadata": {},
   "outputs": [
    {
     "data": {
      "text/plain": [
       "2"
      ]
     },
     "execution_count": 615,
     "metadata": {},
     "output_type": "execute_result"
    }
   ],
   "source": [
    "w"
   ]
  },
  {
   "cell_type": "markdown",
   "metadata": {},
   "source": [
    "## UMAP Experiments"
   ]
  },
  {
   "cell_type": "code",
   "execution_count": 190,
   "metadata": {},
   "outputs": [],
   "source": [
    "x_train, x_test, y_train, y_test = split_data(fowler_data, fowler['fitness'], train_size=1000)"
   ]
  },
  {
   "cell_type": "code",
   "execution_count": 206,
   "metadata": {},
   "outputs": [],
   "source": [
    "pooled_data = np.concatenate([ortholog_data[:1000], x_train])"
   ]
  },
  {
   "cell_type": "code",
   "execution_count": 217,
   "metadata": {},
   "outputs": [
    {
     "name": "stderr",
     "output_type": "stream",
     "text": [
      "//anaconda/envs/ML_env/lib/python3.6/site-packages/umap/spectral.py:229: UserWarning: Embedding a total of 4 separate connected components using meta-embedding (experimental)\n",
      "  n_components\n"
     ]
    }
   ],
   "source": [
    "UMAP_embedding = umap.UMAP(n_neighbors=15,\n",
    "                      min_dist=0.05,\n",
    "                      n_components=2,\n",
    "                      metric='manhattan').fit(pooled_data)"
   ]
  },
  {
   "cell_type": "code",
   "execution_count": 224,
   "metadata": {},
   "outputs": [],
   "source": [
    "xtrain_UMAP = UMAP_embedding.transform(x_train)\n",
    "xtest_UMAP = UMAP_embedding.transform(x_test)"
   ]
  },
  {
   "cell_type": "code",
   "execution_count": 219,
   "metadata": {},
   "outputs": [],
   "source": [
    "pooled_UMAP = UMAP_embedding.transform(pooled_data)"
   ]
  },
  {
   "cell_type": "code",
   "execution_count": 221,
   "metadata": {},
   "outputs": [
    {
     "data": {
      "image/png": "[encoded data removed]",
      "text/plain": [
       "<Figure size 432x288 with 1 Axes>"
      ]
     },
     "metadata": {
      "needs_background": "light"
     },
     "output_type": "display_data"
    }
   ],
   "source": [
    "plt.scatter(pooled_UMAP[:, 0], pooled_UMAP[:, 1])\n",
    "plt.show()"
   ]
  },
  {
   "cell_type": "code",
   "execution_count": 225,
   "metadata": {},
   "outputs": [
    {
     "data": {
      "text/plain": [
       "GradientBoostingRegressor(alpha=0.9, criterion='friedman_mse', init=None,\n",
       "             learning_rate=0.1, loss='ls', max_depth=3, max_features=None,\n",
       "             max_leaf_nodes=None, min_impurity_decrease=0.0,\n",
       "             min_impurity_split=None, min_samples_leaf=1,\n",
       "             min_samples_split=2, min_weight_fraction_leaf=0.0,\n",
       "             n_estimators=100, n_iter_no_change=None, presort='auto',\n",
       "             random_state=None, subsample=1.0, tol=0.0001,\n",
       "             validation_fraction=0.1, verbose=0, warm_start=False)"
      ]
     },
     "execution_count": 225,
     "metadata": {},
     "output_type": "execute_result"
    }
   ],
   "source": [
    "Reg = GradientBoostingRegressor()\n",
    "Reg.fit(xtrain_UMAP, y_train)"
   ]
  },
  {
   "cell_type": "code",
   "execution_count": 226,
   "metadata": {},
   "outputs": [
    {
     "data": {
      "text/plain": [
       "-0.03081163049724811"
      ]
     },
     "execution_count": 226,
     "metadata": {},
     "output_type": "execute_result"
    }
   ],
   "source": [
    "Reg.score(xtest_UMAP, y_test)"
   ]
  },
  {
   "cell_type": "code",
   "execution_count": null,
   "metadata": {},
   "outputs": [],
   "source": []
  },
  {
   "cell_type": "code",
   "execution_count": 553,
   "metadata": {},
   "outputs": [],
   "source": [
    "UMAP_sarkisyan = UMAP_embedding.transform(sarkisyan_data)"
   ]
  },
  {
   "cell_type": "code",
   "execution_count": 554,
   "metadata": {},
   "outputs": [
    {
     "name": "stderr",
     "output_type": "stream",
     "text": [
      "//anaconda/envs/ML_env/lib/python3.6/site-packages/sklearn/ensemble/forest.py:246: FutureWarning: The default value of n_estimators will change from 10 in version 0.20 to 100 in 0.22.\n",
      "  \"10 in version 0.20 to 100 in 0.22.\", FutureWarning)\n",
      "//anaconda/envs/ML_env/lib/python3.6/site-packages/sklearn/ensemble/forest.py:246: FutureWarning: The default value of n_estimators will change from 10 in version 0.20 to 100 in 0.22.\n",
      "  \"10 in version 0.20 to 100 in 0.22.\", FutureWarning)\n"
     ]
    }
   ],
   "source": [
    "# UMAP_sarkisyan = UMAP_embedding.transform(sarkisyan_data)\n",
    "\n",
    "X_train, X_test, y_train, y_test = train_test_split(UMAP_sarkisyan, sarkisyan['function'], \n",
    "                                                   test_size = 0.3, random_state=10)\n",
    "\n",
    "naiveClf = RandomForestClassifier()\n",
    "naiveClf.fit(X_train, y_train)\n",
    "clf_score = naiveClf.score(X_test, y_test)\n",
    "\n",
    "X_train, X_test, y_train, y_test = train_test_split(UMAP_sarkisyan, sarkisyan['quantitative_function'], \n",
    "                                               test_size = 0.3, random_state=10)\n",
    "naiveReg = RandomForestRegressor()\n",
    "naiveReg.fit(X_train, y_train)\n",
    "reg_score = naiveReg.score(X_test, y_test)"
   ]
  },
  {
   "cell_type": "code",
   "execution_count": 555,
   "metadata": {},
   "outputs": [
    {
     "data": {
      "text/plain": [
       "0.5135030615533355"
      ]
     },
     "execution_count": 555,
     "metadata": {},
     "output_type": "execute_result"
    }
   ],
   "source": [
    "clf_score"
   ]
  },
  {
   "cell_type": "code",
   "execution_count": 556,
   "metadata": {},
   "outputs": [
    {
     "data": {
      "text/plain": [
       "-0.24899542340754088"
      ]
     },
     "execution_count": 556,
     "metadata": {},
     "output_type": "execute_result"
    }
   ],
   "source": [
    "reg_score"
   ]
  },
  {
   "cell_type": "code",
   "execution_count": 558,
   "metadata": {},
   "outputs": [
    {
     "data": {
      "image/png": "[encoded data removed]",
      "text/plain": [
       "<Figure size 432x288 with 1 Axes>"
      ]
     },
     "metadata": {
      "needs_background": "light"
     },
     "output_type": "display_data"
    }
   ],
   "source": [
    "plt.scatter(UMAP_sarkisyan[:,0][:10000], UMAP_sarkisyan[:, 1][:10000])\n",
    "plt.show()"
   ]
  },
  {
   "cell_type": "code",
   "execution_count": 548,
   "metadata": {},
   "outputs": [],
   "source": [
    "UMAP_sarkisyan_20 = UMAP_sarkisyan.copy()\n",
    "ortholog_umap_20 = a.copy()"
   ]
  },
  {
   "cell_type": "markdown",
   "metadata": {},
   "source": [
    "This concludes the pre-processing we need to do on the data.\n",
    "\n",
    "## 2.  Training the model\n",
    "We now move on to define our neural network. This is essentially a vanilla VAE in keras (with some optimization on hyperparameters). For optimization purposes we define a callback function that reports the predictive power of the model in the end of each epoch. Note that while this passes the -test data- through the model, it is kosher because we never pass in the values we are actually interested in and the network is not in \"training phase\", i.e. no weights are updated during this pass. "
   ]
  },
  {
   "cell_type": "code",
   "execution_count": 54,
   "metadata": {},
   "outputs": [],
   "source": [
    "class rho_vs_mutants():\n",
    "    def __init__(self,mutants,test_set_size,aa_size,sequence_size):\n",
    "        self.mutants=mutants\n",
    "        self.sample_size=test_set_size\n",
    "        self.aa_size=aa_size\n",
    "        self.sequence_size=sequence_size\n",
    "        self.scores=[]\n",
    "        self.count_batch=0\n",
    "    def on_train_begin(self, logs={}):\n",
    "        self.losses = []\n",
    "    def on_batch_end(self, batch, logs={}):\n",
    "        self.losses.append(logs.get('loss'))\n",
    "    #This allows us to track the \"progress\" of the model on different epochs\n",
    "    def on_epoch_end(self,model,batch,logs):\n",
    "        x_decoded=model(test_data_plus[0:self.sample_size],batch_size=batch_size)\n",
    "        digit = x_decoded[0].reshape(self.aa_size,self.sequence_size)\n",
    "        digit_wt = normalize(digit,axis=0, norm='l1')\n",
    "        wt_prob=compute_log_probability(digit,digit_wt)\n",
    "        fitnesses=[]\n",
    "        for sample in range(1,self.sample_size):\n",
    "            digit = x_decoded[sample].reshape(self.aa_size,self.sequence_size)\n",
    "            digit = normalize(digit,axis=0, norm='l1')\n",
    "            fitness=compute_log_probability(test_data_plus[sample].reshape(self.aa_size,self.sequence_size),digit)-wt_prob\n",
    "            fitnesses.append(fitness)\n",
    "        print (\",\"+str(spearmanr(fitnesses,target_values_singles[:self.sample_size-1])))\n",
    "        self.scores.append(spearmanr(fitnesses,target_values_singles[:self.sample_size-1])[0])"
   ]
  },
  {
   "cell_type": "markdown",
   "metadata": {},
   "source": [
    "Now we are ready to specify the network architecture, this is adapted from [here](https://github.com/fchollet/keras/blob/master/examples/variational_autoencoder.py)."
   ]
  },
  {
   "cell_type": "code",
   "execution_count": 55,
   "metadata": {},
   "outputs": [],
   "source": [
    "# torch.sum(1 + model.z_log_var - (model.z_mean)**2 - torch.exp(model.z_log_var),-1)"
   ]
  },
  {
   "cell_type": "code",
   "execution_count": 56,
   "metadata": {},
   "outputs": [
    {
     "data": {
      "text/plain": [
       "34"
      ]
     },
     "execution_count": 56,
     "metadata": {},
     "output_type": "execute_result"
    }
   ],
   "source": [
    "PRUNED_SEQ_LENGTH"
   ]
  },
  {
   "cell_type": "code",
   "execution_count": 166,
   "metadata": {},
   "outputs": [],
   "source": [
    "batch_size = 20\n",
    "original_dim=len(ORDER_LIST)*PRUNED_SEQ_LENGTH\n",
    "output_dim=len(ORDER_LIST)*PRUNED_SEQ_LENGTH\n",
    "latent_dim = 30\n",
    "intermediate_dim=250\n",
    "nb_epoch = 50\n",
    "epsilon_std = 1.0\n",
    "np.random.seed(42)  \n",
    "\n",
    "loss1 = nn.CrossEntropyLoss()\n",
    "\n",
    "def vae_loss(x_true, x_decoded_mean, z_mean, z_log_var):\n",
    "    xent_loss = original_dim * loss1(x_decoded_mean, x_true)\n",
    "    kl_loss = -0.5 * torch.sum(1 + z_log_var - (z_mean)**2 - torch.exp(z_log_var))\n",
    "#     print (\"xent loss: \", xent_loss)\n",
    "#     print (\"KL loss: \", kl_loss)\n",
    "    return (xent_loss + kl_loss)"
   ]
  },
  {
   "cell_type": "markdown",
   "metadata": {},
   "source": [
    "And run it through our training data."
   ]
  },
  {
   "cell_type": "code",
   "execution_count": 58,
   "metadata": {},
   "outputs": [
    {
     "data": {
      "text/plain": [
       "20"
      ]
     },
     "execution_count": 58,
     "metadata": {},
     "output_type": "execute_result"
    }
   ],
   "source": [
    "len(range(0, 300)[:20])"
   ]
  },
  {
   "cell_type": "code",
   "execution_count": 59,
   "metadata": {},
   "outputs": [
    {
     "data": {
      "text/plain": [
       "16668"
      ]
     },
     "execution_count": 59,
     "metadata": {},
     "output_type": "execute_result"
    }
   ],
   "source": [
    "len(ortholog_data)"
   ]
  },
  {
   "cell_type": "code",
   "execution_count": 167,
   "metadata": {},
   "outputs": [],
   "source": [
    "training_size = 16600 #so batchingw orks\n",
    "x_train=ortholog_data[:training_size] #this needs to be divisible by batch size and less than or equal to dataset size\n",
    "x_train = x_train.astype('float32')\n",
    "x_train = x_train.reshape((len(x_train), np.prod(x_train.shape[1:])))\n"
   ]
  },
  {
   "cell_type": "code",
   "execution_count": 168,
   "metadata": {},
   "outputs": [],
   "source": [
    "vae_type = 'full'"
   ]
  },
  {
   "cell_type": "code",
   "execution_count": 169,
   "metadata": {},
   "outputs": [],
   "source": [
    "if vae_type == 'full':\n",
    "    univ_dropout = [0.2]*3\n",
    "    dropout_enc = univ_dropout\n",
    "    dropout_dec = univ_dropout\n",
    "\n",
    "    layers_enc = nn.ModuleList([nn.Linear(original_dim,intermediate_dim),nn.Dropout(dropout_enc[0]),nn.ELU()])\n",
    "    for i in range(2):\n",
    "#     for i in range(1):\n",
    "        layers_enc.append(nn.Linear(intermediate_dim,intermediate_dim))\n",
    "        layers_enc.append(nn.Dropout(dropout_enc[i+1]))\n",
    "        layers_enc.append(nn.ELU())\n",
    "\n",
    "    layers_dec = nn.ModuleList([nn.Linear(latent_dim,intermediate_dim),nn.Dropout(dropout_dec[0]),nn.ELU()])\n",
    "    for i in range(2):\n",
    "        layers_dec.append(nn.Linear(intermediate_dim,intermediate_dim))\n",
    "        layers_dec.append(nn.Dropout(dropout_dec[i+1]))\n",
    "        layers_dec.append(nn.ELU())\n",
    "\n",
    "    layers_dec.append(nn.Linear(intermediate_dim,output_dim))\n",
    "\n",
    "    layers_ae = nn.ModuleList([nn.Linear(intermediate_dim,latent_dim),nn.Linear(intermediate_dim,latent_dim)])\n",
    "elif vae_type == 'conv':\n",
    "    out_conv_enc = [100,100]\n",
    "    kernels_enc = [6,10]\n",
    "    out_lin_enc = [200,100]\n",
    "    dropout_enc = [0.2,0.2]\n",
    "    \n",
    "    out_lin_dec = [200,250]\n",
    "    dropout_dec = [0.2,0.2]\n",
    "    \n",
    "    layers_enc_pre_view = nn.ModuleList([nn.Conv1d(len(ORDER_LIST),out_conv_enc[0],kernels_enc[0],stride=1),\n",
    "                                nn.ELU(),\n",
    "                                nn.MaxPool1d(4,padding=0),\n",
    "                                nn.ZeroPad2d((2,3,0,0)),\n",
    "                                nn.Conv1d(out_conv_enc[0],out_conv_enc[1],kernels_enc[1],stride=1),\n",
    "                                nn.ELU(),\n",
    "                                nn.MaxPool1d(3,padding=0)])\n",
    "    \n",
    "    enc_view = 100*5\n",
    "    \n",
    "    layers_enc_post_view = nn.ModuleList([nn.Linear(enc_view,out_lin_enc[0]),\n",
    "                                          nn.Dropout(dropout_enc[0]),\n",
    "                                          nn.ELU(),\n",
    "                                          nn.Linear(out_lin_enc[0],out_lin_enc[1]),\n",
    "                                          nn.Dropout(dropout_enc[1]),\n",
    "                                          nn.ELU()])\n",
    "    \n",
    "    layers_dec = nn.ModuleList([nn.Linear(latent_dim,out_lin_dec[0]),\n",
    "                                nn.Dropout(dropout_dec[0]),\n",
    "                                nn.ELU(),\n",
    "                                nn.Linear(out_lin_dec[0],out_lin_dec[1]),\n",
    "                                nn.Dropout(dropout_dec[1]),\n",
    "                                nn.ELU(),\n",
    "                                nn.Linear(out_lin_dec[1],output_dim)])\n",
    "    \n",
    "    layers_ae = nn.ModuleList([nn.Linear(out_lin_enc[-1],latent_dim),nn.Linear(out_lin_enc[-1],latent_dim)])\n",
    "elif vae_type == 'rec':\n",
    "    univ_dropout = [0.2]*2\n",
    "    dropout_enc = univ_dropout\n",
    "    dropout_dec = univ_dropout\n",
    "#     hid_sizes = [100,100]\n",
    "    \n",
    "    layers_enc = nn.ModuleList([nn.RNN(len(ORDER_LIST),1,num_layers=2,batch_first=True,dropout=0.2,bidirectional=True)])\n",
    "    layers_post_rec_enc = nn.ModuleList([nn.Linear(4,intermediate_dim),\n",
    "                                         nn.Dropout(dropout_enc[0]),\n",
    "                                         nn.ELU(),\n",
    "                                         nn.Linear(intermediate_dim,intermediate_dim),\n",
    "                                         nn.Dropout(dropout_enc[1]),\n",
    "                                         nn.ELU()])\n",
    "    \n",
    "    \n",
    "    layers_pre_rec_dec = nn.ModuleList([nn.Linear(latent_dim,100),\n",
    "                                        nn.Dropout(dropout_dec[0]),\n",
    "                                        nn.ELU()])\n",
    "    # 25 below bc bidirectional 2 layers means we have to divide 100 by 2*2\n",
    "    layers_dec = nn.ModuleList([nn.RNN(50,25,num_layers=2,batch_first=True,dropout=0.2,bidirectional=True)])\n",
    "    layers_post_rec_dec = nn.ModuleList([nn.Linear(25*2,len(ORDER_LIST))])\n",
    "    \n",
    "    layers_ae = nn.ModuleList([nn.Linear(intermediate_dim,latent_dim),nn.Linear(intermediate_dim,latent_dim)])"
   ]
  },
  {
   "cell_type": "code",
   "execution_count": 170,
   "metadata": {},
   "outputs": [
    {
     "name": "stdout",
     "output_type": "stream",
     "text": [
      "Epoch 0 | Training Loss: 8228.267578125, Training Accuracy: 0.8638042365540594, Validation Loss: 8224.8359375, Validation Accuracy: 0.8648476257973069\n",
      "Epoch 1 | Training Loss: 10068.8193359375, Training Accuracy: 0.8973639656665879, Validation Loss: 10066.1806640625, Validation Accuracy: 0.897165131112686\n",
      "Epoch 2 | Training Loss: 10541.095703125, Training Accuracy: 0.9153122293093945, Validation Loss: 10536.2939453125, Validation Accuracy: 0.915024805102764\n",
      "Epoch 3 | Training Loss: 12167.8955078125, Training Accuracy: 0.922578549492086, Validation Loss: 12164.4228515625, Validation Accuracy: 0.9240432317505315\n",
      "Epoch 4 | Training Loss: 11891.0400390625, Training Accuracy: 0.9309610992991574, Validation Loss: 11886.36328125, Validation Accuracy: 0.9331148121899362\n",
      "Epoch 5 | Training Loss: 12596.791015625, Training Accuracy: 0.9308705409874793, Validation Loss: 12595.2548828125, Validation Accuracy: 0.9301027639971652\n",
      "Epoch 6 | Training Loss: 12373.6279296875, Training Accuracy: 0.9355716985589416, Validation Loss: 12371.5185546875, Validation Accuracy: 0.9366229624379873\n",
      "Epoch 7 | Training Loss: 13123.3779296875, Training Accuracy: 0.9302366328057328, Validation Loss: 13122.076171875, Validation Accuracy: 0.9306697377746279\n",
      "Epoch 8 | Training Loss: 11912.373046875, Training Accuracy: 0.939359398377825, Validation Loss: 11911.1181640625, Validation Accuracy: 0.9391920623671155\n",
      "Epoch 9 | Training Loss: 12992.4853515625, Training Accuracy: 0.9418418773131743, Validation Loss: 12994.9775390625, Validation Accuracy: 0.9419029057406095\n",
      "Epoch 10 | Training Loss: 13238.0859375, Training Accuracy: 0.9398476257973069, Validation Loss: 13232.2255859375, Validation Accuracy: 0.9425230333097094\n",
      "Epoch 11 | Training Loss: 13392.2275390625, Training Accuracy: 0.9423517599811009, Validation Loss: 13391.9677734375, Validation Accuracy: 0.9421686746987952\n",
      "Epoch 12 | Training Loss: 13355.9189453125, Training Accuracy: 0.9452358453421529, Validation Loss: 13356.634765625, Validation Accuracy: 0.9450212615166549\n",
      "Epoch 13 | Training Loss: 14423.498046875, Training Accuracy: 0.9401429246397354, Validation Loss: 14427.4541015625, Validation Accuracy: 0.9402019844082211\n",
      "Epoch 14 | Training Loss: 13625.0400390625, Training Accuracy: 0.9432947476179226, Validation Loss: 13623.6650390625, Validation Accuracy: 0.9441885187810064\n",
      "Epoch 15 | Training Loss: 13510.3017578125, Training Accuracy: 0.9461099299157414, Validation Loss: 13511.076171875, Validation Accuracy: 0.9468639262934089\n",
      "Epoch 16 | Training Loss: 13697.9130859375, Training Accuracy: 0.9480923694779116, Validation Loss: 13699.2451171875, Validation Accuracy: 0.9492558469170801\n",
      "Epoch 17 | Training Loss: 14675.115234375, Training Accuracy: 0.9456059532246633, Validation Loss: 14674.7177734375, Validation Accuracy: 0.9461552090715805\n",
      "Epoch 18 | Training Loss: 13810.9892578125, Training Accuracy: 0.9502067091897, Validation Loss: 13809.3525390625, Validation Accuracy: 0.9513288447909284\n",
      "Epoch 19 | Training Loss: 13515.2666015625, Training Accuracy: 0.9485628789668478, Validation Loss: 13515.998046875, Validation Accuracy: 0.9490255138199858\n",
      "Epoch 20 | Training Loss: 14508.4267578125, Training Accuracy: 0.9482163949917316, Validation Loss: 14508.1220703125, Validation Accuracy: 0.9492912827781715\n",
      "Epoch 21 | Training Loss: 14081.2900390625, Training Accuracy: 0.948330577210804, Validation Loss: 14083.515625, Validation Accuracy: 0.9483699503897944\n",
      "Epoch 22 | Training Loss: 13596.3505859375, Training Accuracy: 0.9485175998110087, Validation Loss: 13598.5078125, Validation Accuracy: 0.9494861800141744\n",
      "Epoch 23 | Training Loss: 13271.3837890625, Training Accuracy: 0.9491495393338059, Validation Loss: 13273.294921875, Validation Accuracy: 0.9493798724309\n",
      "Epoch 24 | Training Loss: 14235.8935546875, Training Accuracy: 0.9498956610756752, Validation Loss: 14235.5751953125, Validation Accuracy: 0.9500354358610914\n",
      "Epoch 25 | Training Loss: 14880.54296875, Training Accuracy: 0.9488542404913772, Validation Loss: 14878.39453125, Validation Accuracy: 0.950673281360737\n",
      "Epoch 26 | Training Loss: 13683.05078125, Training Accuracy: 0.9486554059374754, Validation Loss: 13685.9150390625, Validation Accuracy: 0.9493798724309\n",
      "Epoch 27 | Training Loss: 13550.6357421875, Training Accuracy: 0.9447003701078825, Validation Loss: 13552.2080078125, Validation Accuracy: 0.946243798724309\n",
      "Epoch 28 | Training Loss: 14206.6455078125, Training Accuracy: 0.9487932120639421, Validation Loss: 14211.5595703125, Validation Accuracy: 0.9488483345145287\n",
      "Epoch 29 | Training Loss: 13457.0439453125, Training Accuracy: 0.9484762579730688, Validation Loss: 13460.0595703125, Validation Accuracy: 0.9486534372785259\n",
      "Epoch 30 | Training Loss: 13407.234375, Training Accuracy: 0.9498602252145838, Validation Loss: 13408.552734375, Validation Accuracy: 0.951045357902197\n",
      "Epoch 31 | Training Loss: 14078.4638671875, Training Accuracy: 0.9500059059768485, Validation Loss: 14081.337890625, Validation Accuracy: 0.9511162296243799\n",
      "Epoch 32 | Training Loss: 13956.759765625, Training Accuracy: 0.9498838491219781, Validation Loss: 13960.9599609375, Validation Accuracy: 0.9495924875974486\n",
      "Epoch 33 | Training Loss: 14600.919921875, Training Accuracy: 0.9507382471060714, Validation Loss: 14601.689453125, Validation Accuracy: 0.9525336640680369\n",
      "Epoch 34 | Training Loss: 14113.4873046875, Training Accuracy: 0.9525179147964407, Validation Loss: 14116.8818359375, Validation Accuracy: 0.9534727143869596\n",
      "Epoch 35 | Training Loss: 14090.3232421875, Training Accuracy: 0.9490511063863296, Validation Loss: 14089.1865234375, Validation Accuracy: 0.9510630758327427\n",
      "Epoch 36 | Training Loss: 14172.7314453125, Training Accuracy: 0.9519430663831798, Validation Loss: 14175.62890625, Validation Accuracy: 0.9518603827072998\n",
      "Epoch 37 | Training Loss: 15697.2099609375, Training Accuracy: 0.9515808331364675, Validation Loss: 15699.865234375, Validation Accuracy: 0.9517186392629341\n",
      "Epoch 38 | Training Loss: 14082.078125, Training Accuracy: 0.9505335065753209, Validation Loss: 14085.912109375, Validation Accuracy: 0.9506201275691\n",
      "Epoch 39 | Training Loss: 14468.2744140625, Training Accuracy: 0.9454425545318529, Validation Loss: 14470.3408203125, Validation Accuracy: 0.9461552090715805\n",
      "Epoch 40 | Training Loss: 14505.19140625, Training Accuracy: 0.9520119694464131, Validation Loss: 14509.4111328125, Validation Accuracy: 0.9527994330262225\n",
      "Epoch 41 | Training Loss: 15708.5439453125, Training Accuracy: 0.9531045751633986, Validation Loss: 15713.1748046875, Validation Accuracy: 0.9542345854004253\n",
      "Epoch 42 | Training Loss: 15147.501953125, Training Accuracy: 0.9520572486022522, Validation Loss: 15149.638671875, Validation Accuracy: 0.9531183557760453\n",
      "Epoch 43 | Training Loss: 14745.7880859375, Training Accuracy: 0.9522777384045988, Validation Loss: 14749.4267578125, Validation Accuracy: 0.9527462792345854\n",
      "Epoch 44 | Training Loss: 14951.2421875, Training Accuracy: 0.9458441609575557, Validation Loss: 14955.6298828125, Validation Accuracy: 0.9464386959603118\n",
      "Epoch 45 | Training Loss: 14183.68359375, Training Accuracy: 0.9491790692180486, Validation Loss: 14184.41015625, Validation Accuracy: 0.9506024096385542\n",
      "Epoch 46 | Training Loss: 15118.0, Training Accuracy: 0.9523958579415702, Validation Loss: 15119.8916015625, Validation Accuracy: 0.9531537916371368\n",
      "Epoch 47 | Training Loss: 12884.0771484375, Training Accuracy: 0.9514725568942436, Validation Loss: 12883.8779296875, Validation Accuracy: 0.9524805102763997\n",
      "Epoch 48 | Training Loss: 13527.9150390625, Training Accuracy: 0.9479525946924955, Validation Loss: 13530.697265625, Validation Accuracy: 0.9491318214032601\n",
      "Epoch 49 | Training Loss: 14643.9501953125, Training Accuracy: 0.9512914402708875, Validation Loss: 14648.693359375, Validation Accuracy: 0.9512402551381999\n"
     ]
    }
   ],
   "source": [
    "if vae_type == 'full':\n",
    "    model = VAE(layers_enc,layers_ae,layers_dec)\n",
    "\n",
    "    prams = list(model.parameters())\n",
    "\n",
    "    optimizer = torch.optim.Adam(prams, lr = 0.001)\n",
    "\n",
    "    x_train_data, x_val_data = train_test_split(x_train, test_size = 0.1)\n",
    "\n",
    "    ins_train = x_train_data.reshape(len(x_train_data)*PRUNED_SEQ_LENGTH,len(ORDER_LIST))\n",
    "    ins_train = torch.Tensor(ins_train)\n",
    "    ins_train = torch.argmax(ins_train,1)\n",
    "\n",
    "    ins_val = x_val_data.reshape(len(x_val_data)*PRUNED_SEQ_LENGTH,len(ORDER_LIST))\n",
    "    ins_val = torch.Tensor(ins_val)\n",
    "    ins_val = torch.argmax(ins_val,1)\n",
    "\n",
    "    for epoch in range(nb_epoch):\n",
    "        model.train()\n",
    "\n",
    "        train = np.random.permutation(x_train_data)\n",
    "        train = train.reshape(-1,batch_size,PRUNED_SEQ_LENGTH * len(ORDER_LIST))\n",
    "\n",
    "        train = torch.Tensor(train)\n",
    "\n",
    "        for batch in train:\n",
    "            out = model(batch)\n",
    "\n",
    "            batch = batch.reshape(batch_size*PRUNED_SEQ_LENGTH,len(ORDER_LIST))\n",
    "            batch = torch.argmax(batch,1)\n",
    "            out = out.reshape(batch_size*PRUNED_SEQ_LENGTH,len(ORDER_LIST))\n",
    "\n",
    "            loss = vae_loss(batch,out,model.z_mean,model.z_log_var)\n",
    "\n",
    "            optimizer.zero_grad()\n",
    "            loss.backward()\n",
    "            optimizer.step()\n",
    "\n",
    "        model.eval()\n",
    "\n",
    "        out_train = model(torch.Tensor(x_train_data))\n",
    "        out_train = torch.Tensor(out_train)\n",
    "        out_train = out_train.reshape(len(x_train_data)*PRUNED_SEQ_LENGTH,len(ORDER_LIST))\n",
    "\n",
    "        classpreds_train = torch.argmax(out_train,dim=1)\n",
    "        bool_train = (classpreds_train==ins_train)\n",
    "        class_acc_train = bool_train.sum().item()/bool_train.shape[0]\n",
    "\n",
    "        out_val = model(torch.Tensor(x_val_data))\n",
    "        out_val = torch.Tensor(out_val)\n",
    "        out_val = out_val.reshape(len(x_val_data)*PRUNED_SEQ_LENGTH,len(ORDER_LIST))\n",
    "\n",
    "        classpreds_val = torch.argmax(out_val,dim=1)\n",
    "        bool_val = (classpreds_val==ins_val)\n",
    "        class_acc_val = bool_val.sum().item()/bool_val.shape[0]\n",
    "\n",
    "        loss_train = vae_loss(ins_train,out_train,model.z_mean,model.z_log_var)\n",
    "        loss_val = vae_loss(ins_val,out_val,model.z_mean,model.z_log_var)\n",
    "\n",
    "        print('Epoch %s | Training Loss: %s, Training Accuracy: %s, Validation Loss: %s, Validation Accuracy: %s'\n",
    "              %( epoch, loss_train.item(), class_acc_train, loss_val.item(), class_acc_val ) )\n",
    "\n",
    "elif vae_type == 'conv':\n",
    "    model = VAE_conv(layers_enc_pre_view,enc_view,layers_enc_post_view,layers_ae,layers_dec)\n",
    "        \n",
    "    prams = list(model.parameters())\n",
    "\n",
    "    optimizer = torch.optim.Adam(prams, lr = 0.001)\n",
    "\n",
    "    x_train_data, x_val_data = train_test_split(x_train, test_size = 0.1)\n",
    "\n",
    "    ins_train = x_train_data.reshape(len(x_train_data)*PRUNED_SEQ_LENGTH,len(ORDER_LIST))\n",
    "    ins_train = torch.Tensor(ins_train)\n",
    "    ins_train = torch.argmax(ins_train,1)\n",
    "\n",
    "    ins_val = x_val_data.reshape(len(x_val_data)*PRUNED_SEQ_LENGTH,len(ORDER_LIST))\n",
    "    ins_val = torch.Tensor(ins_val)\n",
    "    ins_val = torch.argmax(ins_val,1)\n",
    "\n",
    "    for epoch in range(nb_epoch):\n",
    "        model.train()\n",
    "\n",
    "        train = np.random.permutation(x_train_data)\n",
    "        train = train.reshape(-1,batch_size,PRUNED_SEQ_LENGTH,len(ORDER_LIST))\n",
    "\n",
    "        train = torch.Tensor(train)\n",
    "        train = train.transpose(-2,-1)\n",
    "\n",
    "        for batch in train:\n",
    "            out = model(batch)\n",
    "\n",
    "            batch = batch.transpose(-2,-1).reshape(batch_size*PRUNED_SEQ_LENGTH,len(ORDER_LIST))\n",
    "            batch = torch.argmax(batch,1)\n",
    "            out = out.reshape(batch_size*PRUNED_SEQ_LENGTH,len(ORDER_LIST))\n",
    "\n",
    "            loss = vae_loss(batch,out,model.z_mean,model.z_log_var)\n",
    "\n",
    "            optimizer.zero_grad()\n",
    "            loss.backward()\n",
    "            optimizer.step()\n",
    "\n",
    "        model.eval()\n",
    "\n",
    "        out_train = model(torch.Tensor(x_train_data).reshape(-1,PRUNED_SEQ_LENGTH,len(ORDER_LIST)).transpose(-2,-1))\n",
    "        out_train = torch.Tensor(out_train)\n",
    "        out_train = out_train.reshape(len(x_train_data)*PRUNED_SEQ_LENGTH,len(ORDER_LIST))\n",
    "\n",
    "        classpreds_train = torch.argmax(out_train,dim=1)\n",
    "        bool_train = (classpreds_train==ins_train)\n",
    "        class_acc_train = bool_train.sum().item()/bool_train.shape[0]\n",
    "\n",
    "        out_val = model(torch.Tensor(x_val_data).reshape(-1,PRUNED_SEQ_LENGTH,len(ORDER_LIST)).transpose(-2,-1))\n",
    "        out_val = torch.Tensor(out_val)\n",
    "        out_val = out_val.reshape(len(x_val_data)*PRUNED_SEQ_LENGTH,len(ORDER_LIST))\n",
    "\n",
    "        classpreds_val = torch.argmax(out_val,dim=1)\n",
    "        bool_val = (classpreds_val==ins_val)\n",
    "        class_acc_val = bool_val.sum().item()/bool_val.shape[0]\n",
    "\n",
    "        loss_train = vae_loss(ins_train,out_train,model.z_mean,model.z_log_var)\n",
    "        loss_val = vae_loss(ins_val,out_val,model.z_mean,model.z_log_var)\n",
    "\n",
    "        print('Epoch %s | Training Loss: %s, Training Accuracy: %s, Validation Loss: %s, Validation Accuracy: %s'\n",
    "              %( epoch, loss_train.item(), class_acc_train, loss_val.item(), class_acc_val ) )\n",
    "        \n",
    "elif vae_type == 'rec':\n",
    "    model = VAE_rec(layers_enc,layers_post_rec_enc,layers_ae,layers_pre_rec_dec,layers_dec,layers_post_rec_dec)\n",
    "    \n",
    "    prams = list(model.parameters())\n",
    "\n",
    "    optimizer = torch.optim.Adam(prams, lr = 0.001)\n",
    "\n",
    "    x_train_data, x_val_data = train_test_split(x_train, test_size = 0.1)\n",
    "\n",
    "    ins_train = x_train_data.reshape(len(x_train_data)*PRUNED_SEQ_LENGTH,len(ORDER_LIST))\n",
    "    ins_train = torch.Tensor(ins_train)\n",
    "    ins_train = torch.argmax(ins_train,1)\n",
    "\n",
    "    ins_val = x_val_data.reshape(len(x_val_data)*PRUNED_SEQ_LENGTH,len(ORDER_LIST))\n",
    "    ins_val = torch.Tensor(ins_val)\n",
    "    ins_val = torch.argmax(ins_val,1)\n",
    "\n",
    "    for epoch in range(nb_epoch):\n",
    "        model.train()\n",
    "\n",
    "        train = np.random.permutation(x_train_data)\n",
    "        train = train.reshape(-1,batch_size,PRUNED_SEQ_LENGTH,len(ORDER_LIST))\n",
    "\n",
    "        train = torch.Tensor(train)\n",
    "#         train = train.transpose(-2,-1)\n",
    "\n",
    "        for batch in train:\n",
    "            out = model(batch)\n",
    "\n",
    "            batch = batch.transpose(-2,-1).reshape(batch_size*PRUNED_SEQ_LENGTH,len(ORDER_LIST))\n",
    "            batch = torch.argmax(batch,1)\n",
    "            out = out.reshape(batch_size*PRUNED_SEQ_LENGTH,len(ORDER_LIST))\n",
    "\n",
    "            loss = vae_loss(batch,out,model.z_mean,model.z_log_var)\n",
    "\n",
    "            optimizer.zero_grad()\n",
    "            loss.backward()\n",
    "            optimizer.step()\n",
    "\n",
    "        model.eval()\n",
    "\n",
    "        out_train = model(torch.Tensor(x_train_data).reshape(-1,PRUNED_SEQ_LENGTH,len(ORDER_LIST)))\n",
    "        out_train = torch.Tensor(out_train)\n",
    "        out_train = out_train.reshape(len(x_train_data)*PRUNED_SEQ_LENGTH,len(ORDER_LIST))\n",
    "\n",
    "        classpreds_train = torch.argmax(out_train,dim=1)\n",
    "        bool_train = (classpreds_train==ins_train)\n",
    "        class_acc_train = bool_train.sum().item()/bool_train.shape[0]\n",
    "\n",
    "        out_val = model(torch.Tensor(x_val_data).reshape(-1,PRUNED_SEQ_LENGTH,len(ORDER_LIST)))\n",
    "        out_val = torch.Tensor(out_val)\n",
    "        out_val = out_val.reshape(len(x_val_data)*PRUNED_SEQ_LENGTH,len(ORDER_LIST))\n",
    "\n",
    "        classpreds_val = torch.argmax(out_val,dim=1)\n",
    "        bool_val = (classpreds_val==ins_val)\n",
    "        class_acc_val = bool_val.sum().item()/bool_val.shape[0]\n",
    "\n",
    "        loss_train = vae_loss(ins_train,out_train,model.z_mean,model.z_log_var)\n",
    "        loss_val = vae_loss(ins_val,out_val,model.z_mean,model.z_log_var)\n",
    "\n",
    "        print('Epoch %s | Training Loss: %s, Training Accuracy: %s, Validation Loss: %s, Validation Accuracy: %s'\n",
    "              %( epoch, loss_train.item(), class_acc_train, loss_val.item(), class_acc_val ) )"
   ]
  },
  {
   "cell_type": "code",
   "execution_count": null,
   "metadata": {},
   "outputs": [],
   "source": []
  },
  {
   "cell_type": "markdown",
   "metadata": {},
   "source": [
    "Let's explore the latent space"
   ]
  },
  {
   "cell_type": "code",
   "execution_count": 173,
   "metadata": {},
   "outputs": [],
   "source": [
    "fit_xtrain = model(torch.Tensor(x_train)).detach()\n",
    "z_means = model.z_mean.detach()"
   ]
  },
  {
   "cell_type": "code",
   "execution_count": 174,
   "metadata": {},
   "outputs": [
    {
     "data": {
      "image/png": "[encoded data removed]",
      "text/plain": [
       "<Figure size 432x288 with 1 Axes>"
      ]
     },
     "metadata": {
      "needs_background": "light"
     },
     "output_type": "display_data"
    }
   ],
   "source": [
    "transposed_zmeans = np.array(z_means).transpose()\n",
    "\n",
    "plt.scatter(transposed_zmeans[0], transposed_zmeans[1], s = 1, linewidths = 0)\n",
    "plt.show()"
   ]
  },
  {
   "cell_type": "code",
   "execution_count": 175,
   "metadata": {},
   "outputs": [],
   "source": [
    "from sklearn.cluster import KMeans\n",
    "\n",
    "z_means_np = np.array(z_means)\n",
    "kmeans = KMeans(n_clusters=12, random_state=1).fit(z_means_np)"
   ]
  },
  {
   "cell_type": "code",
   "execution_count": 176,
   "metadata": {},
   "outputs": [
    {
     "data": {
      "image/png": "[encoded data removed]",
      "text/plain": [
       "<Figure size 864x864 with 1 Axes>"
      ]
     },
     "metadata": {
      "needs_background": "light"
     },
     "output_type": "display_data"
    }
   ],
   "source": [
    "sample_points=len(z_means_np)\n",
    "\n",
    "latent_dim = 2\n",
    "fig = plt.figure(figsize=(12,12))\n",
    "counter=0\n",
    "cmap=kmeans.labels_\n",
    "for z1 in range(latent_dim):\n",
    "    for z2 in range(z1+1,latent_dim):\n",
    "        counter+=1\n",
    "        fig.add_subplot(latent_dim,latent_dim,counter)\n",
    "        plt.title(str(z1)+\"_\"+str(z2))\n",
    "        plt.scatter(z_means_np[:, z1][::-1], z_means_np[:, z2][::-1],c=cmap[::-1], s = 15, alpha=0.1,marker=\"o\")\n",
    "#         plt.scatter(z_means_np[:, z1][::-1], z_means_np[:, z2][::-1],c=\"y\" ,alpha=0.3,marker=\"o\")\n",
    "        plt.scatter(z_means_np[0][z1], z_means_np[0][z2],c=\"r\" ,alpha=1,s=40,marker=\"s\")\n",
    "        plt.xlabel(\"Latent dim\"+str(z1+1))\n",
    "        plt.ylabel(\"Latent dim\"+str(z2+1));\n",
    "plt.savefig(\"Try2_originalDropout.png\")\n"
   ]
  },
  {
   "cell_type": "code",
   "execution_count": 90,
   "metadata": {},
   "outputs": [
    {
     "ename": "ValueError",
     "evalue": "cannot reshape array of size 850 into shape (238,25)",
     "output_type": "error",
     "traceback": [
      "\u001b[0;31m---------------------------------------------------------------------------\u001b[0m",
      "\u001b[0;31mValueError\u001b[0m                                Traceback (most recent call last)",
      "\u001b[0;32m<ipython-input-90-ad1f471af016>\u001b[0m in \u001b[0;36m<module>\u001b[0;34m\u001b[0m\n\u001b[0;32m----> 1\u001b[0;31m \u001b[0mplt\u001b[0m\u001b[0;34m.\u001b[0m\u001b[0mpcolor\u001b[0m\u001b[0;34m(\u001b[0m\u001b[0mx_train\u001b[0m\u001b[0;34m[\u001b[0m\u001b[0;36m0\u001b[0m\u001b[0;34m]\u001b[0m\u001b[0;34m.\u001b[0m\u001b[0mreshape\u001b[0m\u001b[0;34m(\u001b[0m\u001b[0;36m238\u001b[0m\u001b[0;34m,\u001b[0m \u001b[0;36m25\u001b[0m\u001b[0;34m)\u001b[0m\u001b[0;34m.\u001b[0m\u001b[0mtranspose\u001b[0m\u001b[0;34m(\u001b[0m\u001b[0;36m1\u001b[0m\u001b[0;34m,\u001b[0m \u001b[0;36m0\u001b[0m\u001b[0;34m)\u001b[0m\u001b[0;34m)\u001b[0m\u001b[0;34m\u001b[0m\u001b[0;34m\u001b[0m\u001b[0m\n\u001b[0m\u001b[1;32m      2\u001b[0m \u001b[0mplt\u001b[0m\u001b[0;34m.\u001b[0m\u001b[0mshow\u001b[0m\u001b[0;34m(\u001b[0m\u001b[0;34m)\u001b[0m\u001b[0;34m\u001b[0m\u001b[0;34m\u001b[0m\u001b[0m\n",
      "\u001b[0;31mValueError\u001b[0m: cannot reshape array of size 850 into shape (238,25)"
     ]
    }
   ],
   "source": [
    "plt.pcolor(x_train[0].reshape(238, 25).transpose(1, 0))\n",
    "plt.show()"
   ]
  },
  {
   "cell_type": "markdown",
   "metadata": {},
   "source": [
    "# Training a classifier over the latent space"
   ]
  },
  {
   "cell_type": "code",
   "execution_count": 177,
   "metadata": {},
   "outputs": [],
   "source": [
    "fit_total = model(torch.Tensor(fowler_data)).detach()\n",
    "latent_data = model.z_mean.detach()"
   ]
  },
  {
   "cell_type": "code",
   "execution_count": 178,
   "metadata": {},
   "outputs": [
    {
     "data": {
      "text/plain": [
       "torch.Size([47000, 850])"
      ]
     },
     "execution_count": 178,
     "metadata": {},
     "output_type": "execute_result"
    }
   ],
   "source": [
    "fit_total.shape"
   ]
  },
  {
   "cell_type": "code",
   "execution_count": 179,
   "metadata": {},
   "outputs": [
    {
     "data": {
      "text/plain": [
       "torch.Size([47000, 30])"
      ]
     },
     "execution_count": 179,
     "metadata": {},
     "output_type": "execute_result"
    }
   ],
   "source": [
    "latent_data.shape"
   ]
  },
  {
   "cell_type": "code",
   "execution_count": null,
   "metadata": {},
   "outputs": [],
   "source": [
    "fit_total"
   ]
  },
  {
   "cell_type": "code",
   "execution_count": 188,
   "metadata": {},
   "outputs": [],
   "source": [
    "X_train, X_test, y_train, y_test = train_test_split(np.array(latent_data), fowler['fitness'], \n",
    "                                                   test_size = 0.3, random_state=10)"
   ]
  },
  {
   "cell_type": "code",
   "execution_count": 189,
   "metadata": {},
   "outputs": [
    {
     "data": {
      "text/plain": [
       "0.08998728689281697"
      ]
     },
     "execution_count": 189,
     "metadata": {},
     "output_type": "execute_result"
    }
   ],
   "source": [
    "latentReg = GradientBoostingRegressor()\n",
    "latentReg.fit(X_train, y_train)\n",
    "# latentReg.predict(X_test)\n",
    "latentReg.score(X_test, y_test)"
   ]
  },
  {
   "cell_type": "code",
   "execution_count": 190,
   "metadata": {},
   "outputs": [
    {
     "data": {
      "image/png": "[encoded data removed]",
      "text/plain": [
       "<Figure size 432x288 with 1 Axes>"
      ]
     },
     "metadata": {
      "needs_background": "light"
     },
     "output_type": "display_data"
    }
   ],
   "source": [
    "plt.scatter(X_train[:,0], y_train)\n",
    "plt.show()"
   ]
  },
  {
   "cell_type": "code",
   "execution_count": 191,
   "metadata": {},
   "outputs": [
    {
     "data": {
      "image/png": "[encoded data removed]",
      "text/plain": [
       "<Figure size 432x288 with 1 Axes>"
      ]
     },
     "metadata": {
      "needs_background": "light"
     },
     "output_type": "display_data"
    }
   ],
   "source": [
    "plt.hist(y_train)\n",
    "plt.show()"
   ]
  },
  {
   "cell_type": "code",
   "execution_count": 192,
   "metadata": {},
   "outputs": [],
   "source": [
    "px_data = np.concatenate([np.array(fitnesses).reshape(-1, 1), np.array(fitnesses_vs_wt).reshape(-1, 1),\n",
    "                                                                       np.array(fitnesses_vs_avg).reshape(-1, 1)], axis = 1)"
   ]
  },
  {
   "cell_type": "code",
   "execution_count": 193,
   "metadata": {},
   "outputs": [],
   "source": [
    "total_data = np.concatenate([latent_data, torch.Tensor(px_data)], axis = 1)"
   ]
  },
  {
   "cell_type": "code",
   "execution_count": 233,
   "metadata": {},
   "outputs": [
    {
     "data": {
      "text/plain": [
       "0.0549065229232445"
      ]
     },
     "execution_count": 233,
     "metadata": {},
     "output_type": "execute_result"
    }
   ],
   "source": [
    "X_train, X_test, y_train, y_test = train_test_split(np.array(total_data), fowler['fitness'], \n",
    "                                                   train_size = 5000, random_state=10)\n",
    "\n",
    "latentReg = GradientBoostingRegressor()\n",
    "latentReg.fit(X_train, y_train)\n",
    "# latentReg.predict(X_test)\n",
    "latentReg.score(X_test, y_test)"
   ]
  },
  {
   "cell_type": "code",
   "execution_count": 234,
   "metadata": {},
   "outputs": [
    {
     "data": {
      "text/plain": [
       "SpearmanrResult(correlation=0.2865505901158867, pvalue=0.0)"
      ]
     },
     "execution_count": 234,
     "metadata": {},
     "output_type": "execute_result"
    }
   ],
   "source": [
    "spearmanr(latentReg.predict(X_test), y_test)"
   ]
  },
  {
   "cell_type": "markdown",
   "metadata": {},
   "source": [
    "## Calculating P(X)"
   ]
  },
  {
   "cell_type": "code",
   "execution_count": 180,
   "metadata": {},
   "outputs": [],
   "source": [
    "m = torch.nn.Softmax()"
   ]
  },
  {
   "cell_type": "code",
   "execution_count": 181,
   "metadata": {},
   "outputs": [
    {
     "data": {
      "text/plain": [
       "34"
      ]
     },
     "execution_count": 181,
     "metadata": {},
     "output_type": "execute_result"
    }
   ],
   "source": [
    "PRUNED_SEQ_LENGTH"
   ]
  },
  {
   "cell_type": "code",
   "execution_count": 182,
   "metadata": {},
   "outputs": [
    {
     "name": "stderr",
     "output_type": "stream",
     "text": [
      "//anaconda/envs/ML_env/lib/python3.6/site-packages/ipykernel_launcher.py:2: UserWarning: Implicit dimension choice for softmax has been deprecated. Change the call to include dim=X as an argument.\n",
      "  \n"
     ]
    }
   ],
   "source": [
    "reshaped_fit = np.array(m(fit_total.reshape(len(fit_total) * PRUNED_SEQ_LENGTH, \n",
    "                                            len(ORDER_LIST))).reshape(len(fit_total), PRUNED_SEQ_LENGTH, len(ORDER_LIST))\n",
    "                        .transpose(2, 1))\n",
    "\n",
    "\n",
    "\n",
    "\n",
    "\n"
   ]
  },
  {
   "cell_type": "code",
   "execution_count": 183,
   "metadata": {},
   "outputs": [
    {
     "data": {
      "text/plain": [
       "<matplotlib.collections.PolyCollection at 0x13a36eeb8>"
      ]
     },
     "execution_count": 183,
     "metadata": {},
     "output_type": "execute_result"
    },
    {
     "data": {
      "image/png": "[encoded data removed]",
      "text/plain": [
       "<Figure size 432x288 with 1 Axes>"
      ]
     },
     "metadata": {
      "needs_background": "light"
     },
     "output_type": "display_data"
    }
   ],
   "source": [
    "plt.pcolor(reshaped_fit[0])"
   ]
  },
  {
   "cell_type": "code",
   "execution_count": 184,
   "metadata": {},
   "outputs": [
    {
     "data": {
      "text/plain": [
       "torch.Size([47000, 850])"
      ]
     },
     "execution_count": 184,
     "metadata": {},
     "output_type": "execute_result"
    }
   ],
   "source": [
    "fit_total.shape"
   ]
  },
  {
   "cell_type": "code",
   "execution_count": 185,
   "metadata": {},
   "outputs": [
    {
     "data": {
      "text/plain": [
       "25"
      ]
     },
     "execution_count": 185,
     "metadata": {},
     "output_type": "execute_result"
    }
   ],
   "source": [
    "len(ORDER_LIST)"
   ]
  },
  {
   "cell_type": "code",
   "execution_count": 186,
   "metadata": {},
   "outputs": [
    {
     "data": {
      "text/plain": [
       "array([[1.14095748e-16, 1.37655204e-17, 6.02574673e-17, 8.13176379e-17,\n",
       "        2.72435283e-16, 1.67925619e-16, 6.19252553e-16, 2.61197962e-16,\n",
       "        2.05025317e-17, 2.22050911e-17, 3.06512133e-16, 1.22057919e-17,\n",
       "        1.81302125e-17, 1.43526927e-16, 1.56072928e-16, 1.66621730e-16,\n",
       "        6.01909553e-18, 1.91052463e-16, 4.71980721e-17, 3.29097082e-17,\n",
       "        3.72604500e-17, 1.20943414e-16, 3.15064757e-16, 3.64985240e-17,\n",
       "        5.55894753e-17, 2.55496927e-16, 2.85472470e-16, 2.68636565e-17,\n",
       "        2.35130565e-15, 1.36884773e-16, 7.97937726e-17, 2.05973915e-16,\n",
       "        2.21628619e-17, 4.97098921e-17],\n",
       "       [1.61379878e-03, 4.47482103e-04, 2.02048407e-03, 8.33142491e-04,\n",
       "        5.32787177e-04, 7.56647380e-04, 1.65428594e-03, 6.79734454e-04,\n",
       "        1.14066713e-03, 6.97216478e-07, 1.00258247e-16, 3.94164102e-17,\n",
       "        3.23758968e-16, 7.80773834e-10, 1.32436714e-15, 3.05073975e-08,\n",
       "        1.56388550e-19, 2.05390496e-08, 2.28195418e-07, 5.72104959e-08,\n",
       "        1.13199164e-07, 1.23909069e-03, 5.36234256e-06, 1.64043686e-05,\n",
       "        1.31547577e-05, 9.83524478e-06, 6.86198337e-06, 6.23614187e-06,\n",
       "        6.88746650e-06, 3.44353271e-06, 9.91297566e-05, 1.93623055e-05,\n",
       "        2.25017739e-05, 3.36267520e-03],\n",
       "       [4.74930836e-18, 2.47593607e-16, 2.93341327e-16, 3.13901278e-16,\n",
       "        3.45603525e-18, 5.39864224e-17, 1.43537356e-16, 1.57398111e-16,\n",
       "        1.02934104e-16, 1.20071195e-16, 6.69700843e-17, 1.18264739e-16,\n",
       "        8.72223972e-16, 1.08473432e-15, 1.29199174e-15, 3.20028291e-16,\n",
       "        2.58063663e-18, 8.68716329e-17, 3.02754775e-16, 5.41677032e-18,\n",
       "        2.51329399e-17, 2.96524953e-16, 3.74265690e-16, 2.26872878e-16,\n",
       "        6.89387667e-18, 2.33587626e-16, 4.11624872e-16, 3.98659868e-16,\n",
       "        4.14437000e-15, 1.05822771e-16, 3.07757973e-17, 2.70894318e-16,\n",
       "        1.87038391e-17, 1.37496569e-16],\n",
       "       [9.29011972e-17, 2.08313360e-17, 3.22915588e-16, 5.65218733e-17,\n",
       "        1.53658775e-17, 2.78199501e-17, 5.56028955e-16, 1.42417751e-16,\n",
       "        1.85173363e-17, 1.78316185e-16, 3.41469554e-17, 4.92153565e-16,\n",
       "        1.24367857e-14, 8.51690570e-16, 1.05855090e-16, 1.20353773e-16,\n",
       "        1.03711442e-17, 1.36819538e-16, 8.79334019e-17, 7.20703145e-17,\n",
       "        2.43222616e-17, 3.52856853e-16, 1.90014782e-16, 3.25664184e-16,\n",
       "        1.79894545e-17, 1.83894188e-16, 2.16516736e-16, 3.17063120e-16,\n",
       "        9.66720291e-16, 6.91030720e-17, 1.15751602e-17, 2.20574341e-16,\n",
       "        1.36154458e-17, 4.21647509e-17],\n",
       "       [1.73754300e-17, 1.20019647e-10, 9.97971714e-01, 5.62912090e-17,\n",
       "        9.99412537e-01, 5.60445905e-01, 2.57704968e-09, 2.55176510e-16,\n",
       "        8.60305887e-17, 5.46160028e-17, 1.68220240e-16, 3.33326622e-17,\n",
       "        1.29332918e-07, 5.03300786e-01, 8.91287488e-09, 1.10330389e-16,\n",
       "        4.63288682e-18, 3.38438304e-06, 3.40813235e-17, 9.05023404e-17,\n",
       "        2.22527228e-16, 2.78195187e-16, 9.06703826e-06, 1.45004253e-06,\n",
       "        1.45639159e-17, 9.42065714e-09, 2.11937239e-16, 1.44713131e-16,\n",
       "        3.94688941e-05, 2.14518598e-16, 1.17974670e-18, 2.28944987e-08,\n",
       "        9.99977469e-01, 4.93669331e-16],\n",
       "       [4.47520163e-17, 8.01752265e-08, 4.66185845e-08, 1.02351405e-16,\n",
       "        1.32302239e-05, 8.99247254e-08, 8.96803414e-08, 3.09136003e-16,\n",
       "        4.71241854e-08, 1.93592285e-07, 5.99004328e-03, 2.95965947e-06,\n",
       "        9.99818981e-01, 4.33995668e-03, 4.55663688e-02, 1.96137353e-06,\n",
       "        2.17009291e-08, 8.77844712e-08, 2.50860305e-17, 5.91889683e-17,\n",
       "        1.19802390e-09, 2.35547951e-16, 2.29843536e-07, 9.47619628e-05,\n",
       "        8.71602606e-06, 3.07917758e-09, 9.62427318e-01, 9.97387052e-01,\n",
       "        9.86543238e-01, 2.63628831e-17, 5.24289767e-08, 5.12430143e-09,\n",
       "        1.08089014e-17, 5.63095658e-17],\n",
       "       [4.54505482e-08, 5.32770406e-09, 4.92515539e-07, 2.32288648e-16,\n",
       "        1.25013740e-18, 1.36386880e-04, 2.92034429e-07, 1.37788252e-08,\n",
       "        1.45977663e-06, 6.97503424e-08, 1.45956631e-06, 1.84596036e-06,\n",
       "        5.84242371e-05, 4.01322216e-01, 9.53443885e-01, 6.04362322e-06,\n",
       "        2.53911803e-09, 2.01292689e-08, 6.73396619e-17, 5.19705047e-18,\n",
       "        5.75261144e-18, 7.89881051e-06, 1.79801382e-10, 1.50316473e-05,\n",
       "        1.51216898e-06, 1.21285510e-07, 1.81522756e-03, 1.25500483e-05,\n",
       "        3.03268695e-04, 6.20016150e-10, 1.92908738e-06, 3.98860139e-10,\n",
       "        2.22060225e-17, 1.31374440e-16],\n",
       "       [1.26292910e-17, 3.55920662e-08, 1.42625524e-07, 7.34713731e-17,\n",
       "        2.05211483e-17, 9.32825117e-07, 7.91878790e-07, 1.08517361e-16,\n",
       "        9.74459402e-11, 1.87908645e-05, 3.64077835e-07, 9.72778916e-01,\n",
       "        2.24315784e-07, 2.03482814e-05, 1.07114711e-05, 2.11882693e-07,\n",
       "        3.49116448e-07, 9.85263148e-04, 7.38715830e-17, 1.85678125e-17,\n",
       "        1.13539907e-04, 8.55580051e-09, 1.81214290e-07, 2.60453035e-05,\n",
       "        3.16934141e-08, 1.35324942e-02, 6.77212811e-05, 7.64976903e-07,\n",
       "        1.30457701e-02, 1.72112317e-16, 3.47083585e-07, 9.38778726e-07,\n",
       "        1.52395041e-17, 8.45842862e-08],\n",
       "       [5.73153910e-17, 3.78405973e-09, 2.45654586e-09, 1.63824960e-16,\n",
       "        2.93363932e-16, 6.90701650e-04, 3.62407633e-08, 1.56826978e-08,\n",
       "        1.12630011e-16, 4.09933392e-07, 2.31010608e-06, 8.87891874e-05,\n",
       "        7.07328418e-09, 1.42710633e-04, 2.96912557e-08, 1.15407056e-06,\n",
       "        3.18241337e-06, 9.98804212e-01, 4.03521765e-17, 9.69245739e-18,\n",
       "        3.12345715e-17, 2.52794733e-16, 1.85933118e-08, 8.73179641e-04,\n",
       "        1.71222709e-07, 5.67708048e-05, 1.45525828e-05, 2.58995383e-03,\n",
       "        5.12417397e-09, 5.75544438e-11, 1.91222664e-08, 8.50016022e-06,\n",
       "        3.47786070e-17, 9.96630967e-01],\n",
       "       [1.02508688e-17, 2.33421506e-05, 2.76631806e-09, 3.57741956e-05,\n",
       "        1.89752043e-16, 1.77944610e-08, 6.98928898e-06, 8.83000757e-06,\n",
       "        2.06929262e-16, 1.50648248e-05, 4.25401545e-08, 1.09893335e-06,\n",
       "        1.33872763e-15, 3.99380376e-16, 3.19366505e-10, 2.26386359e-08,\n",
       "        3.59428216e-11, 2.02193129e-04, 1.95319630e-16, 2.66151132e-18,\n",
       "        5.19271515e-09, 3.81484131e-16, 1.92534983e-16, 1.92026595e-09,\n",
       "        2.43688514e-10, 2.74279927e-07, 1.17499644e-06, 3.82858363e-16,\n",
       "        2.10319541e-07, 1.09624744e-16, 2.63819455e-09, 3.60557626e-16,\n",
       "        2.47414420e-17, 8.52658371e-17],\n",
       "       [4.38628302e-17, 2.01321362e-16, 9.50775293e-17, 3.39682791e-16,\n",
       "        1.57911698e-10, 2.09880192e-02, 2.06306868e-06, 1.39963407e-16,\n",
       "        1.77795167e-16, 1.86845917e-09, 1.09583809e-11, 3.60932887e-07,\n",
       "        3.36109679e-07, 1.05923358e-02, 4.02437081e-06, 3.11836999e-07,\n",
       "        9.66952207e-09, 1.33277979e-06, 9.70538760e-09, 8.60832719e-18,\n",
       "        3.40543905e-17, 2.17538809e-06, 9.99983490e-01, 2.19110530e-06,\n",
       "        1.79369294e-04, 3.96318996e-04, 3.92972995e-16, 2.42031062e-16,\n",
       "        1.99527381e-06, 8.15787689e-17, 3.17039192e-02, 1.36892950e-05,\n",
       "        5.93463998e-18, 1.00976831e-06],\n",
       "       [4.62685463e-08, 3.59239579e-07, 2.65692027e-16, 5.86115764e-17,\n",
       "        8.53232583e-18, 4.74840363e-08, 3.99510873e-06, 1.94942873e-16,\n",
       "        1.33923217e-09, 3.28164949e-17, 9.33426447e-10, 1.82603571e-07,\n",
       "        1.29330465e-05, 1.56046790e-05, 1.79848023e-04, 1.22523570e-05,\n",
       "        2.15965450e-08, 2.48306331e-09, 1.36073964e-16, 7.15757730e-17,\n",
       "        6.99713602e-17, 9.98743773e-01, 6.09782660e-08, 3.64165753e-03,\n",
       "        7.08324797e-06, 1.39831071e-08, 4.11253183e-07, 5.55553187e-16,\n",
       "        4.85812612e-10, 9.52588147e-11, 1.74629150e-07, 6.89732005e-08,\n",
       "        2.76622084e-17, 8.80150943e-17],\n",
       "       [1.63910934e-17, 1.52466484e-08, 2.29494916e-07, 3.10374418e-16,\n",
       "        4.93842016e-08, 1.54687825e-06, 1.62588982e-08, 2.08947001e-16,\n",
       "        6.91686239e-07, 1.62807282e-05, 1.14174414e-09, 1.63648115e-03,\n",
       "        7.85823158e-06, 3.44506605e-03, 8.81295250e-07, 3.40352777e-08,\n",
       "        9.99970913e-01, 2.18259562e-08, 5.77159653e-07, 2.07285837e-18,\n",
       "        5.11739885e-17, 1.22052370e-07, 7.01218497e-08, 5.40387373e-06,\n",
       "        5.71253986e-06, 9.86002564e-01, 1.66390128e-05, 3.27874887e-16,\n",
       "        5.85912203e-05, 1.04272396e-16, 9.67802465e-01, 7.85603537e-17,\n",
       "        2.00708176e-16, 5.25249379e-06],\n",
       "       [9.34928238e-01, 1.67405279e-09, 5.85062207e-06, 1.64312520e-16,\n",
       "        2.99795531e-08, 8.09067569e-04, 1.55252684e-03, 1.56205409e-16,\n",
       "        5.23731433e-05, 3.77559900e-10, 1.12489298e-08, 1.74048319e-06,\n",
       "        9.36772121e-05, 1.67292387e-06, 5.21598740e-05, 1.63665463e-05,\n",
       "        2.18238672e-09, 1.40250881e-06, 1.16389791e-16, 1.83844138e-18,\n",
       "        4.31230760e-17, 6.58636691e-06, 2.64174393e-09, 3.00139192e-07,\n",
       "        9.91867483e-01, 1.20183197e-10, 2.30826643e-16, 4.98551628e-16,\n",
       "        7.63112418e-09, 2.07229655e-16, 3.18530533e-06, 9.99950349e-01,\n",
       "        1.70807221e-17, 8.31633425e-17],\n",
       "       [6.34578392e-02, 5.19280867e-08, 4.47673877e-11, 6.30881521e-17,\n",
       "        5.97367702e-08, 4.10738539e-05, 2.31918662e-07, 1.67761757e-16,\n",
       "        9.98803020e-01, 6.19651328e-05, 2.65740709e-08, 4.32055531e-04,\n",
       "        3.51355354e-08, 5.18857632e-06, 1.11407962e-06, 2.59575268e-06,\n",
       "        6.27930064e-08, 8.26464497e-09, 5.55686039e-17, 5.59932586e-17,\n",
       "        4.35102048e-18, 1.22075114e-08, 4.15177699e-16, 1.06078323e-05,\n",
       "        7.91666191e-03, 1.26372765e-06, 1.27168994e-06, 3.69364572e-16,\n",
       "        1.32206596e-15, 2.33835092e-16, 1.66484915e-05, 6.16638954e-06,\n",
       "        3.70583730e-17, 1.01361985e-08],\n",
       "       [2.20371139e-17, 6.49667256e-17, 2.87789423e-16, 9.20553620e-17,\n",
       "        1.22339404e-16, 2.95314301e-10, 1.35667918e-07, 9.99259412e-01,\n",
       "        4.16871606e-16, 7.35346506e-10, 5.82721279e-17, 6.08774897e-09,\n",
       "        1.55669970e-15, 7.03540907e-16, 1.69136037e-15, 2.04189706e-16,\n",
       "        3.75782128e-10, 1.09303211e-09, 4.48429963e-17, 1.55785536e-08,\n",
       "        1.13051277e-16, 2.75600963e-16, 7.06833642e-17, 6.29688462e-17,\n",
       "        1.75594443e-19, 1.64531968e-16, 4.00884230e-16, 2.48465389e-16,\n",
       "        2.67441152e-07, 9.99966860e-01, 1.79717131e-17, 7.05530667e-17,\n",
       "        8.77109648e-18, 1.80190616e-16],\n",
       "       [5.76594650e-17, 2.91495040e-17, 2.62323271e-16, 4.22263627e-15,\n",
       "        3.25989873e-18, 1.85240497e-05, 2.75561138e-08, 1.18918399e-06,\n",
       "        4.98163581e-16, 1.22487705e-07, 1.43070022e-09, 2.74565746e-03,\n",
       "        5.79710672e-07, 7.25708105e-07, 4.13721217e-08, 7.15000112e-08,\n",
       "        4.72422101e-09, 7.81796050e-09, 9.99972999e-01, 2.03464195e-04,\n",
       "        3.83969168e-09, 7.95253757e-17, 5.20622791e-07, 2.12150985e-06,\n",
       "        3.04413550e-17, 1.75309767e-09, 4.84524445e-16, 3.79944172e-16,\n",
       "        1.95899943e-07, 3.20458525e-07, 1.93169880e-09, 1.98360851e-07,\n",
       "        5.08522020e-17, 3.22339076e-16],\n",
       "       [3.84291031e-18, 3.43369891e-07, 4.68806101e-17, 1.44343687e-07,\n",
       "        2.91580752e-18, 9.91868063e-08, 4.18266154e-07, 4.58717921e-07,\n",
       "        1.35322910e-16, 2.06116638e-07, 1.64792351e-16, 1.09526375e-02,\n",
       "        1.27968594e-15, 1.18999878e-07, 4.75213930e-08, 3.44745921e-08,\n",
       "        6.82965684e-10, 1.39414280e-09, 2.57908432e-05, 9.99796450e-01,\n",
       "        3.34127415e-09, 3.94470020e-16, 9.52535665e-17, 6.12599877e-07,\n",
       "        4.29347141e-19, 1.14131575e-08, 9.80449926e-08, 3.61877886e-16,\n",
       "        1.99611340e-15, 8.75715796e-06, 9.45304208e-08, 1.76583883e-16,\n",
       "        2.35494433e-17, 1.40694939e-16],\n",
       "       [4.45518717e-17, 2.03828653e-03, 6.61049817e-16, 1.15751482e-05,\n",
       "        1.27560713e-17, 1.32652190e-07, 4.87687446e-09, 1.17172245e-08,\n",
       "        2.40228705e-11, 9.93471980e-01, 4.73227010e-06, 3.04366563e-06,\n",
       "        3.56125298e-07, 7.58075345e-08, 3.28825606e-10, 5.20097605e-16,\n",
       "        8.68011583e-08, 7.11669168e-09, 7.22063361e-17, 6.91809321e-18,\n",
       "        1.42347986e-07, 3.08857488e-16, 2.85279413e-07, 5.55211271e-04,\n",
       "        1.32253838e-17, 2.63473254e-07, 2.47657681e-06, 3.02324535e-16,\n",
       "        1.63280127e-15, 2.39285378e-16, 1.44062869e-06, 2.39577393e-16,\n",
       "        1.54247909e-17, 5.42673628e-17],\n",
       "       [1.80191321e-17, 5.72728354e-09, 2.82689676e-08, 3.36774635e-16,\n",
       "        5.87155888e-08, 3.19926158e-07, 9.96715426e-01, 1.34300938e-16,\n",
       "        6.24640961e-07, 1.29387221e-11, 1.31005731e-06, 1.61703362e-08,\n",
       "        1.76552234e-07, 9.71440159e-07, 2.31844286e-08, 9.99928713e-01,\n",
       "        1.98415091e-05, 2.79892376e-08, 3.54512736e-17, 1.26398584e-16,\n",
       "        1.60318786e-17, 4.37794682e-07, 2.05880980e-16, 1.11362240e-07,\n",
       "        7.37152206e-09, 5.80012731e-08, 4.42263026e-09, 1.52176476e-08,\n",
       "        3.36952883e-15, 6.75664484e-17, 1.27265545e-10, 5.43949441e-10,\n",
       "        3.68456586e-17, 8.82797259e-17],\n",
       "       [4.61317503e-17, 4.21040312e-07, 9.88926558e-07, 9.83658237e-17,\n",
       "        8.74000420e-07, 4.16082680e-01, 1.81734620e-07, 6.24381073e-17,\n",
       "        1.18543255e-06, 2.04696539e-06, 9.93999422e-01, 4.58797473e-07,\n",
       "        1.23734605e-06, 7.65503868e-02, 5.92997530e-04, 2.90113962e-06,\n",
       "        2.18460650e-09, 1.75946070e-06, 2.29186946e-16, 7.29715369e-19,\n",
       "        8.83408280e-09, 2.65119698e-16, 3.02350555e-16, 4.74094340e-05,\n",
       "        1.34528491e-07, 2.99595156e-16, 5.98060687e-05, 1.15344267e-06,\n",
       "        1.22691532e-07, 1.00652978e-16, 1.70560921e-09, 5.99740360e-07,\n",
       "        4.05149259e-17, 2.11413666e-16],\n",
       "       [1.04104700e-17, 9.71078992e-01, 2.71638406e-10, 5.85795704e-07,\n",
       "        3.57535982e-17, 2.14735446e-05, 5.94299333e-16, 2.99275349e-16,\n",
       "        1.39277043e-08, 1.05925871e-03, 1.52703478e-07, 1.66199188e-05,\n",
       "        9.39267775e-09, 4.07538482e-06, 6.79949537e-08, 2.19095091e-05,\n",
       "        4.91074047e-07, 1.67784542e-08, 1.98490877e-12, 3.07297825e-18,\n",
       "        6.63204560e-07, 1.21318623e-16, 1.75652505e-16, 1.26629695e-02,\n",
       "        1.88393023e-10, 1.31566716e-16, 6.00065096e-06, 3.80654974e-09,\n",
       "        2.62491275e-15, 3.06346042e-17, 4.94875337e-07, 9.09225613e-17,\n",
       "        1.10219186e-17, 1.46306294e-16],\n",
       "       [1.95979734e-17, 2.63331998e-02, 2.12636966e-08, 9.99118626e-01,\n",
       "        4.03920058e-05, 5.53018299e-06, 3.26639463e-16, 5.00956739e-05,\n",
       "        5.01114009e-16, 5.56991763e-05, 4.04691036e-08, 1.13362717e-02,\n",
       "        3.81928231e-07, 3.55984012e-05, 7.65439054e-08, 6.73082026e-16,\n",
       "        1.03971081e-06, 3.19882409e-09, 6.52704983e-08, 1.32611703e-16,\n",
       "        9.99548733e-01, 1.97847190e-16, 4.62314603e-07, 1.09176515e-02,\n",
       "        4.12312744e-08, 2.61488018e-16, 5.49050796e-08, 1.65660811e-16,\n",
       "        4.29864350e-15, 2.06365221e-05, 3.46329267e-04, 1.18937365e-07,\n",
       "        1.87891528e-17, 1.54006485e-16],\n",
       "       [1.07974615e-17, 7.74251530e-05, 1.07597255e-17, 1.41637713e-07,\n",
       "        4.54304632e-18, 8.10839083e-07, 1.38829623e-08, 5.60308986e-17,\n",
       "        9.57052415e-19, 5.29720774e-03, 8.09414900e-08, 9.08757784e-07,\n",
       "        4.67564405e-06, 2.25536585e-08, 3.21018656e-09, 5.34747369e-06,\n",
       "        3.91488311e-06, 1.51024949e-07, 3.22228175e-07, 1.94270631e-19,\n",
       "        3.36811470e-04, 2.66391994e-16, 2.23826973e-07, 9.71126795e-01,\n",
       "        7.39162731e-09, 2.32442887e-15, 3.55802961e-02, 2.29633724e-06,\n",
       "        8.75667478e-16, 1.48460669e-16, 2.37549320e-05, 1.01646833e-08,\n",
       "        6.89056273e-16, 8.48287863e-18],\n",
       "       [4.97247184e-17, 2.73727713e-17, 1.80416413e-17, 7.35358601e-17,\n",
       "        6.40462001e-18, 2.51526053e-17, 6.24649401e-05, 2.53251272e-07,\n",
       "        5.25850547e-16, 1.16247782e-10, 7.90261467e-10, 8.56923116e-17,\n",
       "        3.41580859e-16, 2.22147384e-04, 1.47677900e-04, 7.58912433e-10,\n",
       "        4.31544344e-18, 7.19496007e-18, 3.97877104e-16, 3.74231784e-10,\n",
       "        1.62550503e-17, 3.54596182e-16, 3.94196534e-16, 2.27729440e-17,\n",
       "        2.76270053e-18, 1.34259937e-16, 3.80657348e-16, 2.45414297e-16,\n",
       "        1.41021234e-15, 5.12579275e-17, 3.69414256e-11, 8.68128766e-17,\n",
       "        5.95957492e-17, 6.25689011e-17]], dtype=float32)"
      ]
     },
     "execution_count": 186,
     "metadata": {},
     "output_type": "execute_result"
    }
   ],
   "source": [
    "digit_wt"
   ]
  },
  {
   "cell_type": "code",
   "execution_count": 187,
   "metadata": {},
   "outputs": [
    {
     "name": "stdout",
     "output_type": "stream",
     "text": [
      "Spearman SpearmanrResult(correlation=-0.14729083246193647, pvalue=3.601933264807301e-226)\n",
      "Pearson (-0.04120345363786304, 4.025895248209853e-19)\n",
      "------------------------------\n",
      "Spearman SpearmanrResult(correlation=-0.20387870711338543, pvalue=0.0)\n",
      "Pearson (-0.06307877643874023, 1.1906808750176592e-42)\n",
      "------------------------------\n",
      "Spearman SpearmanrResult(correlation=-0.17736242051829407, pvalue=0.0)\n",
      "Pearson (-0.08053773977783493, 1.7650292022973482e-68)\n"
     ]
    }
   ],
   "source": [
    "sample_size=len(fit_total)\n",
    "sample_for_averging_size=100\n",
    "sequence_size=PRUNED_SEQ_LENGTH\n",
    "digit_size = len(ORDER_LIST)\n",
    "\n",
    "digit = reshaped_fit[0]#fit_xtrain_softmax_reshaped[0]\n",
    "digit_wt = digit\n",
    "digit_wt = normalize(digit,axis=0, norm='l1')\n",
    "# print (digit_wt)\n",
    "\n",
    "\n",
    "wt_prob=compute_log_probability(reshaped_fit[0].reshape(digit_size, sequence_size),digit_wt)\n",
    "#print (\"wt_log_prob: \", wt_prob)\n",
    "\n",
    "wt_probs=[]\n",
    "digit_avg=np.zeros((digit_size, sequence_size))\n",
    "\n",
    "\n",
    "sample_indices=random.sample(range(sample_size),sample_for_averging_size)\n",
    "\n",
    "counter=0\n",
    "for sample in sample_indices:\n",
    "    digit = reshaped_fit[sample]\n",
    "#     print (digit)\n",
    "#     print (digit_avg)\n",
    "#     digit_wt_i = normalize(digit,axis=0, norm='l1')\n",
    "    digit_wt_i = digit\n",
    "    \n",
    "#     print (digit_wt_i)\n",
    "    \n",
    "    digit_avg+=np.array(digit_wt_i) * 1. / sample_for_averging_size\n",
    "    \n",
    "    wt_p=compute_log_probability(reshaped_fit[sample].reshape(digit_size, sequence_size),digit_wt_i)\n",
    "    wt_probs.append(wt_p)\n",
    "    counter+=1\n",
    "    \n",
    "average_wt_p=np.mean(wt_probs)\n",
    "\n",
    "fitnesses_vs_wt=[]\n",
    "fitnesses=[] #first plug in just the sequences\n",
    "fitnesses_vs_avg=[] \n",
    "\n",
    "for sample in range(0,sample_size):\n",
    "    digit = reshaped_fit[sample]\n",
    "#     digit = normalize(digit,axis=0, norm='l1')\n",
    "    \n",
    "    fitness=compute_log_probability(reshaped_fit[sample].reshape(digit_size, sequence_size),digit)-wt_prob\n",
    "    fitnesses.append(fitness)\n",
    "    \n",
    "    fitness=compute_log_probability(reshaped_fit[sample].reshape(digit_size, sequence_size),digit_wt)-wt_prob\n",
    "    fitnesses_vs_wt.append(fitness)\n",
    "    \n",
    "    fitness=compute_log_probability(reshaped_fit[sample].reshape(digit_size, sequence_size),digit_avg)-average_wt_p\n",
    "    fitnesses_vs_avg.append(fitness)\n",
    "    \n",
    "    \n",
    "test_data = fowler['fitness']\n",
    "print (\"Spearman\",spearmanr(fitnesses_vs_avg,test_data[:sample_size]))\n",
    "print (\"Pearson\", pearsonr(fitnesses_vs_avg,test_data[:sample_size]))\n",
    "print ('------------------------------')\n",
    "print (\"Spearman\",spearmanr(fitnesses_vs_wt,test_data[:sample_size]))\n",
    "print (\"Pearson\", pearsonr(fitnesses_vs_wt,test_data[:sample_size]))\n",
    "print ('------------------------------')\n",
    "print (\"Spearman\",spearmanr(fitnesses,test_data[:sample_size]))\n",
    "print (\"Pearson\", pearsonr(fitnesses,test_data[:sample_size]))"
   ]
  },
  {
   "cell_type": "code",
   "execution_count": 835,
   "metadata": {},
   "outputs": [
    {
     "data": {
      "text/plain": [
       "<matplotlib.collections.PathCollection at 0x1cd38e2b0>"
      ]
     },
     "execution_count": 835,
     "metadata": {},
     "output_type": "execute_result"
    },
    {
     "data": {
      "image/png": "[encoded data removed]",
      "text/plain": [
       "<Figure size 432x288 with 1 Axes>"
      ]
     },
     "metadata": {
      "needs_background": "light"
     },
     "output_type": "display_data"
    }
   ],
   "source": [
    "plt.scatter(fitnesses_vs_wt, sarkisyan['quantitative_function'][1:sample_size])"
   ]
  },
  {
   "cell_type": "code",
   "execution_count": 825,
   "metadata": {},
   "outputs": [
    {
     "ename": "AttributeError",
     "evalue": "'Tensor' object has no attribute 'T'",
     "output_type": "error",
     "traceback": [
      "\u001b[0;31m---------------------------------------------------------------------------\u001b[0m",
      "\u001b[0;31mAttributeError\u001b[0m                            Traceback (most recent call last)",
      "\u001b[0;32m<ipython-input-825-69f99acea2d3>\u001b[0m in \u001b[0;36m<module>\u001b[0;34m\u001b[0m\n\u001b[0;32m----> 1\u001b[0;31m \u001b[0mreshaped_fit_sarkisyan\u001b[0m\u001b[0;34m[\u001b[0m\u001b[0;36m0\u001b[0m\u001b[0;34m]\u001b[0m\u001b[0;34m.\u001b[0m\u001b[0mreshape\u001b[0m\u001b[0;34m(\u001b[0m\u001b[0mdigit_size\u001b[0m\u001b[0;34m,\u001b[0m \u001b[0msequence_size\u001b[0m\u001b[0;34m)\u001b[0m\u001b[0;34m.\u001b[0m\u001b[0mT\u001b[0m\u001b[0;34m\u001b[0m\u001b[0;34m\u001b[0m\u001b[0m\n\u001b[0m",
      "\u001b[0;31mAttributeError\u001b[0m: 'Tensor' object has no attribute 'T'"
     ]
    }
   ],
   "source": [
    "reshaped_fit_sarkisyan[0].reshape(digit_size, sequence_size).T"
   ]
  },
  {
   "cell_type": "code",
   "execution_count": null,
   "metadata": {},
   "outputs": [],
   "source": []
  }
 ],
 "metadata": {
  "anaconda-cloud": {},
  "kernelspec": {
   "display_name": "Python 3",
   "language": "python",
   "name": "python3"
  },
  "language_info": {
   "codemirror_mode": {
    "name": "ipython",
    "version": 3
   },
   "file_extension": ".py",
   "mimetype": "text/x-python",
   "name": "python",
   "nbconvert_exporter": "python",
   "pygments_lexer": "ipython3",
   "version": "3.6.8"
  }
 },
 "nbformat": 4,
 "nbformat_minor": 1
}
