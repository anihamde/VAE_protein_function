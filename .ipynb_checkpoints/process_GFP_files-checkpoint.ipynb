{
 "cells": [
  {
   "cell_type": "code",
   "execution_count": 1,
   "metadata": {},
   "outputs": [],
   "source": [
    "import numpy as npa\n",
    "import pandas as pd\n",
    "\n",
    "%matplotlib inline\n",
    "import matplotlib.pyplot as plt\n",
    "\n",
    "from Bio import Entrez, SeqIO\n",
    "import time\n",
    "import csv"
   ]
  },
  {
   "cell_type": "code",
   "execution_count": 2,
   "metadata": {},
   "outputs": [],
   "source": [
    "df = pd.read_csv(\"blast_results/gfp_blast_eukarya_bacteria.csv\", header=None)"
   ]
  },
  {
   "cell_type": "code",
   "execution_count": 3,
   "metadata": {},
   "outputs": [
    {
     "data": {
      "image/png": "[encoded data removed]",
      "text/plain": [
       "<Figure size 432x288 with 1 Axes>"
      ]
     },
     "metadata": {
      "needs_background": "light"
     },
     "output_type": "display_data"
    }
   ],
   "source": [
    "plt.hist(df[12])\n",
    "plt.title(\"Percent identity in blast hits\")\n",
    "plt.show()"
   ]
  },
  {
   "cell_type": "code",
   "execution_count": 52,
   "metadata": {},
   "outputs": [],
   "source": [
    "# filtered_df = df[df[12] > 70] #remove everything with less than 70% divergence"
   ]
  },
  {
   "cell_type": "code",
   "execution_count": 6,
   "metadata": {},
   "outputs": [
    {
     "data": {
      "text/plain": [
       "0      WP_012569506.1\n",
       "1      WP_006462513.1\n",
       "2      WP_008832113.1\n",
       "3            P42212.1\n",
       "4      WP_077638175.1\n",
       "5          PTB82212.1\n",
       "6          AAN86140.1\n",
       "7          AWC67560.1\n",
       "8          AAA27722.1\n",
       "9          AAN86138.1\n",
       "10         AAN86137.1\n",
       "11             1GFL_A\n",
       "12     WP_087671979.1\n",
       "13     WP_068464625.1\n",
       "14     WP_069953167.1\n",
       "15         KWT64529.1\n",
       "16         ALW83197.1\n",
       "17     WP_079863969.1\n",
       "18     WP_038430632.1\n",
       "19         SCV58932.1\n",
       "20     WP_133279792.1\n",
       "21     XP_013248715.1\n",
       "22     WP_127074437.1\n",
       "23     WP_031943942.1\n",
       "24           2008181A\n",
       "25     WP_106508751.1\n",
       "26     WP_046835546.1\n",
       "27         ABV01355.1\n",
       "28         AAA58246.1\n",
       "29             5HBD_A\n",
       "            ...      \n",
       "788            1GGX_A\n",
       "789            1ZGP_A\n",
       "790        AGI04919.1\n",
       "791        AGI04840.1\n",
       "792        OZM44449.1\n",
       "793            4I2Y_A\n",
       "794        AGI04929.1\n",
       "795        AGI04894.1\n",
       "796        AGI04927.1\n",
       "797            2V4E_C\n",
       "798            2V4E_A\n",
       "799        AGI04858.1\n",
       "800    XP_016022663.1\n",
       "801        AGI04857.1\n",
       "802        BAS22104.1\n",
       "803        AGI04849.1\n",
       "804        BAS22109.1\n",
       "805        AGI04933.1\n",
       "806            2V4E_B\n",
       "807        BAS22102.1\n",
       "808        AGI04930.1\n",
       "809        BAS22101.1\n",
       "810        BAS22106.1\n",
       "811        BAS22108.1\n",
       "812            1G7K_A\n",
       "813        AGI04890.1\n",
       "814        RMX59758.1\n",
       "815        BAS22100.1\n",
       "816            3CFA_L\n",
       "817        AGI04855.1\n",
       "Name: 1, Length: 818, dtype: object"
      ]
     },
     "execution_count": 6,
     "metadata": {},
     "output_type": "execute_result"
    }
   ],
   "source": [
    "df[1]"
   ]
  },
  {
   "cell_type": "code",
   "execution_count": 5,
   "metadata": {},
   "outputs": [
    {
     "ename": "NameError",
     "evalue": "name 'filtered_df' is not defined",
     "output_type": "error",
     "traceback": [
      "\u001b[0;31m---------------------------------------------------------------------------\u001b[0m",
      "\u001b[0;31mNameError\u001b[0m                                 Traceback (most recent call last)",
      "\u001b[0;32m<ipython-input-5-30ccb1b70773>\u001b[0m in \u001b[0;36m<module>\u001b[0;34m\u001b[0m\n\u001b[0;32m----> 1\u001b[0;31m \u001b[0mhandle\u001b[0m \u001b[0;34m=\u001b[0m \u001b[0mEntrez\u001b[0m\u001b[0;34m.\u001b[0m\u001b[0mefetch\u001b[0m\u001b[0;34m(\u001b[0m\u001b[0mdb\u001b[0m\u001b[0;34m=\u001b[0m\u001b[0;34m\"protein\"\u001b[0m\u001b[0;34m,\u001b[0m \u001b[0mid\u001b[0m\u001b[0;34m=\u001b[0m\u001b[0mfiltered_df\u001b[0m\u001b[0;34m[\u001b[0m\u001b[0;36m1\u001b[0m\u001b[0;34m]\u001b[0m\u001b[0;34m[\u001b[0m\u001b[0;36m22\u001b[0m\u001b[0;34m]\u001b[0m\u001b[0;34m,\u001b[0m \u001b[0mrettype\u001b[0m\u001b[0;34m=\u001b[0m\u001b[0;34m\"fasta\"\u001b[0m\u001b[0;34m,\u001b[0m \u001b[0mretmode\u001b[0m\u001b[0;34m=\u001b[0m\u001b[0;34m\"xml\"\u001b[0m\u001b[0;34m)\u001b[0m\u001b[0;34m\u001b[0m\u001b[0;34m\u001b[0m\u001b[0m\n\u001b[0m\u001b[1;32m      2\u001b[0m \u001b[0ma\u001b[0m \u001b[0;34m=\u001b[0m \u001b[0mEntrez\u001b[0m\u001b[0;34m.\u001b[0m\u001b[0mread\u001b[0m\u001b[0;34m(\u001b[0m\u001b[0mhandle\u001b[0m\u001b[0;34m)\u001b[0m\u001b[0;34m\u001b[0m\u001b[0;34m\u001b[0m\u001b[0m\n",
      "\u001b[0;31mNameError\u001b[0m: name 'filtered_df' is not defined"
     ]
    }
   ],
   "source": [
    "handle = Entrez.efetch(db=\"protein\", id=filtered_df[1][22], rettype=\"fasta\", retmode=\"xml\")\n",
    "a = Entrez.read(handle)"
   ]
  },
  {
   "cell_type": "code",
   "execution_count": null,
   "metadata": {},
   "outputs": [],
   "source": [
    "a[0]['TSeq_sequence']"
   ]
  },
  {
   "cell_type": "code",
   "execution_count": null,
   "metadata": {},
   "outputs": [
    {
     "name": "stdout",
     "output_type": "stream",
     "text": [
      "WP_012569506.1\n"
     ]
    },
    {
     "name": "stderr",
     "output_type": "stream",
     "text": [
      "//anaconda/envs/ML_env/lib/python3.6/site-packages/Bio/Entrez/__init__.py:580: UserWarning: \n",
      "Email address is not specified.\n",
      "\n",
      "To make use of NCBI's E-utilities, NCBI requires you to specify your\n",
      "email address with each request.  As an example, if your email address\n",
      "is A.N.Other@example.com, you can specify it as follows:\n",
      "   from Bio import Entrez\n",
      "   Entrez.email = 'A.N.Other@example.com'\n",
      "In case of excessive usage of the E-utilities, NCBI will attempt to contact\n",
      "a user at the email address provided before blocking access to the\n",
      "E-utilities.\n",
      "  E-utilities.\"\"\", UserWarning)\n"
     ]
    },
    {
     "name": "stdout",
     "output_type": "stream",
     "text": [
      "pass\n",
      "WP_006462513.1\n",
      "pass\n",
      "WP_008832113.1\n",
      "pass\n",
      "P42212.1\n",
      "pass\n",
      "WP_077638175.1\n"
     ]
    }
   ],
   "source": [
    "record_dict = {}\n",
    "\n",
    "for entry in df[1]:\n",
    "#     print (entry)\n",
    "#     try:\n",
    "    print (entry)\n",
    "    handle = Entrez.efetch(db=\"protein\", id=entry, rettype=\"fasta\", retmode=\"xml\")\n",
    "    record = Entrez.read(handle)[0]\n",
    "    record_dict[entry] = record['TSeq_sequence']\n",
    "    time.sleep(.5)\n",
    "#     except:\n",
    "#         print (\"pass\")\n",
    "#         pass\n",
    "\n",
    "    \n",
    "w = csv.writer(open(\"GFP_ncbi_full.tab\", \"w\"), delimiter=\"\\t\")\n",
    "for key, val in record_dict.items():\n",
    "    w.writerow([key, val])"
   ]
  },
  {
   "cell_type": "code",
   "execution_count": null,
   "metadata": {},
   "outputs": [],
   "source": [
    "record_dict"
   ]
  },
  {
   "cell_type": "code",
   "execution_count": 41,
   "metadata": {},
   "outputs": [
    {
     "data": {
      "image/png": "[encoded data removed]",
      "text/plain": [
       "<Figure size 432x288 with 1 Axes>"
      ]
     },
     "metadata": {
      "needs_background": "light"
     },
     "output_type": "display_data"
    }
   ],
   "source": [
    "plt.hist(np.array([len(record_dict[item]) for item in record_dict]))\n",
    "plt.show()"
   ]
  },
  {
   "cell_type": "code",
   "execution_count": 49,
   "metadata": {},
   "outputs": [
    {
     "data": {
      "text/plain": [
       "277"
      ]
     },
     "execution_count": 49,
     "metadata": {},
     "output_type": "execute_result"
    }
   ],
   "source": [
    "SeqIO.convert('GFP_orthologs.tab', 'tab', 'GFP_orthologs.fasta', 'fasta')"
   ]
  },
  {
   "cell_type": "code",
   "execution_count": 48,
   "metadata": {},
   "outputs": [],
   "source": [
    "w = csv.writer(open(\"GFP_orthologs.tab\", \"w\"), delimiter=\"\\t\")\n",
    "for key, val in record_dict.items():\n",
    "    w.writerow([key, val])"
   ]
  },
  {
   "cell_type": "code",
   "execution_count": 68,
   "metadata": {},
   "outputs": [
    {
     "data": {
      "text/plain": [
       "277"
      ]
     },
     "execution_count": 68,
     "metadata": {},
     "output_type": "execute_result"
    }
   ],
   "source": [
    "len(np.array([len(record_dict[item]) for item in record_dict]))"
   ]
  },
  {
   "cell_type": "code",
   "execution_count": 88,
   "metadata": {},
   "outputs": [
    {
     "data": {
      "text/plain": [
       "199"
      ]
     },
     "execution_count": 88,
     "metadata": {},
     "output_type": "execute_result"
    }
   ],
   "source": [
    "filtered_record_dict = {}\n",
    "\n",
    "for key, val in record_dict.items():\n",
    "    if (len(val) > 220 and len(val) < 300):\n",
    "        filtered_record_dict[key] = val\n",
    "\n",
    "w = csv.writer(open(\"filtered_GFP_orthologs.tab\", \"w\"), delimiter=\"\\t\")\n",
    "for key, val in filtered_record_dict.items():\n",
    "    w.writerow([key, val])\n",
    "\n",
    "SeqIO.convert('filtered_GFP_orthologs.tab', 'tab', 'filtered_GFP_orthologs.fasta', 'fasta')"
   ]
  },
  {
   "cell_type": "code",
   "execution_count": 101,
   "metadata": {},
   "outputs": [],
   "source": [
    "total_record_dict = filtered_record_dict.copy()\n",
    "sarkisyan = pd.read_csv(\"sarkisyan.csv\")"
   ]
  },
  {
   "cell_type": "code",
   "execution_count": 102,
   "metadata": {},
   "outputs": [],
   "source": [
    "for i in range(len(sarkisyan)):\n",
    "    name = \"sarkisyan_\" + str(i+1)\n",
    "    total_record_dict[name] = sarkisyan['sequence'][i]"
   ]
  },
  {
   "cell_type": "code",
   "execution_count": 103,
   "metadata": {},
   "outputs": [],
   "source": [
    "w = csv.writer(open(\"Augmented_sarkisyan.tab\", \"w\"), delimiter=\"\\t\")\n",
    "for key, val in total_record_dict.items():\n",
    "    w.writerow([key, val])"
   ]
  },
  {
   "cell_type": "code",
   "execution_count": 104,
   "metadata": {},
   "outputs": [
    {
     "data": {
      "text/plain": [
       "51910"
      ]
     },
     "execution_count": 104,
     "metadata": {},
     "output_type": "execute_result"
    }
   ],
   "source": [
    "SeqIO.convert('Augmented_sarkisyan.tab', 'tab', 'Augmented_sarkisyan.fasta', 'fasta')"
   ]
  },
  {
   "cell_type": "code",
   "execution_count": 109,
   "metadata": {},
   "outputs": [],
   "source": [
    "file1 = open(\"alignment_table\",\"a\") \n"
   ]
  },
  {
   "cell_type": "code",
   "execution_count": 131,
   "metadata": {},
   "outputs": [],
   "source": [
    "from io import StringIO\n",
    "\n",
    "aligned_seqs = np.loadtxt('gfp_uniprot_alignment', dtype=\"str\")"
   ]
  },
  {
   "cell_type": "code",
   "execution_count": 132,
   "metadata": {},
   "outputs": [
    {
     "data": {
      "text/plain": [
       "709"
      ]
     },
     "execution_count": 132,
     "metadata": {},
     "output_type": "execute_result"
    }
   ],
   "source": [
    "len(aligned_seqs)"
   ]
  },
  {
   "cell_type": "code",
   "execution_count": 133,
   "metadata": {},
   "outputs": [],
   "source": [
    "aligned_dict = {}\n",
    "\n",
    "for i in range(len(aligned_seqs)):\n",
    "    aligned_dict[aligned_seqs[i][0]] = aligned_seqs[i][1]"
   ]
  },
  {
   "cell_type": "code",
   "execution_count": 134,
   "metadata": {},
   "outputs": [],
   "source": [
    "w = csv.writer(open(\"aligned_gfp_uniprot.tab\", \"w\"), delimiter=\"\\t\")\n",
    "for key, val in aligned_dict.items():\n",
    "    w.writerow([key, val])"
   ]
  },
  {
   "cell_type": "code",
   "execution_count": 136,
   "metadata": {},
   "outputs": [
    {
     "data": {
      "text/plain": [
       "682"
      ]
     },
     "execution_count": 136,
     "metadata": {},
     "output_type": "execute_result"
    }
   ],
   "source": [
    "SeqIO.convert('aligned_gfp_uniprot.tab', 'tab', 'aligned_gfp_uniprot.fasta', 'fasta')"
   ]
  },
  {
   "cell_type": "code",
   "execution_count": null,
   "metadata": {},
   "outputs": [],
   "source": []
  }
 ],
 "metadata": {
  "kernelspec": {
   "display_name": "Python 3",
   "language": "python",
   "name": "python3"
  },
  "language_info": {
   "codemirror_mode": {
    "name": "ipython",
    "version": 3
   },
   "file_extension": ".py",
   "mimetype": "text/x-python",
   "name": "python",
   "nbconvert_exporter": "python",
   "pygments_lexer": "ipython3",
   "version": "3.6.8"
  }
 },
 "nbformat": 4,
 "nbformat_minor": 2
}
