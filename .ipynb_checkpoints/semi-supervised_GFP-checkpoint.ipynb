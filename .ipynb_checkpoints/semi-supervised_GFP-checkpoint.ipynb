{
 "cells": [
  {
   "cell_type": "markdown",
   "metadata": {},
   "source": [
    "### Using a Variational Auto-encoder to predict protein fitness from evolutionary data\n",
    "\n",
    "July 20, 2017\n",
    "### Sam Sinai and Eric Kelsic\n",
    "\n",
    "\n",
    "## For the blog post associated with this notebook see [this post](https://samsinai.github.io/jekyll/update/2017/08/14/Using-a-Variational-Autoencoder-to-predict-protein-function.html). \n",
    "\n",
    "\n",
    "This notebook it organized in 3 sections. In section 1 we show our workflow for pre-processing the biological data. We then train the model on the alignment data in section 2. In section 3 we compare the predictions of the model on the [PABP yeast](https://www.ncbi.nlm.nih.gov/pmc/articles/PMC3851721/) dataset. In section 4 we report the results from analyzing multiple other datasets. Finally we pose some questions with regards to improving the model for interested researcher."
   ]
  },
  {
   "cell_type": "code",
   "execution_count": 1,
   "metadata": {},
   "outputs": [],
   "source": [
    "# Generic imports\n",
    "from __future__ import print_function\n",
    "%matplotlib inline\n",
    "import matplotlib.pyplot as plt\n",
    "import numpy as np\n",
    "import pandas as pd\n",
    "import math,random,re\n",
    "import time\n",
    "from sklearn.decomposition import PCA\n",
    "\n",
    "from Bio import SeqIO"
   ]
  },
  {
   "cell_type": "code",
   "execution_count": 2,
   "metadata": {},
   "outputs": [],
   "source": [
    "#Machine learning/Stats imports \n",
    "from scipy.stats import norm\n",
    "from scipy.stats import spearmanr,pearsonr\n",
    "from sklearn.preprocessing import normalize\n",
    "from sklearn.model_selection import train_test_split\n",
    "import torch\n",
    "import torch.nn as nn\n",
    "import torch.nn.functional as F\n",
    "from torch.autograd import Variable\n",
    "import torch.distributions as D"
   ]
  },
  {
   "cell_type": "code",
   "execution_count": 3,
   "metadata": {},
   "outputs": [],
   "source": [
    "from sklearn.ensemble import RandomForestRegressor\n",
    "from sklearn.ensemble import RandomForestClassifier\n",
    "\n",
    "from sklearn.model_selection import train_test_split"
   ]
  },
  {
   "cell_type": "code",
   "execution_count": 4,
   "metadata": {},
   "outputs": [],
   "source": [
    "from models import *"
   ]
  },
  {
   "cell_type": "code",
   "execution_count": 5,
   "metadata": {},
   "outputs": [
    {
     "name": "stdout",
     "output_type": "stream",
     "text": [
      "/usr/bin/python3\n"
     ]
    }
   ],
   "source": [
    "import sys\n",
    "print(sys.executable)"
   ]
  },
  {
   "cell_type": "code",
   "execution_count": 6,
   "metadata": {},
   "outputs": [
    {
     "name": "stdout",
     "output_type": "stream",
     "text": [
      "Collecting umap\n",
      "Installing collected packages: umap\n",
      "Successfully installed umap-0.1.1\n"
     ]
    }
   ],
   "source": [
    "!/usr/bin/python3 -m pip install umap"
   ]
  },
  {
   "cell_type": "code",
   "execution_count": 7,
   "metadata": {},
   "outputs": [],
   "source": [
    "import umap"
   ]
  },
  {
   "cell_type": "code",
   "execution_count": 8,
   "metadata": {},
   "outputs": [],
   "source": [
    "import warnings\n",
    "warnings.simplefilter(action='ignore', category=FutureWarning)"
   ]
  },
  {
   "cell_type": "markdown",
   "metadata": {},
   "source": [
    "## 1.  Data pre-processing\n",
    "\n",
    "Defining the alphabet that is used for Amino-Acids throughout."
   ]
  },
  {
   "cell_type": "markdown",
   "metadata": {},
   "source": [
    "These are helper functions to clean and process data. "
   ]
  },
  {
   "cell_type": "code",
   "execution_count": 9,
   "metadata": {},
   "outputs": [],
   "source": [
    "%reload_ext autoreload\n",
    "%autoreload 1\n",
    "from helper_tools import *\n",
    "from helper_tools_for_plotting import *"
   ]
  },
  {
   "cell_type": "markdown",
   "metadata": {},
   "source": [
    "Import the alignment data:"
   ]
  },
  {
   "cell_type": "code",
   "execution_count": 10,
   "metadata": {
    "scrolled": true
   },
   "outputs": [],
   "source": [
    "sarkisyan=pd.read_csv(\"sarkisyan.csv\")"
   ]
  },
  {
   "cell_type": "code",
   "execution_count": 11,
   "metadata": {},
   "outputs": [],
   "source": [
    "seqs = []\n",
    "for record in SeqIO.parse(\"aligned_gfp.fasta\", \"fasta\"):\n",
    "    seqs.append(\"\".join(record.seq))\n",
    "\n",
    "seqs.append(seqs[0])\n",
    "\n",
    "data = pd.DataFrame({\"sequence\": seqs})"
   ]
  },
  {
   "cell_type": "code",
   "execution_count": 12,
   "metadata": {},
   "outputs": [],
   "source": [
    "seq_uniprot = []\n",
    "for record in SeqIO.parse(\"aligned_gfp_uniprot.fasta\", \"fasta\"):\n",
    "    seq_uniprot.append(\"\".join(record.seq))\n",
    "\n",
    "data_uniprot = pd.DataFrame({\"sequence\": seq_uniprot})"
   ]
  },
  {
   "cell_type": "code",
   "execution_count": 13,
   "metadata": {},
   "outputs": [],
   "source": [
    "seq_together = seqs.copy()\n",
    "for record in SeqIO.parse(\"aligned_gfp_uniprot.fasta\", \"fasta\"):\n",
    "    seq_together.append(\"\".join(record.seq))\n",
    "\n",
    "data_together = pd.DataFrame({\"sequence\": seq_together})"
   ]
  },
  {
   "cell_type": "code",
   "execution_count": 14,
   "metadata": {},
   "outputs": [],
   "source": [
    "data = data_together.copy()"
   ]
  },
  {
   "cell_type": "code",
   "execution_count": 15,
   "metadata": {},
   "outputs": [
    {
     "data": {
      "text/plain": [
       "'MSKGEELFTGVVPILVELDGDVNGHKFSVSGEGEGDATYGKLTLKFICTTGKLPVPWPTLVTTLT--VQCFSRYPDHMKQHDFFKSAMPEGYVQERTIFFKDDGNYKTRAEVKFEGDTLVNRIELKGIDFKEDGNILGHKLEYNYNSHNVYIMADKQKNGIKVNFKIRHNIEDGSVQLADHYQQNTPIGDGPVLLPDNHYLSTQSALSKDPNEKRDHMVLLEFVTAAGITHGMDELYK'"
      ]
     },
     "execution_count": 15,
     "metadata": {},
     "output_type": "execute_result"
    }
   ],
   "source": [
    "data.iloc[0][\"sequence\"]"
   ]
  },
  {
   "cell_type": "markdown",
   "metadata": {},
   "source": [
    "Let's see how long the sequence is"
   ]
  },
  {
   "cell_type": "code",
   "execution_count": 16,
   "metadata": {},
   "outputs": [
    {
     "name": "stdout",
     "output_type": "stream",
     "text": [
      "length of sequence: 238\n",
      "sample sequence:  MSKGEELFTGVVPILVELDGDVNGHKFSVSGEGEGDATYGKLTLKFICTTGKLPVPWPTLVTTLT--VQCFSRYPDHMKQHDFFKSAMPEGYVQERTIFFKDDGNYKTRAEVKFEGDTLVNRIELKGIDFKEDGNILGHKLEYNYNSHNVYIMADKQKNGIKVNFKIRHNIEDGSVQLADHYQQNTPIGDGPVLLPDNHYLSTQSALSKDPNEKRDHMVLLEFVTAAGITHGMDELYK\n"
     ]
    }
   ],
   "source": [
    "print (\"length of sequence:\", len(data.iloc[0][\"sequence\"]))#, len(data.iloc[0][\"seq\"]))\n",
    "print (\"sample sequence: \", data.iloc[0][\"sequence\"])"
   ]
  },
  {
   "cell_type": "markdown",
   "metadata": {},
   "source": [
    "We are only really interested in the columns that do align. This means that for every column that we include, at least 50% of sequences are not gaps. Note that this threshold is imposed by the alignment parameters loaded above. So let's make a column for that. Meanwhile, we keep track of the indices that did align."
   ]
  },
  {
   "cell_type": "code",
   "execution_count": 17,
   "metadata": {},
   "outputs": [
    {
     "data": {
      "text/html": [
       "<div>\n",
       "<style scoped>\n",
       "    .dataframe tbody tr th:only-of-type {\n",
       "        vertical-align: middle;\n",
       "    }\n",
       "\n",
       "    .dataframe tbody tr th {\n",
       "        vertical-align: top;\n",
       "    }\n",
       "\n",
       "    .dataframe thead th {\n",
       "        text-align: right;\n",
       "    }\n",
       "</style>\n",
       "<table border=\"1\" class=\"dataframe\">\n",
       "  <thead>\n",
       "    <tr style=\"text-align: right;\">\n",
       "      <th></th>\n",
       "      <th>sequence</th>\n",
       "      <th>seq</th>\n",
       "    </tr>\n",
       "  </thead>\n",
       "  <tbody>\n",
       "    <tr>\n",
       "      <th>0</th>\n",
       "      <td>MSKGEELFTGVVPILVELDGDVNGHKFSVSGEGEGDATYGKLTLKF...</td>\n",
       "      <td>MSKGEELFTGVVPILVELDGDVNGHKFSVSGEGEGDATYGKLTLKF...</td>\n",
       "    </tr>\n",
       "    <tr>\n",
       "      <th>1</th>\n",
       "      <td>MSKGEELFTGVVPILVELDGDVNGHKFSVSGEGEGDATYGKLTLKF...</td>\n",
       "      <td>MSKGEELFTGVVPILVELDGDVNGHKFSVSGEGEGDATYGKLTLKF...</td>\n",
       "    </tr>\n",
       "    <tr>\n",
       "      <th>2</th>\n",
       "      <td>MSKGEELFTGVVPILVELDGDVNGHKFSVSGEGEGDATYGKLTLKF...</td>\n",
       "      <td>MSKGEELFTGVVPILVELDGDVNGHKFSVSGEGEGDATYGKLTLKF...</td>\n",
       "    </tr>\n",
       "    <tr>\n",
       "      <th>3</th>\n",
       "      <td>MSKGEELFTGVVPILVELDGDVNGHKFSVSGEGEGDATYGKLTLKF...</td>\n",
       "      <td>MSKGEELFTGVVPILVELDGDVNGHKFSVSGEGEGDATYGKLTLKF...</td>\n",
       "    </tr>\n",
       "    <tr>\n",
       "      <th>4</th>\n",
       "      <td>MSKGEELFTGVVPILVELDGDVNGHKFSVSGEGEGDATYGKLTLKF...</td>\n",
       "      <td>MSKGEELFTGVVPILVELDGDVNGHKFSVSGEGEGDATYGKLTLKF...</td>\n",
       "    </tr>\n",
       "  </tbody>\n",
       "</table>\n",
       "</div>"
      ],
      "text/plain": [
       "                                            sequence  \\\n",
       "0  MSKGEELFTGVVPILVELDGDVNGHKFSVSGEGEGDATYGKLTLKF...   \n",
       "1  MSKGEELFTGVVPILVELDGDVNGHKFSVSGEGEGDATYGKLTLKF...   \n",
       "2  MSKGEELFTGVVPILVELDGDVNGHKFSVSGEGEGDATYGKLTLKF...   \n",
       "3  MSKGEELFTGVVPILVELDGDVNGHKFSVSGEGEGDATYGKLTLKF...   \n",
       "4  MSKGEELFTGVVPILVELDGDVNGHKFSVSGEGEGDATYGKLTLKF...   \n",
       "\n",
       "                                                 seq  \n",
       "0  MSKGEELFTGVVPILVELDGDVNGHKFSVSGEGEGDATYGKLTLKF...  \n",
       "1  MSKGEELFTGVVPILVELDGDVNGHKFSVSGEGEGDATYGKLTLKF...  \n",
       "2  MSKGEELFTGVVPILVELDGDVNGHKFSVSGEGEGDATYGKLTLKF...  \n",
       "3  MSKGEELFTGVVPILVELDGDVNGHKFSVSGEGEGDATYGKLTLKF...  \n",
       "4  MSKGEELFTGVVPILVELDGDVNGHKFSVSGEGEGDATYGKLTLKF...  "
      ]
     },
     "execution_count": 17,
     "metadata": {},
     "output_type": "execute_result"
    }
   ],
   "source": [
    "indices=index_of_non_lower_case_dot(data.iloc[0][\"sequence\"])\n",
    "data[\"seq\"]=list(map(prune_seq,data[\"sequence\"]))\n",
    "data.head()"
   ]
  },
  {
   "cell_type": "markdown",
   "metadata": {},
   "source": [
    "Let's see how many columns remained. "
   ]
  },
  {
   "cell_type": "code",
   "execution_count": 18,
   "metadata": {},
   "outputs": [
    {
     "name": "stdout",
     "output_type": "stream",
     "text": [
      "pruned sequence length: 238\n"
     ]
    }
   ],
   "source": [
    "print (\"pruned sequence length:\", len(data.iloc[0][\"seq\"]))\n",
    "PRUNED_SEQ_LENGTH=len(data.iloc[0][\"seq\"])"
   ]
  },
  {
   "cell_type": "code",
   "execution_count": 19,
   "metadata": {},
   "outputs": [],
   "source": [
    "uniquechars = set()\n",
    "for i in data['seq']:\n",
    "    uniquechars = uniquechars.union(i)"
   ]
  },
  {
   "cell_type": "code",
   "execution_count": 20,
   "metadata": {},
   "outputs": [],
   "source": [
    "#Invariants\n",
    "# ORDER_KEY=\"XILVAGMFYWEDQNHCRKSTPBZ-\"[::-1]\n",
    "# ORDER_LIST=list(ORDER_KEY)\n",
    "ORDER_LIST = list(uniquechars)\n",
    "ORDER_LIST = sorted(ORDER_LIST,reverse=True)"
   ]
  },
  {
   "cell_type": "markdown",
   "metadata": {},
   "source": [
    "A few optional lines of code to run. Printing indices, and deleting the sequence column so that it doesn't stay in memory for no reason. "
   ]
  },
  {
   "cell_type": "markdown",
   "metadata": {},
   "source": [
    "Next we translate the sequence into a one hot encoding and shape the input sequences into a m*n matrix. Here m is the number of the data points and $n=$ alphbet size $\\times$ sequence length."
   ]
  },
  {
   "cell_type": "code",
   "execution_count": 21,
   "metadata": {},
   "outputs": [
    {
     "name": "stdout",
     "output_type": "stream",
     "text": [
      "882 23 238\n",
      "(882, 5474)\n"
     ]
    }
   ],
   "source": [
    "#Encode Orthologs\n",
    "training_data_one_hot=[]\n",
    "labels=[]\n",
    "for i, row in data.iterrows():\n",
    "    training_data_one_hot.append(translate_string_to_one_hot(row[\"seq\"],ORDER_LIST))\n",
    "print (len(training_data_one_hot),len(training_data_one_hot[0]),len(training_data_one_hot[0][0]))\n",
    "#plt.imshow(training_data_one_hot[0],cmap=\"Greys\")\n",
    "training_data=np.array([np.array(list(sample.T.flatten())) for sample in training_data_one_hot])\n",
    "# training_data=np.array([np.array(list(sample.flatten())).T for sample in training_data_one_hot])\n",
    "print(training_data.shape)"
   ]
  },
  {
   "cell_type": "code",
   "execution_count": 22,
   "metadata": {},
   "outputs": [
    {
     "name": "stdout",
     "output_type": "stream",
     "text": [
      "51715 23 238\n",
      "(51715, 5474)\n"
     ]
    }
   ],
   "source": [
    "#Encode sarkisyan data to one hot\n",
    "sarkisyan_data_one_hot=[]\n",
    "labels=[]\n",
    "for i, row in sarkisyan.iterrows():\n",
    "    sarkisyan_data_one_hot.append(translate_string_to_one_hot(row[\"sequence\"],ORDER_LIST))\n",
    "print (len(sarkisyan_data_one_hot),len(sarkisyan_data_one_hot[0]),len(sarkisyan_data_one_hot[0][0]))\n",
    "#plt.imshow(training_data_one_hot[0],cmap=\"Greys\")\n",
    "sarkisyan_data=np.array([np.array(list(sample.T.flatten())) for sample in sarkisyan_data_one_hot])\n",
    "# training_data=np.array([np.array(list(sample.flatten())).T for sample in training_data_one_hot])\n",
    "print(sarkisyan_data.shape)"
   ]
  },
  {
   "cell_type": "markdown",
   "metadata": {},
   "source": [
    "## Basic Functions"
   ]
  },
  {
   "cell_type": "code",
   "execution_count": 23,
   "metadata": {},
   "outputs": [],
   "source": [
    "def build_PCA(data, n_components):\n",
    "    pca = PCA(n_components=n_components)\n",
    "    pca.fit(data)\n",
    "    return pca\n",
    "\n",
    "def feed_PCA(pca, data):\n",
    "    return pca.transform(data)\n",
    "\n",
    "def split_data(xdata, ydata, train_size):\n",
    "    x_train, x_test, y_train, y_test = train_test_split(xdata, ydata, train_size=train_size, random_state=10)\n",
    "    return (x_train, x_test, y_train, y_test)\n",
    "\n",
    "def train_test(x_train, x_test, y_train, y_test, model_type=\"reg\"):\n",
    "    if (model_type == \"reg\"):\n",
    "        reg = RandomForestRegressor()\n",
    "        reg.fit(x_train, y_train)\n",
    "        return (reg.score(x_test, y_test))\n",
    "    \n",
    "    elif (model_type == \"clf\"):\n",
    "        clf = RandomForestClassifier()\n",
    "        clf.fit(x_train, y_train > 0.5)\n",
    "        return (clf.score(x_test, y_test > 0.5))\n",
    "    \n",
    "    return None    \n",
    "\n",
    "def augmented_learning(data, additional_data, labels, n_components, train_size):\n",
    "    x_train, x_test, y_train, y_test = split_data(data, labels, train_size=train_size)\n",
    "    \n",
    "    augmented_data = np.concatenate([x_train, additional_data])\n",
    "    pca = build_PCA(augmented_data, n_components=n_components)\n",
    "    transformed_train = feed_PCA(pca, x_train)\n",
    "    transformed_test = feed_PCA(pca, x_test)\n",
    "\n",
    "    \n",
    "    reg_score = train_test(transformed_train, transformed_test, y_train, y_test, model_type=\"reg\")\n",
    "    clf_score = train_test(transformed_train, transformed_test, y_train, y_test, model_type=\"clf\")\n",
    "    \n",
    "    return (reg_score, clf_score)\n",
    "\n",
    "def normal_learning(data, labels, train_size):\n",
    "    x_train, x_test, y_train, y_test = split_data(data, labels, train_size=train_size)\n",
    "\n",
    "    reg_score = train_test(x_train, x_test, y_train, y_test, model_type=\"reg\")\n",
    "    clf_score = train_test(x_train, x_test, y_train, y_test, model_type=\"clf\")\n",
    "    \n",
    "    return (reg_score, clf_score)"
   ]
  },
  {
   "cell_type": "markdown",
   "metadata": {},
   "source": [
    "## Baseline One-hot model "
   ]
  },
  {
   "cell_type": "code",
   "execution_count": null,
   "metadata": {},
   "outputs": [],
   "source": [
    "accuracies = normal_learning(sarkisyan_data, sarkisyan['quantitative_function'], train_size=0.7)"
   ]
  },
  {
   "cell_type": "code",
   "execution_count": null,
   "metadata": {},
   "outputs": [],
   "source": [
    "accuracies[0]"
   ]
  },
  {
   "cell_type": "code",
   "execution_count": 34,
   "metadata": {},
   "outputs": [
    {
     "data": {
      "text/plain": [
       "0.9221398646471157"
      ]
     },
     "execution_count": 34,
     "metadata": {},
     "output_type": "execute_result"
    }
   ],
   "source": [
    "accuracies[1]"
   ]
  },
  {
   "cell_type": "markdown",
   "metadata": {},
   "source": [
    "## PCA models"
   ]
  },
  {
   "cell_type": "code",
   "execution_count": 28,
   "metadata": {},
   "outputs": [],
   "source": [
    "def PCA_test(max_components):\n",
    "    pca = PCA(n_components=max_components)\n",
    "    pca.fit(training_data)\n",
    "    pca_sarkisyan = pca.transform(sarkisyan_data)\n",
    "    \n",
    "    clf_scores = []\n",
    "    reg_scores = []\n",
    "    for i in range(max_components):\n",
    "        cut_sarkisyan = pca_sarkisyan[:, 0:i+1]\n",
    "        \n",
    "        #Classification on training data\n",
    "        sarkisyan['function'] = sarkisyan['quantitative_function'] > 0.5\n",
    "        X_train, X_test, y_train, y_test = train_test_split(cut_sarkisyan, sarkisyan['function'], \n",
    "                                                           test_size = 0.3, random_state=10)\n",
    "\n",
    "        naiveClf = RandomForestClassifier()\n",
    "        naiveClf.fit(X_train, y_train)\n",
    "        clf_score = naiveClf.score(X_test, y_test)\n",
    "\n",
    "        X_train, X_test, y_train, y_test = train_test_split(cut_sarkisyan, sarkisyan['quantitative_function'], \n",
    "                                                       test_size = 0.3, random_state=10)\n",
    "        naiveReg = RandomForestRegressor()\n",
    "        naiveReg.fit(X_train, y_train)\n",
    "        reg_score = naiveReg.score(X_test, y_test)\n",
    "\n",
    "        clf_scores.append(clf_score)\n",
    "        reg_scores.append(reg_score)\n",
    "        \n",
    "    return (clf_scores, reg_scores)"
   ]
  },
  {
   "cell_type": "code",
   "execution_count": 29,
   "metadata": {},
   "outputs": [],
   "source": [
    "pca_scores = PCA_test(20)"
   ]
  },
  {
   "cell_type": "code",
   "execution_count": 30,
   "metadata": {},
   "outputs": [
    {
     "data": {
      "image/png": "[encoded data removed]",
      "text/plain": [
       "<Figure size 432x288 with 1 Axes>"
      ]
     },
     "metadata": {},
     "output_type": "display_data"
    }
   ],
   "source": [
    "plt.plot(range(1, 21), np.array(pca_scores)[0])\n",
    "plt.xlabel(\"Number of PCA components\")\n",
    "plt.ylabel(\"Classification Accuracy\")\n",
    "plt.title(\"Classification with ortholog PCA\")\n",
    "plt.savefig(\"Ortholog_PCA_on_Sarkisyan.png\")\n",
    "plt.show()"
   ]
  },
  {
   "cell_type": "code",
   "execution_count": 31,
   "metadata": {},
   "outputs": [
    {
     "data": {
      "image/png": "[encoded data removed]",
      "text/plain": [
       "<Figure size 432x288 with 1 Axes>"
      ]
     },
     "metadata": {},
     "output_type": "display_data"
    }
   ],
   "source": [
    "plt.plot(range(1, 21), np.array(pca_scores)[1])\n",
    "plt.xlabel(\"Number of PCA components\")\n",
    "plt.ylabel(\"R^2\")\n",
    "plt.title(\"Regression with ortholog PCA\")\n",
    "plt.savefig(\"Ortholog_PCA_on_Sarkisyan_regression.png\")\n",
    "plt.show()"
   ]
  },
  {
   "cell_type": "markdown",
   "metadata": {},
   "source": [
    "## Data-Augmentation in low-data settings"
   ]
  },
  {
   "cell_type": "code",
   "execution_count": null,
   "metadata": {},
   "outputs": [],
   "source": []
  },
  {
   "cell_type": "code",
   "execution_count": 32,
   "metadata": {},
   "outputs": [],
   "source": [
    "training_sizes = [100, 300, 500, 1000, 2000, 5000]\n",
    "\n",
    "reg_score_normal = []\n",
    "reg_score_augmented = []\n",
    "clf_score_normal = []\n",
    "clf_score_augmented = []\n",
    "\n",
    "for size in training_sizes:\n",
    "    aug_run = augmented_learning(sarkisyan_data, sarkisyan_data[:1000], sarkisyan['quantitative_function'], 10, size)\n",
    "    normal_run = normal_learning(sarkisyan_data, sarkisyan['quantitative_function'], size)\n",
    "    reg_score_normal.append(normal_run[0])\n",
    "    reg_score_augmented.append(aug_run[0])\n",
    "    clf_score_normal.append(normal_run[1])\n",
    "    clf_score_augmented.append(aug_run[1])"
   ]
  },
  {
   "cell_type": "code",
   "execution_count": 33,
   "metadata": {},
   "outputs": [
    {
     "data": {
      "image/png": "[encoded data removed]",
      "text/plain": [
       "<Figure size 432x288 with 1 Axes>"
      ]
     },
     "metadata": {},
     "output_type": "display_data"
    }
   ],
   "source": [
    "plt.scatter(training_sizes, reg_score_normal, label=\"One-hot\")\n",
    "plt.scatter(training_sizes, reg_score_augmented, label=\"PCA Augmented\")\n",
    "plt.xlabel(\"Training size\")\n",
    "plt.title(\"PCA = 10, Regression Accuracy\")\n",
    "plt.legend()\n",
    "plt.savefig(\"PCA_10_Reg.png\")\n",
    "plt.show()"
   ]
  },
  {
   "cell_type": "code",
   "execution_count": 36,
   "metadata": {},
   "outputs": [],
   "source": [
    "sarkisyan_onehot_train, sarkisyan_onehot_test, y_train, y_test = train_test_split(sarkisyan_data, sarkisyan['quantitative_function'], \n",
    "                                                   test_size = 0.99, random_state=10)"
   ]
  },
  {
   "cell_type": "code",
   "execution_count": 37,
   "metadata": {},
   "outputs": [],
   "source": [
    "augmented_data = np.concatenate((training_data, sarkisyan_onehot_train))"
   ]
  },
  {
   "cell_type": "code",
   "execution_count": 38,
   "metadata": {},
   "outputs": [
    {
     "data": {
      "text/plain": [
       "PCA(copy=True, iterated_power='auto', n_components=20, random_state=None,\n",
       "  svd_solver='auto', tol=0.0, whiten=False)"
      ]
     },
     "execution_count": 38,
     "metadata": {},
     "output_type": "execute_result"
    }
   ],
   "source": [
    "augment_pca = PCA(n_components=20)\n",
    "augment_pca.fit(augmented_data)"
   ]
  },
  {
   "cell_type": "code",
   "execution_count": 39,
   "metadata": {},
   "outputs": [],
   "source": [
    "transformed_train = augment_pca.transform(sarkisyan_onehot_train)\n",
    "transformed_test = augment_pca.transform(sarkisyan_onehot_test)"
   ]
  },
  {
   "cell_type": "code",
   "execution_count": 40,
   "metadata": {},
   "outputs": [
    {
     "data": {
      "text/plain": [
       "0.7468455799054651"
      ]
     },
     "execution_count": 40,
     "metadata": {},
     "output_type": "execute_result"
    }
   ],
   "source": [
    "augClf = RandomForestClassifier()\n",
    "augClf.fit(transformed_train, y_train>0.5)\n",
    "augClf.score(transformed_test, y_test>0.5)"
   ]
  },
  {
   "cell_type": "code",
   "execution_count": 41,
   "metadata": {},
   "outputs": [
    {
     "data": {
      "text/plain": [
       "0.3231468033015251"
      ]
     },
     "execution_count": 41,
     "metadata": {},
     "output_type": "execute_result"
    }
   ],
   "source": [
    "augReg = RandomForestRegressor()\n",
    "augReg.fit(transformed_train, y_train)\n",
    "augReg.score(transformed_test, y_test)"
   ]
  },
  {
   "cell_type": "code",
   "execution_count": 42,
   "metadata": {},
   "outputs": [],
   "source": [
    "net = Reg_NN(input_size = 20, hidden_size=100, output_size=1)"
   ]
  },
  {
   "cell_type": "code",
   "execution_count": 43,
   "metadata": {},
   "outputs": [
    {
     "data": {
      "text/plain": [
       "(517, 20)"
      ]
     },
     "execution_count": 43,
     "metadata": {},
     "output_type": "execute_result"
    }
   ],
   "source": [
    "transformed_train.shape"
   ]
  },
  {
   "cell_type": "code",
   "execution_count": 46,
   "metadata": {},
   "outputs": [],
   "source": [
    "optimizer = torch.optim.Adam(net.parameters(), lr=0.001)\n",
    "loss_func = torch.nn.MSELoss()  # this is for regression mean squared loss\n",
    "\n",
    "\n",
    "for t in range(200):\n",
    "    prediction = net(torch.Tensor(transformed_train))     # input x and predict based on x\n",
    "\n",
    "    loss = loss_func(prediction, torch.Tensor(np.array(y_train)))     # must be (1. nn output, 2. target)\n",
    "\n",
    "    optimizer.zero_grad()   # clear gradients for next train\n",
    "    loss.backward()         # backpropagation, compute gradients\n",
    "    optimizer.step()        # apply gradients\n",
    "#     print (net.parameters())"
   ]
  },
  {
   "cell_type": "code",
   "execution_count": 47,
   "metadata": {},
   "outputs": [],
   "source": [
    "out_train = net(torch.Tensor(transformed_train))\n",
    "out_train = torch.Tensor(out_train)"
   ]
  },
  {
   "cell_type": "code",
   "execution_count": 48,
   "metadata": {},
   "outputs": [],
   "source": [
    "from sklearn.metrics import r2_score"
   ]
  },
  {
   "cell_type": "code",
   "execution_count": 49,
   "metadata": {},
   "outputs": [
    {
     "data": {
      "text/plain": [
       "-7425.0913027948345"
      ]
     },
     "execution_count": 49,
     "metadata": {},
     "output_type": "execute_result"
    }
   ],
   "source": [
    "r2_score(out_train.squeeze(1).detach(), y_train)"
   ]
  },
  {
   "cell_type": "code",
   "execution_count": 50,
   "metadata": {},
   "outputs": [
    {
     "data": {
      "text/plain": [
       "(5474,)"
      ]
     },
     "execution_count": 50,
     "metadata": {},
     "output_type": "execute_result"
    }
   ],
   "source": [
    "training_data[0].shape"
   ]
  },
  {
   "cell_type": "code",
   "execution_count": 51,
   "metadata": {},
   "outputs": [
    {
     "data": {
      "image/png": "[encoded data removed]",
      "text/plain": [
       "<Figure size 432x288 with 1 Axes>"
      ]
     },
     "metadata": {},
     "output_type": "display_data"
    }
   ],
   "source": [
    "plt.hist(out_train.squeeze(1).detach())\n",
    "plt.show()"
   ]
  },
  {
   "cell_type": "code",
   "execution_count": 52,
   "metadata": {},
   "outputs": [
    {
     "data": {
      "image/png": "[encoded data removed]",
      "text/plain": [
       "<Figure size 432x288 with 1 Axes>"
      ]
     },
     "metadata": {},
     "output_type": "display_data"
    }
   ],
   "source": [
    "plt.hist(y_train)\n",
    "plt.show()"
   ]
  },
  {
   "cell_type": "markdown",
   "metadata": {},
   "source": [
    "## UMAP Experiments"
   ]
  },
  {
   "cell_type": "code",
   "execution_count": null,
   "metadata": {},
   "outputs": [],
   "source": []
  },
  {
   "cell_type": "code",
   "execution_count": null,
   "metadata": {},
   "outputs": [],
   "source": [
    "UMAP_embedding = umap.UMAP(n_neighbors=3,\n",
    "                      min_dist=0.05,\n",
    "                      metric='manhattan').fit(training_data)"
   ]
  },
  {
   "cell_type": "code",
   "execution_count": 550,
   "metadata": {},
   "outputs": [],
   "source": [
    "a = UMAP_embedding.transform(training_data)"
   ]
  },
  {
   "cell_type": "code",
   "execution_count": 551,
   "metadata": {},
   "outputs": [
    {
     "data": {
      "text/plain": [
       "array([[ 6.649287 ,  9.458338 ],\n",
       "       [ 7.1583214, -2.633993 ],\n",
       "       [-8.284651 , -3.4905474],\n",
       "       ...,\n",
       "       [ 9.465265 , -6.686657 ],\n",
       "       [ 9.704497 , -5.273012 ],\n",
       "       [ 4.786226 , -6.1747694]], dtype=float32)"
      ]
     },
     "execution_count": 551,
     "metadata": {},
     "output_type": "execute_result"
    }
   ],
   "source": [
    "a"
   ]
  },
  {
   "cell_type": "code",
   "execution_count": 552,
   "metadata": {},
   "outputs": [
    {
     "data": {
      "image/png": "[encoded data removed]",
      "text/plain": [
       "<Figure size 432x288 with 1 Axes>"
      ]
     },
     "metadata": {
      "needs_background": "light"
     },
     "output_type": "display_data"
    }
   ],
   "source": [
    "plt.scatter(a[:, 0], a[:, 1])\n",
    "plt.show()"
   ]
  },
  {
   "cell_type": "code",
   "execution_count": 553,
   "metadata": {},
   "outputs": [],
   "source": [
    "UMAP_sarkisyan = UMAP_embedding.transform(sarkisyan_data)"
   ]
  },
  {
   "cell_type": "code",
   "execution_count": 554,
   "metadata": {},
   "outputs": [
    {
     "name": "stderr",
     "output_type": "stream",
     "text": [
      "//anaconda/envs/ML_env/lib/python3.6/site-packages/sklearn/ensemble/forest.py:246: FutureWarning: The default value of n_estimators will change from 10 in version 0.20 to 100 in 0.22.\n",
      "  \"10 in version 0.20 to 100 in 0.22.\", FutureWarning)\n",
      "//anaconda/envs/ML_env/lib/python3.6/site-packages/sklearn/ensemble/forest.py:246: FutureWarning: The default value of n_estimators will change from 10 in version 0.20 to 100 in 0.22.\n",
      "  \"10 in version 0.20 to 100 in 0.22.\", FutureWarning)\n"
     ]
    }
   ],
   "source": [
    "# UMAP_sarkisyan = UMAP_embedding.transform(sarkisyan_data)\n",
    "\n",
    "X_train, X_test, y_train, y_test = train_test_split(UMAP_sarkisyan, sarkisyan['function'], \n",
    "                                                   test_size = 0.3, random_state=10)\n",
    "\n",
    "naiveClf = RandomForestClassifier()\n",
    "naiveClf.fit(X_train, y_train)\n",
    "clf_score = naiveClf.score(X_test, y_test)\n",
    "\n",
    "X_train, X_test, y_train, y_test = train_test_split(UMAP_sarkisyan, sarkisyan['quantitative_function'], \n",
    "                                               test_size = 0.3, random_state=10)\n",
    "naiveReg = RandomForestRegressor()\n",
    "naiveReg.fit(X_train, y_train)\n",
    "reg_score = naiveReg.score(X_test, y_test)"
   ]
  },
  {
   "cell_type": "code",
   "execution_count": 555,
   "metadata": {},
   "outputs": [
    {
     "data": {
      "text/plain": [
       "0.5135030615533355"
      ]
     },
     "execution_count": 555,
     "metadata": {},
     "output_type": "execute_result"
    }
   ],
   "source": [
    "clf_score"
   ]
  },
  {
   "cell_type": "code",
   "execution_count": 556,
   "metadata": {},
   "outputs": [
    {
     "data": {
      "text/plain": [
       "-0.24899542340754088"
      ]
     },
     "execution_count": 556,
     "metadata": {},
     "output_type": "execute_result"
    }
   ],
   "source": [
    "reg_score"
   ]
  },
  {
   "cell_type": "code",
   "execution_count": 558,
   "metadata": {},
   "outputs": [
    {
     "data": {
      "image/png": "[encoded data removed]",
      "text/plain": [
       "<Figure size 432x288 with 1 Axes>"
      ]
     },
     "metadata": {
      "needs_background": "light"
     },
     "output_type": "display_data"
    }
   ],
   "source": [
    "plt.scatter(UMAP_sarkisyan[:,0][:10000], UMAP_sarkisyan[:, 1][:10000])\n",
    "plt.show()"
   ]
  },
  {
   "cell_type": "code",
   "execution_count": 548,
   "metadata": {},
   "outputs": [],
   "source": [
    "UMAP_sarkisyan_20 = UMAP_sarkisyan.copy()\n",
    "ortholog_umap_20 = a.copy()"
   ]
  },
  {
   "cell_type": "markdown",
   "metadata": {},
   "source": [
    "This concludes the pre-processing we need to do on the data.\n",
    "\n",
    "## 2.  Training the model\n",
    "We now move on to define our neural network. This is essentially a vanilla VAE in keras (with some optimization on hyperparameters). For optimization purposes we define a callback function that reports the predictive power of the model in the end of each epoch. Note that while this passes the -test data- through the model, it is kosher because we never pass in the values we are actually interested in and the network is not in \"training phase\", i.e. no weights are updated during this pass. "
   ]
  },
  {
   "cell_type": "code",
   "execution_count": 24,
   "metadata": {},
   "outputs": [],
   "source": [
    "class rho_vs_mutants():\n",
    "    def __init__(self,mutants,test_set_size,aa_size,sequence_size):\n",
    "        self.mutants=mutants\n",
    "        self.sample_size=test_set_size\n",
    "        self.aa_size=aa_size\n",
    "        self.sequence_size=sequence_size\n",
    "        self.scores=[]\n",
    "        self.count_batch=0\n",
    "    def on_train_begin(self, logs={}):\n",
    "        self.losses = []\n",
    "    def on_batch_end(self, batch, logs={}):\n",
    "        self.losses.append(logs.get('loss'))\n",
    "    #This allows us to track the \"progress\" of the model on different epochs\n",
    "    def on_epoch_end(self,model,batch,logs):\n",
    "        x_decoded=model(test_data_plus[0:self.sample_size],batch_size=batch_size)\n",
    "        digit = x_decoded[0].reshape(self.aa_size,self.sequence_size)\n",
    "        digit_wt = normalize(digit,axis=0, norm='l1')\n",
    "        wt_prob=compute_log_probability(digit,digit_wt)\n",
    "        fitnesses=[]\n",
    "        for sample in range(1,self.sample_size):\n",
    "            digit = x_decoded[sample].reshape(self.aa_size,self.sequence_size)\n",
    "            digit = normalize(digit,axis=0, norm='l1')\n",
    "            fitness=compute_log_probability(test_data_plus[sample].reshape(self.aa_size,self.sequence_size),digit)-wt_prob\n",
    "            fitnesses.append(fitness)\n",
    "        print (\",\"+str(spearmanr(fitnesses,target_values_singles[:self.sample_size-1])))\n",
    "        self.scores.append(spearmanr(fitnesses,target_values_singles[:self.sample_size-1])[0])"
   ]
  },
  {
   "cell_type": "markdown",
   "metadata": {},
   "source": [
    "Now we are ready to specify the network architecture, this is adapted from [here](https://github.com/fchollet/keras/blob/master/examples/variational_autoencoder.py)."
   ]
  },
  {
   "cell_type": "code",
   "execution_count": 25,
   "metadata": {},
   "outputs": [],
   "source": [
    "# torch.sum(1 + model.z_log_var - (model.z_mean)**2 - torch.exp(model.z_log_var),-1)"
   ]
  },
  {
   "cell_type": "code",
   "execution_count": 26,
   "metadata": {},
   "outputs": [
    {
     "data": {
      "text/plain": [
       "238"
      ]
     },
     "execution_count": 26,
     "metadata": {},
     "output_type": "execute_result"
    }
   ],
   "source": [
    "PRUNED_SEQ_LENGTH"
   ]
  },
  {
   "cell_type": "code",
   "execution_count": 27,
   "metadata": {},
   "outputs": [],
   "source": [
    "batch_size = 24\n",
    "original_dim=len(ORDER_LIST)*PRUNED_SEQ_LENGTH\n",
    "output_dim=len(ORDER_LIST)*PRUNED_SEQ_LENGTH\n",
    "latent_dim = 2\n",
    "intermediate_dim=30\n",
    "nb_epoch = 20\n",
    "epsilon_std = 1.0\n",
    "np.random.seed(42)  \n",
    "\n",
    "loss1 = nn.CrossEntropyLoss()\n",
    "\n",
    "def vae_loss(x_true, x_decoded_mean, z_mean, z_log_var):\n",
    "    xent_loss = original_dim * loss1(x_decoded_mean, x_true)\n",
    "    kl_loss = -0.5 * torch.sum(1 + z_log_var - (z_mean)**2 - torch.exp(z_log_var))\n",
    "#     print (\"xent loss: \", xent_loss)\n",
    "#     print (\"KL loss: \", kl_loss)\n",
    "    return (xent_loss + kl_loss)"
   ]
  },
  {
   "cell_type": "markdown",
   "metadata": {},
   "source": [
    "And run it through our training data."
   ]
  },
  {
   "cell_type": "code",
   "execution_count": 28,
   "metadata": {},
   "outputs": [
    {
     "data": {
      "text/plain": [
       "20"
      ]
     },
     "execution_count": 28,
     "metadata": {},
     "output_type": "execute_result"
    }
   ],
   "source": [
    "len(range(0, 300)[:20])"
   ]
  },
  {
   "cell_type": "code",
   "execution_count": 29,
   "metadata": {},
   "outputs": [
    {
     "data": {
      "text/plain": [
       "882"
      ]
     },
     "execution_count": 29,
     "metadata": {},
     "output_type": "execute_result"
    }
   ],
   "source": [
    "len(training_data)"
   ]
  },
  {
   "cell_type": "code",
   "execution_count": 30,
   "metadata": {},
   "outputs": [],
   "source": [
    "training_size = 880 #so batchingw orks\n",
    "x_train=training_data[:training_size] #this needs to be divisible by batch size and less than or equal to dataset size\n",
    "x_train = x_train.astype('float32')\n",
    "x_train = x_train.reshape((len(x_train), np.prod(x_train.shape[1:])))\n"
   ]
  },
  {
   "cell_type": "code",
   "execution_count": 31,
   "metadata": {},
   "outputs": [],
   "source": [
    "vae_type = 'conv'"
   ]
  },
  {
   "cell_type": "code",
   "execution_count": 32,
   "metadata": {},
   "outputs": [],
   "source": [
    "if vae_type == 'rec':\n",
    "    def vae_loss(x_true, x_decoded_mean, z_mean, z_log_var):\n",
    "        xent_loss = x_true.shape[0]*loss1(x_decoded_mean, x_true)\n",
    "        kl_loss = -0.5 * torch.sum(1 + z_log_var - (z_mean)**2 - torch.exp(z_log_var))\n",
    "        return (xent_loss + kl_loss), xent_loss, kl_loss"
   ]
  },
  {
   "cell_type": "code",
   "execution_count": 33,
   "metadata": {},
   "outputs": [],
   "source": [
    "def conv_size_func(Lin,dilation,kernel,padding=0,stride=1):\n",
    "  return int(((Lin+2*padding-dilation*(kernel-1)-1)/stride)+1)"
   ]
  },
  {
   "cell_type": "code",
   "execution_count": 34,
   "metadata": {},
   "outputs": [
    {
     "name": "stdout",
     "output_type": "stream",
     "text": [
      "post-convolutional size is  1900\n"
     ]
    }
   ],
   "source": [
    "if vae_type == 'full':\n",
    "    print (\"training on full\")\n",
    "    univ_dropout = [0.2]*3\n",
    "    dropout_enc = univ_dropout\n",
    "    dropout_dec = univ_dropout\n",
    "\n",
    "    layers_enc = nn.ModuleList([nn.Linear(original_dim,intermediate_dim),nn.Dropout(dropout_enc[0]),nn.ELU()])\n",
    "    for i in range(2):\n",
    "        layers_enc.append(nn.Linear(intermediate_dim,intermediate_dim))\n",
    "        layers_enc.append(nn.Dropout(dropout_enc[i+1]))\n",
    "        layers_enc.append(nn.ELU())\n",
    "\n",
    "    layers_dec = nn.ModuleList([nn.Linear(latent_dim,intermediate_dim),nn.Dropout(dropout_dec[0]),nn.ELU()])\n",
    "    for i in range(2):\n",
    "        layers_dec.append(nn.Linear(intermediate_dim,intermediate_dim))\n",
    "        layers_dec.append(nn.Dropout(dropout_dec[i+1]))\n",
    "        layers_dec.append(nn.ELU())\n",
    "\n",
    "    layers_dec.append(nn.Linear(intermediate_dim,output_dim))\n",
    "\n",
    "    layers_ae = nn.ModuleList([nn.Linear(intermediate_dim,latent_dim),nn.Linear(intermediate_dim,latent_dim)])\n",
    "elif vae_type == 'conv':\n",
    "    out_conv_enc = [50,100]\n",
    "    kernels_enc = [3,5]\n",
    "    dilations_enc = [1,3]\n",
    "    maxpools_enc = [4,3]\n",
    "    paddings_enc = [(5,5,0,0)]\n",
    "    \n",
    "    out_lin_enc = [100,500]\n",
    "    dropout_enc = [0.2,0.2]\n",
    "    \n",
    "    out_lin_dec = [100,150]\n",
    "    dropout_dec = [0.2,0.2]\n",
    "    \n",
    "    layers_enc_pre_view = nn.ModuleList([nn.Conv1d(len(ORDER_LIST),out_conv_enc[0],kernels_enc[0],stride=1,dilation=dilations_enc[0]),\n",
    "                                nn.ELU(),\n",
    "                                nn.MaxPool1d(maxpools_enc[0],padding=0),\n",
    "                                nn.ZeroPad2d(paddings_enc[0]),\n",
    "                                nn.Conv1d(out_conv_enc[0],out_conv_enc[1],kernels_enc[1],stride=1,dilation=dilations_enc[1]),\n",
    "                                nn.ELU(),\n",
    "#                                 nn.MaxPool1d(4,padding=0),\n",
    "#                                 nn.ZeroPad2d((5,5,0,0)),\n",
    "#                                 nn.Conv1d(out_conv_enc[1],out_conv_enc[2],kernels_enc[2],stride=1,dilation=dilations_enc[2]),\n",
    "#                                 nn.ELU(),\n",
    "                                nn.MaxPool1d(maxpools_enc[1],padding=0)])\n",
    "    \n",
    "    inp_len = PRUNED_SEQ_LENGTH\n",
    "    paddings_enc.append((0,0,0,0))\n",
    "    for i in range(len(out_conv_enc)):\n",
    "      inp_len = conv_size_func(inp_len,dilations_enc[i],kernels_enc[i])\n",
    "      inp_len = inp_len//maxpools_enc[i]\n",
    "      inp_len += (paddings_enc[i][0]+paddings_enc[i][1])\n",
    "    \n",
    "    enc_view = inp_len*out_conv_enc[-1]\n",
    "    print('post-convolutional size is ', enc_view)\n",
    "    \n",
    "    layers_enc_post_view = nn.ModuleList([nn.Linear(enc_view,out_lin_enc[0]),\n",
    "                                          nn.Dropout(dropout_enc[0]),\n",
    "                                          nn.ELU(),\n",
    "                                          nn.Linear(out_lin_enc[0],out_lin_enc[1]),\n",
    "                                          nn.Dropout(dropout_enc[1]),\n",
    "                                          nn.ELU()])\n",
    "    \n",
    "    layers_dec = nn.ModuleList([nn.Linear(latent_dim,out_lin_dec[0]),\n",
    "                                nn.Dropout(dropout_dec[0]),\n",
    "                                nn.ELU(),\n",
    "                                nn.Linear(out_lin_dec[0],out_lin_dec[1]),\n",
    "                                nn.Dropout(dropout_dec[1]),\n",
    "                                nn.ELU(),\n",
    "                                nn.Linear(out_lin_dec[1],output_dim)])\n",
    "    \n",
    "    layers_ae = nn.ModuleList([nn.Linear(out_lin_enc[-1],latent_dim),nn.Linear(out_lin_enc[-1],latent_dim)])\n",
    "elif vae_type == 'rec':\n",
    "    univ_dropout = [0.2]*2\n",
    "    dropout_enc = univ_dropout\n",
    "    dropout_dec = univ_dropout\n",
    "    hid_size = [20,10]\n",
    "    dec_lin = False\n",
    "    \n",
    "    num_layers = 2\n",
    "    num_layers_dec = 2\n",
    "    bid = True\n",
    "    num_dirs = 2 if bid else 1\n",
    "    \n",
    "   \n",
    "    layers_enc = nn.ModuleList([nn.RNN(len(ORDER_LIST),hid_size[0],num_layers=num_layers,batch_first=True,dropout=univ_dropout[0],bidirectional=bid)])\n",
    "\n",
    "\n",
    "    if dec_lin:\n",
    "      layers_post_rec_enc = nn.ModuleList([nn.Linear(164,intermediate_dim),\n",
    "                                         nn.Dropout(dropout_enc[0]),\n",
    "                                         nn.ELU(),\n",
    "                                         nn.Linear(intermediate_dim,intermediate_dim),\n",
    "                                         nn.Dropout(dropout_enc[1]),\n",
    "                                         nn.ELU()]) # for now, not being used in rec model\n",
    "\n",
    "\n",
    "  #     layers_pre_rec_dec = nn.ModuleList([nn.Linear(latent_dim,100),\n",
    "  #                                         nn.Dropout(dropout_dec[0]),\n",
    "  #                                         nn.ELU()])\n",
    "  #     # 25 below bc bidirectional 2 layers means we have to divide 100 by 2*2\n",
    "  #     layers_dec = nn.ModuleList([nn.RNN(50,25,num_layers=2,batch_first=True,dropout=0.2,bidirectional=True)])\n",
    "  #     layers_post_rec_dec = nn.ModuleList([nn.Linear(25*2,len(ORDER_LIST))])\n",
    "\n",
    "  #     layers_ae = nn.ModuleList([nn.Linear(intermediate_dim,latent_dim),nn.Linear(intermediate_dim,latent_dim)])\n",
    "      layers_dec = nn.ModuleList([nn.Linear(latent_dim,intermediate_dim),\n",
    "                                  nn.Dropout(.2),\n",
    "                                  nn.ELU(),\n",
    "                                  nn.Linear(intermediate_dim,intermediate_dim*2),\n",
    "                                  nn.Dropout(.2),\n",
    "                                  nn.ELU(),\n",
    "                                  nn.Linear(intermediate_dim*2,output_dim)])\n",
    "      \n",
    "      layers_dec_post_rec = 0\n",
    "    \n",
    "      layers_ae = nn.ModuleList([nn.Linear(intermediate_dim,latent_dim),nn.Linear(intermediate_dim,latent_dim)])\n",
    "    \n",
    "    else: # dec_lin = False\n",
    "      layers_post_rec_enc = 0\n",
    "      \n",
    "      layers_dec = nn.ModuleList([nn.Linear(latent_dim,hid_size[1]),nn.RNN(len(ORDER_LIST),hid_size[1],num_layers=num_layers_dec,batch_first=True,dropout=univ_dropout[1],bidirectional=bid)])\n",
    "      \n",
    "      layers_dec_post_rec = nn.ModuleList([nn.Linear(hid_size[1]*num_dirs,len(ORDER_LIST))])\n",
    "      \n",
    "      layers_ae = nn.ModuleList([nn.Linear(hid_size[0],latent_dim),nn.Linear(hid_size[0],latent_dim)])\n",
    "      \n",
    "      "
   ]
  },
  {
   "cell_type": "code",
   "execution_count": null,
   "metadata": {
    "scrolled": true
   },
   "outputs": [
    {
     "name": "stdout",
     "output_type": "stream",
     "text": [
      "conv\n"
     ]
    }
   ],
   "source": [
    "losses_train = []\n",
    "losses_test = []\n",
    "accuracies_train = []\n",
    "accuracies_test = []\n",
    "xents_train = []\n",
    "xents_test = []\n",
    "kls_train = []\n",
    "kls_test = []\n",
    "\n",
    "if vae_type == 'full':\n",
    "    print (\"training full\")\n",
    "    model = VAE(layers_enc,layers_ae,layers_dec)\n",
    "\n",
    "    prams = list(model.parameters())\n",
    "\n",
    "    optimizer = torch.optim.Adam(prams, lr = 0.001)\n",
    "\n",
    "    x_train_data, x_val_data = train_test_split(x_train, test_size = 0.1)\n",
    "\n",
    "    ins_train = x_train_data.reshape(len(x_train_data)*PRUNED_SEQ_LENGTH,len(ORDER_LIST))\n",
    "    ins_train = torch.Tensor(ins_train)\n",
    "    ins_train = torch.argmax(ins_train,1)\n",
    "\n",
    "    ins_val = x_val_data.reshape(len(x_val_data)*PRUNED_SEQ_LENGTH,len(ORDER_LIST))\n",
    "    ins_val = torch.Tensor(ins_val)\n",
    "    ins_val = torch.argmax(ins_val,1)\n",
    "\n",
    "    for epoch in range(nb_epoch):\n",
    "        model.train()\n",
    "\n",
    "        train = np.random.permutation(x_train_data)\n",
    "        train = train.reshape(-1,batch_size,len(ORDER_LIST)*PRUNED_SEQ_LENGTH) # 1968)\n",
    "\n",
    "        train = torch.Tensor(train)\n",
    "\n",
    "        \n",
    "        \n",
    "        for batch in train:\n",
    "            out = model(batch)\n",
    "\n",
    "            batch = batch.reshape(batch_size*PRUNED_SEQ_LENGTH,len(ORDER_LIST))\n",
    "            batch = torch.argmax(batch,1)\n",
    "            out = out.reshape(batch_size*PRUNED_SEQ_LENGTH,len(ORDER_LIST))\n",
    "\n",
    "            loss = vae_loss(batch,out,model.z_mean,model.z_log_var)\n",
    "            \n",
    "            optimizer.zero_grad()\n",
    "            loss.backward()  \n",
    "            optimizer.step()\n",
    "            \n",
    "        model.eval()\n",
    "\n",
    "        out_train = model(torch.Tensor(x_train_data))\n",
    "        out_train = torch.Tensor(out_train)\n",
    "        out_train = out_train.reshape(len(x_train_data)*PRUNED_SEQ_LENGTH,len(ORDER_LIST))\n",
    "\n",
    "        classpreds_train = torch.argmax(out_train,dim=1)\n",
    "        bool_train = (classpreds_train==ins_train)\n",
    "        class_acc_train = bool_train.sum().item()/bool_train.shape[0]\n",
    "\n",
    "        out_val = model(torch.Tensor(x_val_data))\n",
    "        out_val = torch.Tensor(out_val)\n",
    "        out_val = out_val.reshape(len(x_val_data)*PRUNED_SEQ_LENGTH,len(ORDER_LIST))\n",
    "\n",
    "        classpreds_val = torch.argmax(out_val,dim=1)\n",
    "        bool_val = (classpreds_val==ins_val)\n",
    "        class_acc_val = bool_val.sum().item()/bool_val.shape[0]\n",
    "\n",
    "        loss_train = vae_loss(ins_train,out_train,model.z_mean,model.z_log_var)\n",
    "        loss_val = vae_loss(ins_val,out_val,model.z_mean,model.z_log_var)\n",
    "        \n",
    "        losses_train.append(loss_train)\n",
    "        losses_test.append(loss_val)\n",
    "        accuracies_train.append(class_acc_train)\n",
    "        accuracies_test.append(class_acc_val)\n",
    "        \n",
    "        print('Epoch %s | Training Loss: %s, Training Accuracy: %s, Validation Loss: %s, Validation Accuracy: %s'\n",
    "              %( epoch, loss_train.item(), class_acc_train, loss_val.item(), class_acc_val ) )\n",
    "\n",
    "elif vae_type == 'conv':\n",
    "    print (\"conv\")\n",
    "    model = VAE_conv(layers_enc_pre_view,enc_view,layers_enc_post_view,layers_ae,layers_dec)\n",
    "        \n",
    "    prams = list(model.parameters())\n",
    "\n",
    "    optimizer = torch.optim.Adam(prams, lr = 0.001)\n",
    "\n",
    "    x_train_data, x_val_data = train_test_split(x_train, test_size = 0.1)\n",
    "\n",
    "    ins_train = x_train_data.reshape(len(x_train_data)*PRUNED_SEQ_LENGTH,len(ORDER_LIST))\n",
    "    ins_train = torch.Tensor(ins_train)\n",
    "    ins_train = torch.argmax(ins_train,1)\n",
    "\n",
    "    ins_val = x_val_data.reshape(len(x_val_data)*PRUNED_SEQ_LENGTH,len(ORDER_LIST))\n",
    "    ins_val = torch.Tensor(ins_val)\n",
    "    ins_val = torch.argmax(ins_val,1)\n",
    "\n",
    "    for epoch in range(nb_epoch):\n",
    "        model.train()\n",
    "\n",
    "        train = np.random.permutation(x_train_data)\n",
    "        train = train.reshape(-1,batch_size,PRUNED_SEQ_LENGTH,len(ORDER_LIST))\n",
    "\n",
    "        train = torch.Tensor(train)\n",
    "        train = train.transpose(-2,-1)\n",
    "\n",
    "        for batch in train:\n",
    "            out = model(batch)\n",
    "\n",
    "            batch = batch.transpose(-2,-1).reshape(batch_size*PRUNED_SEQ_LENGTH,len(ORDER_LIST))\n",
    "            batch = torch.argmax(batch,1)\n",
    "            out = out.reshape(batch_size*PRUNED_SEQ_LENGTH,len(ORDER_LIST))\n",
    "                            \n",
    "            loss = vae_loss(batch,out,model.z_mean,model.z_log_var)\n",
    "\n",
    "            optimizer.zero_grad()\n",
    "            loss.backward()\n",
    "            optimizer.step()\n",
    "\n",
    "        model.eval()\n",
    "\n",
    "        out_train = model(torch.Tensor(x_train_data).reshape(-1,PRUNED_SEQ_LENGTH,len(ORDER_LIST)).transpose(-2,-1))\n",
    "        out_train = torch.Tensor(out_train)\n",
    "        out_train = out_train.reshape(len(x_train_data)*PRUNED_SEQ_LENGTH,len(ORDER_LIST))\n",
    "\n",
    "        classpreds_train = torch.argmax(out_train,dim=1)\n",
    "        bool_train = (classpreds_train==ins_train)\n",
    "        class_acc_train = bool_train.sum().item()/bool_train.shape[0]\n",
    "\n",
    "        out_val = model(torch.Tensor(x_val_data).reshape(-1,PRUNED_SEQ_LENGTH,len(ORDER_LIST)).transpose(-2,-1))\n",
    "        out_val = torch.Tensor(out_val)\n",
    "        out_val = out_val.reshape(len(x_val_data)*PRUNED_SEQ_LENGTH,len(ORDER_LIST))\n",
    "\n",
    "        classpreds_val = torch.argmax(out_val,dim=1)\n",
    "        bool_val = (classpreds_val==ins_val)\n",
    "        class_acc_val = bool_val.sum().item()/bool_val.shape[0]\n",
    "\n",
    "        loss_train = vae_loss(ins_train,out_train,model.z_mean,model.z_log_var)\n",
    "        loss_val = vae_loss(ins_val,out_val,model.z_mean,model.z_log_var)\n",
    "\n",
    "        losses_train.append(loss_train)\n",
    "        losses_test.append(loss_val)\n",
    "        accuracies_train.append(class_acc_train)\n",
    "        accuracies_test.append(class_acc_val)\n",
    "        \n",
    "        print('Epoch %s | Training Loss: %s, Training Accuracy: %s, Validation Loss: %s, Validation Accuracy: %s'\n",
    "              %( epoch, loss_train.item(), class_acc_train, loss_val.item(), class_acc_val ) )\n",
    "        \n",
    "elif vae_type == 'rec':\n",
    "    print (\"rec\")\n",
    "    if lang_mod:\n",
    "        print(\"language model training\")\n",
    "    else:\n",
    "        print(\"vae training\")\n",
    "    \n",
    "    alpha = 50000\n",
    "    beta = 0.005\n",
    "    print('KL annealing terms: alpha = {}, beta = {}'.format(alpha,beta))\n",
    "        \n",
    "    model = VAE_rec(layers_enc,layers_post_rec_enc,layers_ae,0,layers_dec,layers_dec_post_rec)\n",
    "    \n",
    "    if cuda:\n",
    "        model = model.cuda()\n",
    "    \n",
    "    prams = list(model.parameters())\n",
    "\n",
    "    optimizer = torch.optim.Adam(prams, lr = 0.01)\n",
    "\n",
    "    x_train_data, x_val_data = train_test_split(x_train, test_size = 0.1)\n",
    "    \n",
    "#     print('FAKE TRAINING SET TO ASSESS REC VALIDITY')\n",
    "#     x_train_data = np.array([[0,1,0,0,0,0,0,0,0,0,0,0,0,0,0,0,0,0,0,0,0,0,0,0]]*3690000).reshape(45000,1968)\n",
    "    \n",
    "#     import pdb; pdb.set_trace()\n",
    "    \n",
    "    ins_train = x_train_data.reshape(len(x_train_data)*PRUNED_SEQ_LENGTH,len(ORDER_LIST))\n",
    "    ins_train = torch.Tensor(ins_train)\n",
    "    ins_train = torch.argmax(ins_train,1)\n",
    "\n",
    "    ins_val = x_val_data.reshape(len(x_val_data)*PRUNED_SEQ_LENGTH,len(ORDER_LIST))\n",
    "    ins_val = torch.Tensor(ins_val)\n",
    "    ins_val = torch.argmax(ins_val,1)\n",
    "    \n",
    "    ins_train = create_tensor(ins_train,gpu=cuda)\n",
    "    ins_val = create_tensor(ins_val,gpu=cuda)\n",
    "    \n",
    "    \n",
    "    ## Printing model perf before\n",
    "    model.eval()\n",
    "            \n",
    "    out_train = model(create_tensor(torch.Tensor(x_train_data),gpu=cuda).reshape(-1,PRUNED_SEQ_LENGTH,len(ORDER_LIST)),False,lang_mod)\n",
    "    out_train = out_train.reshape(len(x_train_data)*PRUNED_SEQ_LENGTH,len(ORDER_LIST))\n",
    "\n",
    "    classpreds_train = torch.argmax(out_train,dim=1)\n",
    "    bool_train = (classpreds_train==ins_train)\n",
    "    class_acc_train = bool_train.sum().item()/bool_train.shape[0]\n",
    "\n",
    "    out_val = model(create_tensor(torch.Tensor(x_val_data),gpu=cuda).reshape(-1,PRUNED_SEQ_LENGTH,len(ORDER_LIST)),False,lang_mod)\n",
    "    out_val = out_val.reshape(len(x_val_data)*PRUNED_SEQ_LENGTH,len(ORDER_LIST))\n",
    "\n",
    "    classpreds_val = torch.argmax(out_val,dim=1)\n",
    "    bool_val = (classpreds_val==ins_val)\n",
    "    class_acc_val = bool_val.sum().item()/bool_val.shape[0]\n",
    "\n",
    "    loss_train,xent_train,kl_train = vae_loss(ins_train,out_train,model.z_mean,model.z_log_var)\n",
    "    kl_train = sigmoid(beta*(-alpha))*kl_train # annealing\n",
    "    loss_train = xent_train + kl_train # annealing\n",
    "    loss_val,xent_val,kl_val = vae_loss(ins_val,out_val,model.z_mean,model.z_log_var)\n",
    "    kl_val = sigmoid(beta*(-alpha))*kl_val # annealing\n",
    "    loss_val = xent_val + kl_val # annealing\n",
    "\n",
    "    losses_train.append(loss_train.item())\n",
    "    losses_test.append(loss_val.item())\n",
    "    accuracies_train.append(class_acc_train)\n",
    "    accuracies_test.append(class_acc_val)\n",
    "    xents_train.append(xent_train.item())\n",
    "    xents_test.append(xent_val.item())\n",
    "    kls_train.append(kl_train.item())\n",
    "    kls_test.append(kl_val.item())\n",
    "\n",
    "    print('Pre-training | Training Loss: %s, Training Accuracy: %s, Validation Loss: %s, Validation Accuracy: %s'\n",
    "          %( loss_train.item(), class_acc_train, loss_val.item(), class_acc_val ) )\n",
    "    \n",
    "    for epoch in range(nb_epoch):\n",
    "        model.train()\n",
    "\n",
    "        train = np.random.permutation(x_train_data)\n",
    "        train = train.reshape(-1,batch_size,PRUNED_SEQ_LENGTH,len(ORDER_LIST))\n",
    "\n",
    "        train = create_tensor(torch.Tensor(train),gpu=cuda)\n",
    "\n",
    "        xents = []\n",
    "        kls = []\n",
    "        \n",
    "        num_dum = -1\n",
    "\n",
    "        optimizer.zero_grad()\n",
    "        \n",
    "        for batch in train:\n",
    "            num_dum += 1\n",
    "            out = model(batch,True,lang_mod)\n",
    "            \n",
    "#             import pdb; pdb.set_trace()\n",
    "            batch = torch.argmax(batch,-1)\n",
    "            batch = batch.reshape(-1)\n",
    "                        \n",
    "            out = out.reshape(batch_size*PRUNED_SEQ_LENGTH,len(ORDER_LIST))\n",
    "\n",
    "            loss,xent,kl = vae_loss(batch,out,model.z_mean,model.z_log_var)\n",
    "            mult = epoch*len(x_train_data)/batch_size + num_dum # annealing\n",
    "            kl = sigmoid(beta*(mult-alpha))*kl # annealing\n",
    "            loss = xent + kl # annealing\n",
    "            if num_dum % 1000 == 0:\n",
    "                print((batch==torch.argmax(out,-1)).sum().item()/(batch_size*PRUNED_SEQ_LENGTH*1.0))\n",
    "            xents.append(xent)\n",
    "            kls.append(kl)\n",
    "\n",
    "            if lang_mod:\n",
    "                xent.backward()\n",
    "            else:\n",
    "                loss.backward()   \n",
    "            \n",
    "#         for layer, paramval in model.named_parameters():\n",
    "#             print(layer,paramval.grad)\n",
    "            \n",
    "        optimizer.step()\n",
    "            \n",
    "#         import pdb; pdb.set_trace()\n",
    "        print('xent mean is:',torch.stack(xents).mean().item())\n",
    "        print('kl mean is:',torch.stack(kls).mean().item())\n",
    "\n",
    "        model.eval()\n",
    "        \n",
    "#         import pdb; pdb.set_trace()\n",
    "        out_train = model(create_tensor(torch.Tensor(x_train_data),gpu=cuda).reshape(-1,PRUNED_SEQ_LENGTH,len(ORDER_LIST)),False,lang_mod)\n",
    "        out_train = out_train.reshape(len(x_train_data)*PRUNED_SEQ_LENGTH,len(ORDER_LIST))\n",
    "\n",
    "        classpreds_train = torch.argmax(out_train,dim=1)\n",
    "        bool_train = (classpreds_train==ins_train)\n",
    "        class_acc_train = bool_train.sum().item()/bool_train.shape[0]\n",
    "\n",
    "        out_val = model(create_tensor(torch.Tensor(x_val_data),gpu=cuda).reshape(-1,PRUNED_SEQ_LENGTH,len(ORDER_LIST)),False,lang_mod)\n",
    "        out_val = out_val.reshape(len(x_val_data)*PRUNED_SEQ_LENGTH,len(ORDER_LIST))\n",
    "\n",
    "        classpreds_val = torch.argmax(out_val,dim=1)\n",
    "        bool_val = (classpreds_val==ins_val)\n",
    "        class_acc_val = bool_val.sum().item()/bool_val.shape[0]\n",
    "\n",
    "        loss_train,xent_train,kl_train = vae_loss(ins_train,out_train,model.z_mean,model.z_log_var)\n",
    "        mult = epoch*len(x_train_data)/batch_size + num_dum # annealing\n",
    "        kl_train = sigmoid(beta*(mult-alpha))*kl_train # annealing\n",
    "        loss_train = xent_train + kl_train # annealing\n",
    "        loss_val,xent_val,kl_val = vae_loss(ins_val,out_val,model.z_mean,model.z_log_var)\n",
    "        kl_val = sigmoid(beta*(mult-alpha))*kl_val # annealing\n",
    "        loss_val = xent_val + kl_val # annealing\n",
    "        \n",
    "        losses_train.append(loss_train.item())\n",
    "        losses_test.append(loss_val.item())\n",
    "        accuracies_train.append(class_acc_train)\n",
    "        accuracies_test.append(class_acc_val)\n",
    "        xents_train.append(xent_train.item())\n",
    "        xents_test.append(xent_val.item())\n",
    "        kls_train.append(kl_train.item())\n",
    "        kls_test.append(kl_val.item())\n",
    "        \n",
    "        print(classpreds_train)\n",
    "        print(classpreds_val)\n",
    "        \n",
    "        print('Epoch %s | Training Loss: %s, Training Accuracy: %s, Validation Loss: %s, Validation Accuracy: %s'\n",
    "              %( epoch, loss_train.item(), class_acc_train, loss_val.item(), class_acc_val ) )"
   ]
  },
  {
   "cell_type": "code",
   "execution_count": null,
   "metadata": {},
   "outputs": [],
   "source": []
  },
  {
   "cell_type": "markdown",
   "metadata": {},
   "source": [
    "Let's explore the latent space"
   ]
  },
  {
   "cell_type": "code",
   "execution_count": 76,
   "metadata": {},
   "outputs": [],
   "source": [
    "fit_xtrain = model(torch.Tensor(x_train)).detach()\n",
    "z_means = model.z_mean.detach()"
   ]
  },
  {
   "cell_type": "code",
   "execution_count": 77,
   "metadata": {},
   "outputs": [
    {
     "data": {
      "image/png": "[encoded data removed]",
      "text/plain": [
       "<Figure size 432x288 with 1 Axes>"
      ]
     },
     "metadata": {},
     "output_type": "display_data"
    }
   ],
   "source": [
    "transposed_zmeans = np.array(z_means).transpose()\n",
    "\n",
    "plt.scatter(transposed_zmeans[0], transposed_zmeans[1], s = 1, linewidths = 0)\n",
    "plt.show()"
   ]
  },
  {
   "cell_type": "code",
   "execution_count": 78,
   "metadata": {},
   "outputs": [],
   "source": [
    "from sklearn.cluster import KMeans\n",
    "\n",
    "z_means_np = np.array(z_means)\n",
    "kmeans = KMeans(n_clusters=12, random_state=1).fit(z_means_np)"
   ]
  },
  {
   "cell_type": "code",
   "execution_count": 79,
   "metadata": {},
   "outputs": [
    {
     "data": {
      "image/png": "[encoded data removed]",
      "text/plain": [
       "<Figure size 864x864 with 1 Axes>"
      ]
     },
     "metadata": {},
     "output_type": "display_data"
    }
   ],
   "source": [
    "sample_points=len(z_means_np)\n",
    "\n",
    "latent_dim = 2\n",
    "fig = plt.figure(figsize=(12,12))\n",
    "counter=0\n",
    "cmap=kmeans.labels_\n",
    "for z1 in range(latent_dim):\n",
    "    for z2 in range(z1+1,latent_dim):\n",
    "        counter+=1\n",
    "        fig.add_subplot(latent_dim,latent_dim,counter)\n",
    "        plt.title(str(z1)+\"_\"+str(z2))\n",
    "        plt.scatter(z_means_np[:, z1][::-1], z_means_np[:, z2][::-1],c=cmap[::-1], s = 15, alpha=0.1,marker=\"o\")\n",
    "#         plt.scatter(z_means_np[:, z1][::-1], z_means_np[:, z2][::-1],c=\"y\" ,alpha=0.3,marker=\"o\")\n",
    "        plt.scatter(z_means_np[0][z1], z_means_np[0][z2],c=\"r\" ,alpha=1,s=40,marker=\"s\")\n",
    "        plt.xlabel(\"Latent dim\"+str(z1+1))\n",
    "        plt.ylabel(\"Latent dim\"+str(z2+1));\n",
    "plt.savefig(\"Try2_originalDropout.png\")\n"
   ]
  },
  {
   "cell_type": "code",
   "execution_count": 81,
   "metadata": {},
   "outputs": [
    {
     "data": {
      "image/png": "[encoded data removed]",
      "text/plain": [
       "<Figure size 432x288 with 1 Axes>"
      ]
     },
     "metadata": {},
     "output_type": "display_data"
    }
   ],
   "source": [
    "plt.pcolor(x_train[0].reshape(PRUNED_SEQ_LENGTH, len(ORDER_LIST)).transpose(1, 0))\n",
    "plt.show()"
   ]
  },
  {
   "cell_type": "markdown",
   "metadata": {},
   "source": [
    "# Training a classifier over the latent space"
   ]
  },
  {
   "cell_type": "code",
   "execution_count": 82,
   "metadata": {},
   "outputs": [],
   "source": [
    "fit_total = model(torch.Tensor(sarkisyan_data)).detach()\n",
    "latent_data = model.z_mean.detach()"
   ]
  },
  {
   "cell_type": "code",
   "execution_count": 83,
   "metadata": {},
   "outputs": [],
   "source": [
    "X_train, X_test, y_train, y_test = train_test_split(np.array(latent_data), sarkisyan['quantitative_function'], \n",
    "                                                   test_size = 0.3, random_state=10)"
   ]
  },
  {
   "cell_type": "code",
   "execution_count": 84,
   "metadata": {},
   "outputs": [
    {
     "data": {
      "text/plain": [
       "0.03065458352007444"
      ]
     },
     "execution_count": 84,
     "metadata": {},
     "output_type": "execute_result"
    }
   ],
   "source": [
    "latentReg = RandomForestRegressor()\n",
    "latentReg.fit(X_train, y_train)\n",
    "# latentReg.predict(X_test)\n",
    "latentReg.score(X_test, y_test)"
   ]
  },
  {
   "cell_type": "code",
   "execution_count": 85,
   "metadata": {},
   "outputs": [
    {
     "data": {
      "image/png": "[encoded data removed]",
      "text/plain": [
       "<Figure size 432x288 with 1 Axes>"
      ]
     },
     "metadata": {},
     "output_type": "display_data"
    }
   ],
   "source": [
    "plt.scatter(X_train[:,0], y_train)\n",
    "plt.show()"
   ]
  },
  {
   "cell_type": "code",
   "execution_count": 86,
   "metadata": {},
   "outputs": [
    {
     "data": {
      "image/png": "[encoded data removed]",
      "text/plain": [
       "<Figure size 432x288 with 1 Axes>"
      ]
     },
     "metadata": {},
     "output_type": "display_data"
    }
   ],
   "source": [
    "plt.hist(y_train)\n",
    "plt.show()"
   ]
  },
  {
   "cell_type": "code",
   "execution_count": 87,
   "metadata": {},
   "outputs": [
    {
     "data": {
      "text/plain": [
       "0.6496293909120207"
      ]
     },
     "execution_count": 87,
     "metadata": {},
     "output_type": "execute_result"
    }
   ],
   "source": [
    "sarkisyan['function'] = sarkisyan['quantitative_function'] > 0.5\n",
    "\n",
    "X_train, X_test, y_train, y_test = train_test_split(np.array(latent_data), sarkisyan['function'], \n",
    "                                                   test_size = 0.3, random_state=10)\n",
    "\n",
    "latentClf = RandomForestClassifier()\n",
    "latentClf.fit(X_train, y_train)\n",
    "# latentReg.predict(X_test)\n",
    "latentClf.score(X_test, y_test)"
   ]
  },
  {
   "cell_type": "code",
   "execution_count": 88,
   "metadata": {},
   "outputs": [
    {
     "data": {
      "text/plain": [
       "0.5817461084791646"
      ]
     },
     "execution_count": 88,
     "metadata": {},
     "output_type": "execute_result"
    }
   ],
   "source": [
    "np.sum(sarkisyan['function'])/len(sarkisyan)"
   ]
  },
  {
   "cell_type": "code",
   "execution_count": null,
   "metadata": {},
   "outputs": [],
   "source": []
  },
  {
   "cell_type": "code",
   "execution_count": null,
   "metadata": {},
   "outputs": [],
   "source": []
  },
  {
   "cell_type": "markdown",
   "metadata": {},
   "source": [
    "## Calculating P(X)"
   ]
  },
  {
   "cell_type": "code",
   "execution_count": 808,
   "metadata": {},
   "outputs": [],
   "source": [
    "m = torch.nn.Softmax()"
   ]
  },
  {
   "cell_type": "code",
   "execution_count": 826,
   "metadata": {},
   "outputs": [
    {
     "name": "stderr",
     "output_type": "stream",
     "text": [
      "//anaconda/envs/ML_env/lib/python3.6/site-packages/ipykernel_launcher.py:1: UserWarning: Implicit dimension choice for softmax has been deprecated. Change the call to include dim=X as an argument.\n",
      "  \"\"\"Entry point for launching an IPython kernel.\n"
     ]
    }
   ],
   "source": [
    "reshaped_fit_sarkisyan = np.array(m(fit_total.reshape(51715 * 238, 24)).reshape(51715, 238, 24).transpose(2, 1))"
   ]
  },
  {
   "cell_type": "code",
   "execution_count": 817,
   "metadata": {},
   "outputs": [
    {
     "data": {
      "text/plain": [
       "<matplotlib.collections.PolyCollection at 0x136e96e10>"
      ]
     },
     "execution_count": 817,
     "metadata": {},
     "output_type": "execute_result"
    },
    {
     "data": {
      "image/png": "[encoded data removed]",
      "text/plain": [
       "<Figure size 432x288 with 1 Axes>"
      ]
     },
     "metadata": {
      "needs_background": "light"
     },
     "output_type": "display_data"
    }
   ],
   "source": [
    "plt.pcolor(reshaped_fit_sarkisyan[0])"
   ]
  },
  {
   "cell_type": "code",
   "execution_count": 818,
   "metadata": {},
   "outputs": [
    {
     "data": {
      "text/plain": [
       "torch.Size([51715, 5712])"
      ]
     },
     "execution_count": 818,
     "metadata": {},
     "output_type": "execute_result"
    }
   ],
   "source": [
    "fit_total.shape"
   ]
  },
  {
   "cell_type": "code",
   "execution_count": 820,
   "metadata": {},
   "outputs": [
    {
     "data": {
      "text/plain": [
       "24"
      ]
     },
     "execution_count": 820,
     "metadata": {},
     "output_type": "execute_result"
    }
   ],
   "source": [
    "len(ORDER_LIST)"
   ]
  },
  {
   "cell_type": "code",
   "execution_count": 823,
   "metadata": {},
   "outputs": [
    {
     "data": {
      "text/plain": [
       "array([[2.19017694e-01, 1.76381731e-02, 2.05365546e-04, ...,\n",
       "        5.06741362e-02, 4.96158629e-02, 7.01698263e-02],\n",
       "       [3.84455011e-10, 1.70342977e-11, 1.67956777e-13, ...,\n",
       "        3.04854793e-13, 2.42755678e-12, 2.80067300e-12],\n",
       "       [6.25988012e-11, 4.45702738e-10, 2.33662843e-11, ...,\n",
       "        6.18295471e-12, 2.93730308e-13, 1.39405531e-11],\n",
       "       ...,\n",
       "       [2.01384164e-03, 3.60576881e-11, 2.95358245e-08, ...,\n",
       "        9.49057519e-01, 6.34275699e-12, 3.52582664e-12],\n",
       "       [7.59836029e-11, 1.84866427e-11, 4.35174631e-11, ...,\n",
       "        7.79992231e-11, 1.80350901e-11, 1.41240556e-10],\n",
       "       [9.00744640e-13, 2.10846407e-11, 2.44172479e-04, ...,\n",
       "        7.79476588e-10, 7.32273920e-12, 5.61766216e-13]])"
      ]
     },
     "execution_count": 823,
     "metadata": {},
     "output_type": "execute_result"
    }
   ],
   "source": [
    "digit_wt"
   ]
  },
  {
   "cell_type": "code",
   "execution_count": 833,
   "metadata": {},
   "outputs": [
    {
     "name": "stdout",
     "output_type": "stream",
     "text": [
      "Spearman SpearmanrResult(correlation=0.0037379544228609103, pvalue=0.39531402980057295)\n",
      "Pearson (0.006067801511975757, 0.1676357173445102)\n",
      "------------------------------\n",
      "Spearman SpearmanrResult(correlation=0.0037190778438605876, pvalue=0.3977049025277771)\n",
      "Pearson (0.006060601648830167, 0.16814051883535286)\n",
      "------------------------------\n",
      "Spearman SpearmanrResult(correlation=0.0037039855461491033, pvalue=0.39962272099680085)\n",
      "Pearson (0.005919161490409741, 0.17829002187402768)\n"
     ]
    }
   ],
   "source": [
    "sample_size=len(fit_total)\n",
    "sample_for_averging_size=100\n",
    "sequence_size=PRUNED_SEQ_LENGTH\n",
    "digit_size = len(ORDER_LIST)\n",
    "\n",
    "digit = reshaped_fit_sarkisyan[0]#fit_xtrain_softmax_reshaped[0]\n",
    "digit_wt = digit\n",
    "digit_wt = normalize(digit,axis=0, norm='l1')\n",
    "# print (digit_wt)\n",
    "\n",
    "\n",
    "wt_prob=compute_log_probability(reshaped_fit_sarkisyan[0].reshape(digit_size, sequence_size),digit_wt)\n",
    "#print (\"wt_log_prob: \", wt_prob)\n",
    "\n",
    "wt_probs=[]\n",
    "digit_avg=np.zeros((digit_size, sequence_size))\n",
    "\n",
    "\n",
    "sample_indices=random.sample(range(sample_size),sample_for_averging_size)\n",
    "\n",
    "counter=0\n",
    "for sample in sample_indices:\n",
    "    digit = reshaped_fit_sarkisyan[sample]\n",
    "#     print (digit)\n",
    "#     print (digit_avg)\n",
    "#     digit_wt_i = normalize(digit,axis=0, norm='l1')\n",
    "    digit_wt_i = digit\n",
    "    \n",
    "#     print (digit_wt_i)\n",
    "    \n",
    "    digit_avg+=np.array(digit_wt_i) * 1. / sample_for_averging_size\n",
    "    \n",
    "    wt_p=compute_log_probability(reshaped_fit_sarkisyan[sample].reshape(digit_size, sequence_size),digit_wt_i)\n",
    "    wt_probs.append(wt_p)\n",
    "    counter+=1\n",
    "    \n",
    "average_wt_p=np.mean(wt_probs)\n",
    "\n",
    "fitnesses_vs_wt=[]\n",
    "fitnesses=[] #first plug in just the sequences\n",
    "fitnesses_vs_avg=[] \n",
    "\n",
    "for sample in range(1,sample_size):\n",
    "    digit = reshaped_fit_sarkisyan[sample]\n",
    "#     digit = normalize(digit,axis=0, norm='l1')\n",
    "    \n",
    "    fitness=compute_log_probability(reshaped_fit_sarkisyan[sample].reshape(digit_size, sequence_size),digit)-wt_prob\n",
    "    fitnesses.append(fitness)\n",
    "    \n",
    "    fitness=compute_log_probability(reshaped_fit_sarkisyan[sample].reshape(digit_size, sequence_size),digit_wt)-wt_prob\n",
    "    fitnesses_vs_wt.append(fitness)\n",
    "    \n",
    "    fitness=compute_log_probability(reshaped_fit_sarkisyan[sample].reshape(digit_size, sequence_size),digit_avg)-average_wt_p\n",
    "    fitnesses_vs_avg.append(fitness)\n",
    "    \n",
    "    \n",
    "print (\"Spearman\",spearmanr(fitnesses_vs_avg,sarkisyan['quantitative_function'][:sample_size-1]))\n",
    "print (\"Pearson\", pearsonr(fitnesses_vs_avg,sarkisyan['quantitative_function'][:sample_size-1]))\n",
    "print ('------------------------------')\n",
    "print (\"Spearman\",spearmanr(fitnesses_vs_wt,sarkisyan['quantitative_function'][:sample_size-1]))\n",
    "print (\"Pearson\", pearsonr(fitnesses_vs_wt,sarkisyan['quantitative_function'][:sample_size-1]))\n",
    "print ('------------------------------')\n",
    "print (\"Spearman\",spearmanr(fitnesses,sarkisyan['quantitative_function'][:sample_size-1]))\n",
    "print (\"Pearson\", pearsonr(fitnesses,sarkisyan['quantitative_function'][:sample_size-1]))"
   ]
  },
  {
   "cell_type": "code",
   "execution_count": null,
   "metadata": {},
   "outputs": [],
   "source": [
    "sample_size=len(fit_total)\n",
    "sample_for_averging_size=100\n",
    "sequence_size=PRUNED_SEQ_LENGTH\n",
    "digit_size = len(ORDER_LIST)\n",
    "\n",
    "digit = reshaped_fit_sarkisyan[0]#fit_xtrain_softmax_reshaped[0]\n",
    "digit_wt = digit\n",
    "digit_wt = normalize(digit,axis=0, norm='l1')\n",
    "# print (digit_wt)\n",
    "\n",
    "\n",
    "wt_prob=compute_log_probability(reshaped_fit_sarkisyan[0].reshape(digit_size, sequence_size),digit_wt)\n",
    "\n",
    "wt_probs=[]\n",
    "digit_avg=np.zeros((digit_size, sequence_size))\n",
    "\n",
    "\n",
    "sample_indices=random.sample(range(sample_size),sample_for_averging_size)\n",
    "\n",
    "counter=0\n",
    "for sample in sample_indices:\n",
    "    digit = reshaped_fit_sarkisyan[sample]\n",
    "#     print (digit)\n",
    "#     print (digit_avg)\n",
    "#     digit_wt_i = normalize(digit,axis=0, norm='l1')\n",
    "    digit_wt_i = digit\n",
    "    \n",
    "#     print (digit_wt_i)\n",
    "    \n",
    "    digit_avg+=np.array(digit_wt_i) * 1. / sample_for_averging_size\n",
    "    \n",
    "    wt_p=compute_log_probability(reshaped_fit_sarkisyan[sample].reshape(digit_size, sequence_size),digit_wt_i)\n",
    "    wt_probs.append(wt_p)\n",
    "    counter+=1\n",
    "    \n",
    "average_wt_p=np.mean(wt_probs)\n",
    "\n",
    "fitnesses_vs_wt=[]\n",
    "fitnesses=[] #first plug in just the sequences\n",
    "fitnesses_vs_avg=[] \n",
    "\n",
    "for sample in range(1,sample_size):\n",
    "    digit = reshaped_fit_sarkisyan[sample]\n",
    "#     digit = normalize(digit,axis=0, norm='l1')\n",
    "    \n",
    "    fitness=compute_log_probability(reshaped_fit_sarkisyan[sample].reshape(digit_size, sequence_size),digit)-wt_prob\n",
    "    fitnesses.append(fitness)\n",
    "    \n",
    "    fitness=compute_log_probability(reshaped_fit_sarkisyan[sample].reshape(digit_size, sequence_size),digit_wt)-wt_prob\n",
    "    fitnesses_vs_wt.append(fitness)\n",
    "    \n",
    "    fitness=compute_log_probability(reshaped_fit_sarkisyan[sample].reshape(digit_size, sequence_size),digit_avg)-average_wt_p\n",
    "    fitnesses_vs_avg.append(fitness)\n",
    "    \n",
    "    \n",
    "print (\"Spearman\",spearmanr(fitnesses_vs_avg,sarkisyan['quantitative_function'][:sample_size-1]))\n",
    "print (\"Pearson\", pearsonr(fitnesses_vs_avg,sarkisyan['quantitative_function'][:sample_size-1]))\n",
    "print ('------------------------------')\n",
    "print (\"Spearman\",spearmanr(fitnesses_vs_wt,sarkisyan['quantitative_function'][:sample_size-1]))\n",
    "print (\"Pearson\", pearsonr(fitnesses_vs_wt,sarkisyan['quantitative_function'][:sample_size-1]))\n",
    "print ('------------------------------')\n",
    "print (\"Spearman\",spearmanr(fitnesses,sarkisyan['quantitative_function'][:sample_size-1]))\n",
    "print (\"Pearson\", pearsonr(fitnesses,sarkisyan['quantitative_function'][:sample_size-1]))"
   ]
  },
  {
   "cell_type": "code",
   "execution_count": 835,
   "metadata": {},
   "outputs": [
    {
     "data": {
      "text/plain": [
       "<matplotlib.collections.PathCollection at 0x1cd38e2b0>"
      ]
     },
     "execution_count": 835,
     "metadata": {},
     "output_type": "execute_result"
    },
    {
     "data": {
      "image/png": "[encoded data removed]",
      "text/plain": [
       "<Figure size 432x288 with 1 Axes>"
      ]
     },
     "metadata": {
      "needs_background": "light"
     },
     "output_type": "display_data"
    }
   ],
   "source": [
    "plt.scatter(fitnesses_vs_wt, sarkisyan['quantitative_function'][1:sample_size])"
   ]
  },
  {
   "cell_type": "code",
   "execution_count": 825,
   "metadata": {},
   "outputs": [
    {
     "ename": "AttributeError",
     "evalue": "'Tensor' object has no attribute 'T'",
     "output_type": "error",
     "traceback": [
      "\u001b[0;31m---------------------------------------------------------------------------\u001b[0m",
      "\u001b[0;31mAttributeError\u001b[0m                            Traceback (most recent call last)",
      "\u001b[0;32m<ipython-input-825-69f99acea2d3>\u001b[0m in \u001b[0;36m<module>\u001b[0;34m\u001b[0m\n\u001b[0;32m----> 1\u001b[0;31m \u001b[0mreshaped_fit_sarkisyan\u001b[0m\u001b[0;34m[\u001b[0m\u001b[0;36m0\u001b[0m\u001b[0;34m]\u001b[0m\u001b[0;34m.\u001b[0m\u001b[0mreshape\u001b[0m\u001b[0;34m(\u001b[0m\u001b[0mdigit_size\u001b[0m\u001b[0;34m,\u001b[0m \u001b[0msequence_size\u001b[0m\u001b[0;34m)\u001b[0m\u001b[0;34m.\u001b[0m\u001b[0mT\u001b[0m\u001b[0;34m\u001b[0m\u001b[0;34m\u001b[0m\u001b[0m\n\u001b[0m",
      "\u001b[0;31mAttributeError\u001b[0m: 'Tensor' object has no attribute 'T'"
     ]
    }
   ],
   "source": [
    "reshaped_fit_sarkisyan[0].reshape(digit_size, sequence_size).T"
   ]
  },
  {
   "cell_type": "code",
   "execution_count": null,
   "metadata": {},
   "outputs": [],
   "source": []
  }
 ],
 "metadata": {
  "anaconda-cloud": {},
  "kernelspec": {
   "display_name": "Python 3",
   "language": "python",
   "name": "python3"
  },
  "language_info": {
   "codemirror_mode": {
    "name": "ipython",
    "version": 3
   },
   "file_extension": ".py",
   "mimetype": "text/x-python",
   "name": "python",
   "nbconvert_exporter": "python",
   "pygments_lexer": "ipython3",
   "version": "3.5.3"
  }
 },
 "nbformat": 4,
 "nbformat_minor": 1
}
