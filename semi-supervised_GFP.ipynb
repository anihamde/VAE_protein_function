{
 "cells": [
  {
   "cell_type": "markdown",
   "metadata": {},
   "source": [
    "### Using a Variational Auto-encoder to predict protein fitness from evolutionary data\n",
    "\n",
    "July 20, 2017\n",
    "### Sam Sinai and Eric Kelsic\n",
    "\n",
    "\n",
    "## For the blog post associated with this notebook see [this post](https://samsinai.github.io/jekyll/update/2017/08/14/Using-a-Variational-Autoencoder-to-predict-protein-function.html). \n",
    "\n",
    "\n",
    "This notebook it organized in 3 sections. In section 1 we show our workflow for pre-processing the biological data. We then train the model on the alignment data in section 2. In section 3 we compare the predictions of the model on the [PABP yeast](https://www.ncbi.nlm.nih.gov/pmc/articles/PMC3851721/) dataset. In section 4 we report the results from analyzing multiple other datasets. Finally we pose some questions with regards to improving the model for interested researcher."
   ]
  },
  {
   "cell_type": "code",
   "execution_count": 1,
   "metadata": {},
   "outputs": [
    {
     "data": {
      "text/plain": [
       "'/usr/bin/python3'"
      ]
     },
     "execution_count": 1,
     "metadata": {},
     "output_type": "execute_result"
    }
   ],
   "source": [
    "import sys\n",
    "\n",
    "sys.executable"
   ]
  },
  {
   "cell_type": "code",
   "execution_count": 1,
   "metadata": {},
   "outputs": [],
   "source": [
    "# !/usr/bin/python3 -m pip install Bio\n",
    "# !/usr/bin/python3 -m pip install biopython\n",
    "# !/usr/bin/python3 -m pip install umap-learn\n",
    "# !/usr/bin/python3 -m pip install torch"
   ]
  },
  {
   "cell_type": "code",
   "execution_count": 1,
   "metadata": {},
   "outputs": [],
   "source": [
    "# Generic imports\n",
    "from __future__ import print_function\n",
    "%matplotlib inline\n",
    "import matplotlib.pyplot as plt\n",
    "import numpy as np\n",
    "import pandas as pd\n",
    "import math,random,re\n",
    "import time\n",
    "from sklearn.decomposition import PCA\n",
    "\n",
    "from Bio import SeqIO"
   ]
  },
  {
   "cell_type": "code",
   "execution_count": 2,
   "metadata": {},
   "outputs": [],
   "source": [
    "#Machine learning/Stats imports \n",
    "from scipy.stats import norm\n",
    "from scipy.stats import spearmanr,pearsonr\n",
    "from sklearn.preprocessing import normalize\n",
    "from sklearn.model_selection import train_test_split\n",
    "import torch\n",
    "import torch.nn as nn\n",
    "import torch.nn.functional as F\n",
    "from torch.autograd import Variable\n",
    "import torch.distributions as D"
   ]
  },
  {
   "cell_type": "code",
   "execution_count": 3,
   "metadata": {},
   "outputs": [],
   "source": [
    "from sklearn.ensemble import RandomForestRegressor\n",
    "from sklearn.ensemble import RandomForestClassifier\n",
    "\n",
    "from sklearn.model_selection import train_test_split"
   ]
  },
  {
   "cell_type": "code",
   "execution_count": 4,
   "metadata": {},
   "outputs": [],
   "source": [
    "from models import *"
   ]
  },
  {
   "cell_type": "code",
   "execution_count": 5,
   "metadata": {},
   "outputs": [],
   "source": [
    "import umap"
   ]
  },
  {
   "cell_type": "code",
   "execution_count": 6,
   "metadata": {},
   "outputs": [],
   "source": [
    "import warnings\n",
    "warnings.simplefilter(action='ignore', category=FutureWarning)"
   ]
  },
  {
   "cell_type": "markdown",
   "metadata": {},
   "source": [
    "## 1.  Data pre-processing\n",
    "\n",
    "Defining the alphabet that is used for Amino-Acids throughout."
   ]
  },
  {
   "cell_type": "markdown",
   "metadata": {},
   "source": [
    "These are helper functions to clean and process data. "
   ]
  },
  {
   "cell_type": "code",
   "execution_count": 7,
   "metadata": {},
   "outputs": [],
   "source": [
    "%reload_ext autoreload\n",
    "%autoreload 1\n",
    "from helper_tools import *\n",
    "from helper_tools_for_plotting import *"
   ]
  },
  {
   "cell_type": "markdown",
   "metadata": {},
   "source": [
    "Import the alignment data:"
   ]
  },
  {
   "cell_type": "code",
   "execution_count": 8,
   "metadata": {
    "scrolled": true
   },
   "outputs": [],
   "source": [
    "sarkisyan=pd.read_csv(\"sarkisyan.csv\")"
   ]
  },
  {
   "cell_type": "code",
   "execution_count": 9,
   "metadata": {},
   "outputs": [],
   "source": [
    "seqs = []\n",
    "for record in SeqIO.parse(\"aligned_gfp.fasta\", \"fasta\"):\n",
    "    seqs.append(\"\".join(record.seq))\n",
    "\n",
    "seqs.append(seqs[0])\n",
    "\n",
    "data = pd.DataFrame({\"sequence\": seqs})"
   ]
  },
  {
   "cell_type": "code",
   "execution_count": 10,
   "metadata": {},
   "outputs": [],
   "source": [
    "seq_uniprot = []\n",
    "for record in SeqIO.parse(\"aligned_gfp_uniprot.fasta\", \"fasta\"):\n",
    "    seq_uniprot.append(\"\".join(record.seq))\n",
    "\n",
    "data_uniprot = pd.DataFrame({\"sequence\": seq_uniprot})"
   ]
  },
  {
   "cell_type": "code",
   "execution_count": 11,
   "metadata": {},
   "outputs": [],
   "source": [
    "seq_together = seqs.copy()\n",
    "for record in SeqIO.parse(\"aligned_gfp_uniprot.fasta\", \"fasta\"):\n",
    "    seq_together.append(\"\".join(record.seq))\n",
    "\n",
    "data_together = pd.DataFrame({\"sequence\": seq_together})"
   ]
  },
  {
   "cell_type": "code",
   "execution_count": 12,
   "metadata": {},
   "outputs": [],
   "source": [
    "data = data_together.copy()"
   ]
  },
  {
   "cell_type": "code",
   "execution_count": 13,
   "metadata": {},
   "outputs": [
    {
     "data": {
      "text/plain": [
       "'MSKGEELFTGVVPILVELDGDVNGHKFSVSGEGEGDATYGKLTLKFICTTGKLPVPWPTLVTTLT--VQCFSRYPDHMKQHDFFKSAMPEGYVQERTIFFKDDGNYKTRAEVKFEGDTLVNRIELKGIDFKEDGNILGHKLEYNYNSHNVYIMADKQKNGIKVNFKIRHNIEDGSVQLADHYQQNTPIGDGPVLLPDNHYLSTQSALSKDPNEKRDHMVLLEFVTAAGITHGMDELYK'"
      ]
     },
     "execution_count": 13,
     "metadata": {},
     "output_type": "execute_result"
    }
   ],
   "source": [
    "data.iloc[0][\"sequence\"]"
   ]
  },
  {
   "cell_type": "markdown",
   "metadata": {},
   "source": [
    "Let's see how long the sequence is"
   ]
  },
  {
   "cell_type": "code",
   "execution_count": 14,
   "metadata": {},
   "outputs": [
    {
     "name": "stdout",
     "output_type": "stream",
     "text": [
      "length of sequence: 238\n",
      "sample sequence:  MSKGEELFTGVVPILVELDGDVNGHKFSVSGEGEGDATYGKLTLKFICTTGKLPVPWPTLVTTLT--VQCFSRYPDHMKQHDFFKSAMPEGYVQERTIFFKDDGNYKTRAEVKFEGDTLVNRIELKGIDFKEDGNILGHKLEYNYNSHNVYIMADKQKNGIKVNFKIRHNIEDGSVQLADHYQQNTPIGDGPVLLPDNHYLSTQSALSKDPNEKRDHMVLLEFVTAAGITHGMDELYK\n"
     ]
    }
   ],
   "source": [
    "print (\"length of sequence:\", len(data.iloc[0][\"sequence\"]))#, len(data.iloc[0][\"seq\"]))\n",
    "print (\"sample sequence: \", data.iloc[0][\"sequence\"])"
   ]
  },
  {
   "cell_type": "markdown",
   "metadata": {},
   "source": [
    "We are only really interested in the columns that do align. This means that for every column that we include, at least 50% of sequences are not gaps. Note that this threshold is imposed by the alignment parameters loaded above. So let's make a column for that. Meanwhile, we keep track of the indices that did align."
   ]
  },
  {
   "cell_type": "code",
   "execution_count": 15,
   "metadata": {},
   "outputs": [
    {
     "data": {
      "text/html": [
       "<div>\n",
       "<style scoped>\n",
       "    .dataframe tbody tr th:only-of-type {\n",
       "        vertical-align: middle;\n",
       "    }\n",
       "\n",
       "    .dataframe tbody tr th {\n",
       "        vertical-align: top;\n",
       "    }\n",
       "\n",
       "    .dataframe thead th {\n",
       "        text-align: right;\n",
       "    }\n",
       "</style>\n",
       "<table border=\"1\" class=\"dataframe\">\n",
       "  <thead>\n",
       "    <tr style=\"text-align: right;\">\n",
       "      <th></th>\n",
       "      <th>sequence</th>\n",
       "      <th>seq</th>\n",
       "    </tr>\n",
       "  </thead>\n",
       "  <tbody>\n",
       "    <tr>\n",
       "      <th>0</th>\n",
       "      <td>MSKGEELFTGVVPILVELDGDVNGHKFSVSGEGEGDATYGKLTLKF...</td>\n",
       "      <td>MSKGEELFTGVVPILVELDGDVNGHKFSVSGEGEGDATYGKLTLKF...</td>\n",
       "    </tr>\n",
       "    <tr>\n",
       "      <th>1</th>\n",
       "      <td>MSKGEELFTGVVPILVELDGDVNGHKFSVSGEGEGDATYGKLTLKF...</td>\n",
       "      <td>MSKGEELFTGVVPILVELDGDVNGHKFSVSGEGEGDATYGKLTLKF...</td>\n",
       "    </tr>\n",
       "    <tr>\n",
       "      <th>2</th>\n",
       "      <td>MSKGEELFTGVVPILVELDGDVNGHKFSVSGEGEGDATYGKLTLKF...</td>\n",
       "      <td>MSKGEELFTGVVPILVELDGDVNGHKFSVSGEGEGDATYGKLTLKF...</td>\n",
       "    </tr>\n",
       "    <tr>\n",
       "      <th>3</th>\n",
       "      <td>MSKGEELFTGVVPILVELDGDVNGHKFSVSGEGEGDATYGKLTLKF...</td>\n",
       "      <td>MSKGEELFTGVVPILVELDGDVNGHKFSVSGEGEGDATYGKLTLKF...</td>\n",
       "    </tr>\n",
       "    <tr>\n",
       "      <th>4</th>\n",
       "      <td>MSKGEELFTGVVPILVELDGDVNGHKFSVSGEGEGDATYGKLTLKF...</td>\n",
       "      <td>MSKGEELFTGVVPILVELDGDVNGHKFSVSGEGEGDATYGKLTLKF...</td>\n",
       "    </tr>\n",
       "  </tbody>\n",
       "</table>\n",
       "</div>"
      ],
      "text/plain": [
       "                                            sequence  \\\n",
       "0  MSKGEELFTGVVPILVELDGDVNGHKFSVSGEGEGDATYGKLTLKF...   \n",
       "1  MSKGEELFTGVVPILVELDGDVNGHKFSVSGEGEGDATYGKLTLKF...   \n",
       "2  MSKGEELFTGVVPILVELDGDVNGHKFSVSGEGEGDATYGKLTLKF...   \n",
       "3  MSKGEELFTGVVPILVELDGDVNGHKFSVSGEGEGDATYGKLTLKF...   \n",
       "4  MSKGEELFTGVVPILVELDGDVNGHKFSVSGEGEGDATYGKLTLKF...   \n",
       "\n",
       "                                                 seq  \n",
       "0  MSKGEELFTGVVPILVELDGDVNGHKFSVSGEGEGDATYGKLTLKF...  \n",
       "1  MSKGEELFTGVVPILVELDGDVNGHKFSVSGEGEGDATYGKLTLKF...  \n",
       "2  MSKGEELFTGVVPILVELDGDVNGHKFSVSGEGEGDATYGKLTLKF...  \n",
       "3  MSKGEELFTGVVPILVELDGDVNGHKFSVSGEGEGDATYGKLTLKF...  \n",
       "4  MSKGEELFTGVVPILVELDGDVNGHKFSVSGEGEGDATYGKLTLKF...  "
      ]
     },
     "execution_count": 15,
     "metadata": {},
     "output_type": "execute_result"
    }
   ],
   "source": [
    "indices=index_of_non_lower_case_dot(data.iloc[0][\"sequence\"])\n",
    "data[\"seq\"]=list(map(prune_seq,data[\"sequence\"]))\n",
    "data.head()"
   ]
  },
  {
   "cell_type": "markdown",
   "metadata": {},
   "source": [
    "Let's see how many columns remained. "
   ]
  },
  {
   "cell_type": "code",
   "execution_count": 16,
   "metadata": {},
   "outputs": [
    {
     "name": "stdout",
     "output_type": "stream",
     "text": [
      "pruned sequence length: 238\n"
     ]
    }
   ],
   "source": [
    "print (\"pruned sequence length:\", len(data.iloc[0][\"seq\"]))\n",
    "PRUNED_SEQ_LENGTH=len(data.iloc[0][\"seq\"])"
   ]
  },
  {
   "cell_type": "code",
   "execution_count": 17,
   "metadata": {},
   "outputs": [],
   "source": [
    "uniquechars = set()\n",
    "for i in data['seq']:\n",
    "    uniquechars = uniquechars.union(i)"
   ]
  },
  {
   "cell_type": "code",
   "execution_count": 18,
   "metadata": {},
   "outputs": [],
   "source": [
    "#Invariants\n",
    "# ORDER_KEY=\"XILVAGMFYWEDQNHCRKSTPBZ-\"[::-1]\n",
    "# ORDER_LIST=list(ORDER_KEY)\n",
    "ORDER_LIST = list(uniquechars)\n",
    "ORDER_LIST = sorted(ORDER_LIST,reverse=True)"
   ]
  },
  {
   "cell_type": "markdown",
   "metadata": {},
   "source": [
    "A few optional lines of code to run. Printing indices, and deleting the sequence column so that it doesn't stay in memory for no reason. "
   ]
  },
  {
   "cell_type": "markdown",
   "metadata": {},
   "source": [
    "Next we translate the sequence into a one hot encoding and shape the input sequences into a m*n matrix. Here m is the number of the data points and $n=$ alphbet size $\\times$ sequence length."
   ]
  },
  {
   "cell_type": "code",
   "execution_count": 19,
   "metadata": {},
   "outputs": [
    {
     "name": "stdout",
     "output_type": "stream",
     "text": [
      "882 23 238\n",
      "(882, 5474)\n"
     ]
    }
   ],
   "source": [
    "#Encode Orthologs\n",
    "training_data_one_hot=[]\n",
    "labels=[]\n",
    "for i, row in data.iterrows():\n",
    "    training_data_one_hot.append(translate_string_to_one_hot(row[\"seq\"],ORDER_LIST))\n",
    "print (len(training_data_one_hot),len(training_data_one_hot[0]),len(training_data_one_hot[0][0]))\n",
    "#plt.imshow(training_data_one_hot[0],cmap=\"Greys\")\n",
    "training_data=np.array([np.array(list(sample.T.flatten())) for sample in training_data_one_hot])\n",
    "# training_data=np.array([np.array(list(sample.flatten())).T for sample in training_data_one_hot])\n",
    "print(training_data.shape)"
   ]
  },
  {
   "cell_type": "code",
   "execution_count": 20,
   "metadata": {},
   "outputs": [
    {
     "name": "stdout",
     "output_type": "stream",
     "text": [
      "51715 23 238\n",
      "(51715, 5474)\n"
     ]
    }
   ],
   "source": [
    "#Encode sarkisyan data to one hot\n",
    "sarkisyan_data_one_hot=[]\n",
    "labels=[]\n",
    "for i, row in sarkisyan.iterrows():\n",
    "    sarkisyan_data_one_hot.append(translate_string_to_one_hot(row[\"sequence\"],ORDER_LIST))\n",
    "print (len(sarkisyan_data_one_hot),len(sarkisyan_data_one_hot[0]),len(sarkisyan_data_one_hot[0][0]))\n",
    "#plt.imshow(training_data_one_hot[0],cmap=\"Greys\")\n",
    "sarkisyan_data=np.array([np.array(list(sample.T.flatten())) for sample in sarkisyan_data_one_hot])\n",
    "# training_data=np.array([np.array(list(sample.flatten())).T for sample in training_data_one_hot])\n",
    "print(sarkisyan_data.shape)"
   ]
  },
  {
   "cell_type": "markdown",
   "metadata": {},
   "source": [
    "## Basic Functions"
   ]
  },
  {
   "cell_type": "code",
   "execution_count": 21,
   "metadata": {},
   "outputs": [],
   "source": [
    "def build_PCA(data, n_components):\n",
    "    pca = PCA(n_components=n_components)\n",
    "    pca.fit(data)\n",
    "    return pca\n",
    "\n",
    "def feed_PCA(pca, data):\n",
    "    return pca.transform(data)\n",
    "\n",
    "def split_data(xdata, ydata, train_size):\n",
    "    x_train, x_test, y_train, y_test = train_test_split(xdata, ydata, train_size=train_size, random_state=10)\n",
    "    return (x_train, x_test, y_train, y_test)\n",
    "\n",
    "def train_test(x_train, x_test, y_train, y_test, model_type=\"reg\"):\n",
    "    if (model_type == \"reg\"):\n",
    "        reg = RandomForestRegressor()\n",
    "        reg.fit(x_train, y_train)\n",
    "        return (reg.score(x_test, y_test))\n",
    "    \n",
    "    elif (model_type == \"clf\"):\n",
    "        clf = RandomForestClassifier()\n",
    "        clf.fit(x_train, y_train > 0.5)\n",
    "        return (clf.score(x_test, y_test > 0.5))\n",
    "    \n",
    "    return None    \n",
    "\n",
    "def augmented_learning(data, additional_data, labels, n_components, train_size):\n",
    "    x_train, x_test, y_train, y_test = split_data(data, labels, train_size=train_size)\n",
    "    \n",
    "    augmented_data = np.concatenate([x_train, additional_data])\n",
    "    pca = build_PCA(augmented_data, n_components=n_components)\n",
    "    transformed_train = feed_PCA(pca, x_train)\n",
    "    transformed_test = feed_PCA(pca, x_test)\n",
    "\n",
    "    \n",
    "    reg_score = train_test(transformed_train, transformed_test, y_train, y_test, model_type=\"reg\")\n",
    "    clf_score = train_test(transformed_train, transformed_test, y_train, y_test, model_type=\"clf\")\n",
    "    \n",
    "    return (reg_score, clf_score)\n",
    "\n",
    "def normal_learning(data, labels, train_size):\n",
    "    x_train, x_test, y_train, y_test = split_data(data, labels, train_size=train_size)\n",
    "\n",
    "    reg_score = train_test(x_train, x_test, y_train, y_test, model_type=\"reg\")\n",
    "    clf_score = train_test(x_train, x_test, y_train, y_test, model_type=\"clf\")\n",
    "    \n",
    "    return (reg_score, clf_score)"
   ]
  },
  {
   "cell_type": "markdown",
   "metadata": {},
   "source": [
    "## Baseline One-hot model "
   ]
  },
  {
   "cell_type": "code",
   "execution_count": null,
   "metadata": {},
   "outputs": [],
   "source": [
    "accuracies = normal_learning(sarkisyan_data, sarkisyan['quantitative_function'], train_size=0.7)"
   ]
  },
  {
   "cell_type": "code",
   "execution_count": null,
   "metadata": {},
   "outputs": [],
   "source": [
    "accuracies[0]"
   ]
  },
  {
   "cell_type": "code",
   "execution_count": 34,
   "metadata": {},
   "outputs": [
    {
     "data": {
      "text/plain": [
       "0.9221398646471157"
      ]
     },
     "execution_count": 34,
     "metadata": {},
     "output_type": "execute_result"
    }
   ],
   "source": [
    "accuracies[1]"
   ]
  },
  {
   "cell_type": "markdown",
   "metadata": {},
   "source": [
    "## PCA models"
   ]
  },
  {
   "cell_type": "code",
   "execution_count": 25,
   "metadata": {},
   "outputs": [],
   "source": [
    "def PCA_test(max_components):\n",
    "    pca = PCA(n_components=max_components)\n",
    "    pca.fit(training_data)\n",
    "    pca_sarkisyan = pca.transform(sarkisyan_data)\n",
    "    \n",
    "    clf_scores = []\n",
    "    reg_scores = []\n",
    "    for i in range(max_components):\n",
    "        cut_sarkisyan = pca_sarkisyan[:, 0:i+1]\n",
    "        \n",
    "        #Classification on training data\n",
    "        sarkisyan['function'] = sarkisyan['quantitative_function'] > 0.5\n",
    "        X_train, X_test, y_train, y_test = train_test_split(cut_sarkisyan, sarkisyan['function'], \n",
    "                                                           test_size = 0.3, random_state=10)\n",
    "\n",
    "        naiveClf = RandomForestClassifier()\n",
    "        naiveClf.fit(X_train, y_train)\n",
    "        clf_score = naiveClf.score(X_test, y_test)\n",
    "\n",
    "        X_train, X_test, y_train, y_test = train_test_split(cut_sarkisyan, sarkisyan['quantitative_function'], \n",
    "                                                       test_size = 0.3, random_state=10)\n",
    "        naiveReg = RandomForestRegressor()\n",
    "        naiveReg.fit(X_train, y_train)\n",
    "        reg_score = naiveReg.score(X_test, y_test)\n",
    "\n",
    "        clf_scores.append(clf_score)\n",
    "        reg_scores.append(reg_score)\n",
    "        \n",
    "    return (clf_scores, reg_scores)"
   ]
  },
  {
   "cell_type": "code",
   "execution_count": 26,
   "metadata": {},
   "outputs": [],
   "source": [
    "pca_scores = PCA_test(20)"
   ]
  },
  {
   "cell_type": "code",
   "execution_count": 27,
   "metadata": {},
   "outputs": [
    {
     "data": {
      "image/png": "[encoded data removed]",
      "text/plain": [
       "<Figure size 432x288 with 1 Axes>"
      ]
     },
     "metadata": {
      "needs_background": "light"
     },
     "output_type": "display_data"
    }
   ],
   "source": [
    "plt.plot(range(1, 21), np.array(pca_scores)[0])\n",
    "plt.xlabel(\"Number of PCA components\")\n",
    "plt.ylabel(\"Classification Accuracy\")\n",
    "plt.title(\"Classification with ortholog PCA\")\n",
    "plt.savefig(\"Ortholog_PCA_on_Sarkisyan.png\")\n",
    "plt.show()"
   ]
  },
  {
   "cell_type": "code",
   "execution_count": 28,
   "metadata": {},
   "outputs": [
    {
     "data": {
      "image/png": "[encoded data removed]",
      "text/plain": [
       "<Figure size 432x288 with 1 Axes>"
      ]
     },
     "metadata": {
      "needs_background": "light"
     },
     "output_type": "display_data"
    }
   ],
   "source": [
    "plt.plot(range(1, 21), np.array(pca_scores)[1])\n",
    "plt.xlabel(\"Number of PCA components\")\n",
    "plt.ylabel(\"R^2\")\n",
    "plt.title(\"Regression with ortholog PCA\")\n",
    "plt.savefig(\"Ortholog_PCA_on_Sarkisyan_regression.png\")\n",
    "plt.show()"
   ]
  },
  {
   "cell_type": "markdown",
   "metadata": {},
   "source": [
    "## Data-Augmentation in low-data settings"
   ]
  },
  {
   "cell_type": "code",
   "execution_count": null,
   "metadata": {},
   "outputs": [],
   "source": []
  },
  {
   "cell_type": "code",
   "execution_count": 29,
   "metadata": {
    "scrolled": true
   },
   "outputs": [
    {
     "ename": "KeyboardInterrupt",
     "evalue": "",
     "output_type": "error",
     "traceback": [
      "\u001b[0;31m---------------------------------------------------------------------------\u001b[0m",
      "\u001b[0;31mKeyboardInterrupt\u001b[0m                         Traceback (most recent call last)",
      "\u001b[0;32m<ipython-input-29-db1501f88f1e>\u001b[0m in \u001b[0;36m<module>\u001b[0;34m\u001b[0m\n\u001b[1;32m      8\u001b[0m \u001b[0;32mfor\u001b[0m \u001b[0msize\u001b[0m \u001b[0;32min\u001b[0m \u001b[0mtraining_sizes\u001b[0m\u001b[0;34m:\u001b[0m\u001b[0;34m\u001b[0m\u001b[0m\n\u001b[1;32m      9\u001b[0m     \u001b[0maug_run\u001b[0m \u001b[0;34m=\u001b[0m \u001b[0maugmented_learning\u001b[0m\u001b[0;34m(\u001b[0m\u001b[0msarkisyan_data\u001b[0m\u001b[0;34m,\u001b[0m \u001b[0msarkisyan_data\u001b[0m\u001b[0;34m[\u001b[0m\u001b[0;34m:\u001b[0m\u001b[0;36m1000\u001b[0m\u001b[0;34m]\u001b[0m\u001b[0;34m,\u001b[0m \u001b[0msarkisyan\u001b[0m\u001b[0;34m[\u001b[0m\u001b[0;34m'quantitative_function'\u001b[0m\u001b[0;34m]\u001b[0m\u001b[0;34m,\u001b[0m \u001b[0;36m10\u001b[0m\u001b[0;34m,\u001b[0m \u001b[0msize\u001b[0m\u001b[0;34m)\u001b[0m\u001b[0;34m\u001b[0m\u001b[0m\n\u001b[0;32m---> 10\u001b[0;31m     \u001b[0mnormal_run\u001b[0m \u001b[0;34m=\u001b[0m \u001b[0mnormal_learning\u001b[0m\u001b[0;34m(\u001b[0m\u001b[0msarkisyan_data\u001b[0m\u001b[0;34m,\u001b[0m \u001b[0msarkisyan\u001b[0m\u001b[0;34m[\u001b[0m\u001b[0;34m'quantitative_function'\u001b[0m\u001b[0;34m]\u001b[0m\u001b[0;34m,\u001b[0m \u001b[0msize\u001b[0m\u001b[0;34m)\u001b[0m\u001b[0;34m\u001b[0m\u001b[0m\n\u001b[0m\u001b[1;32m     11\u001b[0m     \u001b[0mreg_score_normal\u001b[0m\u001b[0;34m.\u001b[0m\u001b[0mappend\u001b[0m\u001b[0;34m(\u001b[0m\u001b[0mnormal_run\u001b[0m\u001b[0;34m[\u001b[0m\u001b[0;36m0\u001b[0m\u001b[0;34m]\u001b[0m\u001b[0;34m)\u001b[0m\u001b[0;34m\u001b[0m\u001b[0m\n\u001b[1;32m     12\u001b[0m     \u001b[0mreg_score_augmented\u001b[0m\u001b[0;34m.\u001b[0m\u001b[0mappend\u001b[0m\u001b[0;34m(\u001b[0m\u001b[0maug_run\u001b[0m\u001b[0;34m[\u001b[0m\u001b[0;36m0\u001b[0m\u001b[0;34m]\u001b[0m\u001b[0;34m)\u001b[0m\u001b[0;34m\u001b[0m\u001b[0m\n",
      "\u001b[0;32m<ipython-input-24-0f819c0537c1>\u001b[0m in \u001b[0;36mnormal_learning\u001b[0;34m(data, labels, train_size)\u001b[0m\n\u001b[1;32m     41\u001b[0m     \u001b[0mx_train\u001b[0m\u001b[0;34m,\u001b[0m \u001b[0mx_test\u001b[0m\u001b[0;34m,\u001b[0m \u001b[0my_train\u001b[0m\u001b[0;34m,\u001b[0m \u001b[0my_test\u001b[0m \u001b[0;34m=\u001b[0m \u001b[0msplit_data\u001b[0m\u001b[0;34m(\u001b[0m\u001b[0mdata\u001b[0m\u001b[0;34m,\u001b[0m \u001b[0mlabels\u001b[0m\u001b[0;34m,\u001b[0m \u001b[0mtrain_size\u001b[0m\u001b[0;34m=\u001b[0m\u001b[0mtrain_size\u001b[0m\u001b[0;34m)\u001b[0m\u001b[0;34m\u001b[0m\u001b[0m\n\u001b[1;32m     42\u001b[0m \u001b[0;34m\u001b[0m\u001b[0m\n\u001b[0;32m---> 43\u001b[0;31m     \u001b[0mreg_score\u001b[0m \u001b[0;34m=\u001b[0m \u001b[0mtrain_test\u001b[0m\u001b[0;34m(\u001b[0m\u001b[0mx_train\u001b[0m\u001b[0;34m,\u001b[0m \u001b[0mx_test\u001b[0m\u001b[0;34m,\u001b[0m \u001b[0my_train\u001b[0m\u001b[0;34m,\u001b[0m \u001b[0my_test\u001b[0m\u001b[0;34m,\u001b[0m \u001b[0mmodel_type\u001b[0m\u001b[0;34m=\u001b[0m\u001b[0;34m\"reg\"\u001b[0m\u001b[0;34m)\u001b[0m\u001b[0;34m\u001b[0m\u001b[0m\n\u001b[0m\u001b[1;32m     44\u001b[0m     \u001b[0mclf_score\u001b[0m \u001b[0;34m=\u001b[0m \u001b[0mtrain_test\u001b[0m\u001b[0;34m(\u001b[0m\u001b[0mx_train\u001b[0m\u001b[0;34m,\u001b[0m \u001b[0mx_test\u001b[0m\u001b[0;34m,\u001b[0m \u001b[0my_train\u001b[0m\u001b[0;34m,\u001b[0m \u001b[0my_test\u001b[0m\u001b[0;34m,\u001b[0m \u001b[0mmodel_type\u001b[0m\u001b[0;34m=\u001b[0m\u001b[0;34m\"clf\"\u001b[0m\u001b[0;34m)\u001b[0m\u001b[0;34m\u001b[0m\u001b[0m\n\u001b[1;32m     45\u001b[0m \u001b[0;34m\u001b[0m\u001b[0m\n",
      "\u001b[0;32m<ipython-input-24-0f819c0537c1>\u001b[0m in \u001b[0;36mtrain_test\u001b[0;34m(x_train, x_test, y_train, y_test, model_type)\u001b[0m\n\u001b[1;32m     14\u001b[0m     \u001b[0;32mif\u001b[0m \u001b[0;34m(\u001b[0m\u001b[0mmodel_type\u001b[0m \u001b[0;34m==\u001b[0m \u001b[0;34m\"reg\"\u001b[0m\u001b[0;34m)\u001b[0m\u001b[0;34m:\u001b[0m\u001b[0;34m\u001b[0m\u001b[0m\n\u001b[1;32m     15\u001b[0m         \u001b[0mreg\u001b[0m \u001b[0;34m=\u001b[0m \u001b[0mRandomForestRegressor\u001b[0m\u001b[0;34m(\u001b[0m\u001b[0;34m)\u001b[0m\u001b[0;34m\u001b[0m\u001b[0m\n\u001b[0;32m---> 16\u001b[0;31m         \u001b[0mreg\u001b[0m\u001b[0;34m.\u001b[0m\u001b[0mfit\u001b[0m\u001b[0;34m(\u001b[0m\u001b[0mx_train\u001b[0m\u001b[0;34m,\u001b[0m \u001b[0my_train\u001b[0m\u001b[0;34m)\u001b[0m\u001b[0;34m\u001b[0m\u001b[0m\n\u001b[0m\u001b[1;32m     17\u001b[0m         \u001b[0;32mreturn\u001b[0m \u001b[0;34m(\u001b[0m\u001b[0mreg\u001b[0m\u001b[0;34m.\u001b[0m\u001b[0mscore\u001b[0m\u001b[0;34m(\u001b[0m\u001b[0mx_test\u001b[0m\u001b[0;34m,\u001b[0m \u001b[0my_test\u001b[0m\u001b[0;34m)\u001b[0m\u001b[0;34m)\u001b[0m\u001b[0;34m\u001b[0m\u001b[0m\n\u001b[1;32m     18\u001b[0m \u001b[0;34m\u001b[0m\u001b[0m\n",
      "\u001b[0;32m/usr/local/lib/python3.5/dist-packages/sklearn/ensemble/forest.py\u001b[0m in \u001b[0;36mfit\u001b[0;34m(self, X, y, sample_weight)\u001b[0m\n\u001b[1;32m    331\u001b[0m                     \u001b[0mt\u001b[0m\u001b[0;34m,\u001b[0m \u001b[0mself\u001b[0m\u001b[0;34m,\u001b[0m \u001b[0mX\u001b[0m\u001b[0;34m,\u001b[0m \u001b[0my\u001b[0m\u001b[0;34m,\u001b[0m \u001b[0msample_weight\u001b[0m\u001b[0;34m,\u001b[0m \u001b[0mi\u001b[0m\u001b[0;34m,\u001b[0m \u001b[0mlen\u001b[0m\u001b[0;34m(\u001b[0m\u001b[0mtrees\u001b[0m\u001b[0;34m)\u001b[0m\u001b[0;34m,\u001b[0m\u001b[0;34m\u001b[0m\u001b[0m\n\u001b[1;32m    332\u001b[0m                     verbose=self.verbose, class_weight=self.class_weight)\n\u001b[0;32m--> 333\u001b[0;31m                 for i, t in enumerate(trees))\n\u001b[0m\u001b[1;32m    334\u001b[0m \u001b[0;34m\u001b[0m\u001b[0m\n\u001b[1;32m    335\u001b[0m             \u001b[0;31m# Collect newly grown trees\u001b[0m\u001b[0;34m\u001b[0m\u001b[0;34m\u001b[0m\u001b[0m\n",
      "\u001b[0;32m/usr/local/lib/python3.5/dist-packages/sklearn/externals/joblib/parallel.py\u001b[0m in \u001b[0;36m__call__\u001b[0;34m(self, iterable)\u001b[0m\n\u001b[1;32m    915\u001b[0m             \u001b[0;31m# remaining jobs.\u001b[0m\u001b[0;34m\u001b[0m\u001b[0;34m\u001b[0m\u001b[0m\n\u001b[1;32m    916\u001b[0m             \u001b[0mself\u001b[0m\u001b[0;34m.\u001b[0m\u001b[0m_iterating\u001b[0m \u001b[0;34m=\u001b[0m \u001b[0;32mFalse\u001b[0m\u001b[0;34m\u001b[0m\u001b[0m\n\u001b[0;32m--> 917\u001b[0;31m             \u001b[0;32mif\u001b[0m \u001b[0mself\u001b[0m\u001b[0;34m.\u001b[0m\u001b[0mdispatch_one_batch\u001b[0m\u001b[0;34m(\u001b[0m\u001b[0miterator\u001b[0m\u001b[0;34m)\u001b[0m\u001b[0;34m:\u001b[0m\u001b[0;34m\u001b[0m\u001b[0m\n\u001b[0m\u001b[1;32m    918\u001b[0m                 \u001b[0mself\u001b[0m\u001b[0;34m.\u001b[0m\u001b[0m_iterating\u001b[0m \u001b[0;34m=\u001b[0m \u001b[0mself\u001b[0m\u001b[0;34m.\u001b[0m\u001b[0m_original_iterator\u001b[0m \u001b[0;32mis\u001b[0m \u001b[0;32mnot\u001b[0m \u001b[0;32mNone\u001b[0m\u001b[0;34m\u001b[0m\u001b[0m\n\u001b[1;32m    919\u001b[0m \u001b[0;34m\u001b[0m\u001b[0m\n",
      "\u001b[0;32m/usr/local/lib/python3.5/dist-packages/sklearn/externals/joblib/parallel.py\u001b[0m in \u001b[0;36mdispatch_one_batch\u001b[0;34m(self, iterator)\u001b[0m\n\u001b[1;32m    757\u001b[0m                 \u001b[0;32mreturn\u001b[0m \u001b[0;32mFalse\u001b[0m\u001b[0;34m\u001b[0m\u001b[0m\n\u001b[1;32m    758\u001b[0m             \u001b[0;32melse\u001b[0m\u001b[0;34m:\u001b[0m\u001b[0;34m\u001b[0m\u001b[0m\n\u001b[0;32m--> 759\u001b[0;31m                 \u001b[0mself\u001b[0m\u001b[0;34m.\u001b[0m\u001b[0m_dispatch\u001b[0m\u001b[0;34m(\u001b[0m\u001b[0mtasks\u001b[0m\u001b[0;34m)\u001b[0m\u001b[0;34m\u001b[0m\u001b[0m\n\u001b[0m\u001b[1;32m    760\u001b[0m                 \u001b[0;32mreturn\u001b[0m \u001b[0;32mTrue\u001b[0m\u001b[0;34m\u001b[0m\u001b[0m\n\u001b[1;32m    761\u001b[0m \u001b[0;34m\u001b[0m\u001b[0m\n",
      "\u001b[0;32m/usr/local/lib/python3.5/dist-packages/sklearn/externals/joblib/parallel.py\u001b[0m in \u001b[0;36m_dispatch\u001b[0;34m(self, batch)\u001b[0m\n\u001b[1;32m    714\u001b[0m         \u001b[0;32mwith\u001b[0m \u001b[0mself\u001b[0m\u001b[0;34m.\u001b[0m\u001b[0m_lock\u001b[0m\u001b[0;34m:\u001b[0m\u001b[0;34m\u001b[0m\u001b[0m\n\u001b[1;32m    715\u001b[0m             \u001b[0mjob_idx\u001b[0m \u001b[0;34m=\u001b[0m \u001b[0mlen\u001b[0m\u001b[0;34m(\u001b[0m\u001b[0mself\u001b[0m\u001b[0;34m.\u001b[0m\u001b[0m_jobs\u001b[0m\u001b[0;34m)\u001b[0m\u001b[0;34m\u001b[0m\u001b[0m\n\u001b[0;32m--> 716\u001b[0;31m             \u001b[0mjob\u001b[0m \u001b[0;34m=\u001b[0m \u001b[0mself\u001b[0m\u001b[0;34m.\u001b[0m\u001b[0m_backend\u001b[0m\u001b[0;34m.\u001b[0m\u001b[0mapply_async\u001b[0m\u001b[0;34m(\u001b[0m\u001b[0mbatch\u001b[0m\u001b[0;34m,\u001b[0m \u001b[0mcallback\u001b[0m\u001b[0;34m=\u001b[0m\u001b[0mcb\u001b[0m\u001b[0;34m)\u001b[0m\u001b[0;34m\u001b[0m\u001b[0m\n\u001b[0m\u001b[1;32m    717\u001b[0m             \u001b[0;31m# A job can complete so quickly than its callback is\u001b[0m\u001b[0;34m\u001b[0m\u001b[0;34m\u001b[0m\u001b[0m\n\u001b[1;32m    718\u001b[0m             \u001b[0;31m# called before we get here, causing self._jobs to\u001b[0m\u001b[0;34m\u001b[0m\u001b[0;34m\u001b[0m\u001b[0m\n",
      "\u001b[0;32m/usr/local/lib/python3.5/dist-packages/sklearn/externals/joblib/_parallel_backends.py\u001b[0m in \u001b[0;36mapply_async\u001b[0;34m(self, func, callback)\u001b[0m\n\u001b[1;32m    180\u001b[0m     \u001b[0;32mdef\u001b[0m \u001b[0mapply_async\u001b[0m\u001b[0;34m(\u001b[0m\u001b[0mself\u001b[0m\u001b[0;34m,\u001b[0m \u001b[0mfunc\u001b[0m\u001b[0;34m,\u001b[0m \u001b[0mcallback\u001b[0m\u001b[0;34m=\u001b[0m\u001b[0;32mNone\u001b[0m\u001b[0;34m)\u001b[0m\u001b[0;34m:\u001b[0m\u001b[0;34m\u001b[0m\u001b[0m\n\u001b[1;32m    181\u001b[0m         \u001b[0;34m\"\"\"Schedule a func to be run\"\"\"\u001b[0m\u001b[0;34m\u001b[0m\u001b[0m\n\u001b[0;32m--> 182\u001b[0;31m         \u001b[0mresult\u001b[0m \u001b[0;34m=\u001b[0m \u001b[0mImmediateResult\u001b[0m\u001b[0;34m(\u001b[0m\u001b[0mfunc\u001b[0m\u001b[0;34m)\u001b[0m\u001b[0;34m\u001b[0m\u001b[0m\n\u001b[0m\u001b[1;32m    183\u001b[0m         \u001b[0;32mif\u001b[0m \u001b[0mcallback\u001b[0m\u001b[0;34m:\u001b[0m\u001b[0;34m\u001b[0m\u001b[0m\n\u001b[1;32m    184\u001b[0m             \u001b[0mcallback\u001b[0m\u001b[0;34m(\u001b[0m\u001b[0mresult\u001b[0m\u001b[0;34m)\u001b[0m\u001b[0;34m\u001b[0m\u001b[0m\n",
      "\u001b[0;32m/usr/local/lib/python3.5/dist-packages/sklearn/externals/joblib/_parallel_backends.py\u001b[0m in \u001b[0;36m__init__\u001b[0;34m(self, batch)\u001b[0m\n\u001b[1;32m    547\u001b[0m         \u001b[0;31m# Don't delay the application, to avoid keeping the input\u001b[0m\u001b[0;34m\u001b[0m\u001b[0;34m\u001b[0m\u001b[0m\n\u001b[1;32m    548\u001b[0m         \u001b[0;31m# arguments in memory\u001b[0m\u001b[0;34m\u001b[0m\u001b[0;34m\u001b[0m\u001b[0m\n\u001b[0;32m--> 549\u001b[0;31m         \u001b[0mself\u001b[0m\u001b[0;34m.\u001b[0m\u001b[0mresults\u001b[0m \u001b[0;34m=\u001b[0m \u001b[0mbatch\u001b[0m\u001b[0;34m(\u001b[0m\u001b[0;34m)\u001b[0m\u001b[0;34m\u001b[0m\u001b[0m\n\u001b[0m\u001b[1;32m    550\u001b[0m \u001b[0;34m\u001b[0m\u001b[0m\n\u001b[1;32m    551\u001b[0m     \u001b[0;32mdef\u001b[0m \u001b[0mget\u001b[0m\u001b[0;34m(\u001b[0m\u001b[0mself\u001b[0m\u001b[0;34m)\u001b[0m\u001b[0;34m:\u001b[0m\u001b[0;34m\u001b[0m\u001b[0m\n",
      "\u001b[0;32m/usr/local/lib/python3.5/dist-packages/sklearn/externals/joblib/parallel.py\u001b[0m in \u001b[0;36m__call__\u001b[0;34m(self)\u001b[0m\n\u001b[1;32m    223\u001b[0m         \u001b[0;32mwith\u001b[0m \u001b[0mparallel_backend\u001b[0m\u001b[0;34m(\u001b[0m\u001b[0mself\u001b[0m\u001b[0;34m.\u001b[0m\u001b[0m_backend\u001b[0m\u001b[0;34m,\u001b[0m \u001b[0mn_jobs\u001b[0m\u001b[0;34m=\u001b[0m\u001b[0mself\u001b[0m\u001b[0;34m.\u001b[0m\u001b[0m_n_jobs\u001b[0m\u001b[0;34m)\u001b[0m\u001b[0;34m:\u001b[0m\u001b[0;34m\u001b[0m\u001b[0m\n\u001b[1;32m    224\u001b[0m             return [func(*args, **kwargs)\n\u001b[0;32m--> 225\u001b[0;31m                     for func, args, kwargs in self.items]\n\u001b[0m\u001b[1;32m    226\u001b[0m \u001b[0;34m\u001b[0m\u001b[0m\n\u001b[1;32m    227\u001b[0m     \u001b[0;32mdef\u001b[0m \u001b[0m__len__\u001b[0m\u001b[0;34m(\u001b[0m\u001b[0mself\u001b[0m\u001b[0;34m)\u001b[0m\u001b[0;34m:\u001b[0m\u001b[0;34m\u001b[0m\u001b[0m\n",
      "\u001b[0;32m/usr/local/lib/python3.5/dist-packages/sklearn/externals/joblib/parallel.py\u001b[0m in \u001b[0;36m<listcomp>\u001b[0;34m(.0)\u001b[0m\n\u001b[1;32m    223\u001b[0m         \u001b[0;32mwith\u001b[0m \u001b[0mparallel_backend\u001b[0m\u001b[0;34m(\u001b[0m\u001b[0mself\u001b[0m\u001b[0;34m.\u001b[0m\u001b[0m_backend\u001b[0m\u001b[0;34m,\u001b[0m \u001b[0mn_jobs\u001b[0m\u001b[0;34m=\u001b[0m\u001b[0mself\u001b[0m\u001b[0;34m.\u001b[0m\u001b[0m_n_jobs\u001b[0m\u001b[0;34m)\u001b[0m\u001b[0;34m:\u001b[0m\u001b[0;34m\u001b[0m\u001b[0m\n\u001b[1;32m    224\u001b[0m             return [func(*args, **kwargs)\n\u001b[0;32m--> 225\u001b[0;31m                     for func, args, kwargs in self.items]\n\u001b[0m\u001b[1;32m    226\u001b[0m \u001b[0;34m\u001b[0m\u001b[0m\n\u001b[1;32m    227\u001b[0m     \u001b[0;32mdef\u001b[0m \u001b[0m__len__\u001b[0m\u001b[0;34m(\u001b[0m\u001b[0mself\u001b[0m\u001b[0;34m)\u001b[0m\u001b[0;34m:\u001b[0m\u001b[0;34m\u001b[0m\u001b[0m\n",
      "\u001b[0;32m/usr/local/lib/python3.5/dist-packages/sklearn/ensemble/forest.py\u001b[0m in \u001b[0;36m_parallel_build_trees\u001b[0;34m(tree, forest, X, y, sample_weight, tree_idx, n_trees, verbose, class_weight)\u001b[0m\n\u001b[1;32m    117\u001b[0m             \u001b[0mcurr_sample_weight\u001b[0m \u001b[0;34m*=\u001b[0m \u001b[0mcompute_sample_weight\u001b[0m\u001b[0;34m(\u001b[0m\u001b[0;34m'balanced'\u001b[0m\u001b[0;34m,\u001b[0m \u001b[0my\u001b[0m\u001b[0;34m,\u001b[0m \u001b[0mindices\u001b[0m\u001b[0;34m)\u001b[0m\u001b[0;34m\u001b[0m\u001b[0m\n\u001b[1;32m    118\u001b[0m \u001b[0;34m\u001b[0m\u001b[0m\n\u001b[0;32m--> 119\u001b[0;31m         \u001b[0mtree\u001b[0m\u001b[0;34m.\u001b[0m\u001b[0mfit\u001b[0m\u001b[0;34m(\u001b[0m\u001b[0mX\u001b[0m\u001b[0;34m,\u001b[0m \u001b[0my\u001b[0m\u001b[0;34m,\u001b[0m \u001b[0msample_weight\u001b[0m\u001b[0;34m=\u001b[0m\u001b[0mcurr_sample_weight\u001b[0m\u001b[0;34m,\u001b[0m \u001b[0mcheck_input\u001b[0m\u001b[0;34m=\u001b[0m\u001b[0;32mFalse\u001b[0m\u001b[0;34m)\u001b[0m\u001b[0;34m\u001b[0m\u001b[0m\n\u001b[0m\u001b[1;32m    120\u001b[0m     \u001b[0;32melse\u001b[0m\u001b[0;34m:\u001b[0m\u001b[0;34m\u001b[0m\u001b[0m\n\u001b[1;32m    121\u001b[0m         \u001b[0mtree\u001b[0m\u001b[0;34m.\u001b[0m\u001b[0mfit\u001b[0m\u001b[0;34m(\u001b[0m\u001b[0mX\u001b[0m\u001b[0;34m,\u001b[0m \u001b[0my\u001b[0m\u001b[0;34m,\u001b[0m \u001b[0msample_weight\u001b[0m\u001b[0;34m=\u001b[0m\u001b[0msample_weight\u001b[0m\u001b[0;34m,\u001b[0m \u001b[0mcheck_input\u001b[0m\u001b[0;34m=\u001b[0m\u001b[0;32mFalse\u001b[0m\u001b[0;34m)\u001b[0m\u001b[0;34m\u001b[0m\u001b[0m\n",
      "\u001b[0;32m/usr/local/lib/python3.5/dist-packages/sklearn/tree/tree.py\u001b[0m in \u001b[0;36mfit\u001b[0;34m(self, X, y, sample_weight, check_input, X_idx_sorted)\u001b[0m\n\u001b[1;32m   1140\u001b[0m             \u001b[0msample_weight\u001b[0m\u001b[0;34m=\u001b[0m\u001b[0msample_weight\u001b[0m\u001b[0;34m,\u001b[0m\u001b[0;34m\u001b[0m\u001b[0m\n\u001b[1;32m   1141\u001b[0m             \u001b[0mcheck_input\u001b[0m\u001b[0;34m=\u001b[0m\u001b[0mcheck_input\u001b[0m\u001b[0;34m,\u001b[0m\u001b[0;34m\u001b[0m\u001b[0m\n\u001b[0;32m-> 1142\u001b[0;31m             X_idx_sorted=X_idx_sorted)\n\u001b[0m\u001b[1;32m   1143\u001b[0m         \u001b[0;32mreturn\u001b[0m \u001b[0mself\u001b[0m\u001b[0;34m\u001b[0m\u001b[0m\n\u001b[1;32m   1144\u001b[0m \u001b[0;34m\u001b[0m\u001b[0m\n",
      "\u001b[0;32m/usr/local/lib/python3.5/dist-packages/sklearn/tree/tree.py\u001b[0m in \u001b[0;36mfit\u001b[0;34m(self, X, y, sample_weight, check_input, X_idx_sorted)\u001b[0m\n\u001b[1;32m    364\u001b[0m                                            min_impurity_split)\n\u001b[1;32m    365\u001b[0m \u001b[0;34m\u001b[0m\u001b[0m\n\u001b[0;32m--> 366\u001b[0;31m         \u001b[0mbuilder\u001b[0m\u001b[0;34m.\u001b[0m\u001b[0mbuild\u001b[0m\u001b[0;34m(\u001b[0m\u001b[0mself\u001b[0m\u001b[0;34m.\u001b[0m\u001b[0mtree_\u001b[0m\u001b[0;34m,\u001b[0m \u001b[0mX\u001b[0m\u001b[0;34m,\u001b[0m \u001b[0my\u001b[0m\u001b[0;34m,\u001b[0m \u001b[0msample_weight\u001b[0m\u001b[0;34m,\u001b[0m \u001b[0mX_idx_sorted\u001b[0m\u001b[0;34m)\u001b[0m\u001b[0;34m\u001b[0m\u001b[0m\n\u001b[0m\u001b[1;32m    367\u001b[0m \u001b[0;34m\u001b[0m\u001b[0m\n\u001b[1;32m    368\u001b[0m         \u001b[0;32mif\u001b[0m \u001b[0mself\u001b[0m\u001b[0;34m.\u001b[0m\u001b[0mn_outputs_\u001b[0m \u001b[0;34m==\u001b[0m \u001b[0;36m1\u001b[0m\u001b[0;34m:\u001b[0m\u001b[0;34m\u001b[0m\u001b[0m\n",
      "\u001b[0;31mKeyboardInterrupt\u001b[0m: "
     ]
    }
   ],
   "source": [
    "training_sizes = [100, 300, 500, 1000, 2000, 5000]\n",
    "\n",
    "reg_score_normal = []\n",
    "reg_score_augmented = []\n",
    "clf_score_normal = []\n",
    "clf_score_augmented = []\n",
    "\n",
    "for size in training_sizes:\n",
    "    aug_run = augmented_learning(sarkisyan_data, sarkisyan_data[:1000], sarkisyan['quantitative_function'], 10, size)\n",
    "    normal_run = normal_learning(sarkisyan_data, sarkisyan['quantitative_function'], size)\n",
    "    reg_score_normal.append(normal_run[0])\n",
    "    reg_score_augmented.append(aug_run[0])\n",
    "    clf_score_normal.append(normal_run[1])\n",
    "    clf_score_augmented.append(aug_run[1])"
   ]
  },
  {
   "cell_type": "code",
   "execution_count": null,
   "metadata": {},
   "outputs": [],
   "source": [
    "plt.scatter(training_sizes, reg_score_normal, label=\"One-hot\")\n",
    "plt.scatter(training_sizes, reg_score_augmented, label=\"PCA Augmented\")\n",
    "plt.xlabel(\"Training size\")\n",
    "plt.title(\"PCA = 10, Regression Accuracy\")\n",
    "plt.legend()\n",
    "plt.savefig(\"PCA_10_Reg.png\")\n",
    "plt.show()"
   ]
  },
  {
   "cell_type": "code",
   "execution_count": 22,
   "metadata": {},
   "outputs": [],
   "source": [
    "sarkisyan_onehot_train, sarkisyan_onehot_test, y_train, y_test = train_test_split(sarkisyan_data, sarkisyan['quantitative_function'], \n",
    "                                                   test_size = 0.99, random_state=10)"
   ]
  },
  {
   "cell_type": "code",
   "execution_count": 23,
   "metadata": {},
   "outputs": [],
   "source": [
    "augmented_data = np.concatenate((training_data, sarkisyan_onehot_train))"
   ]
  },
  {
   "cell_type": "code",
   "execution_count": 24,
   "metadata": {},
   "outputs": [
    {
     "data": {
      "text/plain": [
       "PCA(copy=True, iterated_power='auto', n_components=20, random_state=None,\n",
       "  svd_solver='auto', tol=0.0, whiten=False)"
      ]
     },
     "execution_count": 24,
     "metadata": {},
     "output_type": "execute_result"
    }
   ],
   "source": [
    "augment_pca = PCA(n_components=20)\n",
    "augment_pca.fit(augmented_data)"
   ]
  },
  {
   "cell_type": "code",
   "execution_count": 25,
   "metadata": {},
   "outputs": [],
   "source": [
    "transformed_train = augment_pca.transform(sarkisyan_onehot_train)\n",
    "transformed_test = augment_pca.transform(sarkisyan_onehot_test)"
   ]
  },
  {
   "cell_type": "code",
   "execution_count": 26,
   "metadata": {},
   "outputs": [
    {
     "data": {
      "text/plain": [
       "0.7533302082112583"
      ]
     },
     "execution_count": 26,
     "metadata": {},
     "output_type": "execute_result"
    }
   ],
   "source": [
    "augClf = RandomForestClassifier()\n",
    "augClf.fit(transformed_train, y_train>0.5)\n",
    "augClf.score(transformed_test, y_test>0.5)"
   ]
  },
  {
   "cell_type": "code",
   "execution_count": 27,
   "metadata": {},
   "outputs": [
    {
     "data": {
      "text/plain": [
       "0.29488232388531455"
      ]
     },
     "execution_count": 27,
     "metadata": {},
     "output_type": "execute_result"
    }
   ],
   "source": [
    "augReg = RandomForestRegressor()\n",
    "augReg.fit(transformed_train, y_train)\n",
    "augReg.score(transformed_test, y_test)"
   ]
  },
  {
   "cell_type": "code",
   "execution_count": null,
   "metadata": {},
   "outputs": [],
   "source": [
    "net = Reg_NN(input_size = 20, hidden_size=100, output_size=1)"
   ]
  },
  {
   "cell_type": "code",
   "execution_count": null,
   "metadata": {},
   "outputs": [],
   "source": [
    "transformed_train.shape"
   ]
  },
  {
   "cell_type": "code",
   "execution_count": 46,
   "metadata": {},
   "outputs": [],
   "source": [
    "optimizer = torch.optim.Adam(net.parameters(), lr=0.001)\n",
    "loss_func = torch.nn.MSELoss()  # this is for regression mean squared loss\n",
    "\n",
    "\n",
    "for t in range(200):\n",
    "    prediction = net(torch.Tensor(transformed_train))     # input x and predict based on x\n",
    "\n",
    "    loss = loss_func(prediction, torch.Tensor(np.array(y_train)))     # must be (1. nn output, 2. target)\n",
    "\n",
    "    optimizer.zero_grad()   # clear gradients for next train\n",
    "    loss.backward()         # backpropagation, compute gradients\n",
    "    optimizer.step()        # apply gradients\n",
    "#     print (net.parameters())"
   ]
  },
  {
   "cell_type": "code",
   "execution_count": 47,
   "metadata": {},
   "outputs": [],
   "source": [
    "out_train = net(torch.Tensor(transformed_train))\n",
    "out_train = torch.Tensor(out_train)"
   ]
  },
  {
   "cell_type": "code",
   "execution_count": 48,
   "metadata": {},
   "outputs": [],
   "source": [
    "from sklearn.metrics import r2_score"
   ]
  },
  {
   "cell_type": "code",
   "execution_count": 49,
   "metadata": {},
   "outputs": [
    {
     "data": {
      "text/plain": [
       "-7425.0913027948345"
      ]
     },
     "execution_count": 49,
     "metadata": {},
     "output_type": "execute_result"
    }
   ],
   "source": [
    "r2_score(out_train.squeeze(1).detach(), y_train)"
   ]
  },
  {
   "cell_type": "code",
   "execution_count": 50,
   "metadata": {},
   "outputs": [
    {
     "data": {
      "text/plain": [
       "(5474,)"
      ]
     },
     "execution_count": 50,
     "metadata": {},
     "output_type": "execute_result"
    }
   ],
   "source": [
    "training_data[0].shape"
   ]
  },
  {
   "cell_type": "code",
   "execution_count": 51,
   "metadata": {},
   "outputs": [
    {
     "data": {
      "image/png": "[encoded data removed]",
      "text/plain": [
       "<Figure size 432x288 with 1 Axes>"
      ]
     },
     "metadata": {},
     "output_type": "display_data"
    }
   ],
   "source": [
    "plt.hist(out_train.squeeze(1).detach())\n",
    "plt.show()"
   ]
  },
  {
   "cell_type": "code",
   "execution_count": 52,
   "metadata": {},
   "outputs": [
    {
     "data": {
      "image/png": "[encoded data removed]",
      "text/plain": [
       "<Figure size 432x288 with 1 Axes>"
      ]
     },
     "metadata": {},
     "output_type": "display_data"
    }
   ],
   "source": [
    "plt.hist(y_train)\n",
    "plt.show()"
   ]
  },
  {
   "cell_type": "markdown",
   "metadata": {},
   "source": [
    "## UMAP Experiments"
   ]
  },
  {
   "cell_type": "code",
   "execution_count": null,
   "metadata": {},
   "outputs": [],
   "source": []
  },
  {
   "cell_type": "code",
   "execution_count": 60,
   "metadata": {},
   "outputs": [
    {
     "name": "stderr",
     "output_type": "stream",
     "text": [
      "/home/anirudh_suresh/.local/lib/python3.5/site-packages/umap/spectral.py:229: UserWarning: Embedding a total of 70 separate connected components using meta-embedding (experimental)\n",
      "  n_components\n",
      "/home/anirudh_suresh/.local/lib/python3.5/site-packages/sklearn/manifold/spectral_embedding_.py:237: UserWarning: Graph is not fully connected, spectral embedding may not work as expected.\n",
      "  warnings.warn(\"Graph is not fully connected, spectral embedding\"\n"
     ]
    }
   ],
   "source": [
    "UMAP_embedding = umap.UMAP(n_neighbors=3,\n",
    "                      min_dist=0.05,\n",
    "                      metric='manhattan').fit(training_data)"
   ]
  },
  {
   "cell_type": "code",
   "execution_count": 61,
   "metadata": {},
   "outputs": [],
   "source": [
    "a = UMAP_embedding.transform(training_data)"
   ]
  },
  {
   "cell_type": "code",
   "execution_count": 62,
   "metadata": {},
   "outputs": [
    {
     "data": {
      "text/plain": [
       "array([[ -2.66084   , -13.370262  ],\n",
       "       [ -5.522842  ,  -0.3943296 ],\n",
       "       [ -8.426297  ,   0.06958192],\n",
       "       ...,\n",
       "       [ -0.97344637,  -6.0298576 ],\n",
       "       [  0.6456735 ,  -5.9727035 ],\n",
       "       [ -4.3920174 ,  -3.658297  ]], dtype=float32)"
      ]
     },
     "execution_count": 62,
     "metadata": {},
     "output_type": "execute_result"
    }
   ],
   "source": [
    "a"
   ]
  },
  {
   "cell_type": "code",
   "execution_count": 63,
   "metadata": {},
   "outputs": [
    {
     "data": {
      "image/png": "[encoded data removed]",
      "text/plain": [
       "<Figure size 432x288 with 1 Axes>"
      ]
     },
     "metadata": {},
     "output_type": "display_data"
    }
   ],
   "source": [
    "plt.scatter(a[:, 0], a[:, 1])\n",
    "plt.show()"
   ]
  },
  {
   "cell_type": "code",
   "execution_count": 64,
   "metadata": {},
   "outputs": [],
   "source": [
    "UMAP_sarkisyan = UMAP_embedding.transform(sarkisyan_data)"
   ]
  },
  {
   "cell_type": "code",
   "execution_count": 65,
   "metadata": {},
   "outputs": [],
   "source": [
    "# UMAP_sarkisyan = UMAP_embedding.transform(sarkisyan_data)\n",
    "\n",
    "X_train, X_test, y_train, y_test = train_test_split(UMAP_sarkisyan, sarkisyan['function'], \n",
    "                                                   test_size = 0.3, random_state=10)\n",
    "\n",
    "naiveClf = RandomForestClassifier()\n",
    "naiveClf.fit(X_train, y_train)\n",
    "clf_score = naiveClf.score(X_test, y_test)\n",
    "\n",
    "X_train, X_test, y_train, y_test = train_test_split(UMAP_sarkisyan, sarkisyan['quantitative_function'], \n",
    "                                               test_size = 0.3, random_state=10)\n",
    "naiveReg = RandomForestRegressor()\n",
    "naiveReg.fit(X_train, y_train)\n",
    "reg_score = naiveReg.score(X_test, y_test)"
   ]
  },
  {
   "cell_type": "code",
   "execution_count": 66,
   "metadata": {},
   "outputs": [
    {
     "data": {
      "text/plain": [
       "0.5191749919432807"
      ]
     },
     "execution_count": 66,
     "metadata": {},
     "output_type": "execute_result"
    }
   ],
   "source": [
    "clf_score"
   ]
  },
  {
   "cell_type": "code",
   "execution_count": 67,
   "metadata": {},
   "outputs": [
    {
     "data": {
      "text/plain": [
       "-0.231957998050601"
      ]
     },
     "execution_count": 67,
     "metadata": {},
     "output_type": "execute_result"
    }
   ],
   "source": [
    "reg_score"
   ]
  },
  {
   "cell_type": "code",
   "execution_count": 68,
   "metadata": {},
   "outputs": [
    {
     "data": {
      "image/png": "[encoded data removed]",
      "text/plain": [
       "<Figure size 432x288 with 1 Axes>"
      ]
     },
     "metadata": {},
     "output_type": "display_data"
    }
   ],
   "source": [
    "plt.scatter(UMAP_sarkisyan[:,0][:10000], UMAP_sarkisyan[:, 1][:10000])\n",
    "plt.show()"
   ]
  },
  {
   "cell_type": "code",
   "execution_count": 69,
   "metadata": {},
   "outputs": [],
   "source": [
    "UMAP_sarkisyan_20 = UMAP_sarkisyan.copy()\n",
    "ortholog_umap_20 = a.copy()"
   ]
  },
  {
   "cell_type": "markdown",
   "metadata": {},
   "source": [
    "This concludes the pre-processing we need to do on the data.\n",
    "\n",
    "## 2.  Training the model\n",
    "We now move on to define our neural network. This is essentially a vanilla VAE in keras (with some optimization on hyperparameters). For optimization purposes we define a callback function that reports the predictive power of the model in the end of each epoch. Note that while this passes the -test data- through the model, it is kosher because we never pass in the values we are actually interested in and the network is not in \"training phase\", i.e. no weights are updated during this pass. "
   ]
  },
  {
   "cell_type": "code",
   "execution_count": 58,
   "metadata": {},
   "outputs": [],
   "source": [
    "class rho_vs_mutants():\n",
    "    def __init__(self,mutants,test_set_size,aa_size,sequence_size):\n",
    "        self.mutants=mutants\n",
    "        self.sample_size=test_set_size\n",
    "        self.aa_size=aa_size\n",
    "        self.sequence_size=sequence_size\n",
    "        self.scores=[]\n",
    "        self.count_batch=0\n",
    "    def on_train_begin(self, logs={}):\n",
    "        self.losses = []\n",
    "    def on_batch_end(self, batch, logs={}):\n",
    "        self.losses.append(logs.get('loss'))\n",
    "    #This allows us to track the \"progress\" of the model on different epochs\n",
    "    def on_epoch_end(self,model,batch,logs):\n",
    "        x_decoded=model(test_data_plus[0:self.sample_size],batch_size=batch_size)\n",
    "        digit = x_decoded[0].reshape(self.aa_size,self.sequence_size)\n",
    "        digit_wt = normalize(digit,axis=0, norm='l1')\n",
    "        wt_prob=compute_log_probability(digit,digit_wt)\n",
    "        fitnesses=[]\n",
    "        for sample in range(1,self.sample_size):\n",
    "            digit = x_decoded[sample].reshape(self.aa_size,self.sequence_size)\n",
    "            digit = normalize(digit,axis=0, norm='l1')\n",
    "            fitness=compute_log_probability(test_data_plus[sample].reshape(self.aa_size,self.sequence_size),digit)-wt_prob\n",
    "            fitnesses.append(fitness)\n",
    "        print (\",\"+str(spearmanr(fitnesses,target_values_singles[:self.sample_size-1])))\n",
    "        self.scores.append(spearmanr(fitnesses,target_values_singles[:self.sample_size-1])[0])"
   ]
  },
  {
   "cell_type": "markdown",
   "metadata": {},
   "source": [
    "Now we are ready to specify the network architecture, this is adapted from [here](https://github.com/fchollet/keras/blob/master/examples/variational_autoencoder.py)."
   ]
  },
  {
   "cell_type": "code",
   "execution_count": 59,
   "metadata": {},
   "outputs": [],
   "source": [
    "# torch.sum(1 + model.z_log_var - (model.z_mean)**2 - torch.exp(model.z_log_var),-1)"
   ]
  },
  {
   "cell_type": "code",
   "execution_count": 60,
   "metadata": {},
   "outputs": [
    {
     "data": {
      "text/plain": [
       "238"
      ]
     },
     "execution_count": 60,
     "metadata": {},
     "output_type": "execute_result"
    }
   ],
   "source": [
    "PRUNED_SEQ_LENGTH"
   ]
  },
  {
   "cell_type": "code",
   "execution_count": 61,
   "metadata": {},
   "outputs": [],
   "source": [
    "batch_size = 24\n",
    "original_dim=len(ORDER_LIST)*PRUNED_SEQ_LENGTH\n",
    "output_dim=len(ORDER_LIST)*PRUNED_SEQ_LENGTH\n",
    "latent_dim = 10\n",
    "intermediate_dim=30\n",
    "nb_epoch = 20\n",
    "epsilon_std = 1.0\n",
    "np.random.seed(42)\n",
    "lang_mod = False\n",
    "cuda = False\n",
    "\n",
    "def create_tensor(x,gpu=False):\n",
    "    if gpu:\n",
    "        return x.cuda()\n",
    "    return x\n",
    "\n",
    "def sigmoid(x):\n",
    "    return 1./(1.+np.exp(-x))\n",
    "\n",
    "loss1 = nn.CrossEntropyLoss()\n",
    "\n",
    "def vae_loss(x_true, x_decoded_mean, z_mean, z_log_var):\n",
    "    xent_loss = original_dim * loss1(x_decoded_mean, x_true)\n",
    "    kl_loss = -0.5 * torch.sum(1 + z_log_var - (z_mean)**2 - torch.exp(z_log_var))\n",
    "#     print (\"xent loss: \", xent_loss)\n",
    "#     print (\"KL loss: \", kl_loss)\n",
    "    return (xent_loss + kl_loss)"
   ]
  },
  {
   "cell_type": "markdown",
   "metadata": {},
   "source": [
    "And run it through our training data."
   ]
  },
  {
   "cell_type": "code",
   "execution_count": 62,
   "metadata": {},
   "outputs": [],
   "source": [
    "training_size = 880 #so batchingw orks\n",
    "x_train=training_data[:training_size] #this needs to be divisible by batch size and less than or equal to dataset size\n",
    "x_train = x_train.astype('float32')\n",
    "x_train = x_train.reshape((len(x_train), np.prod(x_train.shape[1:])))\n"
   ]
  },
  {
   "cell_type": "code",
   "execution_count": 63,
   "metadata": {},
   "outputs": [],
   "source": [
    "vae_type = 'full'"
   ]
  },
  {
   "cell_type": "code",
   "execution_count": 64,
   "metadata": {},
   "outputs": [],
   "source": [
    "if vae_type == 'rec':\n",
    "    def vae_loss(x_true, x_decoded_mean, z_mean, z_log_var):\n",
    "        xent_loss = x_true.shape[0]*loss1(x_decoded_mean, x_true)\n",
    "        kl_loss = -0.5 * torch.sum(1 + z_log_var - (z_mean)**2 - torch.exp(z_log_var))\n",
    "        return (xent_loss + kl_loss), xent_loss, kl_loss"
   ]
  },
  {
   "cell_type": "code",
   "execution_count": 65,
   "metadata": {},
   "outputs": [],
   "source": [
    "def conv_size_func(Lin,dilation,kernel,padding=0,stride=1):\n",
    "  return int(((Lin+2*padding-dilation*(kernel-1)-1)/stride)+1)"
   ]
  },
  {
   "cell_type": "code",
   "execution_count": 66,
   "metadata": {},
   "outputs": [
    {
     "name": "stdout",
     "output_type": "stream",
     "text": [
      "training on full\n"
     ]
    }
   ],
   "source": [
    "if vae_type == 'full':\n",
    "    print (\"training on full\")\n",
    "    univ_dropout = [0.2]*3\n",
    "    dropout_enc = univ_dropout\n",
    "    dropout_dec = univ_dropout\n",
    "\n",
    "    layers_enc = nn.ModuleList([nn.Linear(original_dim,intermediate_dim),nn.Dropout(dropout_enc[0]),nn.ELU()])\n",
    "    for i in range(2):\n",
    "        layers_enc.append(nn.Linear(intermediate_dim,intermediate_dim))\n",
    "        layers_enc.append(nn.Dropout(dropout_enc[i+1]))\n",
    "        layers_enc.append(nn.ELU())\n",
    "\n",
    "    layers_dec = nn.ModuleList([nn.Linear(latent_dim,intermediate_dim),nn.Dropout(dropout_dec[0]),nn.ELU()])\n",
    "    for i in range(2):\n",
    "        layers_dec.append(nn.Linear(intermediate_dim,intermediate_dim))\n",
    "        layers_dec.append(nn.Dropout(dropout_dec[i+1]))\n",
    "        layers_dec.append(nn.ELU())\n",
    "\n",
    "    layers_dec.append(nn.Linear(intermediate_dim,output_dim))\n",
    "\n",
    "    layers_ae = nn.ModuleList([nn.Linear(intermediate_dim,latent_dim),nn.Linear(intermediate_dim,latent_dim)])\n",
    "elif vae_type == 'conv':\n",
    "    out_conv_enc = [50,100]\n",
    "    kernels_enc = [3,5]\n",
    "    dilations_enc = [1,3]\n",
    "    maxpools_enc = [4,3]\n",
    "    paddings_enc = [(5,5,0,0)]\n",
    "    \n",
    "    out_lin_enc = [100,500]\n",
    "    dropout_enc = [0.2,0.2]\n",
    "    \n",
    "    out_lin_dec = [100,150]\n",
    "    dropout_dec = [0.2,0.2]\n",
    "    \n",
    "    layers_enc_pre_view = nn.ModuleList([nn.Conv1d(len(ORDER_LIST),out_conv_enc[0],kernels_enc[0],stride=1,dilation=dilations_enc[0]),\n",
    "                                nn.ELU(),\n",
    "                                nn.MaxPool1d(maxpools_enc[0],padding=0),\n",
    "                                nn.ZeroPad2d(paddings_enc[0]),\n",
    "                                nn.Conv1d(out_conv_enc[0],out_conv_enc[1],kernels_enc[1],stride=1,dilation=dilations_enc[1]),\n",
    "                                nn.ELU(),\n",
    "#                                 nn.MaxPool1d(4,padding=0),\n",
    "#                                 nn.ZeroPad2d((5,5,0,0)),\n",
    "#                                 nn.Conv1d(out_conv_enc[1],out_conv_enc[2],kernels_enc[2],stride=1,dilation=dilations_enc[2]),\n",
    "#                                 nn.ELU(),\n",
    "                                nn.MaxPool1d(maxpools_enc[1],padding=0)])\n",
    "    \n",
    "    inp_len = PRUNED_SEQ_LENGTH\n",
    "    paddings_enc.append((0,0,0,0))\n",
    "    for i in range(len(out_conv_enc)):\n",
    "      inp_len = conv_size_func(inp_len,dilations_enc[i],kernels_enc[i])\n",
    "      inp_len = inp_len//maxpools_enc[i]\n",
    "      inp_len += (paddings_enc[i][0]+paddings_enc[i][1])\n",
    "    \n",
    "    enc_view = inp_len*out_conv_enc[-1]\n",
    "    print('post-convolutional size is ', enc_view)\n",
    "    \n",
    "    layers_enc_post_view = nn.ModuleList([nn.Linear(enc_view,out_lin_enc[0]),\n",
    "                                          nn.Dropout(dropout_enc[0]),\n",
    "                                          nn.ELU(),\n",
    "                                          nn.Linear(out_lin_enc[0],out_lin_enc[1]),\n",
    "                                          nn.Dropout(dropout_enc[1]),\n",
    "                                          nn.ELU()])\n",
    "    \n",
    "    layers_dec = nn.ModuleList([nn.Linear(latent_dim,out_lin_dec[0]),\n",
    "                                nn.Dropout(dropout_dec[0]),\n",
    "                                nn.ELU(),\n",
    "                                nn.Linear(out_lin_dec[0],out_lin_dec[1]),\n",
    "                                nn.Dropout(dropout_dec[1]),\n",
    "                                nn.ELU(),\n",
    "                                nn.Linear(out_lin_dec[1],output_dim)])\n",
    "    \n",
    "    layers_ae = nn.ModuleList([nn.Linear(out_lin_enc[-1],latent_dim),nn.Linear(out_lin_enc[-1],latent_dim)])\n",
    "elif vae_type == 'rec':\n",
    "    univ_dropout = [0.2]*2\n",
    "    dropout_enc = univ_dropout\n",
    "    dropout_dec = univ_dropout\n",
    "    hid_size = [20,10]\n",
    "    dec_lin = False\n",
    "    \n",
    "    num_layers = 2\n",
    "    num_layers_dec = 2\n",
    "    bid = True\n",
    "    num_dirs = 2 if bid else 1\n",
    "    \n",
    "   \n",
    "    layers_enc = nn.ModuleList([nn.RNN(len(ORDER_LIST),hid_size[0],num_layers=num_layers,batch_first=True,dropout=univ_dropout[0],bidirectional=bid)])\n",
    "\n",
    "\n",
    "    if dec_lin:\n",
    "      layers_post_rec_enc = nn.ModuleList([nn.Linear(164,intermediate_dim),\n",
    "                                         nn.Dropout(dropout_enc[0]),\n",
    "                                         nn.ELU(),\n",
    "                                         nn.Linear(intermediate_dim,intermediate_dim),\n",
    "                                         nn.Dropout(dropout_enc[1]),\n",
    "                                         nn.ELU()]) # for now, not being used in rec model\n",
    "\n",
    "\n",
    "  #     layers_pre_rec_dec = nn.ModuleList([nn.Linear(latent_dim,100),\n",
    "  #                                         nn.Dropout(dropout_dec[0]),\n",
    "  #                                         nn.ELU()])\n",
    "  #     # 25 below bc bidirectional 2 layers means we have to divide 100 by 2*2\n",
    "  #     layers_dec = nn.ModuleList([nn.RNN(50,25,num_layers=2,batch_first=True,dropout=0.2,bidirectional=True)])\n",
    "  #     layers_post_rec_dec = nn.ModuleList([nn.Linear(25*2,len(ORDER_LIST))])\n",
    "\n",
    "  #     layers_ae = nn.ModuleList([nn.Linear(intermediate_dim,latent_dim),nn.Linear(intermediate_dim,latent_dim)])\n",
    "      layers_dec = nn.ModuleList([nn.Linear(latent_dim,intermediate_dim),\n",
    "                                  nn.Dropout(.2),\n",
    "                                  nn.ELU(),\n",
    "                                  nn.Linear(intermediate_dim,intermediate_dim*2),\n",
    "                                  nn.Dropout(.2),\n",
    "                                  nn.ELU(),\n",
    "                                  nn.Linear(intermediate_dim*2,output_dim)])\n",
    "      \n",
    "      layers_dec_post_rec = 0\n",
    "    \n",
    "      layers_ae = nn.ModuleList([nn.Linear(intermediate_dim,latent_dim),nn.Linear(intermediate_dim,latent_dim)])\n",
    "    \n",
    "    else: # dec_lin = False\n",
    "      layers_post_rec_enc = 0\n",
    "      \n",
    "      layers_dec = nn.ModuleList([nn.Linear(latent_dim,hid_size[1]),nn.RNN(len(ORDER_LIST),hid_size[1],num_layers=num_layers_dec,batch_first=True,dropout=univ_dropout[1],bidirectional=bid)])\n",
    "      \n",
    "      layers_dec_post_rec = nn.ModuleList([nn.Linear(hid_size[1]*num_dirs,len(ORDER_LIST))])\n",
    "      \n",
    "      layers_ae = nn.ModuleList([nn.Linear(hid_size[0],latent_dim),nn.Linear(hid_size[0],latent_dim)])\n",
    "      \n",
    "      "
   ]
  },
  {
   "cell_type": "code",
   "execution_count": 67,
   "metadata": {
    "scrolled": true
   },
   "outputs": [
    {
     "name": "stdout",
     "output_type": "stream",
     "text": [
      "training full\n",
      "Epoch 0 | Training Loss: 13334.2744140625, Training Accuracy: 0.3849949070537306, Validation Loss: 13510.1044921875, Validation Accuracy: 0.38182773109243695\n",
      "Epoch 1 | Training Loss: 7722.04541015625, Training Accuracy: 0.5119047619047619, Validation Loss: 8183.74072265625, Validation Accuracy: 0.5118411000763942\n",
      "Epoch 2 | Training Loss: 7325.87890625, Training Accuracy: 0.5156661149308208, Validation Loss: 7713.92724609375, Validation Accuracy: 0.5146103896103896\n",
      "Epoch 3 | Training Loss: 7266.5224609375, Training Accuracy: 0.5173266276207452, Validation Loss: 7601.02294921875, Validation Accuracy: 0.5182391138273491\n",
      "Epoch 4 | Training Loss: 7094.30712890625, Training Accuracy: 0.5186370002546473, Validation Loss: 7490.4033203125, Validation Accuracy: 0.5166634835752483\n",
      "Epoch 5 | Training Loss: 6970.55908203125, Training Accuracy: 0.530817630082336, Validation Loss: 7319.56787109375, Validation Accuracy: 0.5260695187165776\n",
      "Epoch 6 | Training Loss: 6785.52685546875, Training Accuracy: 0.6042197181903064, Validation Loss: 7219.19921875, Validation Accuracy: 0.5846543162719633\n",
      "Epoch 7 | Training Loss: 6362.36279296875, Training Accuracy: 0.6889111705288176, Validation Loss: 6833.13134765625, Validation Accuracy: 0.6667780748663101\n",
      "Epoch 8 | Training Loss: 5777.22705078125, Training Accuracy: 0.7167207792207793, Validation Loss: 6233.01123046875, Validation Accuracy: 0.6979564553093965\n",
      "Epoch 9 | Training Loss: 5559.9267578125, Training Accuracy: 0.7189277226041932, Validation Loss: 6044.1953125, Validation Accuracy: 0.7008689839572193\n",
      "Epoch 10 | Training Loss: 5429.78564453125, Training Accuracy: 0.724689118071471, Validation Loss: 5855.515625, Validation Accuracy: 0.7086038961038961\n",
      "Epoch 11 | Training Loss: 5224.1796875, Training Accuracy: 0.7251878023936847, Validation Loss: 5706.1474609375, Validation Accuracy: 0.7074102368220015\n",
      "Epoch 12 | Training Loss: 5317.66259765625, Training Accuracy: 0.7275167642814702, Validation Loss: 5857.93017578125, Validation Accuracy: 0.7091291061879297\n",
      "Epoch 13 | Training Loss: 5110.26904296875, Training Accuracy: 0.7269225872167049, Validation Loss: 5582.36865234375, Validation Accuracy: 0.7097020626432391\n",
      "Epoch 14 | Training Loss: 5114.3818359375, Training Accuracy: 0.7322436550377727, Validation Loss: 5624.6728515625, Validation Accuracy: 0.7138559969442322\n",
      "Epoch 15 | Training Loss: 4994.45654296875, Training Accuracy: 0.7382703081232493, Validation Loss: 5537.3720703125, Validation Accuracy: 0.7183919022154316\n",
      "Epoch 16 | Training Loss: 4851.9775390625, Training Accuracy: 0.7549921483745013, Validation Loss: 5423.5830078125, Validation Accuracy: 0.734816653934301\n",
      "Epoch 17 | Training Loss: 4871.1669921875, Training Accuracy: 0.7613211951447245, Validation Loss: 5419.5625, Validation Accuracy: 0.7416921313980137\n",
      "Epoch 18 | Training Loss: 4753.13916015625, Training Accuracy: 0.7714964773788303, Validation Loss: 5351.0107421875, Validation Accuracy: 0.7477559205500381\n",
      "Epoch 19 | Training Loss: 4685.53466796875, Training Accuracy: 0.7761650114591291, Validation Loss: 5287.35302734375, Validation Accuracy: 0.7536287242169595\n"
     ]
    }
   ],
   "source": [
    "losses_train = []\n",
    "losses_test = []\n",
    "accuracies_train = []\n",
    "accuracies_test = []\n",
    "xents_train = []\n",
    "xents_test = []\n",
    "kls_train = []\n",
    "kls_test = []\n",
    "\n",
    "if vae_type == 'full':\n",
    "    print (\"training full\")\n",
    "    model = VAE(layers_enc,layers_ae,layers_dec)\n",
    "\n",
    "    prams = list(model.parameters())\n",
    "\n",
    "    optimizer = torch.optim.Adam(prams, lr = 0.001)\n",
    "\n",
    "    x_train_data, x_val_data = train_test_split(x_train, test_size = 0.1)\n",
    "\n",
    "    ins_train = x_train_data.reshape(len(x_train_data)*PRUNED_SEQ_LENGTH,len(ORDER_LIST))\n",
    "    ins_train = torch.Tensor(ins_train)\n",
    "    ins_train = torch.argmax(ins_train,1)\n",
    "\n",
    "    ins_val = x_val_data.reshape(len(x_val_data)*PRUNED_SEQ_LENGTH,len(ORDER_LIST))\n",
    "    ins_val = torch.Tensor(ins_val)\n",
    "    ins_val = torch.argmax(ins_val,1)\n",
    "\n",
    "    for epoch in range(nb_epoch):\n",
    "        model.train()\n",
    "\n",
    "        train = np.random.permutation(x_train_data)\n",
    "        train = train.reshape(-1,batch_size,len(ORDER_LIST)*PRUNED_SEQ_LENGTH) # 1968)\n",
    "\n",
    "        train = torch.Tensor(train)\n",
    "\n",
    "        \n",
    "        \n",
    "        for batch in train:\n",
    "            out = model(batch)\n",
    "\n",
    "            batch = batch.reshape(batch_size*PRUNED_SEQ_LENGTH,len(ORDER_LIST))\n",
    "            batch = torch.argmax(batch,1)\n",
    "            out = out.reshape(batch_size*PRUNED_SEQ_LENGTH,len(ORDER_LIST))\n",
    "\n",
    "            loss = vae_loss(batch,out,model.z_mean,model.z_log_var)\n",
    "            \n",
    "            optimizer.zero_grad()\n",
    "            loss.backward()  \n",
    "            optimizer.step()\n",
    "            \n",
    "        model.eval()\n",
    "\n",
    "        out_train = model(torch.Tensor(x_train_data))\n",
    "        out_train = torch.Tensor(out_train)\n",
    "        out_train = out_train.reshape(len(x_train_data)*PRUNED_SEQ_LENGTH,len(ORDER_LIST))\n",
    "\n",
    "        classpreds_train = torch.argmax(out_train,dim=1)\n",
    "        bool_train = (classpreds_train==ins_train)\n",
    "        class_acc_train = bool_train.sum().item()/bool_train.shape[0]\n",
    "\n",
    "        out_val = model(torch.Tensor(x_val_data))\n",
    "        out_val = torch.Tensor(out_val)\n",
    "        out_val = out_val.reshape(len(x_val_data)*PRUNED_SEQ_LENGTH,len(ORDER_LIST))\n",
    "\n",
    "        classpreds_val = torch.argmax(out_val,dim=1)\n",
    "        bool_val = (classpreds_val==ins_val)\n",
    "        class_acc_val = bool_val.sum().item()/bool_val.shape[0]\n",
    "\n",
    "        loss_train = vae_loss(ins_train,out_train,model.z_mean,model.z_log_var)\n",
    "        loss_val = vae_loss(ins_val,out_val,model.z_mean,model.z_log_var)\n",
    "        \n",
    "        losses_train.append(loss_train)\n",
    "        losses_test.append(loss_val)\n",
    "        accuracies_train.append(class_acc_train)\n",
    "        accuracies_test.append(class_acc_val)\n",
    "        \n",
    "        print('Epoch %s | Training Loss: %s, Training Accuracy: %s, Validation Loss: %s, Validation Accuracy: %s'\n",
    "              %( epoch, loss_train.item(), class_acc_train, loss_val.item(), class_acc_val ) )\n",
    "\n",
    "elif vae_type == 'conv':\n",
    "    print (\"conv\")\n",
    "    model = VAE_conv(layers_enc_pre_view,enc_view,layers_enc_post_view,layers_ae,layers_dec)\n",
    "        \n",
    "    prams = list(model.parameters())\n",
    "\n",
    "    optimizer = torch.optim.Adam(prams, lr = 0.001)\n",
    "\n",
    "    x_train_data, x_val_data = train_test_split(x_train, test_size = 0.1)\n",
    "\n",
    "    ins_train = x_train_data.reshape(len(x_train_data)*PRUNED_SEQ_LENGTH,len(ORDER_LIST))\n",
    "    ins_train = torch.Tensor(ins_train)\n",
    "    ins_train = torch.argmax(ins_train,1)\n",
    "\n",
    "    ins_val = x_val_data.reshape(len(x_val_data)*PRUNED_SEQ_LENGTH,len(ORDER_LIST))\n",
    "    ins_val = torch.Tensor(ins_val)\n",
    "    ins_val = torch.argmax(ins_val,1)\n",
    "\n",
    "    for epoch in range(nb_epoch):\n",
    "        model.train()\n",
    "\n",
    "        train = np.random.permutation(x_train_data)\n",
    "        train = train.reshape(-1,batch_size,PRUNED_SEQ_LENGTH,len(ORDER_LIST))\n",
    "\n",
    "        train = torch.Tensor(train)\n",
    "        train = train.transpose(-2,-1)\n",
    "\n",
    "        for batch in train:\n",
    "            out = model(batch)\n",
    "\n",
    "            batch = batch.transpose(-2,-1).reshape(batch_size*PRUNED_SEQ_LENGTH,len(ORDER_LIST))\n",
    "            batch = torch.argmax(batch,1)\n",
    "            out = out.reshape(batch_size*PRUNED_SEQ_LENGTH,len(ORDER_LIST))\n",
    "                            \n",
    "            loss = vae_loss(batch,out,model.z_mean,model.z_log_var)\n",
    "\n",
    "            optimizer.zero_grad()\n",
    "            loss.backward()\n",
    "            optimizer.step()\n",
    "\n",
    "        model.eval()\n",
    "\n",
    "        out_train = model(torch.Tensor(x_train_data).reshape(-1,PRUNED_SEQ_LENGTH,len(ORDER_LIST)).transpose(-2,-1))\n",
    "        out_train = torch.Tensor(out_train)\n",
    "        out_train = out_train.reshape(len(x_train_data)*PRUNED_SEQ_LENGTH,len(ORDER_LIST))\n",
    "\n",
    "        classpreds_train = torch.argmax(out_train,dim=1)\n",
    "        bool_train = (classpreds_train==ins_train)\n",
    "        class_acc_train = bool_train.sum().item()/bool_train.shape[0]\n",
    "\n",
    "        out_val = model(torch.Tensor(x_val_data).reshape(-1,PRUNED_SEQ_LENGTH,len(ORDER_LIST)).transpose(-2,-1))\n",
    "        out_val = torch.Tensor(out_val)\n",
    "        out_val = out_val.reshape(len(x_val_data)*PRUNED_SEQ_LENGTH,len(ORDER_LIST))\n",
    "\n",
    "        classpreds_val = torch.argmax(out_val,dim=1)\n",
    "        bool_val = (classpreds_val==ins_val)\n",
    "        class_acc_val = bool_val.sum().item()/bool_val.shape[0]\n",
    "\n",
    "        loss_train = vae_loss(ins_train,out_train,model.z_mean,model.z_log_var)\n",
    "        loss_val = vae_loss(ins_val,out_val,model.z_mean,model.z_log_var)\n",
    "\n",
    "        losses_train.append(loss_train)\n",
    "        losses_test.append(loss_val)\n",
    "        accuracies_train.append(class_acc_train)\n",
    "        accuracies_test.append(class_acc_val)\n",
    "        \n",
    "        print('Epoch %s | Training Loss: %s, Training Accuracy: %s, Validation Loss: %s, Validation Accuracy: %s'\n",
    "              %( epoch, loss_train.item(), class_acc_train, loss_val.item(), class_acc_val ) )\n",
    "        \n",
    "elif vae_type == 'rec':\n",
    "    print (\"rec\")\n",
    "    if lang_mod:\n",
    "        print(\"language model training\")\n",
    "    else:\n",
    "        print(\"vae training\")\n",
    "    \n",
    "    alpha = 600\n",
    "    beta = 0.05\n",
    "    print('KL annealing terms: alpha = {}, beta = {}'.format(alpha,beta))\n",
    "        \n",
    "    model = VAE_rec(layers_enc,layers_post_rec_enc,layers_ae,0,layers_dec,layers_dec_post_rec)\n",
    "    \n",
    "    if cuda:\n",
    "        model = model.cuda()\n",
    "    \n",
    "    prams = list(model.parameters())\n",
    "\n",
    "    optimizer = torch.optim.Adam(prams, lr = 0.01)\n",
    "\n",
    "    x_train_data, x_val_data = train_test_split(x_train, test_size = 0.1)\n",
    "    \n",
    "#     print('FAKE TRAINING SET TO ASSESS REC VALIDITY')\n",
    "#     x_train_data = np.array([[0,1,0,0,0,0,0,0,0,0,0,0,0,0,0,0,0,0,0,0,0,0,0,0]]*3690000).reshape(45000,1968)\n",
    "    \n",
    "#     import pdb; pdb.set_trace()\n",
    "    \n",
    "    ins_train = x_train_data.reshape(len(x_train_data)*PRUNED_SEQ_LENGTH,len(ORDER_LIST))\n",
    "    ins_train = torch.Tensor(ins_train)\n",
    "    ins_train = torch.argmax(ins_train,1)\n",
    "\n",
    "    ins_val = x_val_data.reshape(len(x_val_data)*PRUNED_SEQ_LENGTH,len(ORDER_LIST))\n",
    "    ins_val = torch.Tensor(ins_val)\n",
    "    ins_val = torch.argmax(ins_val,1)\n",
    "    \n",
    "    ins_train = create_tensor(ins_train,gpu=cuda)\n",
    "    ins_val = create_tensor(ins_val,gpu=cuda)\n",
    "    \n",
    "    \n",
    "#     ## Printing model perf before\n",
    "#     model.eval()\n",
    "            \n",
    "#     out_train = model(create_tensor(torch.Tensor(x_train_data),gpu=cuda).reshape(-1,PRUNED_SEQ_LENGTH,len(ORDER_LIST)),False,lang_mod)\n",
    "#     out_train = out_train.reshape(len(x_train_data)*PRUNED_SEQ_LENGTH,len(ORDER_LIST))\n",
    "\n",
    "#     classpreds_train = torch.argmax(out_train,dim=1)\n",
    "#     bool_train = (classpreds_train==ins_train)\n",
    "#     class_acc_train = bool_train.sum().item()/bool_train.shape[0]\n",
    "\n",
    "#     out_val = model(create_tensor(torch.Tensor(x_val_data),gpu=cuda).reshape(-1,PRUNED_SEQ_LENGTH,len(ORDER_LIST)),False,lang_mod)\n",
    "#     out_val = out_val.reshape(len(x_val_data)*PRUNED_SEQ_LENGTH,len(ORDER_LIST))\n",
    "\n",
    "#     classpreds_val = torch.argmax(out_val,dim=1)\n",
    "#     bool_val = (classpreds_val==ins_val)\n",
    "#     class_acc_val = bool_val.sum().item()/bool_val.shape[0]\n",
    "\n",
    "#     loss_train,xent_train,kl_train = vae_loss(ins_train,out_train,model.z_mean,model.z_log_var)\n",
    "#     kl_train = sigmoid(beta*(-alpha))*kl_train # annealing\n",
    "#     loss_train = xent_train + kl_train # annealing\n",
    "#     loss_val,xent_val,kl_val = vae_loss(ins_val,out_val,model.z_mean,model.z_log_var)\n",
    "#     kl_val = sigmoid(beta*(-alpha))*kl_val # annealing\n",
    "#     loss_val = xent_val + kl_val # annealing\n",
    "\n",
    "#     losses_train.append(loss_train.item())\n",
    "#     losses_test.append(loss_val.item())\n",
    "#     accuracies_train.append(class_acc_train)\n",
    "#     accuracies_test.append(class_acc_val)\n",
    "#     xents_train.append(xent_train.item())\n",
    "#     xents_test.append(xent_val.item())\n",
    "#     kls_train.append(kl_train.item())\n",
    "#     kls_test.append(kl_val.item())\n",
    "\n",
    "#     print('Pre-training | Training Loss: %s, Training Accuracy: %s, Validation Loss: %s, Validation Accuracy: %s'\n",
    "#           %( loss_train.item(), class_acc_train, loss_val.item(), class_acc_val ) )\n",
    "    \n",
    "    for epoch in range(nb_epoch):\n",
    "        print('Epoch {}'.format(epoch))\n",
    "        model.train()\n",
    "\n",
    "        train = np.random.permutation(x_train_data)\n",
    "        train = train.reshape(-1,batch_size,PRUNED_SEQ_LENGTH,len(ORDER_LIST))\n",
    "\n",
    "        train = create_tensor(torch.Tensor(train),gpu=cuda)\n",
    "\n",
    "        xents = []\n",
    "        kls = []\n",
    "        \n",
    "        num_dum = -1\n",
    "\n",
    "        optimizer.zero_grad()\n",
    "        \n",
    "        for batch in train:\n",
    "            num_dum += 1\n",
    "            out = model(batch,True,lang_mod)\n",
    "            \n",
    "#             import pdb; pdb.set_trace()\n",
    "            batch = torch.argmax(batch,-1)\n",
    "            batch = batch.reshape(-1)\n",
    "                        \n",
    "            out = out.reshape(batch_size*PRUNED_SEQ_LENGTH,len(ORDER_LIST))\n",
    "\n",
    "            loss,xent,kl = vae_loss(batch,out,model.z_mean,model.z_log_var)\n",
    "            mult = epoch*len(x_train_data)/batch_size + num_dum # annealing\n",
    "            kl = sigmoid(beta*(mult-alpha))*kl # annealing\n",
    "            loss = xent + kl # annealing\n",
    "            if num_dum % 10 == 0:\n",
    "                print((batch==torch.argmax(out,-1)).sum().item()/(batch_size*PRUNED_SEQ_LENGTH*1.0))\n",
    "            xents.append(xent)\n",
    "            kls.append(kl)\n",
    "\n",
    "            if lang_mod:\n",
    "                xent.backward()\n",
    "            else:\n",
    "                loss.backward()   \n",
    "            \n",
    "#         for layer, paramval in model.named_parameters():\n",
    "#             print(layer,paramval.grad)\n",
    "            \n",
    "        optimizer.step()\n",
    "            \n",
    "#         import pdb; pdb.set_trace()\n",
    "        print('xent mean is:',torch.stack(xents).mean().item())\n",
    "        print('kl mean is:',torch.stack(kls).mean().item())\n",
    "\n",
    "#         model.eval()\n",
    "        \n",
    "# #         import pdb; pdb.set_trace()\n",
    "#         out_train = model(create_tensor(torch.Tensor(x_train_data),gpu=cuda).reshape(-1,PRUNED_SEQ_LENGTH,len(ORDER_LIST)),False,lang_mod)\n",
    "#         out_train = out_train.reshape(len(x_train_data)*PRUNED_SEQ_LENGTH,len(ORDER_LIST))\n",
    "\n",
    "#         classpreds_train = torch.argmax(out_train,dim=1)\n",
    "#         bool_train = (classpreds_train==ins_train)\n",
    "#         class_acc_train = bool_train.sum().item()/bool_train.shape[0]\n",
    "\n",
    "#         out_val = model(create_tensor(torch.Tensor(x_val_data),gpu=cuda).reshape(-1,PRUNED_SEQ_LENGTH,len(ORDER_LIST)),False,lang_mod)\n",
    "#         out_val = out_val.reshape(len(x_val_data)*PRUNED_SEQ_LENGTH,len(ORDER_LIST))\n",
    "\n",
    "#         classpreds_val = torch.argmax(out_val,dim=1)\n",
    "#         bool_val = (classpreds_val==ins_val)\n",
    "#         class_acc_val = bool_val.sum().item()/bool_val.shape[0]\n",
    "\n",
    "#         loss_train,xent_train,kl_train = vae_loss(ins_train,out_train,model.z_mean,model.z_log_var)\n",
    "#         mult = epoch*len(x_train_data)/batch_size + num_dum # annealing\n",
    "#         kl_train = sigmoid(beta*(mult-alpha))*kl_train # annealing\n",
    "#         loss_train = xent_train + kl_train # annealing\n",
    "#         loss_val,xent_val,kl_val = vae_loss(ins_val,out_val,model.z_mean,model.z_log_var)\n",
    "#         kl_val = sigmoid(beta*(mult-alpha))*kl_val # annealing\n",
    "#         loss_val = xent_val + kl_val # annealing\n",
    "        \n",
    "#         losses_train.append(loss_train.item())\n",
    "#         losses_test.append(loss_val.item())\n",
    "#         accuracies_train.append(class_acc_train)\n",
    "#         accuracies_test.append(class_acc_val)\n",
    "#         xents_train.append(xent_train.item())\n",
    "#         xents_test.append(xent_val.item())\n",
    "#         kls_train.append(kl_train.item())\n",
    "#         kls_test.append(kl_val.item())\n",
    "        \n",
    "#         print(classpreds_train)\n",
    "#         print(classpreds_val)\n",
    "        \n",
    "#         print('Epoch %s | Training Loss: %s, Training Accuracy: %s, Validation Loss: %s, Validation Accuracy: %s'\n",
    "#               %( epoch, loss_train.item(), class_acc_train, loss_val.item(), class_acc_val ) )"
   ]
  },
  {
   "cell_type": "markdown",
   "metadata": {},
   "source": [
    "Let's explore the latent space"
   ]
  },
  {
   "cell_type": "code",
   "execution_count": 68,
   "metadata": {},
   "outputs": [],
   "source": [
    "if vae_type == 'full':\n",
    "    fit_xtrain = model(torch.Tensor(x_train)).detach()\n",
    "    z_means = model.z_mean.detach()\n",
    "elif vae_type == 'conv':\n",
    "    fit_xtrain = model(torch.Tensor(x_train.reshape(-1,PRUNED_SEQ_LENGTH,len(ORDER_LIST))).transpose(1,2)).detach()\n",
    "    z_means = model.z_mean.detach()\n",
    "elif vae_type == 'rec':\n",
    "    fit_xtrain = model(create_tensor(torch.Tensor(x_train_data),gpu=cuda).reshape(-1,PRUNED_SEQ_LENGTH,len(ORDER_LIST))).detach()\n",
    "    z_means = model.z_mean.detach()"
   ]
  },
  {
   "cell_type": "code",
   "execution_count": 69,
   "metadata": {},
   "outputs": [
    {
     "data": {
      "image/png": "[encoded data removed]",
      "text/plain": [
       "<Figure size 432x288 with 1 Axes>"
      ]
     },
     "metadata": {},
     "output_type": "display_data"
    }
   ],
   "source": [
    "transposed_zmeans = np.array(z_means).transpose()\n",
    "\n",
    "plt.scatter(transposed_zmeans[0], transposed_zmeans[1], s = 1, linewidths = 0)\n",
    "plt.show()"
   ]
  },
  {
   "cell_type": "code",
   "execution_count": 70,
   "metadata": {},
   "outputs": [],
   "source": [
    "from sklearn.cluster import KMeans\n",
    "\n",
    "z_means_np = np.array(z_means)\n",
    "kmeans = KMeans(n_clusters=12, random_state=1).fit(z_means_np)"
   ]
  },
  {
   "cell_type": "code",
   "execution_count": 71,
   "metadata": {},
   "outputs": [
    {
     "data": {
      "image/png": "[encoded data removed]",
      "text/plain": [
       "<Figure size 864x864 with 1 Axes>"
      ]
     },
     "metadata": {},
     "output_type": "display_data"
    }
   ],
   "source": [
    "sample_points=len(z_means_np)\n",
    "\n",
    "latent_dim = 2\n",
    "fig = plt.figure(figsize=(12,12))\n",
    "counter=0\n",
    "cmap=kmeans.labels_\n",
    "for z1 in range(latent_dim):\n",
    "    for z2 in range(z1+1,latent_dim):\n",
    "        counter+=1\n",
    "        fig.add_subplot(latent_dim,latent_dim,counter)\n",
    "        plt.title(str(z1)+\"_\"+str(z2))\n",
    "        plt.scatter(z_means_np[:, z1][::-1], z_means_np[:, z2][::-1],c=cmap[::-1], s = 15, alpha=0.1,marker=\"o\")\n",
    "#         plt.scatter(z_means_np[:, z1][::-1], z_means_np[:, z2][::-1],c=\"y\" ,alpha=0.3,marker=\"o\")\n",
    "        plt.scatter(z_means_np[0][z1], z_means_np[0][z2],c=\"r\" ,alpha=1,s=40,marker=\"s\")\n",
    "        plt.xlabel(\"Latent dim\"+str(z1+1))\n",
    "        plt.ylabel(\"Latent dim\"+str(z2+1));\n",
    "plt.savefig(\"Try2_originalDropout.png\")\n"
   ]
  },
  {
   "cell_type": "code",
   "execution_count": 72,
   "metadata": {},
   "outputs": [
    {
     "data": {
      "image/png": "[encoded data removed]",
      "text/plain": [
       "<Figure size 432x288 with 1 Axes>"
      ]
     },
     "metadata": {},
     "output_type": "display_data"
    }
   ],
   "source": [
    "plt.pcolor(x_train[0].reshape(PRUNED_SEQ_LENGTH, len(ORDER_LIST)).transpose(1, 0))\n",
    "plt.show()"
   ]
  },
  {
   "cell_type": "markdown",
   "metadata": {},
   "source": [
    "## Calculating P(X)"
   ]
  },
  {
   "cell_type": "code",
   "execution_count": 73,
   "metadata": {},
   "outputs": [],
   "source": [
    "m = torch.nn.Softmax()"
   ]
  },
  {
   "cell_type": "code",
   "execution_count": 74,
   "metadata": {},
   "outputs": [],
   "source": [
    "if vae_type == 'full':\n",
    "    fit_total = model(torch.Tensor(sarkisyan_data[:5000])).detach()\n",
    "    latent_data = model.z_mean.detach()\n",
    "elif vae_type == 'conv':\n",
    "    fit_total = model(torch.Tensor(sarkisyan_data[:5000].reshape(-1,PRUNED_SEQ_LENGTH,len(ORDER_LIST))).transpose(1,2)).detach()\n",
    "    latent_data = model.z_mean.detach()\n",
    "elif vae_type == 'rec':\n",
    "    fit_total = model(create_tensor(torch.Tensor(sarkisyan_data[:5000]),gpu=cuda).reshape(-1,PRUNED_SEQ_LENGTH,len(ORDER_LIST))).detach()\n",
    "    latent_data = model.z_mean.detach()    \n",
    "    "
   ]
  },
  {
   "cell_type": "code",
   "execution_count": 75,
   "metadata": {},
   "outputs": [],
   "source": [
    "if vae_type == 'rec':\n",
    "    latent_data=latent_data[-2:].contiguous().transpose(0,1).contiguous().view(-1,4)"
   ]
  },
  {
   "cell_type": "code",
   "execution_count": 76,
   "metadata": {},
   "outputs": [
    {
     "name": "stderr",
     "output_type": "stream",
     "text": [
      "/usr/local/lib/python3.5/dist-packages/ipykernel_launcher.py:1: UserWarning: Implicit dimension choice for softmax has been deprecated. Change the call to include dim=X as an argument.\n",
      "  \"\"\"Entry point for launching an IPython kernel.\n"
     ]
    }
   ],
   "source": [
    "reshaped_fit_sarkisyan = np.array(m(fit_total.reshape(len(fit_total) * PRUNED_SEQ_LENGTH, len(ORDER_LIST))).reshape(len(fit_total), PRUNED_SEQ_LENGTH, len(ORDER_LIST)).transpose(2, 1))"
   ]
  },
  {
   "cell_type": "code",
   "execution_count": 77,
   "metadata": {},
   "outputs": [
    {
     "data": {
      "text/plain": [
       "<matplotlib.collections.PolyCollection at 0x7fdcad674438>"
      ]
     },
     "execution_count": 77,
     "metadata": {},
     "output_type": "execute_result"
    },
    {
     "data": {
      "image/png": "[encoded data removed]",
      "text/plain": [
       "<Figure size 432x288 with 1 Axes>"
      ]
     },
     "metadata": {},
     "output_type": "display_data"
    }
   ],
   "source": [
    "plt.pcolor(reshaped_fit_sarkisyan[0])"
   ]
  },
  {
   "cell_type": "code",
   "execution_count": 78,
   "metadata": {},
   "outputs": [
    {
     "name": "stdout",
     "output_type": "stream",
     "text": [
      "Spearman SpearmanrResult(correlation=0.023639890864924122, pvalue=0.09464105292729617)\n",
      "Pearson (0.020905930324454022, 0.1393905356532747)\n",
      "------------------------------\n",
      "Spearman SpearmanrResult(correlation=0.02362438331304002, pvalue=0.09485773147071465)\n",
      "Pearson (0.020896038431060932, 0.13957784812322296)\n",
      "------------------------------\n",
      "Spearman SpearmanrResult(correlation=0.02361216690176319, pvalue=0.09502870436479602)\n",
      "Pearson (0.021507063199827037, 0.12836661277486575)\n"
     ]
    }
   ],
   "source": [
    "reshaped_fit_sarkisyan = reshaped_fit_sarkisyan[:5000]\n",
    "\n",
    "sample_size=len(reshaped_fit_sarkisyan)\n",
    "sample_for_averging_size=100\n",
    "sequence_size=PRUNED_SEQ_LENGTH\n",
    "digit_size = len(ORDER_LIST)\n",
    "\n",
    "digit = reshaped_fit_sarkisyan[0]#fit_xtrain_softmax_reshaped[0]\n",
    "digit_wt = digit\n",
    "digit_wt = normalize(digit,axis=0, norm='l1')\n",
    "# print (digit_wt)\n",
    "\n",
    "\n",
    "wt_prob=compute_log_probability(reshaped_fit_sarkisyan[0].reshape(digit_size, sequence_size),digit_wt)\n",
    "#print (\"wt_log_prob: \", wt_prob)\n",
    "\n",
    "wt_probs=[]\n",
    "digit_avg=np.zeros((digit_size, sequence_size))\n",
    "\n",
    "\n",
    "sample_indices=random.sample(range(sample_size),sample_for_averging_size)\n",
    "\n",
    "counter=0\n",
    "for sample in sample_indices:\n",
    "    digit = reshaped_fit_sarkisyan[sample]\n",
    "#     print (digit)\n",
    "#     print (digit_avg)\n",
    "#     digit_wt_i = normalize(digit,axis=0, norm='l1')\n",
    "    digit_wt_i = digit\n",
    "    \n",
    "#     print (digit_wt_i)\n",
    "    \n",
    "    digit_avg+=np.array(digit_wt_i) * 1. / sample_for_averging_size\n",
    "    \n",
    "    wt_p=compute_log_probability(reshaped_fit_sarkisyan[sample].reshape(digit_size, sequence_size),digit_wt_i)\n",
    "    wt_probs.append(wt_p)\n",
    "    counter+=1\n",
    "    \n",
    "average_wt_p=np.mean(wt_probs)\n",
    "\n",
    "fitnesses_vs_wt=[]\n",
    "fitnesses=[] #first plug in just the sequences\n",
    "fitnesses_vs_avg=[] \n",
    "\n",
    "for sample in range(0,sample_size):\n",
    "    digit = reshaped_fit_sarkisyan[sample]\n",
    "#     digit = normalize(digit,axis=0, norm='l1')\n",
    "    \n",
    "    fitness=compute_log_probability(reshaped_fit_sarkisyan[sample].reshape(digit_size, sequence_size),digit)-wt_prob\n",
    "    fitnesses.append(fitness)\n",
    "    \n",
    "    fitness=compute_log_probability(reshaped_fit_sarkisyan[sample].reshape(digit_size, sequence_size),digit_wt)-wt_prob\n",
    "    fitnesses_vs_wt.append(fitness)\n",
    "    \n",
    "    fitness=compute_log_probability(reshaped_fit_sarkisyan[sample].reshape(digit_size, sequence_size),digit_avg)-average_wt_p\n",
    "    fitnesses_vs_avg.append(fitness)\n",
    "    \n",
    "    \n",
    "print (\"Spearman\",spearmanr(fitnesses_vs_avg,sarkisyan['quantitative_function'][:sample_size]))\n",
    "print (\"Pearson\", pearsonr(fitnesses_vs_avg,sarkisyan['quantitative_function'][:sample_size]))\n",
    "print ('------------------------------')\n",
    "print (\"Spearman\",spearmanr(fitnesses_vs_wt,sarkisyan['quantitative_function'][:sample_size]))\n",
    "print (\"Pearson\", pearsonr(fitnesses_vs_wt,sarkisyan['quantitative_function'][:sample_size]))\n",
    "print ('------------------------------')\n",
    "print (\"Spearman\",spearmanr(fitnesses,sarkisyan['quantitative_function'][:sample_size]))\n",
    "print (\"Pearson\", pearsonr(fitnesses,sarkisyan['quantitative_function'][:sample_size]))"
   ]
  },
  {
   "cell_type": "code",
   "execution_count": 79,
   "metadata": {},
   "outputs": [],
   "source": [
    "# sample_size=len(fit_total)\n",
    "# sample_for_averging_size=100\n",
    "# sequence_size=PRUNED_SEQ_LENGTH\n",
    "# digit_size = len(ORDER_LIST)\n",
    "\n",
    "# digit = reshaped_fit_sarkisyan[0]#fit_xtrain_softmax_reshaped[0]\n",
    "# digit_wt = digit\n",
    "# digit_wt = normalize(digit,axis=0, norm='l1')\n",
    "# # print (digit_wt)\n",
    "\n",
    "\n",
    "# wt_prob=compute_log_probability(reshaped_fit_sarkisyan[0].reshape(digit_size, sequence_size),digit_wt)\n",
    "\n",
    "# wt_probs=[]\n",
    "# digit_avg=np.zeros((digit_size, sequence_size))\n",
    "\n",
    "\n",
    "# sample_indices=random.sample(range(sample_size),sample_for_averging_size)\n",
    "\n",
    "# counter=0\n",
    "# for sample in sample_indices:\n",
    "#     digit = reshaped_fit_sarkisyan[sample]\n",
    "# #     print (digit)\n",
    "# #     print (digit_avg)\n",
    "# #     digit_wt_i = normalize(digit,axis=0, norm='l1')\n",
    "#     digit_wt_i = digit\n",
    "    \n",
    "# #     print (digit_wt_i)\n",
    "    \n",
    "#     digit_avg+=np.array(digit_wt_i) * 1. / sample_for_averging_size\n",
    "    \n",
    "#     wt_p=compute_log_probability(reshaped_fit_sarkisyan[sample].reshape(digit_size, sequence_size),digit_wt_i)\n",
    "#     wt_probs.append(wt_p)\n",
    "#     counter+=1\n",
    "    \n",
    "# average_wt_p=np.mean(wt_probs)\n",
    "\n",
    "# fitnesses_vs_wt=[]\n",
    "# fitnesses=[] #first plug in just the sequences\n",
    "# fitnesses_vs_avg=[] \n",
    "\n",
    "# for sample in range(1,sample_size):\n",
    "#     digit = reshaped_fit_sarkisyan[sample]\n",
    "# #     digit = normalize(digit,axis=0, norm='l1')\n",
    "    \n",
    "#     fitness=compute_log_probability(reshaped_fit_sarkisyan[sample].reshape(digit_size, sequence_size),digit)-wt_prob\n",
    "#     fitnesses.append(fitness)\n",
    "    \n",
    "#     fitness=compute_log_probability(reshaped_fit_sarkisyan[sample].reshape(digit_size, sequence_size),digit_wt)-wt_prob\n",
    "#     fitnesses_vs_wt.append(fitness)\n",
    "    \n",
    "#     fitness=compute_log_probability(reshaped_fit_sarkisyan[sample].reshape(digit_size, sequence_size),digit_avg)-average_wt_p\n",
    "#     fitnesses_vs_avg.append(fitness)\n",
    "    \n",
    "    \n",
    "# print (\"Spearman\",spearmanr(fitnesses_vs_avg,sarkisyan['quantitative_function'][:sample_size-1]))\n",
    "# print (\"Pearson\", pearsonr(fitnesses_vs_avg,sarkisyan['quantitative_function'][:sample_size-1]))\n",
    "# print ('------------------------------')\n",
    "# print (\"Spearman\",spearmanr(fitnesses_vs_wt,sarkisyan['quantitative_function'][:sample_size-1]))\n",
    "# print (\"Pearson\", pearsonr(fitnesses_vs_wt,sarkisyan['quantitative_function'][:sample_size-1]))\n",
    "# print ('------------------------------')\n",
    "# print (\"Spearman\",spearmanr(fitnesses,sarkisyan['quantitative_function'][:sample_size-1]))\n",
    "# print (\"Pearson\", pearsonr(fitnesses,sarkisyan['quantitative_function'][:sample_size-1]))"
   ]
  },
  {
   "cell_type": "code",
   "execution_count": 80,
   "metadata": {},
   "outputs": [
    {
     "data": {
      "text/plain": [
       "<matplotlib.collections.PathCollection at 0x7fdd3fd7c6a0>"
      ]
     },
     "execution_count": 80,
     "metadata": {},
     "output_type": "execute_result"
    },
    {
     "data": {
      "image/png": "[encoded data removed]",
      "text/plain": [
       "<Figure size 432x288 with 1 Axes>"
      ]
     },
     "metadata": {},
     "output_type": "display_data"
    }
   ],
   "source": [
    "plt.scatter(fitnesses_vs_wt, sarkisyan['quantitative_function'][0:sample_size])"
   ]
  },
  {
   "cell_type": "code",
   "execution_count": 81,
   "metadata": {},
   "outputs": [
    {
     "data": {
      "text/plain": [
       "array([[4.1664148e-06, 1.7139421e-06, 4.4828544e-06, ..., 7.3700619e-07,\n",
       "        3.2073666e-07, 1.8792365e-01],\n",
       "       [3.0289857e-06, 2.5528655e-07, 1.8158410e-07, ..., 1.1088385e-05,\n",
       "        2.7634058e-05, 3.2353185e-02],\n",
       "       [5.6433291e-05, 1.2770618e-03, 1.7502670e-07, ..., 2.4583281e-07,\n",
       "        6.4776599e-05, 1.8084582e-03],\n",
       "       ...,\n",
       "       [2.4063778e-05, 9.6262875e-06, 8.0861906e-07, ..., 7.7629394e-08,\n",
       "        3.7442980e-04, 1.0430574e-01],\n",
       "       [9.0091974e-01, 1.7787610e-07, 5.8406290e-06, ..., 2.1670012e-06,\n",
       "        1.8175591e-06, 9.8997615e-02],\n",
       "       [3.4681727e-07, 2.4727678e-06, 1.9841111e-06, ..., 4.6912470e-07,\n",
       "        1.5597084e-06, 1.2918520e-01]], dtype=float32)"
      ]
     },
     "execution_count": 81,
     "metadata": {},
     "output_type": "execute_result"
    }
   ],
   "source": [
    "reshaped_fit_sarkisyan[0].reshape(digit_size, sequence_size).T"
   ]
  },
  {
   "cell_type": "markdown",
   "metadata": {},
   "source": [
    "# Training a classifier over the latent space"
   ]
  },
  {
   "cell_type": "code",
   "execution_count": 82,
   "metadata": {},
   "outputs": [],
   "source": [
    "fulllatent_data = np.concatenate((np.array(latent_data),np.array([fitnesses,fitnesses_vs_wt,fitnesses_vs_avg]).transpose()),axis=1)"
   ]
  },
  {
   "cell_type": "code",
   "execution_count": 83,
   "metadata": {},
   "outputs": [],
   "source": [
    "X_train, X_test, y_train, y_test = train_test_split(np.array(fulllatent_data), sarkisyan['quantitative_function'][:5000], \n",
    "                                                   test_size = 0.3, random_state=10)"
   ]
  },
  {
   "cell_type": "code",
   "execution_count": 84,
   "metadata": {},
   "outputs": [
    {
     "data": {
      "text/plain": [
       "0.1307596367851246"
      ]
     },
     "execution_count": 84,
     "metadata": {},
     "output_type": "execute_result"
    }
   ],
   "source": [
    "latentReg = RandomForestRegressor()\n",
    "latentReg.fit(X_train, y_train)\n",
    "# latentReg.predict(X_test)\n",
    "latentReg.score(X_test, y_test)"
   ]
  },
  {
   "cell_type": "code",
   "execution_count": 85,
   "metadata": {},
   "outputs": [
    {
     "data": {
      "text/plain": [
       "SpearmanrResult(correlation=0.3863782267159729, pvalue=1.356906400639763e-54)"
      ]
     },
     "execution_count": 85,
     "metadata": {},
     "output_type": "execute_result"
    }
   ],
   "source": [
    "ypreds = latentReg.predict(X_test)\n",
    "\n",
    "spearmanr(ypreds,y_test)"
   ]
  },
  {
   "cell_type": "code",
   "execution_count": 86,
   "metadata": {},
   "outputs": [
    {
     "data": {
      "image/png": "[encoded data removed]",
      "text/plain": [
       "<Figure size 432x288 with 1 Axes>"
      ]
     },
     "metadata": {},
     "output_type": "display_data"
    }
   ],
   "source": [
    "plt.scatter(X_train[:,0], y_train)\n",
    "plt.show()"
   ]
  },
  {
   "cell_type": "code",
   "execution_count": 60,
   "metadata": {},
   "outputs": [
    {
     "data": {
      "image/png": "[encoded data removed]",
      "text/plain": [
       "<Figure size 432x288 with 1 Axes>"
      ]
     },
     "metadata": {},
     "output_type": "display_data"
    }
   ],
   "source": [
    "plt.hist(y_train)\n",
    "plt.show()"
   ]
  },
  {
   "cell_type": "code",
   "execution_count": 61,
   "metadata": {},
   "outputs": [
    {
     "data": {
      "text/plain": [
       "0.68"
      ]
     },
     "execution_count": 61,
     "metadata": {},
     "output_type": "execute_result"
    }
   ],
   "source": [
    "sarkisyan['function'] = sarkisyan['quantitative_function'] > 0.5\n",
    "\n",
    "X_train, X_test, y_train, y_test = train_test_split(np.array(latent_data), sarkisyan['function'][:5000], \n",
    "                                                   test_size = 0.3, random_state=10)\n",
    "\n",
    "latentClf = RandomForestClassifier()\n",
    "latentClf.fit(X_train, y_train)\n",
    "# latentReg.predict(X_test)\n",
    "latentClf.score(X_test, y_test)"
   ]
  },
  {
   "cell_type": "code",
   "execution_count": 111,
   "metadata": {},
   "outputs": [
    {
     "data": {
      "text/plain": [
       "0.5817461084791646"
      ]
     },
     "execution_count": 111,
     "metadata": {},
     "output_type": "execute_result"
    }
   ],
   "source": [
    "np.sum(sarkisyan['function'])/len(sarkisyan)"
   ]
  },
  {
   "cell_type": "code",
   "execution_count": null,
   "metadata": {},
   "outputs": [],
   "source": []
  },
  {
   "cell_type": "code",
   "execution_count": null,
   "metadata": {},
   "outputs": [],
   "source": []
  },
  {
   "cell_type": "code",
   "execution_count": null,
   "metadata": {},
   "outputs": [],
   "source": []
  }
 ],
 "metadata": {
  "anaconda-cloud": {},
  "kernelspec": {
   "display_name": "Python 3",
   "language": "python",
   "name": "python3"
  },
  "language_info": {
   "codemirror_mode": {
    "name": "ipython",
    "version": 3
   },
   "file_extension": ".py",
   "mimetype": "text/x-python",
   "name": "python",
   "nbconvert_exporter": "python",
   "pygments_lexer": "ipython3",
   "version": "3.5.3"
  }
 },
 "nbformat": 4,
 "nbformat_minor": 1
}
