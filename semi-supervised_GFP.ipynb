{
 "cells": [
  {
   "cell_type": "markdown",
   "metadata": {},
   "source": [
    "### Using a Variational Auto-encoder to predict protein fitness from evolutionary data\n",
    "\n",
    "July 20, 2017\n",
    "### Sam Sinai and Eric Kelsic\n",
    "\n",
    "\n",
    "## For the blog post associated with this notebook see [this post](https://samsinai.github.io/jekyll/update/2017/08/14/Using-a-Variational-Autoencoder-to-predict-protein-function.html). \n",
    "\n",
    "\n",
    "This notebook it organized in 3 sections. In section 1 we show our workflow for pre-processing the biological data. We then train the model on the alignment data in section 2. In section 3 we compare the predictions of the model on the [PABP yeast](https://www.ncbi.nlm.nih.gov/pmc/articles/PMC3851721/) dataset. In section 4 we report the results from analyzing multiple other datasets. Finally we pose some questions with regards to improving the model for interested researcher."
   ]
  },
  {
   "cell_type": "code",
   "execution_count": 1,
   "metadata": {},
   "outputs": [],
   "source": [
    "# Generic imports\n",
    "from __future__ import print_function\n",
    "%matplotlib inline\n",
    "import matplotlib.pyplot as plt\n",
    "import numpy as np\n",
    "import pandas as pd\n",
    "import math,random,re\n",
    "import time\n",
    "from sklearn.decomposition import PCA\n",
    "\n",
    "from Bio import SeqIO"
   ]
  },
  {
   "cell_type": "code",
   "execution_count": 2,
   "metadata": {},
   "outputs": [],
   "source": [
    "#Machine learning/Stats imports \n",
    "from scipy.stats import norm\n",
    "from scipy.stats import spearmanr,pearsonr\n",
    "from sklearn.preprocessing import normalize\n",
    "from sklearn.model_selection import train_test_split\n",
    "import torch\n",
    "import torch.nn as nn\n",
    "import torch.nn.functional as F\n",
    "from torch.autograd import Variable\n",
    "import torch.distributions as D"
   ]
  },
  {
   "cell_type": "code",
   "execution_count": 3,
   "metadata": {},
   "outputs": [],
   "source": [
    "from sklearn.ensemble import RandomForestRegressor\n",
    "from sklearn.ensemble import RandomForestClassifier\n",
    "\n",
    "from sklearn.model_selection import train_test_split"
   ]
  },
  {
   "cell_type": "code",
   "execution_count": 11,
   "metadata": {},
   "outputs": [],
   "source": [
    "from models import *"
   ]
  },
  {
   "cell_type": "code",
   "execution_count": 13,
   "metadata": {},
   "outputs": [],
   "source": [
    "import umap"
   ]
  },
  {
   "cell_type": "code",
   "execution_count": 14,
   "metadata": {},
   "outputs": [],
   "source": [
    "import warnings\n",
    "warnings.simplefilter(action='ignore', category=FutureWarning)"
   ]
  },
  {
   "cell_type": "markdown",
   "metadata": {},
   "source": [
    "## 1.  Data pre-processing\n",
    "\n",
    "Defining the alphabet that is used for Amino-Acids throughout."
   ]
  },
  {
   "cell_type": "code",
   "execution_count": 15,
   "metadata": {},
   "outputs": [],
   "source": [
    "#Invariants\n",
    "ORDER_KEY=\"XILVAGMFYWEDQNHCRKSTPBZ-\"[::-1]\n",
    "ORDER_LIST=list(ORDER_KEY)"
   ]
  },
  {
   "cell_type": "markdown",
   "metadata": {},
   "source": [
    "These are helper functions to clean and process data. "
   ]
  },
  {
   "cell_type": "code",
   "execution_count": 16,
   "metadata": {},
   "outputs": [],
   "source": [
    "%reload_ext autoreload\n",
    "%autoreload 1\n",
    "from helper_tools import *\n",
    "from helper_tools_for_plotting import *"
   ]
  },
  {
   "cell_type": "markdown",
   "metadata": {},
   "source": [
    "Import the alignment data:"
   ]
  },
  {
   "cell_type": "code",
   "execution_count": 17,
   "metadata": {
    "scrolled": true
   },
   "outputs": [],
   "source": [
    "sarkisyan=pd.read_csv(\"sarkisyan.csv\")"
   ]
  },
  {
   "cell_type": "code",
   "execution_count": 18,
   "metadata": {},
   "outputs": [],
   "source": [
    "seqs = []\n",
    "for record in SeqIO.parse(\"aligned_gfp.fasta\", \"fasta\"):\n",
    "    seqs.append(\"\".join(record.seq))\n",
    "\n",
    "seqs.append(seqs[0])\n",
    "\n",
    "data = pd.DataFrame({\"sequence\": seqs})"
   ]
  },
  {
   "cell_type": "code",
   "execution_count": 19,
   "metadata": {},
   "outputs": [],
   "source": [
    "seq_uniprot = []\n",
    "for record in SeqIO.parse(\"aligned_gfp_uniprot.fasta\", \"fasta\"):\n",
    "    seq_uniprot.append(\"\".join(record.seq))\n",
    "\n",
    "data_uniprot = pd.DataFrame({\"sequence\": seq_uniprot})"
   ]
  },
  {
   "cell_type": "code",
   "execution_count": 20,
   "metadata": {},
   "outputs": [],
   "source": [
    "seq_together = seqs.copy()\n",
    "for record in SeqIO.parse(\"aligned_gfp_uniprot.fasta\", \"fasta\"):\n",
    "    seq_together.append(\"\".join(record.seq))\n",
    "\n",
    "data_together = pd.DataFrame({\"sequence\": seq_together})"
   ]
  },
  {
   "cell_type": "code",
   "execution_count": 21,
   "metadata": {},
   "outputs": [],
   "source": [
    "data = data_together.copy()"
   ]
  },
  {
   "cell_type": "code",
   "execution_count": 22,
   "metadata": {},
   "outputs": [
    {
     "data": {
      "text/plain": [
       "'MSKGEELFTGVVPILVELDGDVNGHKFSVSGEGEGDATYGKLTLKFICTTGKLPVPWPTLVTTLT--VQCFSRYPDHMKQHDFFKSAMPEGYVQERTIFFKDDGNYKTRAEVKFEGDTLVNRIELKGIDFKEDGNILGHKLEYNYNSHNVYIMADKQKNGIKVNFKIRHNIEDGSVQLADHYQQNTPIGDGPVLLPDNHYLSTQSALSKDPNEKRDHMVLLEFVTAAGITHGMDELYK'"
      ]
     },
     "execution_count": 22,
     "metadata": {},
     "output_type": "execute_result"
    }
   ],
   "source": [
    "data.iloc[0][\"sequence\"]"
   ]
  },
  {
   "cell_type": "markdown",
   "metadata": {},
   "source": [
    "Let's see how long the sequence is"
   ]
  },
  {
   "cell_type": "code",
   "execution_count": 23,
   "metadata": {},
   "outputs": [
    {
     "name": "stdout",
     "output_type": "stream",
     "text": [
      "length of sequence: 238\n",
      "sample sequence:  MSKGEELFTGVVPILVELDGDVNGHKFSVSGEGEGDATYGKLTLKFICTTGKLPVPWPTLVTTLT--VQCFSRYPDHMKQHDFFKSAMPEGYVQERTIFFKDDGNYKTRAEVKFEGDTLVNRIELKGIDFKEDGNILGHKLEYNYNSHNVYIMADKQKNGIKVNFKIRHNIEDGSVQLADHYQQNTPIGDGPVLLPDNHYLSTQSALSKDPNEKRDHMVLLEFVTAAGITHGMDELYK\n"
     ]
    }
   ],
   "source": [
    "print (\"length of sequence:\", len(data.iloc[0][\"sequence\"]))#, len(data.iloc[0][\"seq\"]))\n",
    "print (\"sample sequence: \", data.iloc[0][\"sequence\"])"
   ]
  },
  {
   "cell_type": "markdown",
   "metadata": {},
   "source": [
    "We are only really interested in the columns that do align. This means that for every column that we include, at least 50% of sequences are not gaps. Note that this threshold is imposed by the alignment parameters loaded above. So let's make a column for that. Meanwhile, we keep track of the indices that did align."
   ]
  },
  {
   "cell_type": "code",
   "execution_count": 24,
   "metadata": {},
   "outputs": [
    {
     "data": {
      "text/html": [
       "<div>\n",
       "<style scoped>\n",
       "    .dataframe tbody tr th:only-of-type {\n",
       "        vertical-align: middle;\n",
       "    }\n",
       "\n",
       "    .dataframe tbody tr th {\n",
       "        vertical-align: top;\n",
       "    }\n",
       "\n",
       "    .dataframe thead th {\n",
       "        text-align: right;\n",
       "    }\n",
       "</style>\n",
       "<table border=\"1\" class=\"dataframe\">\n",
       "  <thead>\n",
       "    <tr style=\"text-align: right;\">\n",
       "      <th></th>\n",
       "      <th>sequence</th>\n",
       "      <th>seq</th>\n",
       "    </tr>\n",
       "  </thead>\n",
       "  <tbody>\n",
       "    <tr>\n",
       "      <th>0</th>\n",
       "      <td>MSKGEELFTGVVPILVELDGDVNGHKFSVSGEGEGDATYGKLTLKF...</td>\n",
       "      <td>MSKGEELFTGVVPILVELDGDVNGHKFSVSGEGEGDATYGKLTLKF...</td>\n",
       "    </tr>\n",
       "    <tr>\n",
       "      <th>1</th>\n",
       "      <td>MSKGEELFTGVVPILVELDGDVNGHKFSVSGEGEGDATYGKLTLKF...</td>\n",
       "      <td>MSKGEELFTGVVPILVELDGDVNGHKFSVSGEGEGDATYGKLTLKF...</td>\n",
       "    </tr>\n",
       "    <tr>\n",
       "      <th>2</th>\n",
       "      <td>MSKGEELFTGVVPILVELDGDVNGHKFSVSGEGEGDATYGKLTLKF...</td>\n",
       "      <td>MSKGEELFTGVVPILVELDGDVNGHKFSVSGEGEGDATYGKLTLKF...</td>\n",
       "    </tr>\n",
       "    <tr>\n",
       "      <th>3</th>\n",
       "      <td>MSKGEELFTGVVPILVELDGDVNGHKFSVSGEGEGDATYGKLTLKF...</td>\n",
       "      <td>MSKGEELFTGVVPILVELDGDVNGHKFSVSGEGEGDATYGKLTLKF...</td>\n",
       "    </tr>\n",
       "    <tr>\n",
       "      <th>4</th>\n",
       "      <td>MSKGEELFTGVVPILVELDGDVNGHKFSVSGEGEGDATYGKLTLKF...</td>\n",
       "      <td>MSKGEELFTGVVPILVELDGDVNGHKFSVSGEGEGDATYGKLTLKF...</td>\n",
       "    </tr>\n",
       "  </tbody>\n",
       "</table>\n",
       "</div>"
      ],
      "text/plain": [
       "                                            sequence  \\\n",
       "0  MSKGEELFTGVVPILVELDGDVNGHKFSVSGEGEGDATYGKLTLKF...   \n",
       "1  MSKGEELFTGVVPILVELDGDVNGHKFSVSGEGEGDATYGKLTLKF...   \n",
       "2  MSKGEELFTGVVPILVELDGDVNGHKFSVSGEGEGDATYGKLTLKF...   \n",
       "3  MSKGEELFTGVVPILVELDGDVNGHKFSVSGEGEGDATYGKLTLKF...   \n",
       "4  MSKGEELFTGVVPILVELDGDVNGHKFSVSGEGEGDATYGKLTLKF...   \n",
       "\n",
       "                                                 seq  \n",
       "0  MSKGEELFTGVVPILVELDGDVNGHKFSVSGEGEGDATYGKLTLKF...  \n",
       "1  MSKGEELFTGVVPILVELDGDVNGHKFSVSGEGEGDATYGKLTLKF...  \n",
       "2  MSKGEELFTGVVPILVELDGDVNGHKFSVSGEGEGDATYGKLTLKF...  \n",
       "3  MSKGEELFTGVVPILVELDGDVNGHKFSVSGEGEGDATYGKLTLKF...  \n",
       "4  MSKGEELFTGVVPILVELDGDVNGHKFSVSGEGEGDATYGKLTLKF...  "
      ]
     },
     "execution_count": 24,
     "metadata": {},
     "output_type": "execute_result"
    }
   ],
   "source": [
    "indices=index_of_non_lower_case_dot(data.iloc[0][\"sequence\"])\n",
    "data[\"seq\"]=list(map(prune_seq,data[\"sequence\"]))\n",
    "data.head()"
   ]
  },
  {
   "cell_type": "markdown",
   "metadata": {},
   "source": [
    "Let's see how many columns remained. "
   ]
  },
  {
   "cell_type": "code",
   "execution_count": 25,
   "metadata": {},
   "outputs": [
    {
     "name": "stdout",
     "output_type": "stream",
     "text": [
      "pruned sequence length: 238\n"
     ]
    }
   ],
   "source": [
    "print (\"pruned sequence length:\", len(data.iloc[0][\"seq\"]))\n",
    "PRUNED_SEQ_LENGTH=len(data.iloc[0][\"seq\"])"
   ]
  },
  {
   "cell_type": "markdown",
   "metadata": {},
   "source": [
    "A few optional lines of code to run. Printing indices, and deleting the sequence column so that it doesn't stay in memory for no reason. "
   ]
  },
  {
   "cell_type": "markdown",
   "metadata": {},
   "source": [
    "Next we translate the sequence into a one hot encoding and shape the input sequences into a m*n matrix. Here m is the number of the data points and $n=$ alphbet size $\\times$ sequence length."
   ]
  },
  {
   "cell_type": "code",
   "execution_count": 26,
   "metadata": {},
   "outputs": [
    {
     "name": "stdout",
     "output_type": "stream",
     "text": [
      "882 24 238\n",
      "(882, 5712)\n"
     ]
    }
   ],
   "source": [
    "#Encode Orthologs\n",
    "training_data_one_hot=[]\n",
    "labels=[]\n",
    "for i, row in data.iterrows():\n",
    "    training_data_one_hot.append(translate_string_to_one_hot(row[\"seq\"],ORDER_LIST))\n",
    "print (len(training_data_one_hot),len(training_data_one_hot[0]),len(training_data_one_hot[0][0]))\n",
    "#plt.imshow(training_data_one_hot[0],cmap=\"Greys\")\n",
    "training_data=np.array([np.array(list(sample.T.flatten())) for sample in training_data_one_hot])\n",
    "# training_data=np.array([np.array(list(sample.flatten())).T for sample in training_data_one_hot])\n",
    "print(training_data.shape)"
   ]
  },
  {
   "cell_type": "code",
   "execution_count": 29,
   "metadata": {},
   "outputs": [
    {
     "name": "stdout",
     "output_type": "stream",
     "text": [
      "51715 24 238\n",
      "(51715, 5712)\n"
     ]
    }
   ],
   "source": [
    "#Encode sarkisyan data to one hot\n",
    "sarkisyan_data_one_hot=[]\n",
    "labels=[]\n",
    "for i, row in sarkisyan.iterrows():\n",
    "    sarkisyan_data_one_hot.append(translate_string_to_one_hot(row[\"sequence\"],ORDER_LIST))\n",
    "print (len(sarkisyan_data_one_hot),len(sarkisyan_data_one_hot[0]),len(sarkisyan_data_one_hot[0][0]))\n",
    "#plt.imshow(training_data_one_hot[0],cmap=\"Greys\")\n",
    "sarkisyan_data=np.array([np.array(list(sample.T.flatten())) for sample in sarkisyan_data_one_hot])\n",
    "# training_data=np.array([np.array(list(sample.flatten())).T for sample in training_data_one_hot])\n",
    "print(sarkisyan_data.shape)"
   ]
  },
  {
   "cell_type": "markdown",
   "metadata": {},
   "source": [
    "## Basic Functions"
   ]
  },
  {
   "cell_type": "code",
   "execution_count": 31,
   "metadata": {},
   "outputs": [],
   "source": [
    "def build_PCA(data, n_components):\n",
    "    pca = PCA(n_components=n_components)\n",
    "    pca.fit(data)\n",
    "    return pca\n",
    "\n",
    "def feed_PCA(pca, data):\n",
    "    return pca.transform(data)\n",
    "\n",
    "def split_data(xdata, ydata, train_size):\n",
    "    x_train, x_test, y_train, y_test = train_test_split(xdata, ydata, train_size=train_size, random_state=10)\n",
    "    return (x_train, x_test, y_train, y_test)\n",
    "\n",
    "def train_test(x_train, x_test, y_train, y_test, model_type=\"reg\"):\n",
    "    if (model_type == \"reg\"):\n",
    "        reg = RandomForestRegressor()\n",
    "        reg.fit(x_train, y_train)\n",
    "        return (reg.score(x_test, y_test))\n",
    "    \n",
    "    elif (model_type == \"clf\"):\n",
    "        clf = RandomForestClassifier()\n",
    "        clf.fit(x_train, y_train > 0.5)\n",
    "        return (clf.score(x_test, y_test > 0.5))\n",
    "    \n",
    "    return None    \n",
    "\n",
    "def augmented_learning(data, additional_data, labels, n_components, train_size):\n",
    "    x_train, x_test, y_train, y_test = split_data(data, labels, train_size=train_size)\n",
    "    \n",
    "    augmented_data = np.concatenate([x_train, additional_data])\n",
    "    pca = build_PCA(augmented_data, n_components=n_components)\n",
    "    transformed_train = feed_PCA(pca, x_train)\n",
    "    transformed_test = feed_PCA(pca, x_test)\n",
    "\n",
    "    \n",
    "    reg_score = train_test(transformed_train, transformed_test, y_train, y_test, model_type=\"reg\")\n",
    "    clf_score = train_test(transformed_train, transformed_test, y_train, y_test, model_type=\"clf\")\n",
    "    \n",
    "    return (reg_score, clf_score)\n",
    "\n",
    "def normal_learning(data, labels, train_size):\n",
    "    x_train, x_test, y_train, y_test = split_data(data, labels, train_size=train_size)\n",
    "\n",
    "    reg_score = train_test(x_train, x_test, y_train, y_test, model_type=\"reg\")\n",
    "    clf_score = train_test(x_train, x_test, y_train, y_test, model_type=\"clf\")\n",
    "    \n",
    "    return (reg_score, clf_score)"
   ]
  },
  {
   "cell_type": "markdown",
   "metadata": {},
   "source": [
    "## Baseline One-hot model "
   ]
  },
  {
   "cell_type": "code",
   "execution_count": 32,
   "metadata": {},
   "outputs": [],
   "source": [
    "accuracies = normal_learning(sarkisyan_data, sarkisyan['quantitative_function'], train_size=0.7)"
   ]
  },
  {
   "cell_type": "code",
   "execution_count": 33,
   "metadata": {},
   "outputs": [
    {
     "data": {
      "text/plain": [
       "0.7423068510055436"
      ]
     },
     "execution_count": 33,
     "metadata": {},
     "output_type": "execute_result"
    }
   ],
   "source": [
    "accuracies[0]"
   ]
  },
  {
   "cell_type": "code",
   "execution_count": 34,
   "metadata": {},
   "outputs": [
    {
     "data": {
      "text/plain": [
       "0.9221398646471157"
      ]
     },
     "execution_count": 34,
     "metadata": {},
     "output_type": "execute_result"
    }
   ],
   "source": [
    "accuracies[1]"
   ]
  },
  {
   "cell_type": "markdown",
   "metadata": {},
   "source": [
    "## PCA models"
   ]
  },
  {
   "cell_type": "code",
   "execution_count": 94,
   "metadata": {},
   "outputs": [],
   "source": [
    "def PCA_test(max_components):\n",
    "    pca = PCA(n_components=max_components)\n",
    "    pca.fit(training_data)\n",
    "    pca_sarkisyan = pca.transform(sarkisyan_data)\n",
    "    \n",
    "    clf_scores = []\n",
    "    reg_scores = []\n",
    "    for i in range(max_components):\n",
    "        cut_sarkisyan = pca_sarkisyan[:, 0:i+1]\n",
    "        \n",
    "        #Classification on training data\n",
    "        sarkisyan['function'] = sarkisyan['quantitative_function'] > 0.5\n",
    "        X_train, X_test, y_train, y_test = train_test_split(cut_sarkisyan, sarkisyan['function'], \n",
    "                                                           test_size = 0.3, random_state=10)\n",
    "\n",
    "        naiveClf = RandomForestClassifier()\n",
    "        naiveClf.fit(X_train, y_train)\n",
    "        clf_score = naiveClf.score(X_test, y_test)\n",
    "\n",
    "        X_train, X_test, y_train, y_test = train_test_split(cut_sarkisyan, sarkisyan['quantitative_function'], \n",
    "                                                       test_size = 0.3, random_state=10)\n",
    "        naiveReg = RandomForestRegressor()\n",
    "        naiveReg.fit(X_train, y_train)\n",
    "        reg_score = naiveReg.score(X_test, y_test)\n",
    "\n",
    "        clf_scores.append(clf_score)\n",
    "        reg_scores.append(reg_score)\n",
    "        \n",
    "    return (clf_scores, reg_scores)"
   ]
  },
  {
   "cell_type": "code",
   "execution_count": 97,
   "metadata": {},
   "outputs": [
    {
     "name": "stderr",
     "output_type": "stream",
     "text": [
      "//anaconda/envs/ML_env/lib/python3.6/site-packages/sklearn/ensemble/forest.py:246: FutureWarning: The default value of n_estimators will change from 10 in version 0.20 to 100 in 0.22.\n",
      "  \"10 in version 0.20 to 100 in 0.22.\", FutureWarning)\n",
      "//anaconda/envs/ML_env/lib/python3.6/site-packages/sklearn/ensemble/forest.py:246: FutureWarning: The default value of n_estimators will change from 10 in version 0.20 to 100 in 0.22.\n",
      "  \"10 in version 0.20 to 100 in 0.22.\", FutureWarning)\n",
      "//anaconda/envs/ML_env/lib/python3.6/site-packages/sklearn/ensemble/forest.py:246: FutureWarning: The default value of n_estimators will change from 10 in version 0.20 to 100 in 0.22.\n",
      "  \"10 in version 0.20 to 100 in 0.22.\", FutureWarning)\n",
      "//anaconda/envs/ML_env/lib/python3.6/site-packages/sklearn/ensemble/forest.py:246: FutureWarning: The default value of n_estimators will change from 10 in version 0.20 to 100 in 0.22.\n",
      "  \"10 in version 0.20 to 100 in 0.22.\", FutureWarning)\n",
      "//anaconda/envs/ML_env/lib/python3.6/site-packages/sklearn/ensemble/forest.py:246: FutureWarning: The default value of n_estimators will change from 10 in version 0.20 to 100 in 0.22.\n",
      "  \"10 in version 0.20 to 100 in 0.22.\", FutureWarning)\n",
      "//anaconda/envs/ML_env/lib/python3.6/site-packages/sklearn/ensemble/forest.py:246: FutureWarning: The default value of n_estimators will change from 10 in version 0.20 to 100 in 0.22.\n",
      "  \"10 in version 0.20 to 100 in 0.22.\", FutureWarning)\n",
      "//anaconda/envs/ML_env/lib/python3.6/site-packages/sklearn/ensemble/forest.py:246: FutureWarning: The default value of n_estimators will change from 10 in version 0.20 to 100 in 0.22.\n",
      "  \"10 in version 0.20 to 100 in 0.22.\", FutureWarning)\n",
      "//anaconda/envs/ML_env/lib/python3.6/site-packages/sklearn/ensemble/forest.py:246: FutureWarning: The default value of n_estimators will change from 10 in version 0.20 to 100 in 0.22.\n",
      "  \"10 in version 0.20 to 100 in 0.22.\", FutureWarning)\n",
      "//anaconda/envs/ML_env/lib/python3.6/site-packages/sklearn/ensemble/forest.py:246: FutureWarning: The default value of n_estimators will change from 10 in version 0.20 to 100 in 0.22.\n",
      "  \"10 in version 0.20 to 100 in 0.22.\", FutureWarning)\n",
      "//anaconda/envs/ML_env/lib/python3.6/site-packages/sklearn/ensemble/forest.py:246: FutureWarning: The default value of n_estimators will change from 10 in version 0.20 to 100 in 0.22.\n",
      "  \"10 in version 0.20 to 100 in 0.22.\", FutureWarning)\n",
      "//anaconda/envs/ML_env/lib/python3.6/site-packages/sklearn/ensemble/forest.py:246: FutureWarning: The default value of n_estimators will change from 10 in version 0.20 to 100 in 0.22.\n",
      "  \"10 in version 0.20 to 100 in 0.22.\", FutureWarning)\n",
      "//anaconda/envs/ML_env/lib/python3.6/site-packages/sklearn/ensemble/forest.py:246: FutureWarning: The default value of n_estimators will change from 10 in version 0.20 to 100 in 0.22.\n",
      "  \"10 in version 0.20 to 100 in 0.22.\", FutureWarning)\n",
      "//anaconda/envs/ML_env/lib/python3.6/site-packages/sklearn/ensemble/forest.py:246: FutureWarning: The default value of n_estimators will change from 10 in version 0.20 to 100 in 0.22.\n",
      "  \"10 in version 0.20 to 100 in 0.22.\", FutureWarning)\n",
      "//anaconda/envs/ML_env/lib/python3.6/site-packages/sklearn/ensemble/forest.py:246: FutureWarning: The default value of n_estimators will change from 10 in version 0.20 to 100 in 0.22.\n",
      "  \"10 in version 0.20 to 100 in 0.22.\", FutureWarning)\n",
      "//anaconda/envs/ML_env/lib/python3.6/site-packages/sklearn/ensemble/forest.py:246: FutureWarning: The default value of n_estimators will change from 10 in version 0.20 to 100 in 0.22.\n",
      "  \"10 in version 0.20 to 100 in 0.22.\", FutureWarning)\n",
      "//anaconda/envs/ML_env/lib/python3.6/site-packages/sklearn/ensemble/forest.py:246: FutureWarning: The default value of n_estimators will change from 10 in version 0.20 to 100 in 0.22.\n",
      "  \"10 in version 0.20 to 100 in 0.22.\", FutureWarning)\n",
      "//anaconda/envs/ML_env/lib/python3.6/site-packages/sklearn/ensemble/forest.py:246: FutureWarning: The default value of n_estimators will change from 10 in version 0.20 to 100 in 0.22.\n",
      "  \"10 in version 0.20 to 100 in 0.22.\", FutureWarning)\n",
      "//anaconda/envs/ML_env/lib/python3.6/site-packages/sklearn/ensemble/forest.py:246: FutureWarning: The default value of n_estimators will change from 10 in version 0.20 to 100 in 0.22.\n",
      "  \"10 in version 0.20 to 100 in 0.22.\", FutureWarning)\n",
      "//anaconda/envs/ML_env/lib/python3.6/site-packages/sklearn/ensemble/forest.py:246: FutureWarning: The default value of n_estimators will change from 10 in version 0.20 to 100 in 0.22.\n",
      "  \"10 in version 0.20 to 100 in 0.22.\", FutureWarning)\n",
      "//anaconda/envs/ML_env/lib/python3.6/site-packages/sklearn/ensemble/forest.py:246: FutureWarning: The default value of n_estimators will change from 10 in version 0.20 to 100 in 0.22.\n",
      "  \"10 in version 0.20 to 100 in 0.22.\", FutureWarning)\n",
      "//anaconda/envs/ML_env/lib/python3.6/site-packages/sklearn/ensemble/forest.py:246: FutureWarning: The default value of n_estimators will change from 10 in version 0.20 to 100 in 0.22.\n",
      "  \"10 in version 0.20 to 100 in 0.22.\", FutureWarning)\n",
      "//anaconda/envs/ML_env/lib/python3.6/site-packages/sklearn/ensemble/forest.py:246: FutureWarning: The default value of n_estimators will change from 10 in version 0.20 to 100 in 0.22.\n",
      "  \"10 in version 0.20 to 100 in 0.22.\", FutureWarning)\n",
      "//anaconda/envs/ML_env/lib/python3.6/site-packages/sklearn/ensemble/forest.py:246: FutureWarning: The default value of n_estimators will change from 10 in version 0.20 to 100 in 0.22.\n",
      "  \"10 in version 0.20 to 100 in 0.22.\", FutureWarning)\n",
      "//anaconda/envs/ML_env/lib/python3.6/site-packages/sklearn/ensemble/forest.py:246: FutureWarning: The default value of n_estimators will change from 10 in version 0.20 to 100 in 0.22.\n",
      "  \"10 in version 0.20 to 100 in 0.22.\", FutureWarning)\n",
      "//anaconda/envs/ML_env/lib/python3.6/site-packages/sklearn/ensemble/forest.py:246: FutureWarning: The default value of n_estimators will change from 10 in version 0.20 to 100 in 0.22.\n",
      "  \"10 in version 0.20 to 100 in 0.22.\", FutureWarning)\n",
      "//anaconda/envs/ML_env/lib/python3.6/site-packages/sklearn/ensemble/forest.py:246: FutureWarning: The default value of n_estimators will change from 10 in version 0.20 to 100 in 0.22.\n",
      "  \"10 in version 0.20 to 100 in 0.22.\", FutureWarning)\n",
      "//anaconda/envs/ML_env/lib/python3.6/site-packages/sklearn/ensemble/forest.py:246: FutureWarning: The default value of n_estimators will change from 10 in version 0.20 to 100 in 0.22.\n",
      "  \"10 in version 0.20 to 100 in 0.22.\", FutureWarning)\n",
      "//anaconda/envs/ML_env/lib/python3.6/site-packages/sklearn/ensemble/forest.py:246: FutureWarning: The default value of n_estimators will change from 10 in version 0.20 to 100 in 0.22.\n",
      "  \"10 in version 0.20 to 100 in 0.22.\", FutureWarning)\n",
      "//anaconda/envs/ML_env/lib/python3.6/site-packages/sklearn/ensemble/forest.py:246: FutureWarning: The default value of n_estimators will change from 10 in version 0.20 to 100 in 0.22.\n",
      "  \"10 in version 0.20 to 100 in 0.22.\", FutureWarning)\n",
      "//anaconda/envs/ML_env/lib/python3.6/site-packages/sklearn/ensemble/forest.py:246: FutureWarning: The default value of n_estimators will change from 10 in version 0.20 to 100 in 0.22.\n",
      "  \"10 in version 0.20 to 100 in 0.22.\", FutureWarning)\n",
      "//anaconda/envs/ML_env/lib/python3.6/site-packages/sklearn/ensemble/forest.py:246: FutureWarning: The default value of n_estimators will change from 10 in version 0.20 to 100 in 0.22.\n",
      "  \"10 in version 0.20 to 100 in 0.22.\", FutureWarning)\n",
      "//anaconda/envs/ML_env/lib/python3.6/site-packages/sklearn/ensemble/forest.py:246: FutureWarning: The default value of n_estimators will change from 10 in version 0.20 to 100 in 0.22.\n",
      "  \"10 in version 0.20 to 100 in 0.22.\", FutureWarning)\n",
      "//anaconda/envs/ML_env/lib/python3.6/site-packages/sklearn/ensemble/forest.py:246: FutureWarning: The default value of n_estimators will change from 10 in version 0.20 to 100 in 0.22.\n",
      "  \"10 in version 0.20 to 100 in 0.22.\", FutureWarning)\n",
      "//anaconda/envs/ML_env/lib/python3.6/site-packages/sklearn/ensemble/forest.py:246: FutureWarning: The default value of n_estimators will change from 10 in version 0.20 to 100 in 0.22.\n",
      "  \"10 in version 0.20 to 100 in 0.22.\", FutureWarning)\n",
      "//anaconda/envs/ML_env/lib/python3.6/site-packages/sklearn/ensemble/forest.py:246: FutureWarning: The default value of n_estimators will change from 10 in version 0.20 to 100 in 0.22.\n",
      "  \"10 in version 0.20 to 100 in 0.22.\", FutureWarning)\n"
     ]
    },
    {
     "name": "stderr",
     "output_type": "stream",
     "text": [
      "//anaconda/envs/ML_env/lib/python3.6/site-packages/sklearn/ensemble/forest.py:246: FutureWarning: The default value of n_estimators will change from 10 in version 0.20 to 100 in 0.22.\n",
      "  \"10 in version 0.20 to 100 in 0.22.\", FutureWarning)\n",
      "//anaconda/envs/ML_env/lib/python3.6/site-packages/sklearn/ensemble/forest.py:246: FutureWarning: The default value of n_estimators will change from 10 in version 0.20 to 100 in 0.22.\n",
      "  \"10 in version 0.20 to 100 in 0.22.\", FutureWarning)\n",
      "//anaconda/envs/ML_env/lib/python3.6/site-packages/sklearn/ensemble/forest.py:246: FutureWarning: The default value of n_estimators will change from 10 in version 0.20 to 100 in 0.22.\n",
      "  \"10 in version 0.20 to 100 in 0.22.\", FutureWarning)\n",
      "//anaconda/envs/ML_env/lib/python3.6/site-packages/sklearn/ensemble/forest.py:246: FutureWarning: The default value of n_estimators will change from 10 in version 0.20 to 100 in 0.22.\n",
      "  \"10 in version 0.20 to 100 in 0.22.\", FutureWarning)\n",
      "//anaconda/envs/ML_env/lib/python3.6/site-packages/sklearn/ensemble/forest.py:246: FutureWarning: The default value of n_estimators will change from 10 in version 0.20 to 100 in 0.22.\n",
      "  \"10 in version 0.20 to 100 in 0.22.\", FutureWarning)\n"
     ]
    }
   ],
   "source": [
    "pca_scores = PCA_test(20)"
   ]
  },
  {
   "cell_type": "code",
   "execution_count": 109,
   "metadata": {},
   "outputs": [
    {
     "data": {
      "image/png": "[encoded data removed]",
      "text/plain": [
       "<Figure size 432x288 with 1 Axes>"
      ]
     },
     "metadata": {
      "needs_background": "light"
     },
     "output_type": "display_data"
    }
   ],
   "source": [
    "plt.plot(range(1, 21), np.array(pca_scores)[0])\n",
    "plt.xlabel(\"Number of PCA components\")\n",
    "plt.ylabel(\"Classification Accuracy\")\n",
    "plt.title(\"Classification with ortholog PCA\")\n",
    "plt.savefig(\"Ortholog_PCA_on_Sarkisyan.png\")\n",
    "plt.show()"
   ]
  },
  {
   "cell_type": "code",
   "execution_count": 110,
   "metadata": {},
   "outputs": [
    {
     "data": {
      "image/png": "[encoded data removed]",
      "text/plain": [
       "<Figure size 432x288 with 1 Axes>"
      ]
     },
     "metadata": {
      "needs_background": "light"
     },
     "output_type": "display_data"
    }
   ],
   "source": [
    "plt.plot(range(1, 21), np.array(pca_scores)[1])\n",
    "plt.xlabel(\"Number of PCA components\")\n",
    "plt.ylabel(\"R^2\")\n",
    "plt.title(\"Regression with ortholog PCA\")\n",
    "plt.savefig(\"Ortholog_PCA_on_Sarkisyan_regression.png\")\n",
    "plt.show()"
   ]
  },
  {
   "cell_type": "markdown",
   "metadata": {},
   "source": [
    "## Data-Augmentation in low-data settings"
   ]
  },
  {
   "cell_type": "code",
   "execution_count": 840,
   "metadata": {},
   "outputs": [],
   "source": [
    "training_sizes = [100, 300, 500, 1000, 2000, 5000]\n",
    "\n",
    "reg_score_normal = []\n",
    "reg_score_augmented = []\n",
    "clf_score_normal = []\n",
    "clf_score_augmented = []\n",
    "\n",
    "for size in training_sizes:\n",
    "    aug_run = augmented_learning(sarkisyan_data, sarkisyan_data[:1000], sarkisyan['quantitative_function'], 10, size)\n",
    "    normal_run = normal_learning(sarkisyan_data, sarkisyan['quantitative_function'], 10, size)\n",
    "    reg_score_normal.append(normal_run[0])\n",
    "    reg_score_augmented.append(aug_run[0])\n",
    "    clf_score_normal.append(normal_run[1])\n",
    "    clf_score_augmented.append(aug_run[1])"
   ]
  },
  {
   "cell_type": "code",
   "execution_count": 841,
   "metadata": {},
   "outputs": [
    {
     "data": {
      "image/png": "[encoded data removed]",
      "text/plain": [
       "<Figure size 432x288 with 1 Axes>"
      ]
     },
     "metadata": {
      "needs_background": "light"
     },
     "output_type": "display_data"
    }
   ],
   "source": [
    "plt.scatter(training_sizes, reg_score_normal, label=\"One-hot\")\n",
    "plt.scatter(training_sizes, reg_score_augmented, label=\"PCA Augmented\")\n",
    "plt.xlabel(\"Training size\")\n",
    "plt.title(\"PCA = 10, Regression Accuracy\")\n",
    "plt.legend()\n",
    "plt.savefig(\"PCA_10_Reg.png\")\n",
    "plt.show()"
   ]
  },
  {
   "cell_type": "code",
   "execution_count": 615,
   "metadata": {},
   "outputs": [
    {
     "data": {
      "text/plain": [
       "2"
      ]
     },
     "execution_count": 615,
     "metadata": {},
     "output_type": "execute_result"
    }
   ],
   "source": [
    "w"
   ]
  },
  {
   "cell_type": "code",
   "execution_count": 37,
   "metadata": {},
   "outputs": [],
   "source": [
    "sarkisyan_onehot_train, sarkisyan_onehot_test, y_train, y_test = train_test_split(sarkisyan_data, sarkisyan['quantitative_function'], \n",
    "                                                   test_size = 0.99, random_state=10)"
   ]
  },
  {
   "cell_type": "code",
   "execution_count": 38,
   "metadata": {},
   "outputs": [],
   "source": [
    "augmented_data = np.concatenate((training_data, sarkisyan_onehot_train))"
   ]
  },
  {
   "cell_type": "code",
   "execution_count": 39,
   "metadata": {},
   "outputs": [
    {
     "data": {
      "text/plain": [
       "PCA(copy=True, iterated_power='auto', n_components=20, random_state=None,\n",
       "  svd_solver='auto', tol=0.0, whiten=False)"
      ]
     },
     "execution_count": 39,
     "metadata": {},
     "output_type": "execute_result"
    }
   ],
   "source": [
    "augment_pca = PCA(n_components=20)\n",
    "augment_pca.fit(augmented_data)"
   ]
  },
  {
   "cell_type": "code",
   "execution_count": 40,
   "metadata": {},
   "outputs": [],
   "source": [
    "transformed_train = augment_pca.transform(sarkisyan_onehot_train)\n",
    "transformed_test = augment_pca.transform(sarkisyan_onehot_test)"
   ]
  },
  {
   "cell_type": "code",
   "execution_count": 41,
   "metadata": {},
   "outputs": [
    {
     "data": {
      "text/plain": [
       "0.7404976756904567"
      ]
     },
     "execution_count": 41,
     "metadata": {},
     "output_type": "execute_result"
    }
   ],
   "source": [
    "augClf = RandomForestClassifier()\n",
    "augClf.fit(transformed_train, y_train>0.5)\n",
    "augClf.score(transformed_test, y_test>0.5)"
   ]
  },
  {
   "cell_type": "code",
   "execution_count": 42,
   "metadata": {},
   "outputs": [
    {
     "data": {
      "text/plain": [
       "0.30812981228831626"
      ]
     },
     "execution_count": 42,
     "metadata": {},
     "output_type": "execute_result"
    }
   ],
   "source": [
    "augReg = RandomForestRegressor()\n",
    "augReg.fit(transformed_train, y_train)\n",
    "augReg.score(transformed_test, y_test)"
   ]
  },
  {
   "cell_type": "code",
   "execution_count": 71,
   "metadata": {},
   "outputs": [],
   "source": [
    "net = Reg_NN(input_size = 20, hidden_size=100, output_size=1)"
   ]
  },
  {
   "cell_type": "code",
   "execution_count": 70,
   "metadata": {},
   "outputs": [
    {
     "data": {
      "text/plain": [
       "(517, 20)"
      ]
     },
     "execution_count": 70,
     "metadata": {},
     "output_type": "execute_result"
    }
   ],
   "source": [
    "transformed_train.shape"
   ]
  },
  {
   "cell_type": "code",
   "execution_count": 75,
   "metadata": {},
   "outputs": [
    {
     "name": "stdout",
     "output_type": "stream",
     "text": [
      "<generator object Module.parameters at 0x133785830>\n",
      "<generator object Module.parameters at 0x133785830>\n",
      "<generator object Module.parameters at 0x133785830>\n",
      "<generator object Module.parameters at 0x133785830>\n",
      "<generator object Module.parameters at 0x133785830>\n",
      "<generator object Module.parameters at 0x133785830>\n",
      "<generator object Module.parameters at 0x133785830>\n",
      "<generator object Module.parameters at 0x133785830>\n",
      "<generator object Module.parameters at 0x133785830>\n",
      "<generator object Module.parameters at 0x133785830>\n",
      "<generator object Module.parameters at 0x133785830>\n",
      "<generator object Module.parameters at 0x133785830>\n",
      "<generator object Module.parameters at 0x133785830>\n",
      "<generator object Module.parameters at 0x133785830>\n",
      "<generator object Module.parameters at 0x133785830>\n",
      "<generator object Module.parameters at 0x133785830>\n",
      "<generator object Module.parameters at 0x133785830>\n",
      "<generator object Module.parameters at 0x133785830>\n",
      "<generator object Module.parameters at 0x133785830>\n",
      "<generator object Module.parameters at 0x133785830>\n",
      "<generator object Module.parameters at 0x133785830>\n",
      "<generator object Module.parameters at 0x133785830>\n",
      "<generator object Module.parameters at 0x133785830>\n",
      "<generator object Module.parameters at 0x133785830>\n",
      "<generator object Module.parameters at 0x133785830>\n",
      "<generator object Module.parameters at 0x133785830>\n",
      "<generator object Module.parameters at 0x133785830>\n",
      "<generator object Module.parameters at 0x133785830>\n",
      "<generator object Module.parameters at 0x133785830>\n",
      "<generator object Module.parameters at 0x133785830>\n",
      "<generator object Module.parameters at 0x133785830>\n",
      "<generator object Module.parameters at 0x133785830>\n",
      "<generator object Module.parameters at 0x133785830>\n",
      "<generator object Module.parameters at 0x133785830>\n",
      "<generator object Module.parameters at 0x133785830>\n",
      "<generator object Module.parameters at 0x133785830>\n",
      "<generator object Module.parameters at 0x133785830>\n",
      "<generator object Module.parameters at 0x133785830>\n",
      "<generator object Module.parameters at 0x133785830>\n",
      "<generator object Module.parameters at 0x133785830>\n",
      "<generator object Module.parameters at 0x133785830>\n",
      "<generator object Module.parameters at 0x133785830>\n",
      "<generator object Module.parameters at 0x133785830>\n",
      "<generator object Module.parameters at 0x133785830>\n",
      "<generator object Module.parameters at 0x133785830>\n",
      "<generator object Module.parameters at 0x133785830>\n",
      "<generator object Module.parameters at 0x133785830>\n",
      "<generator object Module.parameters at 0x133785830>\n",
      "<generator object Module.parameters at 0x133785830>\n",
      "<generator object Module.parameters at 0x133785830>\n",
      "<generator object Module.parameters at 0x133785830>\n",
      "<generator object Module.parameters at 0x133785830>\n",
      "<generator object Module.parameters at 0x133785830>\n",
      "<generator object Module.parameters at 0x133785830>\n",
      "<generator object Module.parameters at 0x133785830>\n",
      "<generator object Module.parameters at 0x133785830>\n",
      "<generator object Module.parameters at 0x133785830>\n",
      "<generator object Module.parameters at 0x133785830>\n",
      "<generator object Module.parameters at 0x133785830>\n",
      "<generator object Module.parameters at 0x133785830>\n",
      "<generator object Module.parameters at 0x133785830>\n",
      "<generator object Module.parameters at 0x133785830>\n",
      "<generator object Module.parameters at 0x133785830>\n",
      "<generator object Module.parameters at 0x133785830>\n",
      "<generator object Module.parameters at 0x133785830>\n",
      "<generator object Module.parameters at 0x133785830>\n",
      "<generator object Module.parameters at 0x133785830>\n",
      "<generator object Module.parameters at 0x133785830>\n",
      "<generator object Module.parameters at 0x133785830>\n",
      "<generator object Module.parameters at 0x133785830>\n",
      "<generator object Module.parameters at 0x133785830>\n",
      "<generator object Module.parameters at 0x133785830>\n",
      "<generator object Module.parameters at 0x133785830>\n",
      "<generator object Module.parameters at 0x133785830>\n",
      "<generator object Module.parameters at 0x133785830>\n",
      "<generator object Module.parameters at 0x133785830>\n",
      "<generator object Module.parameters at 0x133785830>\n",
      "<generator object Module.parameters at 0x133785830>\n",
      "<generator object Module.parameters at 0x133785830>\n",
      "<generator object Module.parameters at 0x133785830>\n",
      "<generator object Module.parameters at 0x133785830>\n",
      "<generator object Module.parameters at 0x133785830>\n",
      "<generator object Module.parameters at 0x133785830>\n",
      "<generator object Module.parameters at 0x133785830>\n",
      "<generator object Module.parameters at 0x133785830>\n",
      "<generator object Module.parameters at 0x133785830>\n",
      "<generator object Module.parameters at 0x133785830>\n",
      "<generator object Module.parameters at 0x133785830>\n",
      "<generator object Module.parameters at 0x133785830>\n",
      "<generator object Module.parameters at 0x133785830>\n",
      "<generator object Module.parameters at 0x133785830>\n",
      "<generator object Module.parameters at 0x133785830>\n",
      "<generator object Module.parameters at 0x133785830>\n",
      "<generator object Module.parameters at 0x133785830>\n",
      "<generator object Module.parameters at 0x133785830>\n",
      "<generator object Module.parameters at 0x133785830>\n",
      "<generator object Module.parameters at 0x133785830>\n",
      "<generator object Module.parameters at 0x133785830>\n",
      "<generator object Module.parameters at 0x133785830>\n",
      "<generator object Module.parameters at 0x133785830>\n",
      "<generator object Module.parameters at 0x133785830>\n",
      "<generator object Module.parameters at 0x133785830>\n",
      "<generator object Module.parameters at 0x133785830>\n",
      "<generator object Module.parameters at 0x133785830>\n",
      "<generator object Module.parameters at 0x133785830>\n",
      "<generator object Module.parameters at 0x133785830>\n",
      "<generator object Module.parameters at 0x133785830>\n",
      "<generator object Module.parameters at 0x133785830>\n",
      "<generator object Module.parameters at 0x133785830>\n",
      "<generator object Module.parameters at 0x133785830>\n",
      "<generator object Module.parameters at 0x133785830>\n",
      "<generator object Module.parameters at 0x133785830>\n",
      "<generator object Module.parameters at 0x133785830>\n",
      "<generator object Module.parameters at 0x133785830>\n",
      "<generator object Module.parameters at 0x133785830>\n",
      "<generator object Module.parameters at 0x133785830>\n",
      "<generator object Module.parameters at 0x133785830>\n",
      "<generator object Module.parameters at 0x133785830>\n",
      "<generator object Module.parameters at 0x133785830>\n",
      "<generator object Module.parameters at 0x133785830>\n",
      "<generator object Module.parameters at 0x133785830>\n",
      "<generator object Module.parameters at 0x133785830>\n",
      "<generator object Module.parameters at 0x133785830>\n",
      "<generator object Module.parameters at 0x133785830>\n",
      "<generator object Module.parameters at 0x133785830>\n",
      "<generator object Module.parameters at 0x133785830>\n",
      "<generator object Module.parameters at 0x133785830>\n",
      "<generator object Module.parameters at 0x133785830>\n",
      "<generator object Module.parameters at 0x133785830>\n",
      "<generator object Module.parameters at 0x133785830>\n",
      "<generator object Module.parameters at 0x133785830>\n",
      "<generator object Module.parameters at 0x133785830>\n",
      "<generator object Module.parameters at 0x133785830>\n",
      "<generator object Module.parameters at 0x133785830>\n",
      "<generator object Module.parameters at 0x133785830>\n",
      "<generator object Module.parameters at 0x133785830>\n",
      "<generator object Module.parameters at 0x133785830>\n",
      "<generator object Module.parameters at 0x133785830>\n",
      "<generator object Module.parameters at 0x133785830>\n",
      "<generator object Module.parameters at 0x133785830>\n",
      "<generator object Module.parameters at 0x133785830>\n",
      "<generator object Module.parameters at 0x133785830>\n",
      "<generator object Module.parameters at 0x133785830>\n",
      "<generator object Module.parameters at 0x133785830>\n",
      "<generator object Module.parameters at 0x133785830>\n",
      "<generator object Module.parameters at 0x133785830>\n",
      "<generator object Module.parameters at 0x133785830>\n",
      "<generator object Module.parameters at 0x133785830>\n",
      "<generator object Module.parameters at 0x133785830>\n",
      "<generator object Module.parameters at 0x133785830>\n",
      "<generator object Module.parameters at 0x133785830>\n",
      "<generator object Module.parameters at 0x133785830>\n",
      "<generator object Module.parameters at 0x133785830>\n",
      "<generator object Module.parameters at 0x133785830>\n",
      "<generator object Module.parameters at 0x133785830>\n",
      "<generator object Module.parameters at 0x133785830>\n",
      "<generator object Module.parameters at 0x133785830>\n",
      "<generator object Module.parameters at 0x133785830>\n",
      "<generator object Module.parameters at 0x133785830>\n",
      "<generator object Module.parameters at 0x133785830>\n",
      "<generator object Module.parameters at 0x133785830>\n",
      "<generator object Module.parameters at 0x133785830>\n",
      "<generator object Module.parameters at 0x133785830>\n",
      "<generator object Module.parameters at 0x133785830>\n",
      "<generator object Module.parameters at 0x133785830>\n",
      "<generator object Module.parameters at 0x133785830>\n",
      "<generator object Module.parameters at 0x133785830>\n",
      "<generator object Module.parameters at 0x133785830>\n",
      "<generator object Module.parameters at 0x133785830>\n",
      "<generator object Module.parameters at 0x133785830>\n",
      "<generator object Module.parameters at 0x133785830>\n",
      "<generator object Module.parameters at 0x133785830>\n",
      "<generator object Module.parameters at 0x133785830>\n",
      "<generator object Module.parameters at 0x133785830>\n",
      "<generator object Module.parameters at 0x133785830>\n",
      "<generator object Module.parameters at 0x133785830>\n",
      "<generator object Module.parameters at 0x133785830>\n",
      "<generator object Module.parameters at 0x133785830>\n",
      "<generator object Module.parameters at 0x133785830>\n",
      "<generator object Module.parameters at 0x133785830>\n",
      "<generator object Module.parameters at 0x133785830>\n",
      "<generator object Module.parameters at 0x133785830>\n",
      "<generator object Module.parameters at 0x133785830>\n",
      "<generator object Module.parameters at 0x133785830>\n",
      "<generator object Module.parameters at 0x133785830>\n"
     ]
    },
    {
     "name": "stdout",
     "output_type": "stream",
     "text": [
      "<generator object Module.parameters at 0x133785830>\n",
      "<generator object Module.parameters at 0x133785830>\n",
      "<generator object Module.parameters at 0x133785830>\n",
      "<generator object Module.parameters at 0x133785830>\n",
      "<generator object Module.parameters at 0x133785830>\n",
      "<generator object Module.parameters at 0x133785830>\n",
      "<generator object Module.parameters at 0x133785830>\n",
      "<generator object Module.parameters at 0x133785830>\n",
      "<generator object Module.parameters at 0x133785830>\n",
      "<generator object Module.parameters at 0x133785830>\n",
      "<generator object Module.parameters at 0x133785830>\n",
      "<generator object Module.parameters at 0x133785830>\n",
      "<generator object Module.parameters at 0x133785830>\n",
      "<generator object Module.parameters at 0x133785830>\n",
      "<generator object Module.parameters at 0x133785830>\n"
     ]
    }
   ],
   "source": [
    "optimizer = torch.optim.Adam(net.parameters(), lr=0.001)\n",
    "loss_func = torch.nn.MSELoss()  # this is for regression mean squared loss\n",
    "\n",
    "\n",
    "for t in range(200):\n",
    "    prediction = net(torch.Tensor(transformed_train))     # input x and predict based on x\n",
    "\n",
    "    loss = loss_func(prediction, torch.Tensor(np.array(y_train)))     # must be (1. nn output, 2. target)\n",
    "\n",
    "    optimizer.zero_grad()   # clear gradients for next train\n",
    "    loss.backward()         # backpropagation, compute gradients\n",
    "    optimizer.step()        # apply gradients\n",
    "    print (net.parameters())"
   ]
  },
  {
   "cell_type": "code",
   "execution_count": 51,
   "metadata": {},
   "outputs": [],
   "source": [
    "out_train = net(torch.Tensor(transformed_train))\n",
    "out_train = torch.Tensor(out_train)"
   ]
  },
  {
   "cell_type": "code",
   "execution_count": 58,
   "metadata": {},
   "outputs": [
    {
     "data": {
      "text/plain": [
       "-568773.0433273846"
      ]
     },
     "execution_count": 58,
     "metadata": {},
     "output_type": "execute_result"
    }
   ],
   "source": [
    "r2_score(out_train.squeeze(1).detach(), y_train)"
   ]
  },
  {
   "cell_type": "code",
   "execution_count": 57,
   "metadata": {},
   "outputs": [],
   "source": [
    "from sklearn.metrics import r2_score"
   ]
  },
  {
   "cell_type": "code",
   "execution_count": 581,
   "metadata": {},
   "outputs": [
    {
     "data": {
      "text/plain": [
       "(5712,)"
      ]
     },
     "execution_count": 581,
     "metadata": {},
     "output_type": "execute_result"
    }
   ],
   "source": [
    "training_data[0].shape"
   ]
  },
  {
   "cell_type": "code",
   "execution_count": 61,
   "metadata": {},
   "outputs": [
    {
     "data": {
      "image/png": "[encoded data removed]",
      "text/plain": [
       "<Figure size 432x288 with 1 Axes>"
      ]
     },
     "metadata": {
      "needs_background": "light"
     },
     "output_type": "display_data"
    }
   ],
   "source": [
    "plt.hist(out_train.squeeze(1).detach())\n",
    "plt.show()"
   ]
  },
  {
   "cell_type": "code",
   "execution_count": 62,
   "metadata": {},
   "outputs": [
    {
     "data": {
      "image/png": "[encoded data removed]",
      "text/plain": [
       "<Figure size 432x288 with 1 Axes>"
      ]
     },
     "metadata": {
      "needs_background": "light"
     },
     "output_type": "display_data"
    }
   ],
   "source": [
    "plt.hist(y_train)\n",
    "plt.show()"
   ]
  },
  {
   "cell_type": "markdown",
   "metadata": {},
   "source": [
    "## UMAP Experiments"
   ]
  },
  {
   "cell_type": "code",
   "execution_count": null,
   "metadata": {},
   "outputs": [],
   "source": []
  },
  {
   "cell_type": "code",
   "execution_count": 549,
   "metadata": {},
   "outputs": [
    {
     "name": "stderr",
     "output_type": "stream",
     "text": [
      "//anaconda/envs/ML_env/lib/python3.6/site-packages/umap/spectral.py:229: UserWarning: Embedding a total of 70 separate connected components using meta-embedding (experimental)\n",
      "  n_components\n",
      "//anaconda/envs/ML_env/lib/python3.6/site-packages/sklearn/manifold/spectral_embedding_.py:237: UserWarning: Graph is not fully connected, spectral embedding may not work as expected.\n",
      "  warnings.warn(\"Graph is not fully connected, spectral embedding\"\n"
     ]
    }
   ],
   "source": [
    "UMAP_embedding = umap.UMAP(n_neighbors=3,\n",
    "                      min_dist=0.05,\n",
    "                      metric='manhattan').fit(training_data)"
   ]
  },
  {
   "cell_type": "code",
   "execution_count": 550,
   "metadata": {},
   "outputs": [],
   "source": [
    "a = UMAP_embedding.transform(training_data)"
   ]
  },
  {
   "cell_type": "code",
   "execution_count": 551,
   "metadata": {},
   "outputs": [
    {
     "data": {
      "text/plain": [
       "array([[ 6.649287 ,  9.458338 ],\n",
       "       [ 7.1583214, -2.633993 ],\n",
       "       [-8.284651 , -3.4905474],\n",
       "       ...,\n",
       "       [ 9.465265 , -6.686657 ],\n",
       "       [ 9.704497 , -5.273012 ],\n",
       "       [ 4.786226 , -6.1747694]], dtype=float32)"
      ]
     },
     "execution_count": 551,
     "metadata": {},
     "output_type": "execute_result"
    }
   ],
   "source": [
    "a"
   ]
  },
  {
   "cell_type": "code",
   "execution_count": 552,
   "metadata": {},
   "outputs": [
    {
     "data": {
      "image/png": "[encoded data removed]",
      "text/plain": [
       "<Figure size 432x288 with 1 Axes>"
      ]
     },
     "metadata": {
      "needs_background": "light"
     },
     "output_type": "display_data"
    }
   ],
   "source": [
    "plt.scatter(a[:, 0], a[:, 1])\n",
    "plt.show()"
   ]
  },
  {
   "cell_type": "code",
   "execution_count": 553,
   "metadata": {},
   "outputs": [],
   "source": [
    "UMAP_sarkisyan = UMAP_embedding.transform(sarkisyan_data)"
   ]
  },
  {
   "cell_type": "code",
   "execution_count": 554,
   "metadata": {},
   "outputs": [
    {
     "name": "stderr",
     "output_type": "stream",
     "text": [
      "//anaconda/envs/ML_env/lib/python3.6/site-packages/sklearn/ensemble/forest.py:246: FutureWarning: The default value of n_estimators will change from 10 in version 0.20 to 100 in 0.22.\n",
      "  \"10 in version 0.20 to 100 in 0.22.\", FutureWarning)\n",
      "//anaconda/envs/ML_env/lib/python3.6/site-packages/sklearn/ensemble/forest.py:246: FutureWarning: The default value of n_estimators will change from 10 in version 0.20 to 100 in 0.22.\n",
      "  \"10 in version 0.20 to 100 in 0.22.\", FutureWarning)\n"
     ]
    }
   ],
   "source": [
    "# UMAP_sarkisyan = UMAP_embedding.transform(sarkisyan_data)\n",
    "\n",
    "X_train, X_test, y_train, y_test = train_test_split(UMAP_sarkisyan, sarkisyan['function'], \n",
    "                                                   test_size = 0.3, random_state=10)\n",
    "\n",
    "naiveClf = RandomForestClassifier()\n",
    "naiveClf.fit(X_train, y_train)\n",
    "clf_score = naiveClf.score(X_test, y_test)\n",
    "\n",
    "X_train, X_test, y_train, y_test = train_test_split(UMAP_sarkisyan, sarkisyan['quantitative_function'], \n",
    "                                               test_size = 0.3, random_state=10)\n",
    "naiveReg = RandomForestRegressor()\n",
    "naiveReg.fit(X_train, y_train)\n",
    "reg_score = naiveReg.score(X_test, y_test)"
   ]
  },
  {
   "cell_type": "code",
   "execution_count": 555,
   "metadata": {},
   "outputs": [
    {
     "data": {
      "text/plain": [
       "0.5135030615533355"
      ]
     },
     "execution_count": 555,
     "metadata": {},
     "output_type": "execute_result"
    }
   ],
   "source": [
    "clf_score"
   ]
  },
  {
   "cell_type": "code",
   "execution_count": 556,
   "metadata": {},
   "outputs": [
    {
     "data": {
      "text/plain": [
       "-0.24899542340754088"
      ]
     },
     "execution_count": 556,
     "metadata": {},
     "output_type": "execute_result"
    }
   ],
   "source": [
    "reg_score"
   ]
  },
  {
   "cell_type": "code",
   "execution_count": 558,
   "metadata": {},
   "outputs": [
    {
     "data": {
      "image/png": "[encoded data removed]",
      "text/plain": [
       "<Figure size 432x288 with 1 Axes>"
      ]
     },
     "metadata": {
      "needs_background": "light"
     },
     "output_type": "display_data"
    }
   ],
   "source": [
    "plt.scatter(UMAP_sarkisyan[:,0][:10000], UMAP_sarkisyan[:, 1][:10000])\n",
    "plt.show()"
   ]
  },
  {
   "cell_type": "code",
   "execution_count": 548,
   "metadata": {},
   "outputs": [],
   "source": [
    "UMAP_sarkisyan_20 = UMAP_sarkisyan.copy()\n",
    "ortholog_umap_20 = a.copy()"
   ]
  },
  {
   "cell_type": "markdown",
   "metadata": {},
   "source": [
    "This concludes the pre-processing we need to do on the data.\n",
    "\n",
    "## 2.  Training the model\n",
    "We now move on to define our neural network. This is essentially a vanilla VAE in keras (with some optimization on hyperparameters). For optimization purposes we define a callback function that reports the predictive power of the model in the end of each epoch. Note that while this passes the -test data- through the model, it is kosher because we never pass in the values we are actually interested in and the network is not in \"training phase\", i.e. no weights are updated during this pass. "
   ]
  },
  {
   "cell_type": "code",
   "execution_count": 490,
   "metadata": {},
   "outputs": [],
   "source": [
    "class rho_vs_mutants():\n",
    "    def __init__(self,mutants,test_set_size,aa_size,sequence_size):\n",
    "        self.mutants=mutants\n",
    "        self.sample_size=test_set_size\n",
    "        self.aa_size=aa_size\n",
    "        self.sequence_size=sequence_size\n",
    "        self.scores=[]\n",
    "        self.count_batch=0\n",
    "    def on_train_begin(self, logs={}):\n",
    "        self.losses = []\n",
    "    def on_batch_end(self, batch, logs={}):\n",
    "        self.losses.append(logs.get('loss'))\n",
    "    #This allows us to track the \"progress\" of the model on different epochs\n",
    "    def on_epoch_end(self,model,batch,logs):\n",
    "        x_decoded=model(test_data_plus[0:self.sample_size],batch_size=batch_size)\n",
    "        digit = x_decoded[0].reshape(self.aa_size,self.sequence_size)\n",
    "        digit_wt = normalize(digit,axis=0, norm='l1')\n",
    "        wt_prob=compute_log_probability(digit,digit_wt)\n",
    "        fitnesses=[]\n",
    "        for sample in range(1,self.sample_size):\n",
    "            digit = x_decoded[sample].reshape(self.aa_size,self.sequence_size)\n",
    "            digit = normalize(digit,axis=0, norm='l1')\n",
    "            fitness=compute_log_probability(test_data_plus[sample].reshape(self.aa_size,self.sequence_size),digit)-wt_prob\n",
    "            fitnesses.append(fitness)\n",
    "        print (\",\"+str(spearmanr(fitnesses,target_values_singles[:self.sample_size-1])))\n",
    "        self.scores.append(spearmanr(fitnesses,target_values_singles[:self.sample_size-1])[0])"
   ]
  },
  {
   "cell_type": "markdown",
   "metadata": {},
   "source": [
    "Now we are ready to specify the network architecture, this is adapted from [here](https://github.com/fchollet/keras/blob/master/examples/variational_autoencoder.py)."
   ]
  },
  {
   "cell_type": "code",
   "execution_count": 491,
   "metadata": {},
   "outputs": [],
   "source": [
    "# torch.sum(1 + model.z_log_var - (model.z_mean)**2 - torch.exp(model.z_log_var),-1)"
   ]
  },
  {
   "cell_type": "code",
   "execution_count": 492,
   "metadata": {},
   "outputs": [
    {
     "data": {
      "text/plain": [
       "238"
      ]
     },
     "execution_count": 492,
     "metadata": {},
     "output_type": "execute_result"
    }
   ],
   "source": [
    "PRUNED_SEQ_LENGTH"
   ]
  },
  {
   "cell_type": "code",
   "execution_count": 789,
   "metadata": {},
   "outputs": [],
   "source": [
    "batch_size = 20\n",
    "original_dim=len(ORDER_LIST)*PRUNED_SEQ_LENGTH\n",
    "output_dim=len(ORDER_LIST)*PRUNED_SEQ_LENGTH\n",
    "latent_dim = 10\n",
    "intermediate_dim=30\n",
    "nb_epoch = 50\n",
    "epsilon_std = 1.0\n",
    "np.random.seed(42)  \n",
    "\n",
    "loss1 = nn.CrossEntropyLoss()\n",
    "\n",
    "def vae_loss(x_true, x_decoded_mean, z_mean, z_log_var):\n",
    "    xent_loss = original_dim * loss1(x_decoded_mean, x_true)\n",
    "    kl_loss = -0.5 * torch.sum(1 + z_log_var - (z_mean)**2 - torch.exp(z_log_var))\n",
    "#     print (\"xent loss: \", xent_loss)\n",
    "#     print (\"KL loss: \", kl_loss)\n",
    "    return (xent_loss + kl_loss)"
   ]
  },
  {
   "cell_type": "markdown",
   "metadata": {},
   "source": [
    "And run it through our training data."
   ]
  },
  {
   "cell_type": "code",
   "execution_count": 790,
   "metadata": {},
   "outputs": [
    {
     "data": {
      "text/plain": [
       "20"
      ]
     },
     "execution_count": 790,
     "metadata": {},
     "output_type": "execute_result"
    }
   ],
   "source": [
    "len(range(0, 300)[:20])"
   ]
  },
  {
   "cell_type": "code",
   "execution_count": 791,
   "metadata": {},
   "outputs": [
    {
     "data": {
      "text/plain": [
       "882"
      ]
     },
     "execution_count": 791,
     "metadata": {},
     "output_type": "execute_result"
    }
   ],
   "source": [
    "len(training_data)"
   ]
  },
  {
   "cell_type": "code",
   "execution_count": 792,
   "metadata": {},
   "outputs": [],
   "source": [
    "training_size = 880 #so batchingw orks\n",
    "x_train=training_data[:training_size] #this needs to be divisible by batch size and less than or equal to dataset size\n",
    "x_train = x_train.astype('float32')\n",
    "x_train = x_train.reshape((len(x_train), np.prod(x_train.shape[1:])))\n"
   ]
  },
  {
   "cell_type": "code",
   "execution_count": 793,
   "metadata": {},
   "outputs": [],
   "source": [
    "vae_type = 'full'"
   ]
  },
  {
   "cell_type": "code",
   "execution_count": 794,
   "metadata": {},
   "outputs": [],
   "source": [
    "if vae_type == 'full':\n",
    "    univ_dropout = [0.2]*3\n",
    "    dropout_enc = univ_dropout\n",
    "    dropout_dec = univ_dropout\n",
    "\n",
    "    layers_enc = nn.ModuleList([nn.Linear(original_dim,intermediate_dim),nn.Dropout(dropout_enc[0]),nn.ELU()])\n",
    "    for i in range(2):\n",
    "#     for i in range(1):\n",
    "        layers_enc.append(nn.Linear(intermediate_dim,intermediate_dim))\n",
    "        layers_enc.append(nn.Dropout(dropout_enc[i+1]))\n",
    "        layers_enc.append(nn.ELU())\n",
    "\n",
    "    layers_dec = nn.ModuleList([nn.Linear(latent_dim,intermediate_dim),nn.Dropout(dropout_dec[0]),nn.ELU()])\n",
    "    for i in range(2):\n",
    "        layers_dec.append(nn.Linear(intermediate_dim,intermediate_dim))\n",
    "        layers_dec.append(nn.Dropout(dropout_dec[i+1]))\n",
    "        layers_dec.append(nn.ELU())\n",
    "\n",
    "    layers_dec.append(nn.Linear(intermediate_dim,output_dim))\n",
    "\n",
    "    layers_ae = nn.ModuleList([nn.Linear(intermediate_dim,latent_dim),nn.Linear(intermediate_dim,latent_dim)])\n",
    "elif vae_type == 'conv':\n",
    "    out_conv_enc = [100,100]\n",
    "    kernels_enc = [6,10]\n",
    "    out_lin_enc = [200,100]\n",
    "    dropout_enc = [0.2,0.2]\n",
    "    \n",
    "    out_lin_dec = [200,250]\n",
    "    dropout_dec = [0.2,0.2]\n",
    "    \n",
    "    layers_enc_pre_view = nn.ModuleList([nn.Conv1d(len(ORDER_LIST),out_conv_enc[0],kernels_enc[0],stride=1),\n",
    "                                nn.ELU(),\n",
    "                                nn.MaxPool1d(4,padding=0),\n",
    "                                nn.ZeroPad2d((2,3,0,0)),\n",
    "                                nn.Conv1d(out_conv_enc[0],out_conv_enc[1],kernels_enc[1],stride=1),\n",
    "                                nn.ELU(),\n",
    "                                nn.MaxPool1d(3,padding=0)])\n",
    "    \n",
    "    enc_view = 100*5\n",
    "    \n",
    "    layers_enc_post_view = nn.ModuleList([nn.Linear(enc_view,out_lin_enc[0]),\n",
    "                                          nn.Dropout(dropout_enc[0]),\n",
    "                                          nn.ELU(),\n",
    "                                          nn.Linear(out_lin_enc[0],out_lin_enc[1]),\n",
    "                                          nn.Dropout(dropout_enc[1]),\n",
    "                                          nn.ELU()])\n",
    "    \n",
    "    layers_dec = nn.ModuleList([nn.Linear(latent_dim,out_lin_dec[0]),\n",
    "                                nn.Dropout(dropout_dec[0]),\n",
    "                                nn.ELU(),\n",
    "                                nn.Linear(out_lin_dec[0],out_lin_dec[1]),\n",
    "                                nn.Dropout(dropout_dec[1]),\n",
    "                                nn.ELU(),\n",
    "                                nn.Linear(out_lin_dec[1],output_dim)])\n",
    "    \n",
    "    layers_ae = nn.ModuleList([nn.Linear(out_lin_enc[-1],latent_dim),nn.Linear(out_lin_enc[-1],latent_dim)])\n",
    "elif vae_type == 'rec':\n",
    "    univ_dropout = [0.2]*2\n",
    "    dropout_enc = univ_dropout\n",
    "    dropout_dec = univ_dropout\n",
    "#     hid_sizes = [100,100]\n",
    "    \n",
    "    layers_enc = nn.ModuleList([nn.RNN(len(ORDER_LIST),1,num_layers=2,batch_first=True,dropout=0.2,bidirectional=True)])\n",
    "    layers_post_rec_enc = nn.ModuleList([nn.Linear(4,intermediate_dim),\n",
    "                                         nn.Dropout(dropout_enc[0]),\n",
    "                                         nn.ELU(),\n",
    "                                         nn.Linear(intermediate_dim,intermediate_dim),\n",
    "                                         nn.Dropout(dropout_enc[1]),\n",
    "                                         nn.ELU()])\n",
    "    \n",
    "    \n",
    "    layers_pre_rec_dec = nn.ModuleList([nn.Linear(latent_dim,100),\n",
    "                                        nn.Dropout(dropout_dec[0]),\n",
    "                                        nn.ELU()])\n",
    "    # 25 below bc bidirectional 2 layers means we have to divide 100 by 2*2\n",
    "    layers_dec = nn.ModuleList([nn.RNN(50,25,num_layers=2,batch_first=True,dropout=0.2,bidirectional=True)])\n",
    "    layers_post_rec_dec = nn.ModuleList([nn.Linear(25*2,len(ORDER_LIST))])\n",
    "    \n",
    "    layers_ae = nn.ModuleList([nn.Linear(intermediate_dim,latent_dim),nn.Linear(intermediate_dim,latent_dim)])"
   ]
  },
  {
   "cell_type": "code",
   "execution_count": 795,
   "metadata": {},
   "outputs": [
    {
     "name": "stdout",
     "output_type": "stream",
     "text": [
      "Epoch 0 | Training Loss: 13820.251953125, Training Accuracy: 0.4302048319327731, Validation Loss: 14052.291015625, Validation Accuracy: 0.4226890756302521\n",
      "Epoch 1 | Training Loss: 8002.91064453125, Training Accuracy: 0.5130304621848739, Validation Loss: 8382.99609375, Validation Accuracy: 0.5151785714285714\n",
      "Epoch 2 | Training Loss: 7673.0732421875, Training Accuracy: 0.5186659663865546, Validation Loss: 8011.77978515625, Validation Accuracy: 0.516859243697479\n",
      "Epoch 3 | Training Loss: 7559.1171875, Training Accuracy: 0.5175105042016807, Validation Loss: 7900.6943359375, Validation Accuracy: 0.5155462184873949\n",
      "Epoch 4 | Training Loss: 7543.78955078125, Training Accuracy: 0.5256617647058823, Validation Loss: 8022.18310546875, Validation Accuracy: 0.5224264705882353\n",
      "Epoch 5 | Training Loss: 7289.73388671875, Training Accuracy: 0.5402310924369748, Validation Loss: 7685.97021484375, Validation Accuracy: 0.5329831932773109\n",
      "Epoch 6 | Training Loss: 6986.39453125, Training Accuracy: 0.651748949579832, Validation Loss: 7476.63818359375, Validation Accuracy: 0.6290441176470588\n",
      "Epoch 7 | Training Loss: 6293.51025390625, Training Accuracy: 0.7165231092436974, Validation Loss: 6798.8544921875, Validation Accuracy: 0.6988970588235294\n",
      "Epoch 8 | Training Loss: 5892.8994140625, Training Accuracy: 0.7240651260504202, Validation Loss: 6397.95849609375, Validation Accuracy: 0.7074579831932774\n",
      "Epoch 9 | Training Loss: 5659.48095703125, Training Accuracy: 0.7242489495798319, Validation Loss: 6126.9638671875, Validation Accuracy: 0.7097163865546219\n",
      "Epoch 10 | Training Loss: 5537.3671875, Training Accuracy: 0.7264495798319328, Validation Loss: 6025.37548828125, Validation Accuracy: 0.7115021008403362\n",
      "Epoch 11 | Training Loss: 5470.35498046875, Training Accuracy: 0.7305042016806723, Validation Loss: 5963.6240234375, Validation Accuracy: 0.7165966386554622\n",
      "Epoch 12 | Training Loss: 5344.671875, Training Accuracy: 0.7397478991596639, Validation Loss: 5856.3671875, Validation Accuracy: 0.7240546218487395\n",
      "Epoch 13 | Training Loss: 5240.95263671875, Training Accuracy: 0.7567857142857143, Validation Loss: 5822.0703125, Validation Accuracy: 0.7379726890756303\n",
      "Epoch 14 | Training Loss: 5196.943359375, Training Accuracy: 0.7660504201680672, Validation Loss: 5727.6005859375, Validation Accuracy: 0.7508403361344538\n",
      "Epoch 15 | Training Loss: 4940.63134765625, Training Accuracy: 0.772998949579832, Validation Loss: 5514.109375, Validation Accuracy: 0.7535189075630252\n",
      "Epoch 16 | Training Loss: 4872.0341796875, Training Accuracy: 0.7765126050420168, Validation Loss: 5498.3251953125, Validation Accuracy: 0.7577205882352941\n",
      "Epoch 17 | Training Loss: 4757.4755859375, Training Accuracy: 0.7814338235294118, Validation Loss: 5404.07080078125, Validation Accuracy: 0.7619747899159663\n",
      "Epoch 18 | Training Loss: 4618.1552734375, Training Accuracy: 0.7829884453781513, Validation Loss: 5275.76220703125, Validation Accuracy: 0.7630777310924369\n",
      "Epoch 19 | Training Loss: 4661.56982421875, Training Accuracy: 0.786234243697479, Validation Loss: 5371.96240234375, Validation Accuracy: 0.765126050420168\n",
      "Epoch 20 | Training Loss: 4640.08447265625, Training Accuracy: 0.7832615546218488, Validation Loss: 5349.1064453125, Validation Accuracy: 0.7657037815126051\n",
      "Epoch 21 | Training Loss: 4574.44140625, Training Accuracy: 0.7876050420168067, Validation Loss: 5291.78076171875, Validation Accuracy: 0.7700105042016807\n",
      "Epoch 22 | Training Loss: 4579.80859375, Training Accuracy: 0.7894432773109243, Validation Loss: 5284.92724609375, Validation Accuracy: 0.7694852941176471\n",
      "Epoch 23 | Training Loss: 4512.29638671875, Training Accuracy: 0.7970430672268908, Validation Loss: 5298.81591796875, Validation Accuracy: 0.7753676470588236\n",
      "Epoch 24 | Training Loss: 4549.87158203125, Training Accuracy: 0.7947426470588236, Validation Loss: 5320.3740234375, Validation Accuracy: 0.7752100840336135\n",
      "Epoch 25 | Training Loss: 4388.11669921875, Training Accuracy: 0.7982300420168067, Validation Loss: 5214.91162109375, Validation Accuracy: 0.7783613445378151\n",
      "Epoch 26 | Training Loss: 4492.87109375, Training Accuracy: 0.7958613445378151, Validation Loss: 5274.8583984375, Validation Accuracy: 0.7751050420168067\n",
      "Epoch 27 | Training Loss: 4403.404296875, Training Accuracy: 0.7977310924369748, Validation Loss: 5208.20556640625, Validation Accuracy: 0.776890756302521\n",
      "Epoch 28 | Training Loss: 4332.88623046875, Training Accuracy: 0.8010556722689076, Validation Loss: 5185.47021484375, Validation Accuracy: 0.7807247899159664\n",
      "Epoch 29 | Training Loss: 4367.2734375, Training Accuracy: 0.8004621848739496, Validation Loss: 5231.099609375, Validation Accuracy: 0.7782563025210084\n",
      "Epoch 30 | Training Loss: 4238.357421875, Training Accuracy: 0.8022531512605042, Validation Loss: 5116.2080078125, Validation Accuracy: 0.780094537815126\n",
      "Epoch 31 | Training Loss: 4342.44970703125, Training Accuracy: 0.8045220588235295, Validation Loss: 5208.40380859375, Validation Accuracy: 0.7817226890756303\n",
      "Epoch 32 | Training Loss: 4281.00341796875, Training Accuracy: 0.8003098739495799, Validation Loss: 5128.70654296875, Validation Accuracy: 0.7813025210084034\n",
      "Epoch 33 | Training Loss: 4262.99609375, Training Accuracy: 0.8027205882352941, Validation Loss: 5123.5302734375, Validation Accuracy: 0.7832983193277311\n",
      "Epoch 34 | Training Loss: 4247.857421875, Training Accuracy: 0.8047426470588235, Validation Loss: 5143.1728515625, Validation Accuracy: 0.7816701680672269\n",
      "Epoch 35 | Training Loss: 4305.5615234375, Training Accuracy: 0.804296218487395, Validation Loss: 5155.994140625, Validation Accuracy: 0.7827205882352941\n",
      "Epoch 36 | Training Loss: 4348.12890625, Training Accuracy: 0.8053046218487395, Validation Loss: 5223.27099609375, Validation Accuracy: 0.7860294117647059\n",
      "Epoch 37 | Training Loss: 4222.578125, Training Accuracy: 0.8050472689075631, Validation Loss: 5128.2177734375, Validation Accuracy: 0.7837710084033613\n",
      "Epoch 38 | Training Loss: 4204.94970703125, Training Accuracy: 0.8087710084033614, Validation Loss: 5109.3349609375, Validation Accuracy: 0.7849789915966386\n",
      "Epoch 39 | Training Loss: 4136.73486328125, Training Accuracy: 0.8093329831932773, Validation Loss: 5099.29052734375, Validation Accuracy: 0.7865021008403361\n",
      "Epoch 40 | Training Loss: 4162.189453125, Training Accuracy: 0.8068172268907563, Validation Loss: 5099.18994140625, Validation Accuracy: 0.7852941176470588\n",
      "Epoch 41 | Training Loss: 4148.97998046875, Training Accuracy: 0.8063865546218487, Validation Loss: 5070.40966796875, Validation Accuracy: 0.7838235294117647\n",
      "Epoch 42 | Training Loss: 4140.0400390625, Training Accuracy: 0.8090808823529412, Validation Loss: 5031.380859375, Validation Accuracy: 0.786922268907563\n",
      "Epoch 43 | Training Loss: 4080.918701171875, Training Accuracy: 0.8101523109243698, Validation Loss: 5045.41748046875, Validation Accuracy: 0.7868697478991596\n",
      "Epoch 44 | Training Loss: 4161.12255859375, Training Accuracy: 0.8143644957983194, Validation Loss: 5111.8955078125, Validation Accuracy: 0.7874474789915966\n",
      "Epoch 45 | Training Loss: 4118.1982421875, Training Accuracy: 0.8109506302521008, Validation Loss: 5097.66357421875, Validation Accuracy: 0.7880252100840336\n",
      "Epoch 46 | Training Loss: 4105.205078125, Training Accuracy: 0.8141018907563026, Validation Loss: 5072.291015625, Validation Accuracy: 0.7879726890756302\n",
      "Epoch 47 | Training Loss: 4062.837890625, Training Accuracy: 0.8148266806722689, Validation Loss: 4988.2548828125, Validation Accuracy: 0.7900210084033613\n",
      "Epoch 48 | Training Loss: 4048.75537109375, Training Accuracy: 0.8148476890756302, Validation Loss: 5011.0673828125, Validation Accuracy: 0.7908613445378151\n",
      "Epoch 49 | Training Loss: 4042.14111328125, Training Accuracy: 0.8145640756302521, Validation Loss: 5012.3291015625, Validation Accuracy: 0.7895483193277311\n"
     ]
    }
   ],
   "source": [
    "if vae_type == 'full':\n",
    "    model = VAE(layers_enc,layers_ae,layers_dec)\n",
    "\n",
    "    prams = list(model.parameters())\n",
    "\n",
    "    optimizer = torch.optim.Adam(prams, lr = 0.001)\n",
    "\n",
    "    x_train_data, x_val_data = train_test_split(x_train, test_size = 0.0909090909)\n",
    "\n",
    "    ins_train = x_train_data.reshape(len(x_train_data)*PRUNED_SEQ_LENGTH,len(ORDER_LIST))\n",
    "    ins_train = torch.Tensor(ins_train)\n",
    "    ins_train = torch.argmax(ins_train,1)\n",
    "\n",
    "    ins_val = x_val_data.reshape(len(x_val_data)*PRUNED_SEQ_LENGTH,len(ORDER_LIST))\n",
    "    ins_val = torch.Tensor(ins_val)\n",
    "    ins_val = torch.argmax(ins_val,1)\n",
    "\n",
    "    for epoch in range(nb_epoch):\n",
    "        model.train()\n",
    "\n",
    "        train = np.random.permutation(x_train_data)\n",
    "        train = train.reshape(-1,batch_size,PRUNED_SEQ_LENGTH * len(ORDER_LIST))\n",
    "\n",
    "        train = torch.Tensor(train)\n",
    "\n",
    "        for batch in train:\n",
    "            out = model(batch)\n",
    "\n",
    "            batch = batch.reshape(batch_size*PRUNED_SEQ_LENGTH,len(ORDER_LIST))\n",
    "            batch = torch.argmax(batch,1)\n",
    "            out = out.reshape(batch_size*PRUNED_SEQ_LENGTH,len(ORDER_LIST))\n",
    "\n",
    "            loss = vae_loss(batch,out,model.z_mean,model.z_log_var)\n",
    "\n",
    "            optimizer.zero_grad()\n",
    "            loss.backward()\n",
    "            optimizer.step()\n",
    "\n",
    "        model.eval()\n",
    "\n",
    "        out_train = model(torch.Tensor(x_train_data))\n",
    "        out_train = torch.Tensor(out_train)\n",
    "        out_train = out_train.reshape(len(x_train_data)*PRUNED_SEQ_LENGTH,len(ORDER_LIST))\n",
    "\n",
    "        classpreds_train = torch.argmax(out_train,dim=1)\n",
    "        bool_train = (classpreds_train==ins_train)\n",
    "        class_acc_train = bool_train.sum().item()/bool_train.shape[0]\n",
    "\n",
    "        out_val = model(torch.Tensor(x_val_data))\n",
    "        out_val = torch.Tensor(out_val)\n",
    "        out_val = out_val.reshape(len(x_val_data)*PRUNED_SEQ_LENGTH,len(ORDER_LIST))\n",
    "\n",
    "        classpreds_val = torch.argmax(out_val,dim=1)\n",
    "        bool_val = (classpreds_val==ins_val)\n",
    "        class_acc_val = bool_val.sum().item()/bool_val.shape[0]\n",
    "\n",
    "        loss_train = vae_loss(ins_train,out_train,model.z_mean,model.z_log_var)\n",
    "        loss_val = vae_loss(ins_val,out_val,model.z_mean,model.z_log_var)\n",
    "\n",
    "        print('Epoch %s | Training Loss: %s, Training Accuracy: %s, Validation Loss: %s, Validation Accuracy: %s'\n",
    "              %( epoch, loss_train.item(), class_acc_train, loss_val.item(), class_acc_val ) )\n",
    "\n",
    "elif vae_type == 'conv':\n",
    "    model = VAE_conv(layers_enc_pre_view,enc_view,layers_enc_post_view,layers_ae,layers_dec)\n",
    "        \n",
    "    prams = list(model.parameters())\n",
    "\n",
    "    optimizer = torch.optim.Adam(prams, lr = 0.001)\n",
    "\n",
    "    x_train_data, x_val_data = train_test_split(x_train, test_size = 0.1)\n",
    "\n",
    "    ins_train = x_train_data.reshape(len(x_train_data)*PRUNED_SEQ_LENGTH,len(ORDER_LIST))\n",
    "    ins_train = torch.Tensor(ins_train)\n",
    "    ins_train = torch.argmax(ins_train,1)\n",
    "\n",
    "    ins_val = x_val_data.reshape(len(x_val_data)*PRUNED_SEQ_LENGTH,len(ORDER_LIST))\n",
    "    ins_val = torch.Tensor(ins_val)\n",
    "    ins_val = torch.argmax(ins_val,1)\n",
    "\n",
    "    for epoch in range(nb_epoch):\n",
    "        model.train()\n",
    "\n",
    "        train = np.random.permutation(x_train_data)\n",
    "        train = train.reshape(-1,batch_size,PRUNED_SEQ_LENGTH,len(ORDER_LIST))\n",
    "\n",
    "        train = torch.Tensor(train)\n",
    "        train = train.transpose(-2,-1)\n",
    "\n",
    "        for batch in train:\n",
    "            out = model(batch)\n",
    "\n",
    "            batch = batch.transpose(-2,-1).reshape(batch_size*PRUNED_SEQ_LENGTH,len(ORDER_LIST))\n",
    "            batch = torch.argmax(batch,1)\n",
    "            out = out.reshape(batch_size*PRUNED_SEQ_LENGTH,len(ORDER_LIST))\n",
    "\n",
    "            loss = vae_loss(batch,out,model.z_mean,model.z_log_var)\n",
    "\n",
    "            optimizer.zero_grad()\n",
    "            loss.backward()\n",
    "            optimizer.step()\n",
    "\n",
    "        model.eval()\n",
    "\n",
    "        out_train = model(torch.Tensor(x_train_data).reshape(-1,PRUNED_SEQ_LENGTH,len(ORDER_LIST)).transpose(-2,-1))\n",
    "        out_train = torch.Tensor(out_train)\n",
    "        out_train = out_train.reshape(len(x_train_data)*PRUNED_SEQ_LENGTH,len(ORDER_LIST))\n",
    "\n",
    "        classpreds_train = torch.argmax(out_train,dim=1)\n",
    "        bool_train = (classpreds_train==ins_train)\n",
    "        class_acc_train = bool_train.sum().item()/bool_train.shape[0]\n",
    "\n",
    "        out_val = model(torch.Tensor(x_val_data).reshape(-1,PRUNED_SEQ_LENGTH,len(ORDER_LIST)).transpose(-2,-1))\n",
    "        out_val = torch.Tensor(out_val)\n",
    "        out_val = out_val.reshape(len(x_val_data)*PRUNED_SEQ_LENGTH,len(ORDER_LIST))\n",
    "\n",
    "        classpreds_val = torch.argmax(out_val,dim=1)\n",
    "        bool_val = (classpreds_val==ins_val)\n",
    "        class_acc_val = bool_val.sum().item()/bool_val.shape[0]\n",
    "\n",
    "        loss_train = vae_loss(ins_train,out_train,model.z_mean,model.z_log_var)\n",
    "        loss_val = vae_loss(ins_val,out_val,model.z_mean,model.z_log_var)\n",
    "\n",
    "        print('Epoch %s | Training Loss: %s, Training Accuracy: %s, Validation Loss: %s, Validation Accuracy: %s'\n",
    "              %( epoch, loss_train.item(), class_acc_train, loss_val.item(), class_acc_val ) )\n",
    "        \n",
    "elif vae_type == 'rec':\n",
    "    model = VAE_rec(layers_enc,layers_post_rec_enc,layers_ae,layers_pre_rec_dec,layers_dec,layers_post_rec_dec)\n",
    "    \n",
    "    prams = list(model.parameters())\n",
    "\n",
    "    optimizer = torch.optim.Adam(prams, lr = 0.001)\n",
    "\n",
    "    x_train_data, x_val_data = train_test_split(x_train, test_size = 0.1)\n",
    "\n",
    "    ins_train = x_train_data.reshape(len(x_train_data)*PRUNED_SEQ_LENGTH,len(ORDER_LIST))\n",
    "    ins_train = torch.Tensor(ins_train)\n",
    "    ins_train = torch.argmax(ins_train,1)\n",
    "\n",
    "    ins_val = x_val_data.reshape(len(x_val_data)*PRUNED_SEQ_LENGTH,len(ORDER_LIST))\n",
    "    ins_val = torch.Tensor(ins_val)\n",
    "    ins_val = torch.argmax(ins_val,1)\n",
    "\n",
    "    for epoch in range(nb_epoch):\n",
    "        model.train()\n",
    "\n",
    "        train = np.random.permutation(x_train_data)\n",
    "        train = train.reshape(-1,batch_size,PRUNED_SEQ_LENGTH,len(ORDER_LIST))\n",
    "\n",
    "        train = torch.Tensor(train)\n",
    "#         train = train.transpose(-2,-1)\n",
    "\n",
    "        for batch in train:\n",
    "            out = model(batch)\n",
    "\n",
    "            batch = batch.transpose(-2,-1).reshape(batch_size*PRUNED_SEQ_LENGTH,len(ORDER_LIST))\n",
    "            batch = torch.argmax(batch,1)\n",
    "            out = out.reshape(batch_size*PRUNED_SEQ_LENGTH,len(ORDER_LIST))\n",
    "\n",
    "            loss = vae_loss(batch,out,model.z_mean,model.z_log_var)\n",
    "\n",
    "            optimizer.zero_grad()\n",
    "            loss.backward()\n",
    "            optimizer.step()\n",
    "\n",
    "        model.eval()\n",
    "\n",
    "        out_train = model(torch.Tensor(x_train_data).reshape(-1,PRUNED_SEQ_LENGTH,len(ORDER_LIST)))\n",
    "        out_train = torch.Tensor(out_train)\n",
    "        out_train = out_train.reshape(len(x_train_data)*PRUNED_SEQ_LENGTH,len(ORDER_LIST))\n",
    "\n",
    "        classpreds_train = torch.argmax(out_train,dim=1)\n",
    "        bool_train = (classpreds_train==ins_train)\n",
    "        class_acc_train = bool_train.sum().item()/bool_train.shape[0]\n",
    "\n",
    "        out_val = model(torch.Tensor(x_val_data).reshape(-1,PRUNED_SEQ_LENGTH,len(ORDER_LIST)))\n",
    "        out_val = torch.Tensor(out_val)\n",
    "        out_val = out_val.reshape(len(x_val_data)*PRUNED_SEQ_LENGTH,len(ORDER_LIST))\n",
    "\n",
    "        classpreds_val = torch.argmax(out_val,dim=1)\n",
    "        bool_val = (classpreds_val==ins_val)\n",
    "        class_acc_val = bool_val.sum().item()/bool_val.shape[0]\n",
    "\n",
    "        loss_train = vae_loss(ins_train,out_train,model.z_mean,model.z_log_var)\n",
    "        loss_val = vae_loss(ins_val,out_val,model.z_mean,model.z_log_var)\n",
    "\n",
    "        print('Epoch %s | Training Loss: %s, Training Accuracy: %s, Validation Loss: %s, Validation Accuracy: %s'\n",
    "              %( epoch, loss_train.item(), class_acc_train, loss_val.item(), class_acc_val ) )"
   ]
  },
  {
   "cell_type": "code",
   "execution_count": null,
   "metadata": {},
   "outputs": [],
   "source": []
  },
  {
   "cell_type": "markdown",
   "metadata": {},
   "source": [
    "Let's explore the latent space"
   ]
  },
  {
   "cell_type": "code",
   "execution_count": 796,
   "metadata": {},
   "outputs": [],
   "source": [
    "fit_xtrain = model(torch.Tensor(x_train)).detach()\n",
    "z_means = model.z_mean.detach()"
   ]
  },
  {
   "cell_type": "code",
   "execution_count": 797,
   "metadata": {},
   "outputs": [
    {
     "data": {
      "image/png": "[encoded data removed]",
      "text/plain": [
       "<Figure size 432x288 with 1 Axes>"
      ]
     },
     "metadata": {
      "needs_background": "light"
     },
     "output_type": "display_data"
    }
   ],
   "source": [
    "transposed_zmeans = np.array(z_means).transpose()\n",
    "\n",
    "plt.scatter(transposed_zmeans[0], transposed_zmeans[1], s = 1, linewidths = 0)\n",
    "plt.show()"
   ]
  },
  {
   "cell_type": "code",
   "execution_count": 798,
   "metadata": {},
   "outputs": [],
   "source": [
    "from sklearn.cluster import KMeans\n",
    "\n",
    "z_means_np = np.array(z_means)\n",
    "kmeans = KMeans(n_clusters=12, random_state=1).fit(z_means_np)"
   ]
  },
  {
   "cell_type": "code",
   "execution_count": 799,
   "metadata": {},
   "outputs": [
    {
     "data": {
      "image/png": "[encoded data removed]",
      "text/plain": [
       "<Figure size 864x864 with 1 Axes>"
      ]
     },
     "metadata": {
      "needs_background": "light"
     },
     "output_type": "display_data"
    }
   ],
   "source": [
    "sample_points=len(z_means_np)\n",
    "\n",
    "latent_dim = 2\n",
    "fig = plt.figure(figsize=(12,12))\n",
    "counter=0\n",
    "cmap=kmeans.labels_\n",
    "for z1 in range(latent_dim):\n",
    "    for z2 in range(z1+1,latent_dim):\n",
    "        counter+=1\n",
    "        fig.add_subplot(latent_dim,latent_dim,counter)\n",
    "        plt.title(str(z1)+\"_\"+str(z2))\n",
    "        plt.scatter(z_means_np[:, z1][::-1], z_means_np[:, z2][::-1],c=cmap[::-1], s = 15, alpha=0.1,marker=\"o\")\n",
    "#         plt.scatter(z_means_np[:, z1][::-1], z_means_np[:, z2][::-1],c=\"y\" ,alpha=0.3,marker=\"o\")\n",
    "        plt.scatter(z_means_np[0][z1], z_means_np[0][z2],c=\"r\" ,alpha=1,s=40,marker=\"s\")\n",
    "        plt.xlabel(\"Latent dim\"+str(z1+1))\n",
    "        plt.ylabel(\"Latent dim\"+str(z2+1));\n",
    "plt.savefig(\"Try2_originalDropout.png\")\n"
   ]
  },
  {
   "cell_type": "code",
   "execution_count": 800,
   "metadata": {},
   "outputs": [
    {
     "data": {
      "image/png": "[encoded data removed]",
      "text/plain": [
       "<Figure size 432x288 with 1 Axes>"
      ]
     },
     "metadata": {
      "needs_background": "light"
     },
     "output_type": "display_data"
    }
   ],
   "source": [
    "plt.pcolor(x_train[0].reshape(238, 24).transpose(1, 0))\n",
    "plt.show()"
   ]
  },
  {
   "cell_type": "markdown",
   "metadata": {},
   "source": [
    "# Training a classifier over the latent space"
   ]
  },
  {
   "cell_type": "code",
   "execution_count": 801,
   "metadata": {},
   "outputs": [],
   "source": [
    "fit_total = model(torch.Tensor(sarkisyan_data)).detach()\n",
    "latent_data = model.z_mean.detach()"
   ]
  },
  {
   "cell_type": "code",
   "execution_count": 802,
   "metadata": {},
   "outputs": [],
   "source": [
    "X_train, X_test, y_train, y_test = train_test_split(np.array(latent_data), sarkisyan['quantitative_function'], \n",
    "                                                   test_size = 0.3, random_state=10)"
   ]
  },
  {
   "cell_type": "code",
   "execution_count": 803,
   "metadata": {},
   "outputs": [
    {
     "data": {
      "text/plain": [
       "0.17659603987169525"
      ]
     },
     "execution_count": 803,
     "metadata": {},
     "output_type": "execute_result"
    }
   ],
   "source": [
    "latentReg = RandomForestRegressor()\n",
    "latentReg.fit(X_train, y_train)\n",
    "# latentReg.predict(X_test)\n",
    "latentReg.score(X_test, y_test)"
   ]
  },
  {
   "cell_type": "code",
   "execution_count": 804,
   "metadata": {},
   "outputs": [
    {
     "data": {
      "image/png": "[encoded data removed]",
      "text/plain": [
       "<Figure size 432x288 with 1 Axes>"
      ]
     },
     "metadata": {
      "needs_background": "light"
     },
     "output_type": "display_data"
    }
   ],
   "source": [
    "plt.scatter(X_train[:,0], y_train)\n",
    "plt.show()"
   ]
  },
  {
   "cell_type": "code",
   "execution_count": 805,
   "metadata": {},
   "outputs": [
    {
     "data": {
      "image/png": "[encoded data removed]",
      "text/plain": [
       "<Figure size 432x288 with 1 Axes>"
      ]
     },
     "metadata": {
      "needs_background": "light"
     },
     "output_type": "display_data"
    }
   ],
   "source": [
    "plt.hist(y_train)\n",
    "plt.show()"
   ]
  },
  {
   "cell_type": "code",
   "execution_count": 806,
   "metadata": {},
   "outputs": [
    {
     "data": {
      "text/plain": [
       "0.6933934901708024"
      ]
     },
     "execution_count": 806,
     "metadata": {},
     "output_type": "execute_result"
    }
   ],
   "source": [
    "sarkisyan['function'] = sarkisyan['quantitative_function'] > 0.5\n",
    "\n",
    "X_train, X_test, y_train, y_test = train_test_split(np.array(latent_data), sarkisyan['function'], \n",
    "                                                   test_size = 0.3, random_state=10)\n",
    "\n",
    "latentClf = RandomForestClassifier()\n",
    "latentClf.fit(X_train, y_train)\n",
    "# latentReg.predict(X_test)\n",
    "latentClf.score(X_test, y_test)"
   ]
  },
  {
   "cell_type": "code",
   "execution_count": 807,
   "metadata": {},
   "outputs": [
    {
     "data": {
      "text/plain": [
       "0.5817461084791646"
      ]
     },
     "execution_count": 807,
     "metadata": {},
     "output_type": "execute_result"
    }
   ],
   "source": [
    "np.sum(sarkisyan['function'])/len(sarkisyan)"
   ]
  },
  {
   "cell_type": "code",
   "execution_count": null,
   "metadata": {},
   "outputs": [],
   "source": []
  },
  {
   "cell_type": "code",
   "execution_count": null,
   "metadata": {},
   "outputs": [],
   "source": []
  },
  {
   "cell_type": "markdown",
   "metadata": {},
   "source": [
    "## Calculating P(X)"
   ]
  },
  {
   "cell_type": "code",
   "execution_count": 808,
   "metadata": {},
   "outputs": [],
   "source": [
    "m = torch.nn.Softmax()"
   ]
  },
  {
   "cell_type": "code",
   "execution_count": 826,
   "metadata": {},
   "outputs": [
    {
     "name": "stderr",
     "output_type": "stream",
     "text": [
      "//anaconda/envs/ML_env/lib/python3.6/site-packages/ipykernel_launcher.py:1: UserWarning: Implicit dimension choice for softmax has been deprecated. Change the call to include dim=X as an argument.\n",
      "  \"\"\"Entry point for launching an IPython kernel.\n"
     ]
    }
   ],
   "source": [
    "reshaped_fit_sarkisyan = np.array(m(fit_total.reshape(51715 * 238, 24)).reshape(51715, 238, 24).transpose(2, 1))"
   ]
  },
  {
   "cell_type": "code",
   "execution_count": 817,
   "metadata": {},
   "outputs": [
    {
     "data": {
      "text/plain": [
       "<matplotlib.collections.PolyCollection at 0x136e96e10>"
      ]
     },
     "execution_count": 817,
     "metadata": {},
     "output_type": "execute_result"
    },
    {
     "data": {
      "image/png": "[encoded data removed]",
      "text/plain": [
       "<Figure size 432x288 with 1 Axes>"
      ]
     },
     "metadata": {
      "needs_background": "light"
     },
     "output_type": "display_data"
    }
   ],
   "source": [
    "plt.pcolor(reshaped_fit_sarkisyan[0])"
   ]
  },
  {
   "cell_type": "code",
   "execution_count": 818,
   "metadata": {},
   "outputs": [
    {
     "data": {
      "text/plain": [
       "torch.Size([51715, 5712])"
      ]
     },
     "execution_count": 818,
     "metadata": {},
     "output_type": "execute_result"
    }
   ],
   "source": [
    "fit_total.shape"
   ]
  },
  {
   "cell_type": "code",
   "execution_count": 820,
   "metadata": {},
   "outputs": [
    {
     "data": {
      "text/plain": [
       "24"
      ]
     },
     "execution_count": 820,
     "metadata": {},
     "output_type": "execute_result"
    }
   ],
   "source": [
    "len(ORDER_LIST)"
   ]
  },
  {
   "cell_type": "code",
   "execution_count": 823,
   "metadata": {},
   "outputs": [
    {
     "data": {
      "text/plain": [
       "array([[2.19017694e-01, 1.76381731e-02, 2.05365546e-04, ...,\n",
       "        5.06741362e-02, 4.96158629e-02, 7.01698263e-02],\n",
       "       [3.84455011e-10, 1.70342977e-11, 1.67956777e-13, ...,\n",
       "        3.04854793e-13, 2.42755678e-12, 2.80067300e-12],\n",
       "       [6.25988012e-11, 4.45702738e-10, 2.33662843e-11, ...,\n",
       "        6.18295471e-12, 2.93730308e-13, 1.39405531e-11],\n",
       "       ...,\n",
       "       [2.01384164e-03, 3.60576881e-11, 2.95358245e-08, ...,\n",
       "        9.49057519e-01, 6.34275699e-12, 3.52582664e-12],\n",
       "       [7.59836029e-11, 1.84866427e-11, 4.35174631e-11, ...,\n",
       "        7.79992231e-11, 1.80350901e-11, 1.41240556e-10],\n",
       "       [9.00744640e-13, 2.10846407e-11, 2.44172479e-04, ...,\n",
       "        7.79476588e-10, 7.32273920e-12, 5.61766216e-13]])"
      ]
     },
     "execution_count": 823,
     "metadata": {},
     "output_type": "execute_result"
    }
   ],
   "source": [
    "digit_wt"
   ]
  },
  {
   "cell_type": "code",
   "execution_count": 833,
   "metadata": {},
   "outputs": [
    {
     "name": "stdout",
     "output_type": "stream",
     "text": [
      "Spearman SpearmanrResult(correlation=0.0037379544228609103, pvalue=0.39531402980057295)\n",
      "Pearson (0.006067801511975757, 0.1676357173445102)\n",
      "------------------------------\n",
      "Spearman SpearmanrResult(correlation=0.0037190778438605876, pvalue=0.3977049025277771)\n",
      "Pearson (0.006060601648830167, 0.16814051883535286)\n",
      "------------------------------\n",
      "Spearman SpearmanrResult(correlation=0.0037039855461491033, pvalue=0.39962272099680085)\n",
      "Pearson (0.005919161490409741, 0.17829002187402768)\n"
     ]
    }
   ],
   "source": [
    "sample_size=len(fit_total)\n",
    "sample_for_averging_size=100\n",
    "sequence_size=PRUNED_SEQ_LENGTH\n",
    "digit_size = len(ORDER_LIST)\n",
    "\n",
    "digit = reshaped_fit_sarkisyan[0]#fit_xtrain_softmax_reshaped[0]\n",
    "digit_wt = digit\n",
    "digit_wt = normalize(digit,axis=0, norm='l1')\n",
    "# print (digit_wt)\n",
    "\n",
    "\n",
    "wt_prob=compute_log_probability(reshaped_fit_sarkisyan[0].reshape(digit_size, sequence_size),digit_wt)\n",
    "#print (\"wt_log_prob: \", wt_prob)\n",
    "\n",
    "wt_probs=[]\n",
    "digit_avg=np.zeros((digit_size, sequence_size))\n",
    "\n",
    "\n",
    "sample_indices=random.sample(range(sample_size),sample_for_averging_size)\n",
    "\n",
    "counter=0\n",
    "for sample in sample_indices:\n",
    "    digit = reshaped_fit_sarkisyan[sample]\n",
    "#     print (digit)\n",
    "#     print (digit_avg)\n",
    "#     digit_wt_i = normalize(digit,axis=0, norm='l1')\n",
    "    digit_wt_i = digit\n",
    "    \n",
    "#     print (digit_wt_i)\n",
    "    \n",
    "    digit_avg+=np.array(digit_wt_i) * 1. / sample_for_averging_size\n",
    "    \n",
    "    wt_p=compute_log_probability(reshaped_fit_sarkisyan[sample].reshape(digit_size, sequence_size),digit_wt_i)\n",
    "    wt_probs.append(wt_p)\n",
    "    counter+=1\n",
    "    \n",
    "average_wt_p=np.mean(wt_probs)\n",
    "\n",
    "fitnesses_vs_wt=[]\n",
    "fitnesses=[] #first plug in just the sequences\n",
    "fitnesses_vs_avg=[] \n",
    "\n",
    "for sample in range(1,sample_size):\n",
    "    digit = reshaped_fit_sarkisyan[sample]\n",
    "#     digit = normalize(digit,axis=0, norm='l1')\n",
    "    \n",
    "    fitness=compute_log_probability(reshaped_fit_sarkisyan[sample].reshape(digit_size, sequence_size),digit)-wt_prob\n",
    "    fitnesses.append(fitness)\n",
    "    \n",
    "    fitness=compute_log_probability(reshaped_fit_sarkisyan[sample].reshape(digit_size, sequence_size),digit_wt)-wt_prob\n",
    "    fitnesses_vs_wt.append(fitness)\n",
    "    \n",
    "    fitness=compute_log_probability(reshaped_fit_sarkisyan[sample].reshape(digit_size, sequence_size),digit_avg)-average_wt_p\n",
    "    fitnesses_vs_avg.append(fitness)\n",
    "    \n",
    "    \n",
    "print (\"Spearman\",spearmanr(fitnesses_vs_avg,sarkisyan['quantitative_function'][:sample_size-1]))\n",
    "print (\"Pearson\", pearsonr(fitnesses_vs_avg,sarkisyan['quantitative_function'][:sample_size-1]))\n",
    "print ('------------------------------')\n",
    "print (\"Spearman\",spearmanr(fitnesses_vs_wt,sarkisyan['quantitative_function'][:sample_size-1]))\n",
    "print (\"Pearson\", pearsonr(fitnesses_vs_wt,sarkisyan['quantitative_function'][:sample_size-1]))\n",
    "print ('------------------------------')\n",
    "print (\"Spearman\",spearmanr(fitnesses,sarkisyan['quantitative_function'][:sample_size-1]))\n",
    "print (\"Pearson\", pearsonr(fitnesses,sarkisyan['quantitative_function'][:sample_size-1]))"
   ]
  },
  {
   "cell_type": "code",
   "execution_count": null,
   "metadata": {},
   "outputs": [],
   "source": [
    "sample_size=len(fit_total)\n",
    "sample_for_averging_size=100\n",
    "sequence_size=PRUNED_SEQ_LENGTH\n",
    "digit_size = len(ORDER_LIST)\n",
    "\n",
    "digit = reshaped_fit_sarkisyan[0]#fit_xtrain_softmax_reshaped[0]\n",
    "digit_wt = digit\n",
    "digit_wt = normalize(digit,axis=0, norm='l1')\n",
    "# print (digit_wt)\n",
    "\n",
    "\n",
    "wt_prob=compute_log_probability(reshaped_fit_sarkisyan[0].reshape(digit_size, sequence_size),digit_wt)\n",
    "\n",
    "wt_probs=[]\n",
    "digit_avg=np.zeros((digit_size, sequence_size))\n",
    "\n",
    "\n",
    "sample_indices=random.sample(range(sample_size),sample_for_averging_size)\n",
    "\n",
    "counter=0\n",
    "for sample in sample_indices:\n",
    "    digit = reshaped_fit_sarkisyan[sample]\n",
    "#     print (digit)\n",
    "#     print (digit_avg)\n",
    "#     digit_wt_i = normalize(digit,axis=0, norm='l1')\n",
    "    digit_wt_i = digit\n",
    "    \n",
    "#     print (digit_wt_i)\n",
    "    \n",
    "    digit_avg+=np.array(digit_wt_i) * 1. / sample_for_averging_size\n",
    "    \n",
    "    wt_p=compute_log_probability(reshaped_fit_sarkisyan[sample].reshape(digit_size, sequence_size),digit_wt_i)\n",
    "    wt_probs.append(wt_p)\n",
    "    counter+=1\n",
    "    \n",
    "average_wt_p=np.mean(wt_probs)\n",
    "\n",
    "fitnesses_vs_wt=[]\n",
    "fitnesses=[] #first plug in just the sequences\n",
    "fitnesses_vs_avg=[] \n",
    "\n",
    "for sample in range(1,sample_size):\n",
    "    digit = reshaped_fit_sarkisyan[sample]\n",
    "#     digit = normalize(digit,axis=0, norm='l1')\n",
    "    \n",
    "    fitness=compute_log_probability(reshaped_fit_sarkisyan[sample].reshape(digit_size, sequence_size),digit)-wt_prob\n",
    "    fitnesses.append(fitness)\n",
    "    \n",
    "    fitness=compute_log_probability(reshaped_fit_sarkisyan[sample].reshape(digit_size, sequence_size),digit_wt)-wt_prob\n",
    "    fitnesses_vs_wt.append(fitness)\n",
    "    \n",
    "    fitness=compute_log_probability(reshaped_fit_sarkisyan[sample].reshape(digit_size, sequence_size),digit_avg)-average_wt_p\n",
    "    fitnesses_vs_avg.append(fitness)\n",
    "    \n",
    "    \n",
    "print (\"Spearman\",spearmanr(fitnesses_vs_avg,sarkisyan['quantitative_function'][:sample_size-1]))\n",
    "print (\"Pearson\", pearsonr(fitnesses_vs_avg,sarkisyan['quantitative_function'][:sample_size-1]))\n",
    "print ('------------------------------')\n",
    "print (\"Spearman\",spearmanr(fitnesses_vs_wt,sarkisyan['quantitative_function'][:sample_size-1]))\n",
    "print (\"Pearson\", pearsonr(fitnesses_vs_wt,sarkisyan['quantitative_function'][:sample_size-1]))\n",
    "print ('------------------------------')\n",
    "print (\"Spearman\",spearmanr(fitnesses,sarkisyan['quantitative_function'][:sample_size-1]))\n",
    "print (\"Pearson\", pearsonr(fitnesses,sarkisyan['quantitative_function'][:sample_size-1]))"
   ]
  },
  {
   "cell_type": "code",
   "execution_count": 835,
   "metadata": {},
   "outputs": [
    {
     "data": {
      "text/plain": [
       "<matplotlib.collections.PathCollection at 0x1cd38e2b0>"
      ]
     },
     "execution_count": 835,
     "metadata": {},
     "output_type": "execute_result"
    },
    {
     "data": {
      "image/png": "[encoded data removed]",
      "text/plain": [
       "<Figure size 432x288 with 1 Axes>"
      ]
     },
     "metadata": {
      "needs_background": "light"
     },
     "output_type": "display_data"
    }
   ],
   "source": [
    "plt.scatter(fitnesses_vs_wt, sarkisyan['quantitative_function'][1:sample_size])"
   ]
  },
  {
   "cell_type": "code",
   "execution_count": 825,
   "metadata": {},
   "outputs": [
    {
     "ename": "AttributeError",
     "evalue": "'Tensor' object has no attribute 'T'",
     "output_type": "error",
     "traceback": [
      "\u001b[0;31m---------------------------------------------------------------------------\u001b[0m",
      "\u001b[0;31mAttributeError\u001b[0m                            Traceback (most recent call last)",
      "\u001b[0;32m<ipython-input-825-69f99acea2d3>\u001b[0m in \u001b[0;36m<module>\u001b[0;34m\u001b[0m\n\u001b[0;32m----> 1\u001b[0;31m \u001b[0mreshaped_fit_sarkisyan\u001b[0m\u001b[0;34m[\u001b[0m\u001b[0;36m0\u001b[0m\u001b[0;34m]\u001b[0m\u001b[0;34m.\u001b[0m\u001b[0mreshape\u001b[0m\u001b[0;34m(\u001b[0m\u001b[0mdigit_size\u001b[0m\u001b[0;34m,\u001b[0m \u001b[0msequence_size\u001b[0m\u001b[0;34m)\u001b[0m\u001b[0;34m.\u001b[0m\u001b[0mT\u001b[0m\u001b[0;34m\u001b[0m\u001b[0;34m\u001b[0m\u001b[0m\n\u001b[0m",
      "\u001b[0;31mAttributeError\u001b[0m: 'Tensor' object has no attribute 'T'"
     ]
    }
   ],
   "source": [
    "reshaped_fit_sarkisyan[0].reshape(digit_size, sequence_size).T"
   ]
  },
  {
   "cell_type": "code",
   "execution_count": null,
   "metadata": {},
   "outputs": [],
   "source": []
  }
 ],
 "metadata": {
  "anaconda-cloud": {},
  "kernelspec": {
   "display_name": "Python 3",
   "language": "python",
   "name": "python3"
  },
  "language_info": {
   "codemirror_mode": {
    "name": "ipython",
    "version": 3
   },
   "file_extension": ".py",
   "mimetype": "text/x-python",
   "name": "python",
   "nbconvert_exporter": "python",
   "pygments_lexer": "ipython3",
   "version": "3.6.8"
  }
 },
 "nbformat": 4,
 "nbformat_minor": 1
}
