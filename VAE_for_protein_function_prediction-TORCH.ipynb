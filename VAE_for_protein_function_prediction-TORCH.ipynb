{
 "cells": [
  {
   "cell_type": "markdown",
   "metadata": {
    "colab_type": "text",
    "id": "ZDsSVgwI5Tfc"
   },
   "source": [
    "### Using a Variational Auto-encoder to predict protein fitness from evolutionary data\n",
    "\n",
    "July 20, 2017\n",
    "### Sam Sinai and Eric Kelsic\n",
    "\n",
    "\n",
    "## For the blog post associated with this notebook see [this post](https://samsinai.github.io/jekyll/update/2017/08/14/Using-a-Variational-Autoencoder-to-predict-protein-function.html). \n",
    "\n",
    "\n",
    "This notebook it organized in 3 sections. In section 1 we show our workflow for pre-processing the biological data. We then train the model on the alignment data in section 2. In section 3 we compare the predictions of the model on the [PABP yeast](https://www.ncbi.nlm.nih.gov/pmc/articles/PMC3851721/) dataset. In section 4 we report the results from analyzing multiple other datasets. Finally we pose some questions with regards to improving the model for interested researcher."
   ]
  },
  {
   "cell_type": "code",
   "execution_count": 1,
   "metadata": {
    "colab": {},
    "colab_type": "code",
    "id": "JXSFgjsE5Tfe"
   },
   "outputs": [],
   "source": [
    "### IT'S 82 x 24"
   ]
  },
  {
   "cell_type": "code",
   "execution_count": 2,
   "metadata": {
    "colab": {},
    "colab_type": "code",
    "id": "frm5qU-tgUz8"
   },
   "outputs": [],
   "source": [
    "# from google.colab import drive\n",
    "# drive.mount('/content/drive')"
   ]
  },
  {
   "cell_type": "code",
   "execution_count": 3,
   "metadata": {
    "colab": {},
    "colab_type": "code",
    "id": "nuXjvOf95Tfj"
   },
   "outputs": [],
   "source": [
    "# Generic imports\n",
    "from __future__ import print_function\n",
    "%matplotlib inline\n",
    "import matplotlib.pyplot as plt\n",
    "import numpy as np\n",
    "import pandas as pd\n",
    "import math,random,re\n",
    "import time"
   ]
  },
  {
   "cell_type": "code",
   "execution_count": 4,
   "metadata": {
    "colab": {},
    "colab_type": "code",
    "id": "BpJ-72V05Tfn"
   },
   "outputs": [],
   "source": [
    "#Machine learning/Stats imports \n",
    "from scipy.stats import norm\n",
    "from scipy.stats import spearmanr,pearsonr\n",
    "from sklearn.preprocessing import normalize\n",
    "from sklearn.model_selection import train_test_split\n",
    "import torch\n",
    "import torch.nn as nn\n",
    "import torch.nn.functional as F\n",
    "from torch.autograd import Variable\n",
    "import torch.distributions as D\n",
    "# import tensorflow as tf\n",
    "# import keras\n",
    "# from keras.layers import Input, Dense\n",
    "# from keras.models import Model\n",
    "# from keras import regularizers\n",
    "# from keras.layers import LSTM, RepeatVector\n",
    "# from keras.layers import Input, Dense, Lambda, Dropout,Activation, TimeDistributed\n",
    "# from keras import backend as K\n",
    "# from keras import objectives\n",
    "# from keras.callbacks import EarlyStopping\n",
    "# from keras.layers.normalization import BatchNormalization\n",
    "# from keras import regularizers"
   ]
  },
  {
   "cell_type": "code",
   "execution_count": 5,
   "metadata": {
    "colab": {},
    "colab_type": "code",
    "id": "XRSDjG2AOKcz"
   },
   "outputs": [],
   "source": [
    "# JUST UPLOAD MANUALLY TBH\n",
    "\n",
    "# # if in colab\n",
    "\n",
    "# # models\n",
    "# print('models.py')\n",
    "# from google.colab import files\n",
    "# src = list(files.upload().values())[0]\n",
    "# open('models.py','wb').write(src)\n",
    "\n",
    "# # helper_tools\n",
    "# print('helper_tools.py')\n",
    "# from google.colab import files\n",
    "# src = list(files.upload().values())[0]\n",
    "# open('helper_tools.py','wb').write(src)\n",
    "\n",
    "# # helper_tools_for_plotting\n",
    "# print('helper_tools_for_plotting.py')\n",
    "# from google.colab import files\n",
    "# src = list(files.upload().values())[0]\n",
    "# open('helper_tools_for_plotting.py','wb').write(src)\n",
    "\n",
    "# # singles\n",
    "# print('PABP_YEAST_Fields2013-singles.csv')\n",
    "# from google.colab import files\n",
    "# src = list(files.upload().values())[0]\n",
    "# open('PABP_YEAST_Fields2013-singles.csv','wb').write(src)\n",
    "\n",
    "# # doubles\n",
    "# print('PABP_YEAST_Fields2013-doubles.csv')\n",
    "# from google.colab import files\n",
    "# src = list(files.upload().values())[0]\n",
    "# open('PABP_YEAST_Fields2013-doubles.csv','wb').write(src)\n",
    "\n",
    "# # PABP_YEAST_hmmerbit_t0.2_r50000.reweight\n",
    "# print('PABP_YEAST_hmmerbit_t0.2_r50000.reweight')\n",
    "# from google.colab import files\n",
    "# src = list(files.upload().values())[0]\n",
    "# open('PABP_YEAST_hmmerbit_t0.2_r50000.reweight','wb').write(src)\n",
    "\n",
    "# # PABP_YEAST_hmmerbit_plmc_n5_m30_f50_t0.2_r115-210_id100_b48.a2m\n",
    "# print('PABP_YEAST_hmmerbit_plmc_n5_m30_f50_t0.2_r115-210_id100_b48.a2m')\n",
    "# from google.colab import files\n",
    "# src = list(files.upload().values())[0]\n",
    "# open('PABP_YEAST_hmmerbit_plmc_n5_m30_f50_t0.2_r115-210_id100_b48.a2m','wb').write(src)"
   ]
  },
  {
   "cell_type": "code",
   "execution_count": 6,
   "metadata": {
    "colab": {},
    "colab_type": "code",
    "id": "GYzU8dDr5Tfr"
   },
   "outputs": [],
   "source": [
    "from models import *"
   ]
  },
  {
   "cell_type": "markdown",
   "metadata": {
    "colab_type": "text",
    "id": "-rDzv0SK5Tf2"
   },
   "source": [
    "## 1.  Data pre-processing\n",
    "\n",
    "Defining the alphabet that is used for Amino-Acids throughout."
   ]
  },
  {
   "cell_type": "markdown",
   "metadata": {
    "colab_type": "text",
    "id": "2V4RAlKO5Tf7"
   },
   "source": [
    "These are helper functions to clean and process data. "
   ]
  },
  {
   "cell_type": "code",
   "execution_count": 7,
   "metadata": {
    "colab": {},
    "colab_type": "code",
    "id": "yIhWvpqE5Tf8"
   },
   "outputs": [],
   "source": [
    "%reload_ext autoreload\n",
    "%autoreload 1\n",
    "from helper_tools import *\n",
    "from helper_tools_for_plotting import *"
   ]
  },
  {
   "cell_type": "markdown",
   "metadata": {
    "colab_type": "text",
    "id": "6RLAZpRZ5Tf_"
   },
   "source": [
    "Import the alignment data:"
   ]
  },
  {
   "cell_type": "code",
   "execution_count": 8,
   "metadata": {},
   "outputs": [],
   "source": [
    "n_data = 50000\n",
    "varlen = True\n",
    "unaligned = True"
   ]
  },
  {
   "cell_type": "code",
   "execution_count": 9,
   "metadata": {
    "colab": {
     "base_uri": "https://localhost:8080/",
     "height": 221
    },
    "colab_type": "code",
    "executionInfo": {
     "elapsed": 80123,
     "status": "ok",
     "timestamp": 1555720436517,
     "user": {
      "displayName": "Anirudh Suresh",
      "photoUrl": "https://lh4.googleusercontent.com/-C1cjzADetbU/AAAAAAAAAAI/AAAAAAAABMU/EVQSgSzpL1U/s64/photo.jpg",
      "userId": "10961260883155163173"
     },
     "user_tz": 240
    },
    "id": "GzBbZaRn5TgA",
    "outputId": "2f258da4-e68a-41fe-a11b-488738aeb9d1",
    "scrolled": true
   },
   "outputs": [
    {
     "name": "stdout",
     "output_type": "stream",
     "text": [
      "number of data points:  50000\n"
     ]
    },
    {
     "data": {
      "text/html": [
       "<div>\n",
       "<style scoped>\n",
       "    .dataframe tbody tr th:only-of-type {\n",
       "        vertical-align: middle;\n",
       "    }\n",
       "\n",
       "    .dataframe tbody tr th {\n",
       "        vertical-align: top;\n",
       "    }\n",
       "\n",
       "    .dataframe thead th {\n",
       "        text-align: right;\n",
       "    }\n",
       "</style>\n",
       "<table border=\"1\" class=\"dataframe\">\n",
       "  <thead>\n",
       "    <tr style=\"text-align: right;\">\n",
       "      <th></th>\n",
       "      <th>name</th>\n",
       "      <th>sequence</th>\n",
       "    </tr>\n",
       "  </thead>\n",
       "  <tbody>\n",
       "    <tr>\n",
       "      <th>0</th>\n",
       "      <td>PABP_YEAST/115-210</td>\n",
       "      <td>qrdpslrkKGSGNIFIKNLHPDIDNKALYDTFSVFGDILSSKIATD...</td>\n",
       "    </tr>\n",
       "    <tr>\n",
       "      <th>1</th>\n",
       "      <td>ur|UPI0004E53ABB|UniRef100_UPI0004E53ABB/203-294</td>\n",
       "      <td>..epangsPKFFNVYVKNLPEKYTDDDLKSEFEAFGEITSAVVVKD...</td>\n",
       "    </tr>\n",
       "    <tr>\n",
       "      <th>2</th>\n",
       "      <td>ur|UPI0004E53ABB|UniRef100_UPI0004E53ABB/534-625</td>\n",
       "      <td>..epangsPKFFNVYVKNLPEKYTDDDLKSEFEASGEITSAVVVKD...</td>\n",
       "    </tr>\n",
       "    <tr>\n",
       "      <th>3</th>\n",
       "      <td>ur|UPI0004E53ABB|UniRef100_UPI0004E53ABB/312-398</td>\n",
       "      <td>........IRGLNLYLKNLDDTIDDERLKELFRPFGTIISCKVMVD...</td>\n",
       "    </tr>\n",
       "    <tr>\n",
       "      <th>4</th>\n",
       "      <td>ur|UPI0004E53ABB|UniRef100_UPI0004E53ABB/33-112</td>\n",
       "      <td>........---ASLYVGDLDLSVTEGQLFDLFSQIGPVASVRVCRD...</td>\n",
       "    </tr>\n",
       "  </tbody>\n",
       "</table>\n",
       "</div>"
      ],
      "text/plain": [
       "                                               name  \\\n",
       "0                                PABP_YEAST/115-210   \n",
       "1  ur|UPI0004E53ABB|UniRef100_UPI0004E53ABB/203-294   \n",
       "2  ur|UPI0004E53ABB|UniRef100_UPI0004E53ABB/534-625   \n",
       "3  ur|UPI0004E53ABB|UniRef100_UPI0004E53ABB/312-398   \n",
       "4   ur|UPI0004E53ABB|UniRef100_UPI0004E53ABB/33-112   \n",
       "\n",
       "                                            sequence  \n",
       "0  qrdpslrkKGSGNIFIKNLHPDIDNKALYDTFSVFGDILSSKIATD...  \n",
       "1  ..epangsPKFFNVYVKNLPEKYTDDDLKSEFEAFGEITSAVVVKD...  \n",
       "2  ..epangsPKFFNVYVKNLPEKYTDDDLKSEFEASGEITSAVVVKD...  \n",
       "3  ........IRGLNLYLKNLDDTIDDERLKELFRPFGTIISCKVMVD...  \n",
       "4  ........---ASLYVGDLDLSVTEGQLFDLFSQIGPVASVRVCRD...  "
      ]
     },
     "execution_count": 9,
     "metadata": {},
     "output_type": "execute_result"
    }
   ],
   "source": [
    "data=pdataframe_from_alignment_file(\"PABP_YEAST_hmmerbit_plmc_n5_m30_f50_t0.2_r115-210_id100_b48.a2m\",n_data)\n",
    "print (\"number of data points: \",len(data))\n",
    "data_set_size=len(data)\n",
    "data.head()"
   ]
  },
  {
   "cell_type": "markdown",
   "metadata": {
    "colab_type": "text",
    "id": "uNtSJ-J45TgH"
   },
   "source": [
    "Let's see how long the sequence is"
   ]
  },
  {
   "cell_type": "code",
   "execution_count": 10,
   "metadata": {
    "colab": {
     "base_uri": "https://localhost:8080/",
     "height": 51
    },
    "colab_type": "code",
    "executionInfo": {
     "elapsed": 79798,
     "status": "ok",
     "timestamp": 1555720436519,
     "user": {
      "displayName": "Anirudh Suresh",
      "photoUrl": "https://lh4.googleusercontent.com/-C1cjzADetbU/AAAAAAAAAAI/AAAAAAAABMU/EVQSgSzpL1U/s64/photo.jpg",
      "userId": "10961260883155163173"
     },
     "user_tz": 240
    },
    "id": "lP1Ftya65TgJ",
    "outputId": "d09419b9-12db-4e00-84a6-e39a551f91d5"
   },
   "outputs": [
    {
     "name": "stdout",
     "output_type": "stream",
     "text": [
      "length of sequence: 96\n",
      "sample sequence:  qrdpslrkKGSGNIFIKNLHPDIDNKALYDTFSVFGDILSSKIATDENGKSKGFGFVHFEEEGAAKEAIDALNGMLLNGQEIYVAPHLSRkerdsq\n"
     ]
    }
   ],
   "source": [
    "print (\"length of sequence:\", len(data.iloc[0][\"sequence\"]))#, len(data.iloc[0][\"seq\"]))\n",
    "print (\"sample sequence: \", data.iloc[0][\"sequence\"])"
   ]
  },
  {
   "cell_type": "markdown",
   "metadata": {
    "colab_type": "text",
    "id": "xhRJnF_25TgP"
   },
   "source": [
    "We are only really interested in the columns that do align. This means that for every column that we include, at least 50% of sequences are not gaps. Note that this threshold is imposed by the alignment parameters loaded above. So let's make a column for that. Meanwhile, we keep track of the indices that did align."
   ]
  },
  {
   "cell_type": "code",
   "execution_count": 11,
   "metadata": {
    "colab": {
     "base_uri": "https://localhost:8080/",
     "height": 204
    },
    "colab_type": "code",
    "executionInfo": {
     "elapsed": 79862,
     "status": "ok",
     "timestamp": 1555720437385,
     "user": {
      "displayName": "Anirudh Suresh",
      "photoUrl": "https://lh4.googleusercontent.com/-C1cjzADetbU/AAAAAAAAAAI/AAAAAAAABMU/EVQSgSzpL1U/s64/photo.jpg",
      "userId": "10961260883155163173"
     },
     "user_tz": 240
    },
    "id": "8TQDVR3_5TgQ",
    "outputId": "427b5e82-7697-4a29-b4d1-e129d95cbd5f"
   },
   "outputs": [
    {
     "data": {
      "text/html": [
       "<div>\n",
       "<style scoped>\n",
       "    .dataframe tbody tr th:only-of-type {\n",
       "        vertical-align: middle;\n",
       "    }\n",
       "\n",
       "    .dataframe tbody tr th {\n",
       "        vertical-align: top;\n",
       "    }\n",
       "\n",
       "    .dataframe thead th {\n",
       "        text-align: right;\n",
       "    }\n",
       "</style>\n",
       "<table border=\"1\" class=\"dataframe\">\n",
       "  <thead>\n",
       "    <tr style=\"text-align: right;\">\n",
       "      <th></th>\n",
       "      <th>name</th>\n",
       "      <th>sequence</th>\n",
       "      <th>seq</th>\n",
       "    </tr>\n",
       "  </thead>\n",
       "  <tbody>\n",
       "    <tr>\n",
       "      <th>0</th>\n",
       "      <td>PABP_YEAST/115-210</td>\n",
       "      <td>qrdpslrkKGSGNIFIKNLHPDIDNKALYDTFSVFGDILSSKIATD...</td>\n",
       "      <td>QRDPSLRKKGSGNIFIKNLHPDIDNKALYDTFSVFGDILSSKIATD...</td>\n",
       "    </tr>\n",
       "    <tr>\n",
       "      <th>1</th>\n",
       "      <td>ur|UPI0004E53ABB|UniRef100_UPI0004E53ABB/203-294</td>\n",
       "      <td>..epangsPKFFNVYVKNLPEKYTDDDLKSEFEAFGEITSAVVVKD...</td>\n",
       "      <td>EPANGSPKFFNVYVKNLPEKYTDDDLKSEFEAFGEITSAVVVKDEN...</td>\n",
       "    </tr>\n",
       "    <tr>\n",
       "      <th>2</th>\n",
       "      <td>ur|UPI0004E53ABB|UniRef100_UPI0004E53ABB/534-625</td>\n",
       "      <td>..epangsPKFFNVYVKNLPEKYTDDDLKSEFEASGEITSAVVVKD...</td>\n",
       "      <td>EPANGSPKFFNVYVKNLPEKYTDDDLKSEFEASGEITSAVVVKDEN...</td>\n",
       "    </tr>\n",
       "    <tr>\n",
       "      <th>3</th>\n",
       "      <td>ur|UPI0004E53ABB|UniRef100_UPI0004E53ABB/312-398</td>\n",
       "      <td>........IRGLNLYLKNLDDTIDDERLKELFRPFGTIISCKVMVD...</td>\n",
       "      <td>IRGLNLYLKNLDDTIDDERLKELFRPFGTIISCKVMVDSQGQSKGS...</td>\n",
       "    </tr>\n",
       "    <tr>\n",
       "      <th>4</th>\n",
       "      <td>ur|UPI0004E53ABB|UniRef100_UPI0004E53ABB/33-112</td>\n",
       "      <td>........---ASLYVGDLDLSVTEGQLFDLFSQIGPVASVRVCRD...</td>\n",
       "      <td>ASLYVGDLDLSVTEGQLFDLFSQIGPVASVRVCRDIRRVSLGYAYV...</td>\n",
       "    </tr>\n",
       "  </tbody>\n",
       "</table>\n",
       "</div>"
      ],
      "text/plain": [
       "                                               name  \\\n",
       "0                                PABP_YEAST/115-210   \n",
       "1  ur|UPI0004E53ABB|UniRef100_UPI0004E53ABB/203-294   \n",
       "2  ur|UPI0004E53ABB|UniRef100_UPI0004E53ABB/534-625   \n",
       "3  ur|UPI0004E53ABB|UniRef100_UPI0004E53ABB/312-398   \n",
       "4   ur|UPI0004E53ABB|UniRef100_UPI0004E53ABB/33-112   \n",
       "\n",
       "                                            sequence  \\\n",
       "0  qrdpslrkKGSGNIFIKNLHPDIDNKALYDTFSVFGDILSSKIATD...   \n",
       "1  ..epangsPKFFNVYVKNLPEKYTDDDLKSEFEAFGEITSAVVVKD...   \n",
       "2  ..epangsPKFFNVYVKNLPEKYTDDDLKSEFEASGEITSAVVVKD...   \n",
       "3  ........IRGLNLYLKNLDDTIDDERLKELFRPFGTIISCKVMVD...   \n",
       "4  ........---ASLYVGDLDLSVTEGQLFDLFSQIGPVASVRVCRD...   \n",
       "\n",
       "                                                 seq  \n",
       "0  QRDPSLRKKGSGNIFIKNLHPDIDNKALYDTFSVFGDILSSKIATD...  \n",
       "1  EPANGSPKFFNVYVKNLPEKYTDDDLKSEFEAFGEITSAVVVKDEN...  \n",
       "2  EPANGSPKFFNVYVKNLPEKYTDDDLKSEFEASGEITSAVVVKDEN...  \n",
       "3  IRGLNLYLKNLDDTIDDERLKELFRPFGTIISCKVMVDSQGQSKGS...  \n",
       "4  ASLYVGDLDLSVTEGQLFDLFSQIGPVASVRVCRDIRRVSLGYAYV...  "
      ]
     },
     "execution_count": 11,
     "metadata": {},
     "output_type": "execute_result"
    }
   ],
   "source": [
    "indices=index_of_non_lower_case_dot(data.iloc[0][\"sequence\"])\n",
    "data[\"seq\"]=list(map(prune_seq,data[\"sequence\"],[varlen]*len(data[\"sequence\"]),[unaligned]*len(data[\"sequence\"])))\n",
    "data.head()"
   ]
  },
  {
   "cell_type": "markdown",
   "metadata": {
    "colab_type": "text",
    "id": "KMSU9Y_B5TgV"
   },
   "source": [
    "Let's see how many columns remained. "
   ]
  },
  {
   "cell_type": "code",
   "execution_count": 12,
   "metadata": {
    "colab": {
     "base_uri": "https://localhost:8080/",
     "height": 34
    },
    "colab_type": "code",
    "executionInfo": {
     "elapsed": 79027,
     "status": "ok",
     "timestamp": 1555720437387,
     "user": {
      "displayName": "Anirudh Suresh",
      "photoUrl": "https://lh4.googleusercontent.com/-C1cjzADetbU/AAAAAAAAAAI/AAAAAAAABMU/EVQSgSzpL1U/s64/photo.jpg",
      "userId": "10961260883155163173"
     },
     "user_tz": 240
    },
    "id": "xleyPTqp5TgW",
    "outputId": "97b8cc07-f44d-4221-fea3-3a640dbe40b8"
   },
   "outputs": [
    {
     "name": "stdout",
     "output_type": "stream",
     "text": [
      "pruned sequence length: 96\n"
     ]
    }
   ],
   "source": [
    "PRUNED_SEQ_LENGTH=max( [len(data.iloc[i][\"seq\"]) for i in range(len(data))] )\n",
    "print (\"pruned sequence length:\", PRUNED_SEQ_LENGTH)"
   ]
  },
  {
   "cell_type": "code",
   "execution_count": 13,
   "metadata": {},
   "outputs": [],
   "source": [
    "def add_stop_token(seq):\n",
    "    num_stops = PRUNED_SEQ_LENGTH-len(seq)\n",
    "    return seq+num_stops*'/'"
   ]
  },
  {
   "cell_type": "code",
   "execution_count": 14,
   "metadata": {},
   "outputs": [],
   "source": [
    "data['seq'] = list(map(add_stop_token,data['seq']))"
   ]
  },
  {
   "cell_type": "code",
   "execution_count": 15,
   "metadata": {},
   "outputs": [],
   "source": [
    "uniquechars = set()\n",
    "for i in data['seq']:\n",
    "    uniquechars = uniquechars.union(i)"
   ]
  },
  {
   "cell_type": "code",
   "execution_count": 16,
   "metadata": {
    "colab": {},
    "colab_type": "code",
    "id": "9eeo0BTU5Tf3"
   },
   "outputs": [],
   "source": [
    "#Invariants\n",
    "# ORDER_KEY=\"XILVAGMFYWEDQNHCRKSTPBZ-\"[::-1]\n",
    "# ORDER_LIST=list(ORDER_KEY)\n",
    "ORDER_LIST = list(uniquechars)\n",
    "ORDER_LIST = sorted(ORDER_LIST,reverse=True)"
   ]
  },
  {
   "cell_type": "markdown",
   "metadata": {
    "colab_type": "text",
    "id": "F-_CtNus5Tgh"
   },
   "source": [
    "A few optional lines of code to run. Printing indices, and deleting the sequence column so that it doesn't stay in memory for no reason. "
   ]
  },
  {
   "cell_type": "code",
   "execution_count": 17,
   "metadata": {
    "colab": {},
    "colab_type": "code",
    "id": "gZMQTeww5Tgi"
   },
   "outputs": [],
   "source": [
    "#print (indices,len(indices))\n",
    "## you can do this to reduce memory load\n",
    "#del data[\"sequence\"]\n",
    "#data.head()\n",
    "#data.iloc[0][\"sequence\"][9]"
   ]
  },
  {
   "cell_type": "markdown",
   "metadata": {
    "colab_type": "text",
    "id": "6wXDG2d75Tgm"
   },
   "source": [
    "Another useful preprocessing step is to reweight the sequences based on some similarity threshold. This helps us feed the network with more informative samples (namely discount sequences that are very close to each other). We weight all $n$ sequences that are more that 1-$\\theta$ similar to each other as $1/n$. Computing this step is rather slow, so I've provided the sample weights for $\\theta=0.2$, which is standard in the studies I reference. You can run the process for arbitrary $\\theta$ using the commented out line."
   ]
  },
  {
   "cell_type": "code",
   "execution_count": 18,
   "metadata": {
    "colab": {
     "base_uri": "https://localhost:8080/",
     "height": 51
    },
    "colab_type": "code",
    "executionInfo": {
     "elapsed": 78261,
     "status": "ok",
     "timestamp": 1555720437390,
     "user": {
      "displayName": "Anirudh Suresh",
      "photoUrl": "https://lh4.googleusercontent.com/-C1cjzADetbU/AAAAAAAAAAI/AAAAAAAABMU/EVQSgSzpL1U/s64/photo.jpg",
      "userId": "10961260883155163173"
     },
     "user_tz": 240
    },
    "id": "SQvej3505Tgn",
    "outputId": "3754c6a5-f5ba-4124-d3e7-9bf1db3dcfee"
   },
   "outputs": [
    {
     "data": {
      "text/plain": [
       "(50000, array([0.03125   , 0.2       , 0.2       , 0.2       , 0.16666667,\n",
       "        0.2       , 0.16666667, 0.16666667, 0.0625    , 1.        ]))"
      ]
     },
     "execution_count": 18,
     "metadata": {},
     "output_type": "execute_result"
    }
   ],
   "source": [
    "with open (\"PABP_YEAST_hmmerbit_t0.2_r50000.reweight\",\"rb\") as to_read:\n",
    "    new_weights=np.load(to_read)\n",
    "\n",
    "#new_weights=reweight_sequences(data[\"seq\"],0.1)\n",
    "len(new_weights),new_weights[:10]"
   ]
  },
  {
   "cell_type": "markdown",
   "metadata": {
    "colab_type": "text",
    "id": "mxh7GYjv5Tgs"
   },
   "source": [
    "Next we translate the sequence into a one hot encoding and shape the input sequences into a m*n matrix. Here m is the number of the data points and $n=$ alphbet size $\\times$ sequence length."
   ]
  },
  {
   "cell_type": "code",
   "execution_count": 19,
   "metadata": {
    "colab": {
     "base_uri": "https://localhost:8080/",
     "height": 51
    },
    "colab_type": "code",
    "executionInfo": {
     "elapsed": 100071,
     "status": "ok",
     "timestamp": 1555720461307,
     "user": {
      "displayName": "Anirudh Suresh",
      "photoUrl": "https://lh4.googleusercontent.com/-C1cjzADetbU/AAAAAAAAAAI/AAAAAAAABMU/EVQSgSzpL1U/s64/photo.jpg",
      "userId": "10961260883155163173"
     },
     "user_tz": 240
    },
    "id": "NaxZeTev5Tgt",
    "outputId": "04e1d35c-ab6b-47eb-a671-775579f17f38"
   },
   "outputs": [
    {
     "name": "stdout",
     "output_type": "stream",
     "text": [
      "50000 22 96\n",
      "(50000, 2112)\n"
     ]
    }
   ],
   "source": [
    "#Encode training data in one_hot vectors\n",
    "training_data_one_hot=[]\n",
    "labels=[]\n",
    "for i, row in data.iterrows():\n",
    "    training_data_one_hot.append(translate_string_to_one_hot(row[\"seq\"],ORDER_LIST))\n",
    "print (len(training_data_one_hot),len(training_data_one_hot[0]),len(training_data_one_hot[0][0]))\n",
    "#plt.imshow(training_data_one_hot[0],cmap=\"Greys\")\n",
    "training_data=np.array([np.array(list(sample.T.flatten())) for sample in training_data_one_hot])\n",
    "# training_data=np.array([np.array(list(sample.flatten())).T for sample in training_data_one_hot])\n",
    "print(training_data.shape)"
   ]
  },
  {
   "cell_type": "code",
   "execution_count": 20,
   "metadata": {
    "colab": {},
    "colab_type": "code",
    "id": "jOG9Ak8o5Tgz"
   },
   "outputs": [],
   "source": [
    "### seq_len = 82, alphabet_size = 24"
   ]
  },
  {
   "cell_type": "code",
   "execution_count": 21,
   "metadata": {
    "colab": {
     "base_uri": "https://localhost:8080/",
     "height": 102
    },
    "colab_type": "code",
    "executionInfo": {
     "elapsed": 99732,
     "status": "ok",
     "timestamp": 1555720461316,
     "user": {
      "displayName": "Anirudh Suresh",
      "photoUrl": "https://lh4.googleusercontent.com/-C1cjzADetbU/AAAAAAAAAAI/AAAAAAAABMU/EVQSgSzpL1U/s64/photo.jpg",
      "userId": "10961260883155163173"
     },
     "user_tz": 240
    },
    "id": "xJHfNVZO5Tg6",
    "outputId": "4bfadc8a-9cf2-46ac-c3dc-b8e19feb180b"
   },
   "outputs": [
    {
     "data": {
      "text/plain": [
       "array([ 7,  6, 18,  8,  5, 11,  6, 12, 12, 15,  5, 15,  9, 13, 16, 13, 12,\n",
       "        9, 11, 14,  8, 18, 13, 18,  9, 12, 20, 11,  0, 18,  4, 16,  5,  3,\n",
       "       16, 15, 18, 13, 11,  5,  5, 12, 13, 20,  4, 18, 17,  9, 15, 12,  5,\n",
       "       12, 15, 16, 15, 16,  3, 14, 16, 17, 17, 17, 15, 20, 20, 12, 17, 20,\n",
       "       13, 18, 20, 11,  9, 15, 10, 11, 11,  9, 15,  7, 17, 13,  0,  3, 20,\n",
       "        8, 14, 11,  5,  6, 12, 17,  6, 18,  5,  7])"
      ]
     },
     "execution_count": 21,
     "metadata": {},
     "output_type": "execute_result"
    }
   ],
   "source": [
    "np.argmax(training_data_one_hot[0],axis=0)"
   ]
  },
  {
   "cell_type": "markdown",
   "metadata": {
    "colab_type": "text",
    "id": "rk-qXJXw5ThB"
   },
   "source": [
    "That takes care of the training data. But we also need to test our model on something. Thankfully, some neat experiments have been done to actually measure the effects of change in a sequence on the performance of the protein. We load this data next (because we want to make use of this test data to evaluate our performance at the end of each epoch). "
   ]
  },
  {
   "cell_type": "code",
   "execution_count": 22,
   "metadata": {
    "colab": {
     "base_uri": "https://localhost:8080/",
     "height": 119
    },
    "colab_type": "code",
    "executionInfo": {
     "elapsed": 99401,
     "status": "ok",
     "timestamp": 1555720461318,
     "user": {
      "displayName": "Anirudh Suresh",
      "photoUrl": "https://lh4.googleusercontent.com/-C1cjzADetbU/AAAAAAAAAAI/AAAAAAAABMU/EVQSgSzpL1U/s64/photo.jpg",
      "userId": "10961260883155163173"
     },
     "user_tz": 240
    },
    "id": "lf5YU8165ThC",
    "outputId": "9d673c48-02f5-43aa-a2a3-492cabd449b1",
    "scrolled": true
   },
   "outputs": [
    {
     "name": "stdout",
     "output_type": "stream",
     "text": [
      "number of mutants:  1188\n"
     ]
    },
    {
     "data": {
      "text/plain": [
       "mutant                               K131V\n",
       "effect_prediction_epistatic         -10.06\n",
       "effect_prediction_independent     -3.36052\n",
       "linear                           0.0425856\n",
       "Name: 87, dtype: object"
      ]
     },
     "execution_count": 22,
     "metadata": {},
     "output_type": "execute_result"
    }
   ],
   "source": [
    "exp_data_full=pd.read_csv(\n",
    "    \"PABP_YEAST_Fields2013-singles.csv\", sep=\";\", comment=\"#\"\n",
    ")\n",
    "print (\"number of mutants: \",len(exp_data_full))\n",
    "exp_data_full.head()\n",
    "exp_data_full.iloc[87]"
   ]
  },
  {
   "cell_type": "markdown",
   "metadata": {
    "colab_type": "text",
    "id": "m4mt1u7g5ThG"
   },
   "source": [
    "The \"linear\" column is the experimental data. The other two predictions are the results as obtained by the method described in the [Hopf et al paper](https://www.nature.com/nbt/journal/v35/n2/abs/nbt.3769.html). "
   ]
  },
  {
   "cell_type": "code",
   "execution_count": 23,
   "metadata": {
    "colab": {
     "base_uri": "https://localhost:8080/",
     "height": 142
    },
    "colab_type": "code",
    "executionInfo": {
     "elapsed": 99072,
     "status": "ok",
     "timestamp": 1555720461320,
     "user": {
      "displayName": "Anirudh Suresh",
      "photoUrl": "https://lh4.googleusercontent.com/-C1cjzADetbU/AAAAAAAAAAI/AAAAAAAABMU/EVQSgSzpL1U/s64/photo.jpg",
      "userId": "10961260883155163173"
     },
     "user_tz": 240
    },
    "id": "wQvNpwOH5ThH",
    "outputId": "b4dd0c43-93bd-464a-e0d0-4b6e6bd3cebd"
   },
   "outputs": [
    {
     "data": {
      "text/html": [
       "<div>\n",
       "<style scoped>\n",
       "    .dataframe tbody tr th:only-of-type {\n",
       "        vertical-align: middle;\n",
       "    }\n",
       "\n",
       "    .dataframe tbody tr th {\n",
       "        vertical-align: top;\n",
       "    }\n",
       "\n",
       "    .dataframe thead th {\n",
       "        text-align: right;\n",
       "    }\n",
       "</style>\n",
       "<table border=\"1\" class=\"dataframe\">\n",
       "  <thead>\n",
       "    <tr style=\"text-align: right;\">\n",
       "      <th></th>\n",
       "      <th>effect_prediction_epistatic</th>\n",
       "      <th>effect_prediction_independent</th>\n",
       "      <th>linear</th>\n",
       "    </tr>\n",
       "  </thead>\n",
       "  <tbody>\n",
       "    <tr>\n",
       "      <th>effect_prediction_epistatic</th>\n",
       "      <td>1.000000</td>\n",
       "      <td>0.745161</td>\n",
       "      <td>0.592781</td>\n",
       "    </tr>\n",
       "    <tr>\n",
       "      <th>effect_prediction_independent</th>\n",
       "      <td>0.745161</td>\n",
       "      <td>1.000000</td>\n",
       "      <td>0.423680</td>\n",
       "    </tr>\n",
       "    <tr>\n",
       "      <th>linear</th>\n",
       "      <td>0.592781</td>\n",
       "      <td>0.423680</td>\n",
       "      <td>1.000000</td>\n",
       "    </tr>\n",
       "  </tbody>\n",
       "</table>\n",
       "</div>"
      ],
      "text/plain": [
       "                               effect_prediction_epistatic  \\\n",
       "effect_prediction_epistatic                       1.000000   \n",
       "effect_prediction_independent                     0.745161   \n",
       "linear                                            0.592781   \n",
       "\n",
       "                               effect_prediction_independent    linear  \n",
       "effect_prediction_epistatic                         0.745161  0.592781  \n",
       "effect_prediction_independent                       1.000000  0.423680  \n",
       "linear                                              0.423680  1.000000  "
      ]
     },
     "execution_count": 23,
     "metadata": {},
     "output_type": "execute_result"
    }
   ],
   "source": [
    "exp_data_full.corr(method=\"spearman\")"
   ]
  },
  {
   "cell_type": "markdown",
   "metadata": {
    "colab_type": "text",
    "id": "FIaV44Wi5ThM"
   },
   "source": [
    "The experimentalists have made the mutations on specific positions on the sequence. We restrict our target data to the subset of those experiments that we have aligned columns for. "
   ]
  },
  {
   "cell_type": "code",
   "execution_count": 24,
   "metadata": {
    "colab": {
     "base_uri": "https://localhost:8080/",
     "height": 359
    },
    "colab_type": "code",
    "executionInfo": {
     "elapsed": 100683,
     "status": "ok",
     "timestamp": 1555720463251,
     "user": {
      "displayName": "Anirudh Suresh",
      "photoUrl": "https://lh4.googleusercontent.com/-C1cjzADetbU/AAAAAAAAAAI/AAAAAAAABMU/EVQSgSzpL1U/s64/photo.jpg",
      "userId": "10961260883155163173"
     },
     "user_tz": 240
    },
    "id": "diiLhyir5ThN",
    "outputId": "7818f016-5023-43f1-b65a-644a74b0114b"
   },
   "outputs": [
    {
     "data": {
      "text/html": [
       "<div>\n",
       "<style scoped>\n",
       "    .dataframe tbody tr th:only-of-type {\n",
       "        vertical-align: middle;\n",
       "    }\n",
       "\n",
       "    .dataframe tbody tr th {\n",
       "        vertical-align: top;\n",
       "    }\n",
       "\n",
       "    .dataframe thead th {\n",
       "        text-align: right;\n",
       "    }\n",
       "</style>\n",
       "<table border=\"1\" class=\"dataframe\">\n",
       "  <thead>\n",
       "    <tr style=\"text-align: right;\">\n",
       "      <th></th>\n",
       "      <th>index</th>\n",
       "      <th>mutant</th>\n",
       "      <th>effect_prediction_epistatic</th>\n",
       "      <th>effect_prediction_independent</th>\n",
       "      <th>linear</th>\n",
       "    </tr>\n",
       "  </thead>\n",
       "  <tbody>\n",
       "    <tr>\n",
       "      <th>0</th>\n",
       "      <td>1</td>\n",
       "      <td>G126C</td>\n",
       "      <td>-5.663638</td>\n",
       "      <td>-0.027602</td>\n",
       "      <td>0.449027</td>\n",
       "    </tr>\n",
       "    <tr>\n",
       "      <th>1</th>\n",
       "      <td>2</td>\n",
       "      <td>G126E</td>\n",
       "      <td>-6.611062</td>\n",
       "      <td>-1.827612</td>\n",
       "      <td>0.588928</td>\n",
       "    </tr>\n",
       "    <tr>\n",
       "      <th>2</th>\n",
       "      <td>3</td>\n",
       "      <td>G126D</td>\n",
       "      <td>-7.270577</td>\n",
       "      <td>-1.180094</td>\n",
       "      <td>0.229853</td>\n",
       "    </tr>\n",
       "    <tr>\n",
       "      <th>3</th>\n",
       "      <td>4</td>\n",
       "      <td>G126N</td>\n",
       "      <td>-5.809167</td>\n",
       "      <td>0.387443</td>\n",
       "      <td>0.679435</td>\n",
       "    </tr>\n",
       "    <tr>\n",
       "      <th>4</th>\n",
       "      <td>5</td>\n",
       "      <td>G126S</td>\n",
       "      <td>-4.617248</td>\n",
       "      <td>0.661686</td>\n",
       "      <td>0.721788</td>\n",
       "    </tr>\n",
       "    <tr>\n",
       "      <th>5</th>\n",
       "      <td>6</td>\n",
       "      <td>G126R</td>\n",
       "      <td>-5.582381</td>\n",
       "      <td>1.144148</td>\n",
       "      <td>0.313690</td>\n",
       "    </tr>\n",
       "    <tr>\n",
       "      <th>6</th>\n",
       "      <td>7</td>\n",
       "      <td>G126W</td>\n",
       "      <td>-8.079901</td>\n",
       "      <td>-2.052391</td>\n",
       "      <td>0.226032</td>\n",
       "    </tr>\n",
       "    <tr>\n",
       "      <th>7</th>\n",
       "      <td>8</td>\n",
       "      <td>G126V</td>\n",
       "      <td>-5.435631</td>\n",
       "      <td>-0.800307</td>\n",
       "      <td>0.230315</td>\n",
       "    </tr>\n",
       "    <tr>\n",
       "      <th>8</th>\n",
       "      <td>9</td>\n",
       "      <td>N127A</td>\n",
       "      <td>-4.987206</td>\n",
       "      <td>-2.251823</td>\n",
       "      <td>0.062650</td>\n",
       "    </tr>\n",
       "    <tr>\n",
       "      <th>9</th>\n",
       "      <td>10</td>\n",
       "      <td>N127C</td>\n",
       "      <td>-8.044181</td>\n",
       "      <td>-2.215639</td>\n",
       "      <td>0.024996</td>\n",
       "    </tr>\n",
       "  </tbody>\n",
       "</table>\n",
       "</div>"
      ],
      "text/plain": [
       "   index mutant  effect_prediction_epistatic  effect_prediction_independent  \\\n",
       "0      1  G126C                    -5.663638                      -0.027602   \n",
       "1      2  G126E                    -6.611062                      -1.827612   \n",
       "2      3  G126D                    -7.270577                      -1.180094   \n",
       "3      4  G126N                    -5.809167                       0.387443   \n",
       "4      5  G126S                    -4.617248                       0.661686   \n",
       "5      6  G126R                    -5.582381                       1.144148   \n",
       "6      7  G126W                    -8.079901                      -2.052391   \n",
       "7      8  G126V                    -5.435631                      -0.800307   \n",
       "8      9  N127A                    -4.987206                      -2.251823   \n",
       "9     10  N127C                    -8.044181                      -2.215639   \n",
       "\n",
       "     linear  \n",
       "0  0.449027  \n",
       "1  0.588928  \n",
       "2  0.229853  \n",
       "3  0.679435  \n",
       "4  0.721788  \n",
       "5  0.313690  \n",
       "6  0.226032  \n",
       "7  0.230315  \n",
       "8  0.062650  \n",
       "9  0.024996  "
      ]
     },
     "execution_count": 24,
     "metadata": {},
     "output_type": "execute_result"
    }
   ],
   "source": [
    "OFFSET=117\n",
    "#Deciding offset requires investigating the dataset and alignment.\n",
    "exp_data_singles=pd.DataFrame(columns=exp_data_full.columns)\n",
    "#decide starting index depending on how the file is \"headered\"\n",
    "for i,row in exp_data_full[1:].iterrows():\n",
    "        pos=re.split(r'(\\d+)', row.mutant) \n",
    "        if int(pos[1])-OFFSET in indices:\n",
    "            exp_data_singles=exp_data_singles.append(row)\n",
    "exp_data_singles=exp_data_singles.reset_index()\n",
    "target_values_singles=list(exp_data_singles[\"linear\"])\n",
    "exp_data_singles.head(10)        "
   ]
  },
  {
   "cell_type": "markdown",
   "metadata": {
    "colab_type": "text",
    "id": "RgS_02V-5ThR"
   },
   "source": [
    "Using this data, we can now make a library of sequences of single mutants, in the same form of the alignment data."
   ]
  },
  {
   "cell_type": "code",
   "execution_count": 25,
   "metadata": {
    "colab": {
     "base_uri": "https://localhost:8080/",
     "height": 51
    },
    "colab_type": "code",
    "executionInfo": {
     "elapsed": 100343,
     "status": "ok",
     "timestamp": 1555720463253,
     "user": {
      "displayName": "Anirudh Suresh",
      "photoUrl": "https://lh4.googleusercontent.com/-C1cjzADetbU/AAAAAAAAAAI/AAAAAAAABMU/EVQSgSzpL1U/s64/photo.jpg",
      "userId": "10961260883155163173"
     },
     "user_tz": 240
    },
    "id": "MzkrZvpc5ThS",
    "outputId": "cb0ed83f-f5e1-41ca-bbae-bee19fbb262e"
   },
   "outputs": [
    {
     "name": "stdout",
     "output_type": "stream",
     "text": [
      "1187 1187\n",
      "[('Q', 'Q'), ('R', 'R'), ('D', 'D'), ('P', 'N'), ('S', 'S'), ('L', 'L'), ('R', 'R'), ('K', 'K'), ('K', 'K'), ('G', 'G')]\n"
     ]
    }
   ],
   "source": [
    "mutation_data=[re.split(r'(\\d+)', s) for s in exp_data_singles.mutant]\n",
    "wt_sequence=data.iloc[0].seq\n",
    "mutants=mutate_single(wt_sequence,mutation_data,offset=0,index=3) #note that you change index to 1\n",
    "\n",
    "#sanity checks\n",
    "print (len(mutants),len(exp_data_singles))\n",
    "#the mutant should be in the correct place\n",
    "print (list(zip(wt_sequence,mutants[3]))[:10])"
   ]
  },
  {
   "cell_type": "markdown",
   "metadata": {
    "colab_type": "text",
    "id": "FLcwSC_55ThW"
   },
   "source": [
    "The last print above is a simple check to show that the mutation in the sequence is indeed an G to N (in the third mutant). We also make the one-hot vectors for this data."
   ]
  },
  {
   "cell_type": "code",
   "execution_count": 26,
   "metadata": {
    "colab": {},
    "colab_type": "code",
    "id": "R9wXTufC5ThW"
   },
   "outputs": [],
   "source": [
    "#Test data with wt at 0 index\n",
    "one_hot_mutants=[]\n",
    "mutants_plus=[data.iloc[0][\"seq\"]]+mutants\n",
    "for mutant in mutants_plus:\n",
    "    one_hot_mutants.append(translate_string_to_one_hot(\"\".join(mutant),ORDER_LIST))\n",
    "\n",
    "test_data_plus=np.array([np.array(list(sample.flatten())).T for sample in one_hot_mutants])"
   ]
  },
  {
   "cell_type": "markdown",
   "metadata": {
    "colab_type": "text",
    "id": "yoXxSfkw5Thb"
   },
   "source": [
    "We also construct the double mutant sequences using the same process"
   ]
  },
  {
   "cell_type": "code",
   "execution_count": 27,
   "metadata": {
    "colab": {
     "base_uri": "https://localhost:8080/",
     "height": 119
    },
    "colab_type": "code",
    "executionInfo": {
     "elapsed": 99864,
     "status": "ok",
     "timestamp": 1555720463695,
     "user": {
      "displayName": "Anirudh Suresh",
      "photoUrl": "https://lh4.googleusercontent.com/-C1cjzADetbU/AAAAAAAAAAI/AAAAAAAABMU/EVQSgSzpL1U/s64/photo.jpg",
      "userId": "10961260883155163173"
     },
     "user_tz": 240
    },
    "id": "z_xJcnTc5Thc",
    "outputId": "408640a8-0099-4b37-b0a9-aa7b0da44b2b"
   },
   "outputs": [
    {
     "name": "stdout",
     "output_type": "stream",
     "text": [
      "number of mutants:  36522\n"
     ]
    },
    {
     "data": {
      "text/plain": [
       "mutant                           G169W,F170V\n",
       "effect_prediction_epistatic          -18.161\n",
       "effect_prediction_independent       -15.1525\n",
       "XY_Enrichment_score                  0.05916\n",
       "Name: 0, dtype: object"
      ]
     },
     "execution_count": 27,
     "metadata": {},
     "output_type": "execute_result"
    }
   ],
   "source": [
    "exp_data_full=pd.read_csv(\n",
    "    \"PABP_YEAST_Fields2013-doubles.csv\", sep=\";\", comment=\"#\"\n",
    ")\n",
    "print (\"number of mutants: \",len(exp_data_full))\n",
    "exp_data_full.head()\n",
    "exp_data_full.iloc[0]"
   ]
  },
  {
   "cell_type": "code",
   "execution_count": 28,
   "metadata": {
    "colab": {
     "base_uri": "https://localhost:8080/",
     "height": 142
    },
    "colab_type": "code",
    "executionInfo": {
     "elapsed": 99709,
     "status": "ok",
     "timestamp": 1555720463697,
     "user": {
      "displayName": "Anirudh Suresh",
      "photoUrl": "https://lh4.googleusercontent.com/-C1cjzADetbU/AAAAAAAAAAI/AAAAAAAABMU/EVQSgSzpL1U/s64/photo.jpg",
      "userId": "10961260883155163173"
     },
     "user_tz": 240
    },
    "id": "4zQ8U9FN5Thg",
    "outputId": "b3864c3c-fcdd-4351-9d24-203ed860bcf8"
   },
   "outputs": [
    {
     "data": {
      "text/html": [
       "<div>\n",
       "<style scoped>\n",
       "    .dataframe tbody tr th:only-of-type {\n",
       "        vertical-align: middle;\n",
       "    }\n",
       "\n",
       "    .dataframe tbody tr th {\n",
       "        vertical-align: top;\n",
       "    }\n",
       "\n",
       "    .dataframe thead th {\n",
       "        text-align: right;\n",
       "    }\n",
       "</style>\n",
       "<table border=\"1\" class=\"dataframe\">\n",
       "  <thead>\n",
       "    <tr style=\"text-align: right;\">\n",
       "      <th></th>\n",
       "      <th>effect_prediction_epistatic</th>\n",
       "      <th>effect_prediction_independent</th>\n",
       "      <th>XY_Enrichment_score</th>\n",
       "    </tr>\n",
       "  </thead>\n",
       "  <tbody>\n",
       "    <tr>\n",
       "      <th>effect_prediction_epistatic</th>\n",
       "      <td>1.000000</td>\n",
       "      <td>0.715371</td>\n",
       "      <td>0.620022</td>\n",
       "    </tr>\n",
       "    <tr>\n",
       "      <th>effect_prediction_independent</th>\n",
       "      <td>0.715371</td>\n",
       "      <td>1.000000</td>\n",
       "      <td>0.497743</td>\n",
       "    </tr>\n",
       "    <tr>\n",
       "      <th>XY_Enrichment_score</th>\n",
       "      <td>0.620022</td>\n",
       "      <td>0.497743</td>\n",
       "      <td>1.000000</td>\n",
       "    </tr>\n",
       "  </tbody>\n",
       "</table>\n",
       "</div>"
      ],
      "text/plain": [
       "                               effect_prediction_epistatic  \\\n",
       "effect_prediction_epistatic                       1.000000   \n",
       "effect_prediction_independent                     0.715371   \n",
       "XY_Enrichment_score                               0.620022   \n",
       "\n",
       "                               effect_prediction_independent  \\\n",
       "effect_prediction_epistatic                         0.715371   \n",
       "effect_prediction_independent                       1.000000   \n",
       "XY_Enrichment_score                                 0.497743   \n",
       "\n",
       "                               XY_Enrichment_score  \n",
       "effect_prediction_epistatic               0.620022  \n",
       "effect_prediction_independent             0.497743  \n",
       "XY_Enrichment_score                       1.000000  "
      ]
     },
     "execution_count": 28,
     "metadata": {},
     "output_type": "execute_result"
    }
   ],
   "source": [
    "exp_data_full.corr(method=\"spearman\")"
   ]
  },
  {
   "cell_type": "code",
   "execution_count": 29,
   "metadata": {
    "colab": {
     "base_uri": "https://localhost:8080/",
     "height": 204
    },
    "colab_type": "code",
    "executionInfo": {
     "elapsed": 124884,
     "status": "ok",
     "timestamp": 1555720489059,
     "user": {
      "displayName": "Anirudh Suresh",
      "photoUrl": "https://lh4.googleusercontent.com/-C1cjzADetbU/AAAAAAAAAAI/AAAAAAAABMU/EVQSgSzpL1U/s64/photo.jpg",
      "userId": "10961260883155163173"
     },
     "user_tz": 240
    },
    "id": "XhaOZuAQ5Thl",
    "outputId": "bd7f06d6-8355-4c89-9e44-11a4085f9f26"
   },
   "outputs": [
    {
     "data": {
      "text/html": [
       "<div>\n",
       "<style scoped>\n",
       "    .dataframe tbody tr th:only-of-type {\n",
       "        vertical-align: middle;\n",
       "    }\n",
       "\n",
       "    .dataframe tbody tr th {\n",
       "        vertical-align: top;\n",
       "    }\n",
       "\n",
       "    .dataframe thead th {\n",
       "        text-align: right;\n",
       "    }\n",
       "</style>\n",
       "<table border=\"1\" class=\"dataframe\">\n",
       "  <thead>\n",
       "    <tr style=\"text-align: right;\">\n",
       "      <th></th>\n",
       "      <th>index</th>\n",
       "      <th>mutant</th>\n",
       "      <th>effect_prediction_epistatic</th>\n",
       "      <th>effect_prediction_independent</th>\n",
       "      <th>XY_Enrichment_score</th>\n",
       "    </tr>\n",
       "  </thead>\n",
       "  <tbody>\n",
       "    <tr>\n",
       "      <th>0</th>\n",
       "      <td>0</td>\n",
       "      <td>G169W,F170V</td>\n",
       "      <td>-18.161003</td>\n",
       "      <td>-15.152495</td>\n",
       "      <td>0.059160</td>\n",
       "    </tr>\n",
       "    <tr>\n",
       "      <th>1</th>\n",
       "      <td>1</td>\n",
       "      <td>G169V,F170V</td>\n",
       "      <td>-13.753099</td>\n",
       "      <td>-8.845704</td>\n",
       "      <td>0.045765</td>\n",
       "    </tr>\n",
       "    <tr>\n",
       "      <th>2</th>\n",
       "      <td>2</td>\n",
       "      <td>G169A,F170I</td>\n",
       "      <td>-9.115749</td>\n",
       "      <td>-3.954389</td>\n",
       "      <td>0.075799</td>\n",
       "    </tr>\n",
       "    <tr>\n",
       "      <th>3</th>\n",
       "      <td>3</td>\n",
       "      <td>G169C,F170Y</td>\n",
       "      <td>-9.761077</td>\n",
       "      <td>-4.004533</td>\n",
       "      <td>0.700485</td>\n",
       "    </tr>\n",
       "    <tr>\n",
       "      <th>4</th>\n",
       "      <td>4</td>\n",
       "      <td>G169A,F170S</td>\n",
       "      <td>-10.212144</td>\n",
       "      <td>-5.743002</td>\n",
       "      <td>0.061518</td>\n",
       "    </tr>\n",
       "  </tbody>\n",
       "</table>\n",
       "</div>"
      ],
      "text/plain": [
       "   index       mutant  effect_prediction_epistatic  \\\n",
       "0      0  G169W,F170V                   -18.161003   \n",
       "1      1  G169V,F170V                   -13.753099   \n",
       "2      2  G169A,F170I                    -9.115749   \n",
       "3      3  G169C,F170Y                    -9.761077   \n",
       "4      4  G169A,F170S                   -10.212144   \n",
       "\n",
       "   effect_prediction_independent  XY_Enrichment_score  \n",
       "0                     -15.152495             0.059160  \n",
       "1                      -8.845704             0.045765  \n",
       "2                      -3.954389             0.075799  \n",
       "3                      -4.004533             0.700485  \n",
       "4                      -5.743002             0.061518  "
      ]
     },
     "execution_count": 29,
     "metadata": {},
     "output_type": "execute_result"
    }
   ],
   "source": [
    "OFFSET=160\n",
    "#Deciding offset requires investigating the dataset and alignment.\n",
    "exp_data_doubles=pd.DataFrame(columns=exp_data_full.columns)\n",
    "#decide starting index depending on how the file is \"headered\"\n",
    "for i,row in exp_data_full[0:].iterrows():\n",
    "        pos=re.split(r'(\\d+)', row.mutant)\n",
    "        if int(pos[1])-OFFSET in indices and int(pos[3])-OFFSET in indices:\n",
    "            exp_data_doubles=exp_data_doubles.append(row)\n",
    "exp_data_doubles=exp_data_doubles.reset_index()\n",
    "exp_data_doubles.head(5)"
   ]
  },
  {
   "cell_type": "code",
   "execution_count": 30,
   "metadata": {
    "colab": {
     "base_uri": "https://localhost:8080/",
     "height": 173
    },
    "colab_type": "code",
    "executionInfo": {
     "elapsed": 124741,
     "status": "ok",
     "timestamp": 1555720489062,
     "user": {
      "displayName": "Anirudh Suresh",
      "photoUrl": "https://lh4.googleusercontent.com/-C1cjzADetbU/AAAAAAAAAAI/AAAAAAAABMU/EVQSgSzpL1U/s64/photo.jpg",
      "userId": "10961260883155163173"
     },
     "user_tz": 240
    },
    "id": "mg5WNyn35Thp",
    "outputId": "d443476b-f23f-4d07-f3e3-75048490a7a6"
   },
   "outputs": [
    {
     "data": {
      "text/html": [
       "<div>\n",
       "<style scoped>\n",
       "    .dataframe tbody tr th:only-of-type {\n",
       "        vertical-align: middle;\n",
       "    }\n",
       "\n",
       "    .dataframe tbody tr th {\n",
       "        vertical-align: top;\n",
       "    }\n",
       "\n",
       "    .dataframe thead th {\n",
       "        text-align: right;\n",
       "    }\n",
       "</style>\n",
       "<table border=\"1\" class=\"dataframe\">\n",
       "  <thead>\n",
       "    <tr style=\"text-align: right;\">\n",
       "      <th></th>\n",
       "      <th>index</th>\n",
       "      <th>effect_prediction_epistatic</th>\n",
       "      <th>effect_prediction_independent</th>\n",
       "      <th>XY_Enrichment_score</th>\n",
       "    </tr>\n",
       "  </thead>\n",
       "  <tbody>\n",
       "    <tr>\n",
       "      <th>index</th>\n",
       "      <td>1.000000</td>\n",
       "      <td>0.143941</td>\n",
       "      <td>0.140272</td>\n",
       "      <td>0.117997</td>\n",
       "    </tr>\n",
       "    <tr>\n",
       "      <th>effect_prediction_epistatic</th>\n",
       "      <td>0.143941</td>\n",
       "      <td>1.000000</td>\n",
       "      <td>0.773236</td>\n",
       "      <td>0.520277</td>\n",
       "    </tr>\n",
       "    <tr>\n",
       "      <th>effect_prediction_independent</th>\n",
       "      <td>0.140272</td>\n",
       "      <td>0.773236</td>\n",
       "      <td>1.000000</td>\n",
       "      <td>0.488397</td>\n",
       "    </tr>\n",
       "    <tr>\n",
       "      <th>XY_Enrichment_score</th>\n",
       "      <td>0.117997</td>\n",
       "      <td>0.520277</td>\n",
       "      <td>0.488397</td>\n",
       "      <td>1.000000</td>\n",
       "    </tr>\n",
       "  </tbody>\n",
       "</table>\n",
       "</div>"
      ],
      "text/plain": [
       "                                  index  effect_prediction_epistatic  \\\n",
       "index                          1.000000                     0.143941   \n",
       "effect_prediction_epistatic    0.143941                     1.000000   \n",
       "effect_prediction_independent  0.140272                     0.773236   \n",
       "XY_Enrichment_score            0.117997                     0.520277   \n",
       "\n",
       "                               effect_prediction_independent  \\\n",
       "index                                               0.140272   \n",
       "effect_prediction_epistatic                         0.773236   \n",
       "effect_prediction_independent                       1.000000   \n",
       "XY_Enrichment_score                                 0.488397   \n",
       "\n",
       "                               XY_Enrichment_score  \n",
       "index                                     0.117997  \n",
       "effect_prediction_epistatic               0.520277  \n",
       "effect_prediction_independent             0.488397  \n",
       "XY_Enrichment_score                       1.000000  "
      ]
     },
     "execution_count": 30,
     "metadata": {},
     "output_type": "execute_result"
    }
   ],
   "source": [
    "target_values_doubles=list(exp_data_doubles[\"XY_Enrichment_score\"])\n",
    "exp_data_doubles.corr(method=\"spearman\")"
   ]
  },
  {
   "cell_type": "code",
   "execution_count": 31,
   "metadata": {
    "colab": {
     "base_uri": "https://localhost:8080/",
     "height": 51
    },
    "colab_type": "code",
    "executionInfo": {
     "elapsed": 124792,
     "status": "ok",
     "timestamp": 1555720489309,
     "user": {
      "displayName": "Anirudh Suresh",
      "photoUrl": "https://lh4.googleusercontent.com/-C1cjzADetbU/AAAAAAAAAAI/AAAAAAAABMU/EVQSgSzpL1U/s64/photo.jpg",
      "userId": "10961260883155163173"
     },
     "user_tz": 240
    },
    "id": "aEXaWBXc5Tht",
    "outputId": "73974744-7800-425c-f526-615c6791ca97"
   },
   "outputs": [
    {
     "name": "stdout",
     "output_type": "stream",
     "text": [
      "13876 13876\n",
      "[('S', 'S'), ('K', 'K'), ('I', 'I'), ('A', 'A'), ('T', 'T'), ('D', 'D'), ('E', 'A'), ('N', 'I'), ('G', 'G'), ('K', 'K')]\n"
     ]
    }
   ],
   "source": [
    "mutation_data1=[re.split(r'(\\d+)', s.split(\",\")[0]) for s in exp_data_doubles.mutant]\n",
    "mutation_data2=[re.split(r'(\\d+)', s.split(\",\")[1]) for s in exp_data_doubles.mutant]\n",
    "wt_sequence=data.iloc[0].seq\n",
    "\n",
    "mutants_double=mutate_double(wt_sequence,mutation_data1,mutation_data2,offset=0,index=46)\n",
    "\n",
    "#sanity checks\n",
    "print (len(mutants_double),len(exp_data_doubles))\n",
    "#the mutant should be in the correct place\n",
    "print (list(zip(wt_sequence,mutants_double[2]))[40:50])"
   ]
  },
  {
   "cell_type": "markdown",
   "metadata": {
    "colab_type": "text",
    "id": "P8FeMmSL5Thy"
   },
   "source": [
    "Again, we can check that the second mutant is indeed a double G169A, F170I mutant."
   ]
  },
  {
   "cell_type": "code",
   "execution_count": 32,
   "metadata": {
    "colab": {},
    "colab_type": "code",
    "id": "RHKCTpnB5Th1"
   },
   "outputs": [],
   "source": [
    "#Test data with wt at 0 index\n",
    "one_hot_mutants=[]\n",
    "mutants_plus=[data.iloc[0][\"seq\"]]+mutants_double\n",
    "for mutant in mutants_plus:\n",
    "    one_hot_mutants.append(translate_string_to_one_hot(\"\".join(mutant),ORDER_LIST))\n",
    "\n",
    "test_data_doubles_plus=np.array([np.array(list(sample.flatten())).T for sample in one_hot_mutants])"
   ]
  },
  {
   "cell_type": "markdown",
   "metadata": {
    "colab_type": "text",
    "id": "xqP5-j1e5Th5"
   },
   "source": [
    "We can combine the singles and doubles training data for convenience"
   ]
  },
  {
   "cell_type": "code",
   "execution_count": 33,
   "metadata": {},
   "outputs": [
    {
     "data": {
      "text/plain": [
       "(2112,)"
      ]
     },
     "execution_count": 33,
     "metadata": {},
     "output_type": "execute_result"
    }
   ],
   "source": [
    "training_data[4].shape"
   ]
  },
  {
   "cell_type": "code",
   "execution_count": 34,
   "metadata": {
    "colab": {},
    "colab_type": "code",
    "id": "4HyN5vpv5Th8"
   },
   "outputs": [],
   "source": [
    "all_test_data=np.vstack([test_data_plus,test_data_doubles_plus[1:]])\n",
    "all_test_data_flattened=np.array([np.array(list(sample.flatten())).T for sample in all_test_data])"
   ]
  },
  {
   "cell_type": "markdown",
   "metadata": {
    "colab_type": "text",
    "id": "xpqzC_Zm5TiD"
   },
   "source": [
    "This concludes the pre-processing we need to do on the data.\n",
    "\n",
    "## 2.  Training the model\n",
    "We now move on to define our neural network. This is essentially a vanilla VAE in keras (with some optimization on hyperparameters). For optimization purposes we define a callback function that reports the predictive power of the model in the end of each epoch. Note that while this passes the -test data- through the model, it is kosher because we never pass in the values we are actually interested in and the network is not in \"training phase\", i.e. no weights are updated during this pass. "
   ]
  },
  {
   "cell_type": "code",
   "execution_count": 67,
   "metadata": {
    "colab": {},
    "colab_type": "code",
    "id": "YZhvKWQo5TiH"
   },
   "outputs": [],
   "source": [
    "class rho_vs_mutants():\n",
    "    def __init__(self,mutants,test_set_size,aa_size,sequence_size):\n",
    "        self.mutants=mutants\n",
    "        self.sample_size=test_set_size\n",
    "        self.aa_size=aa_size\n",
    "        self.sequence_size=sequence_size\n",
    "        self.scores=[]\n",
    "        self.count_batch=0\n",
    "    def on_train_begin(self, logs={}):\n",
    "        self.losses = []\n",
    "    def on_batch_end(self, batch, logs={}):\n",
    "        self.losses.append(logs.get('loss'))\n",
    "    #This allows us to track the \"progress\" of the model on different epochs\n",
    "    def on_epoch_end(self,model,batch,logs):\n",
    "        x_decoded=model(test_data_plus[0:self.sample_size],batch_size=batch_size)\n",
    "        digit = x_decoded[0].reshape(self.aa_size,self.sequence_size)\n",
    "        digit_wt = normalize(digit,axis=0, norm='l1')\n",
    "        wt_prob=compute_log_probability(digit,digit_wt)\n",
    "        fitnesses=[]\n",
    "        for sample in range(1,self.sample_size):\n",
    "            digit = x_decoded[sample].reshape(self.aa_size,self.sequence_size)\n",
    "            digit = normalize(digit,axis=0, norm='l1')\n",
    "            fitness=compute_log_probability(test_data_plus[sample].reshape(self.aa_size,self.sequence_size),digit)-wt_prob\n",
    "            fitnesses.append(fitness)\n",
    "        print (\",\"+str(spearmanr(fitnesses,target_values_singles[:self.sample_size-1])))\n",
    "        self.scores.append(spearmanr(fitnesses,target_values_singles[:self.sample_size-1])[0])"
   ]
  },
  {
   "cell_type": "markdown",
   "metadata": {
    "colab_type": "text",
    "id": "lDdXA9285TiK"
   },
   "source": [
    "Now we are ready to specify the network architecture, this is adapted from [here](https://github.com/fchollet/keras/blob/master/examples/variational_autoencoder.py)."
   ]
  },
  {
   "cell_type": "code",
   "execution_count": 68,
   "metadata": {
    "colab": {},
    "colab_type": "code",
    "id": "VbKOIiIC5TiL"
   },
   "outputs": [],
   "source": [
    "def sigmoid(x):\n",
    "    return 1./(1.+np.exp(-x))"
   ]
  },
  {
   "cell_type": "code",
   "execution_count": 69,
   "metadata": {
    "colab": {},
    "colab_type": "code",
    "id": "UYnPNz4m5TiN"
   },
   "outputs": [],
   "source": [
    "batch_size = 20\n",
    "original_dim=len(ORDER_LIST)*PRUNED_SEQ_LENGTH\n",
    "output_dim=len(ORDER_LIST)*PRUNED_SEQ_LENGTH\n",
    "latent_dim = 10\n",
    "intermediate_dim = 250\n",
    "nb_epoch = 20\n",
    "epsilon_std = 1.0\n",
    "np.random.seed(42)\n",
    "lang_mod = False\n",
    "cuda = True\n",
    "\n",
    "def create_tensor(x,gpu=False):\n",
    "    if gpu:\n",
    "        return x.cuda()\n",
    "    return x\n",
    "\n",
    "loss1 = nn.CrossEntropyLoss()\n",
    "\n",
    "def vae_loss(x_true, x_decoded_mean, z_mean, z_log_var):\n",
    "    xent_loss = original_dim * loss1(x_decoded_mean, x_true)\n",
    "    kl_loss = -0.5 * torch.sum(1 + z_log_var - (z_mean)**2 - torch.exp(z_log_var))\n",
    "    return (xent_loss + kl_loss), xent_loss, kl_loss\n",
    "\n",
    "# #Encoding Layers\n",
    "# x = Input(batch_shape=(batch_size, original_dim))\n",
    "# h = Dense(intermediate_dim,activation=\"elu\")(x)\n",
    "# h= Dropout(0.7)(h)\n",
    "# h = Dense(intermediate_dim, activation='elu')(h)\n",
    "# h=BatchNormalization(mode=0)(h)\n",
    "# h = Dense(intermediate_dim, activation='elu')(h)\n",
    "\n",
    "# #Latent layers\n",
    "# z_mean=Dense(latent_dim)(h)\n",
    "# z_log_var=Dense(latent_dim)(h)\n",
    "# z = Lambda(sampling, output_shape=(latent_dim,))([z_mean, z_log_var])\n",
    "\n",
    "# #Decoding layers \n",
    "\n",
    "# decoder_1= Dense(intermediate_dim, activation='elu')\n",
    "# decoder_2=Dense(intermediate_dim, activation='elu')\n",
    "# decoder_2d=Dropout(0.7)\n",
    "# decoder_3=Dense(intermediate_dim, activation='elu')\n",
    "# decoder_out=Dense(output_dim, activation='sigmoid')\n",
    "# x_decoded_mean = decoder_out(decoder_3(decoder_2d(decoder_2(decoder_1(z)))))\n",
    "\n",
    "# vae = Model(x, x_decoded_mean)\n",
    "\n",
    "# #Potentially better results, but requires further hyperparameter tuning\n",
    "# #optimizer=keras.optimizers.SGD(lr=0.005, momentum=0.001, decay=0.0, nesterov=False,clipvalue=0.05)\n",
    "# vae.compile(optimizer=\"adam\", loss=vae_loss,metrics=[\"categorical_accuracy\",\"fmeasure\",\"top_k_categorical_accuracy\"])"
   ]
  },
  {
   "cell_type": "markdown",
   "metadata": {
    "colab_type": "text",
    "id": "zSh4KAZ35TiR"
   },
   "source": [
    "And run it through our training data."
   ]
  },
  {
   "cell_type": "code",
   "execution_count": 70,
   "metadata": {
    "colab": {},
    "colab_type": "code",
    "id": "R4rQYart5TiR"
   },
   "outputs": [],
   "source": [
    "x_train=training_data[:data_set_size] #this needs to be divisible by batch size and less than or equal to dataset size\n",
    "x_train = x_train.astype('float32')\n",
    "x_train = x_train.reshape((len(x_train), np.prod(x_train.shape[1:])))\n",
    "\n",
    "# early_stopping = EarlyStopping(monitor='val_loss', patience=3)\n",
    "spearman_measure=rho_vs_mutants(test_data_plus,batch_size*int(len(test_data_plus)/batch_size),len(ORDER_LIST),PRUNED_SEQ_LENGTH)"
   ]
  },
  {
   "cell_type": "code",
   "execution_count": 71,
   "metadata": {
    "colab": {},
    "colab_type": "code",
    "id": "1IgcFAvI5TiU"
   },
   "outputs": [],
   "source": [
    "vae_type = 'rec'"
   ]
  },
  {
   "cell_type": "code",
   "execution_count": 72,
   "metadata": {},
   "outputs": [],
   "source": [
    "if vae_type == 'rec':\n",
    "    def vae_loss(x_true, x_decoded_mean, z_mean, z_log_var):\n",
    "        xent_loss = x_true.shape[0]*loss1(x_decoded_mean, x_true)\n",
    "        kl_loss = -0.5 * torch.sum(1 + z_log_var - (z_mean)**2 - torch.exp(z_log_var))\n",
    "        return (xent_loss + kl_loss), xent_loss, kl_loss"
   ]
  },
  {
   "cell_type": "code",
   "execution_count": 73,
   "metadata": {
    "colab": {},
    "colab_type": "code",
    "id": "6Sw-yKnOvhep"
   },
   "outputs": [],
   "source": [
    "def conv_size_func(Lin,dilation,kernel,padding=0,stride=1):\n",
    "  return int(((Lin+2*padding-dilation*(kernel-1)-1)/stride)+1)"
   ]
  },
  {
   "cell_type": "code",
   "execution_count": 74,
   "metadata": {
    "colab": {},
    "colab_type": "code",
    "id": "9-5mc0eC5Tif"
   },
   "outputs": [],
   "source": [
    "if vae_type == 'full':\n",
    "    print (\"training on full\")\n",
    "    univ_dropout = [0.2]*3\n",
    "    dropout_enc = univ_dropout\n",
    "    dropout_dec = univ_dropout\n",
    "\n",
    "    layers_enc = nn.ModuleList([nn.Linear(original_dim,intermediate_dim),nn.Dropout(dropout_enc[0]),nn.ELU()])\n",
    "    for i in range(2):\n",
    "        layers_enc.append(nn.Linear(intermediate_dim,intermediate_dim))\n",
    "        layers_enc.append(nn.Dropout(dropout_enc[i+1]))\n",
    "        layers_enc.append(nn.ELU())\n",
    "\n",
    "    layers_dec = nn.ModuleList([nn.Linear(latent_dim,intermediate_dim),nn.Dropout(dropout_dec[0]),nn.ELU()])\n",
    "    for i in range(2):\n",
    "        layers_dec.append(nn.Linear(intermediate_dim,intermediate_dim))\n",
    "        layers_dec.append(nn.Dropout(dropout_dec[i+1]))\n",
    "        layers_dec.append(nn.ELU())\n",
    "\n",
    "    layers_dec.append(nn.Linear(intermediate_dim,output_dim))\n",
    "\n",
    "    layers_ae = nn.ModuleList([nn.Linear(intermediate_dim,latent_dim),nn.Linear(intermediate_dim,latent_dim)])\n",
    "elif vae_type == 'conv':\n",
    "    out_conv_enc = [50,100]\n",
    "    kernels_enc = [3,5]\n",
    "    dilations_enc = [1,3]\n",
    "    maxpools_enc = [4,3]\n",
    "    paddings_enc = [(5,5,0,0)]\n",
    "    \n",
    "    out_lin_enc = [100,500]\n",
    "    dropout_enc = [0.2,0.2]\n",
    "    \n",
    "    out_lin_dec = [100,150]\n",
    "    dropout_dec = [0.2,0.2]\n",
    "    \n",
    "    layers_enc_pre_view = nn.ModuleList([nn.Conv1d(len(ORDER_LIST),out_conv_enc[0],kernels_enc[0],stride=1,dilation=dilations_enc[0]),\n",
    "                                nn.ELU(),\n",
    "                                nn.MaxPool1d(maxpools_enc[0],padding=0),\n",
    "                                nn.ZeroPad2d(paddings_enc[0]),\n",
    "                                nn.Conv1d(out_conv_enc[0],out_conv_enc[1],kernels_enc[1],stride=1,dilation=dilations_enc[1]),\n",
    "                                nn.ELU(),\n",
    "#                                 nn.MaxPool1d(4,padding=0),\n",
    "#                                 nn.ZeroPad2d((5,5,0,0)),\n",
    "#                                 nn.Conv1d(out_conv_enc[1],out_conv_enc[2],kernels_enc[2],stride=1,dilation=dilations_enc[2]),\n",
    "#                                 nn.ELU(),\n",
    "                                nn.MaxPool1d(maxpools_enc[1],padding=0)])\n",
    "    \n",
    "    inp_len = PRUNED_SEQ_LENGTH\n",
    "    paddings_enc.append((0,0,0,0))\n",
    "    for i in range(len(out_conv_enc)):\n",
    "      inp_len = conv_size_func(inp_len,dilations_enc[i],kernels_enc[i])\n",
    "      inp_len = inp_len//maxpools_enc[i]\n",
    "      inp_len += (paddings_enc[i][0]+paddings_enc[i][1])\n",
    "    \n",
    "    enc_view = inp_len*out_conv_enc[-1]\n",
    "    print('post-convolutional size is ', enc_view)\n",
    "    \n",
    "    layers_enc_post_view = nn.ModuleList([nn.Linear(enc_view,out_lin_enc[0]),\n",
    "                                          nn.Dropout(dropout_enc[0]),\n",
    "                                          nn.ELU(),\n",
    "                                          nn.Linear(out_lin_enc[0],out_lin_enc[1]),\n",
    "                                          nn.Dropout(dropout_enc[1]),\n",
    "                                          nn.ELU()])\n",
    "    \n",
    "    layers_dec = nn.ModuleList([nn.Linear(latent_dim,out_lin_dec[0]),\n",
    "                                nn.Dropout(dropout_dec[0]),\n",
    "                                nn.ELU(),\n",
    "                                nn.Linear(out_lin_dec[0],out_lin_dec[1]),\n",
    "                                nn.Dropout(dropout_dec[1]),\n",
    "                                nn.ELU(),\n",
    "                                nn.Linear(out_lin_dec[1],output_dim)])\n",
    "    \n",
    "    layers_ae = nn.ModuleList([nn.Linear(out_lin_enc[-1],latent_dim),nn.Linear(out_lin_enc[-1],latent_dim)])\n",
    "elif vae_type == 'rec':\n",
    "    univ_dropout = [0.2]*2\n",
    "    dropout_enc = univ_dropout\n",
    "    dropout_dec = univ_dropout\n",
    "    hid_size = [20,10]\n",
    "    dec_lin = False\n",
    "    \n",
    "    num_layers = 2\n",
    "    num_layers_dec = 2\n",
    "    bid = True\n",
    "    num_dirs = 2 if bid else 1\n",
    "    \n",
    "   \n",
    "    layers_enc = nn.ModuleList([nn.RNN(len(ORDER_LIST),hid_size[0],num_layers=num_layers,batch_first=True,dropout=univ_dropout[0],bidirectional=bid)])\n",
    "\n",
    "\n",
    "    if dec_lin:\n",
    "      layers_post_rec_enc = nn.ModuleList([nn.Linear(164,intermediate_dim),\n",
    "                                         nn.Dropout(dropout_enc[0]),\n",
    "                                         nn.ELU(),\n",
    "                                         nn.Linear(intermediate_dim,intermediate_dim),\n",
    "                                         nn.Dropout(dropout_enc[1]),\n",
    "                                         nn.ELU()]) # for now, not being used in rec model\n",
    "\n",
    "\n",
    "  #     layers_pre_rec_dec = nn.ModuleList([nn.Linear(latent_dim,100),\n",
    "  #                                         nn.Dropout(dropout_dec[0]),\n",
    "  #                                         nn.ELU()])\n",
    "  #     # 25 below bc bidirectional 2 layers means we have to divide 100 by 2*2\n",
    "  #     layers_dec = nn.ModuleList([nn.RNN(50,25,num_layers=2,batch_first=True,dropout=0.2,bidirectional=True)])\n",
    "  #     layers_post_rec_dec = nn.ModuleList([nn.Linear(25*2,len(ORDER_LIST))])\n",
    "\n",
    "  #     layers_ae = nn.ModuleList([nn.Linear(intermediate_dim,latent_dim),nn.Linear(intermediate_dim,latent_dim)])\n",
    "      layers_dec = nn.ModuleList([nn.Linear(latent_dim,intermediate_dim),\n",
    "                                  nn.Dropout(.2),\n",
    "                                  nn.ELU(),\n",
    "                                  nn.Linear(intermediate_dim,intermediate_dim*2),\n",
    "                                  nn.Dropout(.2),\n",
    "                                  nn.ELU(),\n",
    "                                  nn.Linear(intermediate_dim*2,output_dim)])\n",
    "      \n",
    "      layers_dec_post_rec = 0\n",
    "    \n",
    "      layers_ae = nn.ModuleList([nn.Linear(intermediate_dim,latent_dim),nn.Linear(intermediate_dim,latent_dim)])\n",
    "    \n",
    "    else: # dec_lin = False\n",
    "      layers_post_rec_enc = 0\n",
    "      \n",
    "      layers_dec = nn.ModuleList([nn.Linear(latent_dim,hid_size[1]),nn.RNN(len(ORDER_LIST),hid_size[1],num_layers=num_layers_dec,batch_first=True,dropout=univ_dropout[1],bidirectional=bid)])\n",
    "      \n",
    "      layers_dec_post_rec = nn.ModuleList([nn.Linear(hid_size[1]*num_dirs,len(ORDER_LIST))])\n",
    "      \n",
    "      layers_ae = nn.ModuleList([nn.Linear(hid_size[0],latent_dim),nn.Linear(hid_size[0],latent_dim)])\n",
    "      \n",
    "      "
   ]
  },
  {
   "cell_type": "code",
   "execution_count": 43,
   "metadata": {
    "colab": {
     "base_uri": "https://localhost:8080/",
     "height": 487
    },
    "colab_type": "code",
    "executionInfo": {
     "elapsed": 5056,
     "status": "error",
     "timestamp": 1555721543245,
     "user": {
      "displayName": "Anirudh Suresh",
      "photoUrl": "https://lh4.googleusercontent.com/-C1cjzADetbU/AAAAAAAAAAI/AAAAAAAABMU/EVQSgSzpL1U/s64/photo.jpg",
      "userId": "10961260883155163173"
     },
     "user_tz": 240
    },
    "id": "d9wNJVdR5Tij",
    "outputId": "52260c7e-ca9c-411a-983d-3acbffc1a3f2",
    "scrolled": true
   },
   "outputs": [
    {
     "name": "stdout",
     "output_type": "stream",
     "text": [
      "training full\n",
      "Epoch 0 | Training Loss: 80593.078125, Training Accuracy: 0.6669097222222222, Validation Loss: 80610.8046875, Validation Accuracy: 0.6671333333333334\n",
      "Epoch 1 | Training Loss: 86731.3984375, Training Accuracy: 0.7106668981481481, Validation Loss: 86753.390625, Validation Accuracy: 0.709975\n",
      "Epoch 2 | Training Loss: 88463.5859375, Training Accuracy: 0.724694675925926, Validation Loss: 88487.6953125, Validation Accuracy: 0.72428125\n",
      "Epoch 3 | Training Loss: 86084.5546875, Training Accuracy: 0.7367300925925926, Validation Loss: 86115.203125, Validation Accuracy: 0.7356875\n",
      "Epoch 4 | Training Loss: 87429.515625, Training Accuracy: 0.7454189814814814, Validation Loss: 87463.5859375, Validation Accuracy: 0.7440541666666667\n",
      "Epoch 5 | Training Loss: 89578.640625, Training Accuracy: 0.7500465277777778, Validation Loss: 89614.7734375, Validation Accuracy: 0.7487541666666667\n"
     ]
    },
    {
     "ename": "KeyboardInterrupt",
     "evalue": "",
     "output_type": "error",
     "traceback": [
      "\u001b[0;31m---------------------------------------------------------------------------\u001b[0m",
      "\u001b[0;31mKeyboardInterrupt\u001b[0m                         Traceback (most recent call last)",
      "\u001b[0;32m<ipython-input-43-762d3a711181>\u001b[0m in \u001b[0;36m<module>\u001b[0;34m\u001b[0m\n\u001b[1;32m     47\u001b[0m             \u001b[0moptimizer\u001b[0m\u001b[0;34m.\u001b[0m\u001b[0mzero_grad\u001b[0m\u001b[0;34m(\u001b[0m\u001b[0;34m)\u001b[0m\u001b[0;34m\u001b[0m\u001b[0m\n\u001b[1;32m     48\u001b[0m             \u001b[0mloss\u001b[0m\u001b[0;34m.\u001b[0m\u001b[0mbackward\u001b[0m\u001b[0;34m(\u001b[0m\u001b[0;34m)\u001b[0m\u001b[0;34m\u001b[0m\u001b[0m\n\u001b[0;32m---> 49\u001b[0;31m             \u001b[0moptimizer\u001b[0m\u001b[0;34m.\u001b[0m\u001b[0mstep\u001b[0m\u001b[0;34m(\u001b[0m\u001b[0;34m)\u001b[0m\u001b[0;34m\u001b[0m\u001b[0m\n\u001b[0m\u001b[1;32m     50\u001b[0m \u001b[0;34m\u001b[0m\u001b[0m\n\u001b[1;32m     51\u001b[0m         \u001b[0mmodel\u001b[0m\u001b[0;34m.\u001b[0m\u001b[0meval\u001b[0m\u001b[0;34m(\u001b[0m\u001b[0;34m)\u001b[0m\u001b[0;34m\u001b[0m\u001b[0m\n",
      "\u001b[0;32m~/.local/lib/python3.5/site-packages/torch/optim/adam.py\u001b[0m in \u001b[0;36mstep\u001b[0;34m(self, closure)\u001b[0m\n\u001b[1;32m     91\u001b[0m \u001b[0;34m\u001b[0m\u001b[0m\n\u001b[1;32m     92\u001b[0m                 \u001b[0;31m# Decay the first and second moment running average coefficient\u001b[0m\u001b[0;34m\u001b[0m\u001b[0;34m\u001b[0m\u001b[0m\n\u001b[0;32m---> 93\u001b[0;31m                 \u001b[0mexp_avg\u001b[0m\u001b[0;34m.\u001b[0m\u001b[0mmul_\u001b[0m\u001b[0;34m(\u001b[0m\u001b[0mbeta1\u001b[0m\u001b[0;34m)\u001b[0m\u001b[0;34m.\u001b[0m\u001b[0madd_\u001b[0m\u001b[0;34m(\u001b[0m\u001b[0;36m1\u001b[0m \u001b[0;34m-\u001b[0m \u001b[0mbeta1\u001b[0m\u001b[0;34m,\u001b[0m \u001b[0mgrad\u001b[0m\u001b[0;34m)\u001b[0m\u001b[0;34m\u001b[0m\u001b[0m\n\u001b[0m\u001b[1;32m     94\u001b[0m                 \u001b[0mexp_avg_sq\u001b[0m\u001b[0;34m.\u001b[0m\u001b[0mmul_\u001b[0m\u001b[0;34m(\u001b[0m\u001b[0mbeta2\u001b[0m\u001b[0;34m)\u001b[0m\u001b[0;34m.\u001b[0m\u001b[0maddcmul_\u001b[0m\u001b[0;34m(\u001b[0m\u001b[0;36m1\u001b[0m \u001b[0;34m-\u001b[0m \u001b[0mbeta2\u001b[0m\u001b[0;34m,\u001b[0m \u001b[0mgrad\u001b[0m\u001b[0;34m,\u001b[0m \u001b[0mgrad\u001b[0m\u001b[0;34m)\u001b[0m\u001b[0;34m\u001b[0m\u001b[0m\n\u001b[1;32m     95\u001b[0m                 \u001b[0;32mif\u001b[0m \u001b[0mamsgrad\u001b[0m\u001b[0;34m:\u001b[0m\u001b[0;34m\u001b[0m\u001b[0m\n",
      "\u001b[0;31mKeyboardInterrupt\u001b[0m: "
     ]
    }
   ],
   "source": [
    "losses_train = []\n",
    "losses_test = []\n",
    "accuracies_train = []\n",
    "accuracies_test = []\n",
    "xents_train = []\n",
    "xents_test = []\n",
    "kls_train = []\n",
    "kls_test = []\n",
    "\n",
    "if vae_type == 'full':\n",
    "    print (\"training full\")\n",
    "    model = VAE(layers_enc,layers_ae,layers_dec)\n",
    "\n",
    "    prams = list(model.parameters())\n",
    "\n",
    "    optimizer = torch.optim.Adam(prams, lr = 0.001)\n",
    "\n",
    "    x_train_data, x_val_data = train_test_split(x_train, test_size = 0.1)\n",
    "\n",
    "    ins_train = x_train_data.reshape(len(x_train_data)*PRUNED_SEQ_LENGTH,len(ORDER_LIST))\n",
    "    ins_train = torch.Tensor(ins_train)\n",
    "    ins_train = torch.argmax(ins_train,1)\n",
    "\n",
    "    ins_val = x_val_data.reshape(len(x_val_data)*PRUNED_SEQ_LENGTH,len(ORDER_LIST))\n",
    "    ins_val = torch.Tensor(ins_val)\n",
    "    ins_val = torch.argmax(ins_val,1)\n",
    "\n",
    "    for epoch in range(nb_epoch):\n",
    "        model.train()\n",
    "\n",
    "        train = np.random.permutation(x_train_data)\n",
    "        train = train.reshape(-1,batch_size,len(ORDER_LIST)*PRUNED_SEQ_LENGTH) # 1968)\n",
    "\n",
    "        train = torch.Tensor(train)\n",
    "\n",
    "        \n",
    "        \n",
    "        for batch in train:\n",
    "            out = model(batch)\n",
    "\n",
    "            batch = batch.reshape(batch_size*PRUNED_SEQ_LENGTH,len(ORDER_LIST))\n",
    "            batch = torch.argmax(batch,1)\n",
    "            out = out.reshape(batch_size*PRUNED_SEQ_LENGTH,len(ORDER_LIST))\n",
    "\n",
    "            loss,_,_ = vae_loss(batch,out,model.z_mean,model.z_log_var)\n",
    "            \n",
    "            optimizer.zero_grad()\n",
    "            loss.backward()  \n",
    "            optimizer.step()\n",
    "            \n",
    "        model.eval()\n",
    "\n",
    "        out_train = model(torch.Tensor(x_train_data))\n",
    "        out_train = torch.Tensor(out_train)\n",
    "        out_train = out_train.reshape(len(x_train_data)*PRUNED_SEQ_LENGTH,len(ORDER_LIST))\n",
    "\n",
    "        classpreds_train = torch.argmax(out_train,dim=1)\n",
    "        bool_train = (classpreds_train==ins_train)\n",
    "        class_acc_train = bool_train.sum().item()/bool_train.shape[0]\n",
    "\n",
    "        out_val = model(torch.Tensor(x_val_data))\n",
    "        out_val = torch.Tensor(out_val)\n",
    "        out_val = out_val.reshape(len(x_val_data)*PRUNED_SEQ_LENGTH,len(ORDER_LIST))\n",
    "\n",
    "        classpreds_val = torch.argmax(out_val,dim=1)\n",
    "        bool_val = (classpreds_val==ins_val)\n",
    "        class_acc_val = bool_val.sum().item()/bool_val.shape[0]\n",
    "\n",
    "        loss_train,_,_ = vae_loss(ins_train,out_train,model.z_mean,model.z_log_var)\n",
    "        loss_val,_,_ = vae_loss(ins_val,out_val,model.z_mean,model.z_log_var)\n",
    "        \n",
    "        losses_train.append(loss_train)\n",
    "        losses_test.append(loss_val)\n",
    "        accuracies_train.append(class_acc_train)\n",
    "        accuracies_test.append(class_acc_val)\n",
    "        \n",
    "        print('Epoch %s | Training Loss: %s, Training Accuracy: %s, Validation Loss: %s, Validation Accuracy: %s'\n",
    "              %( epoch, loss_train.item(), class_acc_train, loss_val.item(), class_acc_val ) )\n",
    "\n",
    "elif vae_type == 'conv':\n",
    "    print (\"conv\")\n",
    "    model = VAE_conv(layers_enc_pre_view,enc_view,layers_enc_post_view,layers_ae,layers_dec)\n",
    "        \n",
    "    prams = list(model.parameters())\n",
    "\n",
    "    optimizer = torch.optim.Adam(prams, lr = 0.001)\n",
    "\n",
    "    x_train_data, x_val_data = train_test_split(x_train, test_size = 0.1)\n",
    "\n",
    "    ins_train = x_train_data.reshape(len(x_train_data)*PRUNED_SEQ_LENGTH,len(ORDER_LIST))\n",
    "    ins_train = torch.Tensor(ins_train)\n",
    "    ins_train = torch.argmax(ins_train,1)\n",
    "\n",
    "    ins_val = x_val_data.reshape(len(x_val_data)*PRUNED_SEQ_LENGTH,len(ORDER_LIST))\n",
    "    ins_val = torch.Tensor(ins_val)\n",
    "    ins_val = torch.argmax(ins_val,1)\n",
    "\n",
    "    for epoch in range(nb_epoch):\n",
    "        model.train()\n",
    "\n",
    "        train = np.random.permutation(x_train_data)\n",
    "        train = train.reshape(-1,batch_size,PRUNED_SEQ_LENGTH,len(ORDER_LIST))\n",
    "\n",
    "        train = torch.Tensor(train)\n",
    "        train = train.transpose(-2,-1)\n",
    "\n",
    "        for batch in train:\n",
    "            out = model(batch)\n",
    "\n",
    "            batch = batch.transpose(-2,-1).reshape(batch_size*PRUNED_SEQ_LENGTH,len(ORDER_LIST))\n",
    "            batch = torch.argmax(batch,1)\n",
    "            out = out.reshape(batch_size*PRUNED_SEQ_LENGTH,len(ORDER_LIST))\n",
    "\n",
    "            loss,_,_ = vae_loss(batch,out,model.z_mean,model.z_log_var)\n",
    "\n",
    "            optimizer.zero_grad()\n",
    "            loss.backward()\n",
    "            optimizer.step()\n",
    "\n",
    "        model.eval()\n",
    "\n",
    "        out_train = model(torch.Tensor(x_train_data).reshape(-1,PRUNED_SEQ_LENGTH,len(ORDER_LIST)).transpose(-2,-1))\n",
    "        out_train = torch.Tensor(out_train)\n",
    "        out_train = out_train.reshape(len(x_train_data)*PRUNED_SEQ_LENGTH,len(ORDER_LIST))\n",
    "\n",
    "        classpreds_train = torch.argmax(out_train,dim=1)\n",
    "        bool_train = (classpreds_train==ins_train)\n",
    "        class_acc_train = bool_train.sum().item()/bool_train.shape[0]\n",
    "\n",
    "        out_val = model(torch.Tensor(x_val_data).reshape(-1,PRUNED_SEQ_LENGTH,len(ORDER_LIST)).transpose(-2,-1))\n",
    "        out_val = torch.Tensor(out_val)\n",
    "        out_val = out_val.reshape(len(x_val_data)*PRUNED_SEQ_LENGTH,len(ORDER_LIST))\n",
    "\n",
    "        classpreds_val = torch.argmax(out_val,dim=1)\n",
    "        bool_val = (classpreds_val==ins_val)\n",
    "        class_acc_val = bool_val.sum().item()/bool_val.shape[0]\n",
    "\n",
    "        loss_train,_,_ = vae_loss(ins_train,out_train,model.z_mean,model.z_log_var)\n",
    "        loss_val,_,_ = vae_loss(ins_val,out_val,model.z_mean,model.z_log_var)\n",
    "\n",
    "        losses_train.append(loss_train)\n",
    "        losses_test.append(loss_val)\n",
    "        accuracies_train.append(class_acc_train)\n",
    "        accuracies_test.append(class_acc_val)\n",
    "        \n",
    "        print('Epoch %s | Training Loss: %s, Training Accuracy: %s, Validation Loss: %s, Validation Accuracy: %s'\n",
    "              %( epoch, loss_train.item(), class_acc_train, loss_val.item(), class_acc_val ) )\n",
    "        \n",
    "elif vae_type == 'rec':\n",
    "    print (\"rec\")\n",
    "    if lang_mod:\n",
    "        print(\"language model training\")\n",
    "    else:\n",
    "        print(\"vae training\")\n",
    "    \n",
    "    alpha = 50000\n",
    "    beta = 0.005\n",
    "    print('KL annealing terms: alpha = {}, beta = {}'.format(alpha,beta))\n",
    "        \n",
    "    model = VAE_rec(layers_enc,layers_post_rec_enc,layers_ae,0,layers_dec,layers_dec_post_rec)\n",
    "    \n",
    "    if cuda:\n",
    "        model = model.cuda()\n",
    "    \n",
    "    prams = list(model.parameters())\n",
    "\n",
    "    optimizer = torch.optim.Adam(prams, lr = 0.01)\n",
    "\n",
    "    x_train_data, x_val_data = train_test_split(x_train, test_size = 0.1)\n",
    "    \n",
    "#     print('FAKE TRAINING SET TO ASSESS REC VALIDITY')\n",
    "#     x_train_data = np.array([[0,1,0,0,0,0,0,0,0,0,0,0,0,0,0,0,0,0,0,0,0,0,0,0]]*3690000).reshape(45000,1968)\n",
    "    \n",
    "#     import pdb; pdb.set_trace()\n",
    "    \n",
    "    ins_train = x_train_data.reshape(len(x_train_data)*PRUNED_SEQ_LENGTH,len(ORDER_LIST))\n",
    "    ins_train = torch.Tensor(ins_train)\n",
    "    ins_train = torch.argmax(ins_train,1)\n",
    "\n",
    "    ins_val = x_val_data.reshape(len(x_val_data)*PRUNED_SEQ_LENGTH,len(ORDER_LIST))\n",
    "    ins_val = torch.Tensor(ins_val)\n",
    "    ins_val = torch.argmax(ins_val,1)\n",
    "    \n",
    "    ins_train = create_tensor(ins_train,gpu=cuda)\n",
    "    ins_val = create_tensor(ins_val,gpu=cuda)\n",
    "    \n",
    "    \n",
    "#     ## Printing model perf before\n",
    "#     model.eval()\n",
    "            \n",
    "#     out_train = model(create_tensor(torch.Tensor(x_train_data),gpu=cuda).reshape(-1,PRUNED_SEQ_LENGTH,len(ORDER_LIST)),False,lang_mod)\n",
    "#     out_train = out_train.reshape(len(x_train_data)*PRUNED_SEQ_LENGTH,len(ORDER_LIST))\n",
    "\n",
    "#     classpreds_train = torch.argmax(out_train,dim=1)\n",
    "#     bool_train = (classpreds_train==ins_train)\n",
    "#     class_acc_train = bool_train.sum().item()/bool_train.shape[0]\n",
    "\n",
    "#     out_val = model(create_tensor(torch.Tensor(x_val_data),gpu=cuda).reshape(-1,PRUNED_SEQ_LENGTH,len(ORDER_LIST)),False,lang_mod)\n",
    "#     out_val = out_val.reshape(len(x_val_data)*PRUNED_SEQ_LENGTH,len(ORDER_LIST))\n",
    "\n",
    "#     classpreds_val = torch.argmax(out_val,dim=1)\n",
    "#     bool_val = (classpreds_val==ins_val)\n",
    "#     class_acc_val = bool_val.sum().item()/bool_val.shape[0]\n",
    "\n",
    "#     loss_train,xent_train,kl_train = vae_loss(ins_train,out_train,model.z_mean,model.z_log_var)\n",
    "#     kl_train = sigmoid(beta*(-alpha))*kl_train # annealing\n",
    "#     loss_train = xent_train + kl_train # annealing\n",
    "#     loss_val,xent_val,kl_val = vae_loss(ins_val,out_val,model.z_mean,model.z_log_var)\n",
    "#     kl_val = sigmoid(beta*(-alpha))*kl_val # annealing\n",
    "#     loss_val = xent_val + kl_val # annealing\n",
    "\n",
    "#     losses_train.append(loss_train.item())\n",
    "#     losses_test.append(loss_val.item())\n",
    "#     accuracies_train.append(class_acc_train)\n",
    "#     accuracies_test.append(class_acc_val)\n",
    "#     xents_train.append(xent_train.item())\n",
    "#     xents_test.append(xent_val.item())\n",
    "#     kls_train.append(kl_train.item())\n",
    "#     kls_test.append(kl_val.item())\n",
    "\n",
    "#     print('Pre-training | Training Loss: %s, Training Accuracy: %s, Validation Loss: %s, Validation Accuracy: %s'\n",
    "#           %( loss_train.item(), class_acc_train, loss_val.item(), class_acc_val ) )\n",
    "    \n",
    "    for epoch in range(nb_epoch):\n",
    "        print('Epoch {}'.format(epoch))\n",
    "        \n",
    "        model.train()\n",
    "\n",
    "        train = np.random.permutation(x_train_data)\n",
    "        train = train.reshape(-1,batch_size,PRUNED_SEQ_LENGTH,len(ORDER_LIST))\n",
    "\n",
    "        train = create_tensor(torch.Tensor(train),gpu=cuda)\n",
    "\n",
    "        xents = []\n",
    "        kls = []\n",
    "        \n",
    "        num_dum = -1\n",
    "\n",
    "        optimizer.zero_grad()\n",
    "        \n",
    "        for batch in train:\n",
    "            num_dum += 1\n",
    "            out = model(batch,True,lang_mod)\n",
    "            \n",
    "#             import pdb; pdb.set_trace()\n",
    "            batch = torch.argmax(batch,-1)\n",
    "            batch = batch.reshape(-1)\n",
    "                        \n",
    "            out = out.reshape(batch_size*PRUNED_SEQ_LENGTH,len(ORDER_LIST))\n",
    "\n",
    "            loss,xent,kl = vae_loss(batch,out,model.z_mean,model.z_log_var)\n",
    "            mult = epoch*len(x_train_data)/batch_size + num_dum # annealing\n",
    "            kl = sigmoid(beta*(mult-alpha))*kl # annealing\n",
    "            loss = xent + kl # annealing\n",
    "            if num_dum % 1000 == 0:\n",
    "                print((batch==torch.argmax(out,-1)).sum().item()/(batch_size*PRUNED_SEQ_LENGTH*1.0))\n",
    "            xents.append(xent)\n",
    "            kls.append(kl)\n",
    "\n",
    "            if lang_mod:\n",
    "                xent.backward()\n",
    "            else:\n",
    "                loss.backward()   \n",
    "            \n",
    "#         for layer, paramval in model.named_parameters():\n",
    "#             print(layer,paramval.grad)\n",
    "            \n",
    "        optimizer.step()\n",
    "            \n",
    "#         import pdb; pdb.set_trace()\n",
    "        print('xent mean is:',torch.stack(xents).mean().item())\n",
    "        print('kl mean is:',torch.stack(kls).mean().item())\n",
    "\n",
    "#         model.eval()\n",
    "        \n",
    "# #         import pdb; pdb.set_trace()\n",
    "#         out_train = model(create_tensor(torch.Tensor(x_train_data),gpu=cuda).reshape(-1,PRUNED_SEQ_LENGTH,len(ORDER_LIST)),False,lang_mod)\n",
    "#         out_train = out_train.reshape(len(x_train_data)*PRUNED_SEQ_LENGTH,len(ORDER_LIST))\n",
    "\n",
    "#         classpreds_train = torch.argmax(out_train,dim=1)\n",
    "#         bool_train = (classpreds_train==ins_train)\n",
    "#         class_acc_train = bool_train.sum().item()/bool_train.shape[0]\n",
    "\n",
    "#         out_val = model(create_tensor(torch.Tensor(x_val_data),gpu=cuda).reshape(-1,PRUNED_SEQ_LENGTH,len(ORDER_LIST)),False,lang_mod)\n",
    "#         out_val = out_val.reshape(len(x_val_data)*PRUNED_SEQ_LENGTH,len(ORDER_LIST))\n",
    "\n",
    "#         classpreds_val = torch.argmax(out_val,dim=1)\n",
    "#         bool_val = (classpreds_val==ins_val)\n",
    "#         class_acc_val = bool_val.sum().item()/bool_val.shape[0]\n",
    "\n",
    "#         loss_train,xent_train,kl_train = vae_loss(ins_train,out_train,model.z_mean,model.z_log_var)\n",
    "#         mult = epoch*len(x_train_data)/batch_size + num_dum # annealing\n",
    "#         kl_train = sigmoid(beta*(mult-alpha))*kl_train # annealing\n",
    "#         loss_train = xent_train + kl_train # annealing\n",
    "#         loss_val,xent_val,kl_val = vae_loss(ins_val,out_val,model.z_mean,model.z_log_var)\n",
    "#         kl_val = sigmoid(beta*(mult-alpha))*kl_val # annealing\n",
    "#         loss_val = xent_val + kl_val # annealing\n",
    "        \n",
    "#         losses_train.append(loss_train.item())\n",
    "#         losses_test.append(loss_val.item())\n",
    "#         accuracies_train.append(class_acc_train)\n",
    "#         accuracies_test.append(class_acc_val)\n",
    "#         xents_train.append(xent_train.item())\n",
    "#         xents_test.append(xent_val.item())\n",
    "#         kls_train.append(kl_train.item())\n",
    "#         kls_test.append(kl_val.item())\n",
    "        \n",
    "#         print(classpreds_train)\n",
    "#         print(classpreds_val)\n",
    "        \n",
    "#         print('Epoch %s | Training Loss: %s, Training Accuracy: %s, Validation Loss: %s, Validation Accuracy: %s'\n",
    "#               %( epoch, loss_train.item(), class_acc_train, loss_val.item(), class_acc_val ) )"
   ]
  },
  {
   "cell_type": "code",
   "execution_count": 44,
   "metadata": {},
   "outputs": [],
   "source": [
    "# model = VAE_rec(layers_enc,layers_post_rec_enc,layers_ae,0,layers_dec,layers_dec_post_rec)"
   ]
  },
  {
   "cell_type": "code",
   "execution_count": 45,
   "metadata": {},
   "outputs": [],
   "source": [
    "class VAE_rec(nn.Module):\n",
    "\tdef __init__(self,layers_enc,layers_enc_post_rec,layers_ae,layers_dec_pre_rec,layers_dec,layers_dec_post_rec,dec_lin=False):\n",
    "\t\tsuper(VAE_rec, self).__init__()\n",
    "\t\tself.layers_enc = layers_enc\n",
    "\t\tself.layers_enc_post_rec = layers_enc_post_rec\n",
    "\t\tself.layers_ae = layers_ae\n",
    "\t\tself.layers_dec_pre_rec = layers_dec_pre_rec\n",
    "\t\tself.layers_dec = layers_dec\n",
    "\t\tself.layers_dec_post_rec = layers_dec_post_rec\n",
    "\t\tself.dec_lin = dec_lin       \n",
    "\t\t\n",
    "\tdef forward(self, x, train_stat=True, lang_mod = False, test_pred = 'naive_arg', nbeams = 10): # test_pred can be one of ['naive_arg','naive_soft','beam']\n",
    "\t\tbs = x.shape[0]\n",
    "\t\tseq_len = x.shape[1]\n",
    "\t\tx_init = x\n",
    "# \t\tprint (\"After init: \", x.shape)\n",
    "\t\t\n",
    "\t\tfor layer in self.layers_enc:\n",
    "\t\t\t_, x = layer(x)\n",
    "\t\t\t# x, _ = layer(x) # use output instead of last hidden layer\n",
    "\n",
    "\n",
    "# # \t\tx = x.transpose(0,1)\n",
    "# # \t\tprint (\"after transpose: \", x.shape)\n",
    "# \t\t# x = x.squeeze(2)\n",
    "# \t\tx = x.reshape(bs, 164) #outpt instead of hidden\n",
    "# # \t\tprint (\"after squeeze: \", x.shape)\n",
    "\n",
    "# \t\tfor layer in self.layers_enc_post_rec:\n",
    "# \t\t\tx = layer(x)\n",
    "# # \t\t\tprint (\"layer :\", x.shape)\n",
    "\n",
    "\n",
    "\t\tself.z_mean = self.layers_ae[0](x)\n",
    "\t\tself.z_log_var = self.layers_ae[1](x)\n",
    "\n",
    "\t\tx = sampling_rec(self.z_mean, self.z_log_var, self.layers_ae[0].out_features)\n",
    "# \t\tprint (\"sampling :\", x.shape)\n",
    "\n",
    "\n",
    "\n",
    "\t\t\n",
    "\t\tif self.dec_lin: # with linear decoder\n",
    "\t\t\tfor layer in self.layers_dec:\n",
    "\t\t\t\tx = layer(x)\n",
    "\n",
    "\t\telse: # with rnn decoder\n",
    "\t\t\thid_0 = self.layers_dec[0](x)\n",
    "\t\t\tif lang_mod:\n",
    "\t\t\t\thid_0 = torch.zeros_like(hid_0)-1\n",
    "\t\t\tx = x.transpose(0,1)\n",
    "\n",
    "\t\t\tif train_stat: # if training, then do teacher forcing\n",
    "\t\t\t\tx_pass = x_init[:,:-1,:]\n",
    "\t\t\t\tx_pass = torch.cat((torch.zeros_like(x_pass[:,0,:]).unsqueeze(-2), x_pass), dim = -2)\n",
    "\n",
    "\t\t\t\tfor layer in self.layers_dec[1:]:\n",
    "\t\t\t\t\tx,_ = layer(x_pass, hid_0)\n",
    "\n",
    "\t\t\telse: # else, do either naive next step prediction or beam search\n",
    "\t\t\t\thids = []\n",
    "\t\t\t\txs = []\n",
    "\n",
    "\t\t\t\tassert(len(self.layers_dec) == 2), 'Length of layers_dec module list should only be 2 (1 linear & 1 recurrent)'\n",
    "\n",
    "\t\t\t\tfor layer in self.layers_dec[1:]: # should only be 1 more layer in this ModuleList\n",
    "\t\t\t\t\tpredx_t,hid_t = layer(torch.zeros_like(x_init[:,0,:]).unsqueeze(-2), hid_0)\n",
    "\n",
    "\t\t\t\t\tif test_pred == 'naive_arg':\n",
    "\t\t\t\t\t\targs = torch.argmax(predx_t,-1).view(-1)\n",
    "\t\t\t\t\t\tpredx_t = torch.zeros_like(predx_t)\n",
    "\t\t\t\t\t\tfor i in range(predx_t.shape[0]):\n",
    "\t\t\t\t\t\t\tpredx_t[i][0][args[i]] = 1\n",
    "\n",
    "\t\t\t\t\txs.append(predx_t)\n",
    "\t\t\t\t\thids.append(hid_t)\n",
    "\n",
    "\t\t\t\t\tfor i in range(seq_len-1):\n",
    "\t\t\t\t\t\t# Naive, without beam search\n",
    "\t\t\t\t\t\tinter = hids[-1][-2:].transpose(0,1)\n",
    "\t\t\t\t\t\tinter = inter.contiguous().view(bs,-1)\n",
    "\t\t\t\t\t\tpredx_t = self.layers_dec_post_rec[0](inter)\n",
    "\t\t\t\t\t\t# generally self.layers_dec_post_rec only has one layer, so for loop below usually not useful\n",
    "\t\t\t\t\t\tfor layer_sub in self.layers_dec_post_rec[1:]:\n",
    "\t\t\t\t\t\t\tpredx_t = layer_sub(predx_t)\n",
    "\t\t\t\t\t\t\txs.append(predx_t)\n",
    "\n",
    "\t\t\t\t\t\tpredx_t = softmaxfunc(predx_t)\n",
    "\n",
    "\t\t\t\t\t\tif test_pred == 'naive_arg':\n",
    "\t\t\t\t\t\t\targs = torch.argmax(predx_t,-1).view(-1)\n",
    "\t\t\t\t\t\t\tpredx_t = torch.zeros_like(predx_t)\n",
    "\t\t\t\t\t\t\tfor i in range(predx_t.shape[0]):\n",
    "\t\t\t\t\t\t\t\tpredx_t[i][args[i]] = 1\n",
    "\n",
    "\t\t\t\t\t\t_,hid_tplusone = layer(predx_t.unsqueeze(1), hids[-1])\n",
    "\n",
    "\t\t\t\t\t\thids.append(hid_tplusone)\n",
    "\n",
    "\t\t\t\tx = torch.stack(hids)[:,-2:,:,:]\n",
    "\t\t\t\tx = x.transpose(1,2).contiguous().view(seq_len,bs,-1).transpose(0,1)\n",
    "\n",
    "\n",
    "\t\t\tfor layer in self.layers_dec_post_rec:\n",
    "\t\t\t\tx = layer(x)\n",
    "\n",
    "\t\treturn x"
   ]
  },
  {
   "cell_type": "code",
   "execution_count": 46,
   "metadata": {},
   "outputs": [],
   "source": [
    "# x_train_data, x_val_data = train_test_split(x_train, test_size = 0.1)\n",
    "    \n",
    "# #     print('FAKE TRAINING SET TO ASSESS REC VALIDITY')\n",
    "# #     x_train_data = np.array([[0,1,0,0,0,0,0,0,0,0,0,0,0,0,0,0,0,0,0,0,0,0,0,0]]*3690000).reshape(45000,1968)\n",
    "    \n",
    "# #     import pdb; pdb.set_trace()\n",
    "    \n",
    "# ins_train = x_train_data.reshape(len(x_train_data)*PRUNED_SEQ_LENGTH,len(ORDER_LIST)) # good\n",
    "# ins_train = torch.Tensor(ins_train) # good\n",
    "# ins_train = torch.argmax(ins_train,1) # good"
   ]
  },
  {
   "cell_type": "code",
   "execution_count": 47,
   "metadata": {},
   "outputs": [],
   "source": [
    "# ins_val = x_val_data.reshape(len(x_val_data)*PRUNED_SEQ_LENGTH,len(ORDER_LIST)) # good\n",
    "# ins_val = torch.Tensor(ins_val) # good\n",
    "# ins_val = torch.argmax(ins_val,1) # good"
   ]
  },
  {
   "cell_type": "code",
   "execution_count": 48,
   "metadata": {},
   "outputs": [],
   "source": [
    "# model.eval()\n",
    "\n",
    "# out_train = model(create_tensor(torch.Tensor(x_train_data[0:1000]),gpu=False).reshape(-1,PRUNED_SEQ_LENGTH,len(ORDER_LIST)),False,False)"
   ]
  },
  {
   "cell_type": "code",
   "execution_count": 49,
   "metadata": {},
   "outputs": [],
   "source": [
    "# out_train.shape"
   ]
  },
  {
   "cell_type": "code",
   "execution_count": 50,
   "metadata": {},
   "outputs": [],
   "source": [
    "# classpreds_train_1 = torch.argmax(out_train,-1)"
   ]
  },
  {
   "cell_type": "code",
   "execution_count": 51,
   "metadata": {},
   "outputs": [],
   "source": [
    "# classpreds_train_2 = torch.argmax(out_train.reshape(len(out_train)*PRUNED_SEQ_LENGTH,len(ORDER_LIST)),-1)"
   ]
  },
  {
   "cell_type": "code",
   "execution_count": 52,
   "metadata": {},
   "outputs": [],
   "source": [
    "# thing1 = classpreds_train_1.view(-1)"
   ]
  },
  {
   "cell_type": "code",
   "execution_count": 53,
   "metadata": {},
   "outputs": [],
   "source": [
    "# thing2 = classpreds_train_2"
   ]
  },
  {
   "cell_type": "code",
   "execution_count": 54,
   "metadata": {},
   "outputs": [],
   "source": [
    "# print(thing1)"
   ]
  },
  {
   "cell_type": "code",
   "execution_count": 55,
   "metadata": {},
   "outputs": [],
   "source": [
    "# (torch.argmax(create_tensor(torch.Tensor(x_train_data.reshape(-1,82,24)),gpu=False),2).reshape(-1)==ins_train).sum()"
   ]
  },
  {
   "cell_type": "code",
   "execution_count": 56,
   "metadata": {},
   "outputs": [],
   "source": [
    "# out_train.argmax(2)"
   ]
  },
  {
   "cell_type": "code",
   "execution_count": null,
   "metadata": {},
   "outputs": [],
   "source": []
  },
  {
   "cell_type": "code",
   "execution_count": null,
   "metadata": {},
   "outputs": [],
   "source": []
  },
  {
   "cell_type": "code",
   "execution_count": 57,
   "metadata": {
    "colab": {
     "base_uri": "https://localhost:8080/",
     "height": 34
    },
    "colab_type": "code",
    "executionInfo": {
     "elapsed": 308,
     "status": "ok",
     "timestamp": 1555377790673,
     "user": {
      "displayName": "Anirudh Suresh",
      "photoUrl": "https://lh4.googleusercontent.com/-C1cjzADetbU/AAAAAAAAAAI/AAAAAAAABMU/EVQSgSzpL1U/s64/photo.jpg",
      "userId": "10961260883155163173"
     },
     "user_tz": 240
    },
    "id": "r-7N7Ysvd7Fq",
    "outputId": "27f070b1-e7de-4531-8fb3-3c9d479fab3c"
   },
   "outputs": [
    {
     "name": "stdout",
     "output_type": "stream",
     "text": [
      "full_250_0.2_0.2_0.2_0.2_0.2_0.2\n"
     ]
    }
   ],
   "source": [
    "if vae_type == 'full':\n",
    "  run_id = vae_type+'_{}'.format(intermediate_dim)\n",
    "  for i in dropout_enc:\n",
    "    run_id += '_{}'.format(i)\n",
    "  for i in dropout_dec:\n",
    "    run_id += '_{}'.format(i)\n",
    "elif vae_type == 'conv':\n",
    "  run_id = vae_type+'_enc'\n",
    "  for i in out_conv_enc:\n",
    "    run_id += '_{}'.format(i)\n",
    "  for i in kernels_enc:\n",
    "    run_id += '_{}'.format(i)\n",
    "  for i in dilations_enc:\n",
    "    run_id += '_{}'.format(i)\n",
    "  for i in maxpools_enc:\n",
    "    run_id += '_{}'.format(i)\n",
    "  for i in paddings_enc:\n",
    "    run_id += '_{}'.format(i)\n",
    "  for i in out_lin_enc:\n",
    "    run_id += '_{}'.format(i)\n",
    "  for i in dropout_enc:\n",
    "    run_id += '_{}'.format(i)\n",
    "  \n",
    "  run_id += '_dec'\n",
    "  \n",
    "  for i in out_lin_dec:\n",
    "    run_id += '_{}'.format(i)\n",
    "  for i in dropout_dec:\n",
    "    run_id += '_{}'.format(i)\n",
    "elif vae_type == 'rec':\n",
    "  run_id = vae_type+'_enc'\n",
    "  \n",
    "\n",
    "print(run_id)"
   ]
  },
  {
   "cell_type": "markdown",
   "metadata": {
    "colab_type": "text",
    "id": "Dx0qRaei5TjN"
   },
   "source": [
    "Let's explore the latent space"
   ]
  },
  {
   "cell_type": "code",
   "execution_count": 58,
   "metadata": {
    "colab": {},
    "colab_type": "code",
    "id": "_WrajPV75TjN"
   },
   "outputs": [],
   "source": [
    "if vae_type == \"conv\":\n",
    "    fit_xtrain = model(torch.Tensor(train.view(-1,len(ORDER_LIST),PRUNED_SEQ_LENGTH))).detach()\n",
    "\n",
    "if vae_type == \"full\":\n",
    "    fit_xtrain = model(torch.Tensor(train.view(-1,len(ORDER_LIST)*PRUNED_SEQ_LENGTH))).detach()\n",
    "    \n",
    "if vae_type == \"rec\":\n",
    "    fit_xtrain = model(train.view(-1,PRUNED_SEQ_LENGTH,len(ORDER_LIST))).detach()\n",
    "    \n",
    "z_means = model.z_mean.detach()"
   ]
  },
  {
   "cell_type": "code",
   "execution_count": 59,
   "metadata": {
    "colab": {
     "base_uri": "https://localhost:8080/",
     "height": 269
    },
    "colab_type": "code",
    "executionInfo": {
     "elapsed": 963,
     "status": "ok",
     "timestamp": 1555377801937,
     "user": {
      "displayName": "Anirudh Suresh",
      "photoUrl": "https://lh4.googleusercontent.com/-C1cjzADetbU/AAAAAAAAAAI/AAAAAAAABMU/EVQSgSzpL1U/s64/photo.jpg",
      "userId": "10961260883155163173"
     },
     "user_tz": 240
    },
    "id": "zRUn9xRO5TjZ",
    "outputId": "ac0b9978-fbb6-4fa8-e71e-eddaa5e3ec69"
   },
   "outputs": [
    {
     "data": {
      "image/png": "[encoded data removed]",
      "text/plain": [
       "<Figure size 432x288 with 1 Axes>"
      ]
     },
     "metadata": {},
     "output_type": "display_data"
    }
   ],
   "source": [
    "transposed_zmeans = np.array(z_means.cpu()).transpose()\n",
    "\n",
    "plt.scatter(transposed_zmeans[0], transposed_zmeans[1], s = 1, linewidths = 0)\n",
    "plt.show()"
   ]
  },
  {
   "cell_type": "code",
   "execution_count": 60,
   "metadata": {
    "colab": {},
    "colab_type": "code",
    "id": "Gm3MVzsS5Tjc"
   },
   "outputs": [],
   "source": [
    "from sklearn.cluster import KMeans\n",
    "\n",
    "z_means_np = np.array(z_means.cpu())\n",
    "kmeans = KMeans(n_clusters=12, random_state=1).fit(z_means_np)"
   ]
  },
  {
   "cell_type": "code",
   "execution_count": 61,
   "metadata": {
    "colab": {
     "base_uri": "https://localhost:8080/",
     "height": 374
    },
    "colab_type": "code",
    "executionInfo": {
     "elapsed": 4342,
     "status": "ok",
     "timestamp": 1555377807921,
     "user": {
      "displayName": "Anirudh Suresh",
      "photoUrl": "https://lh4.googleusercontent.com/-C1cjzADetbU/AAAAAAAAAAI/AAAAAAAABMU/EVQSgSzpL1U/s64/photo.jpg",
      "userId": "10961260883155163173"
     },
     "user_tz": 240
    },
    "id": "HWkA0VaP5Tjf",
    "outputId": "3473289e-4a25-4bf7-bc78-31295678e944"
   },
   "outputs": [
    {
     "data": {
      "image/png": "[encoded data removed]",
      "text/plain": [
       "<Figure size 864x864 with 1 Axes>"
      ]
     },
     "metadata": {},
     "output_type": "display_data"
    }
   ],
   "source": [
    "sample_points=len(z_means_np)\n",
    "\n",
    "latent_dim = 2\n",
    "fig = plt.figure(figsize=(12,12))\n",
    "counter=0\n",
    "cmap=kmeans.labels_\n",
    "for z1 in range(latent_dim):\n",
    "    for z2 in range(z1+1,latent_dim):\n",
    "        counter+=1\n",
    "        fig.add_subplot(latent_dim,latent_dim,counter)\n",
    "        plt.title(str(z1)+\"_\"+str(z2))\n",
    "        plt.scatter(z_means_np[:, z1][::-1], z_means_np[:, z2][::-1],c=cmap[::-1], s = 15, alpha=0.01,marker=\"o\")\n",
    "#         plt.scatter(z_means_np[:, z1][::-1], z_means_np[:, z2][::-1],c=\"y\" ,alpha=0.3,marker=\"o\")\n",
    "        plt.scatter(z_means_np[0][z1], z_means_np[0][z2],c=\"r\" ,alpha=1,s=40,marker=\"s\")\n",
    "        plt.xlabel(\"Latent dim\"+str(z1+1))\n",
    "        plt.ylabel(\"Latent dim\"+str(z2+1));\n",
    "plt.savefig(\"Try2_originalDropout.png\")\n"
   ]
  },
  {
   "cell_type": "code",
   "execution_count": 62,
   "metadata": {
    "colab": {
     "base_uri": "https://localhost:8080/",
     "height": 269
    },
    "colab_type": "code",
    "executionInfo": {
     "elapsed": 3915,
     "status": "ok",
     "timestamp": 1555377808121,
     "user": {
      "displayName": "Anirudh Suresh",
      "photoUrl": "https://lh4.googleusercontent.com/-C1cjzADetbU/AAAAAAAAAAI/AAAAAAAABMU/EVQSgSzpL1U/s64/photo.jpg",
      "userId": "10961260883155163173"
     },
     "user_tz": 240
    },
    "id": "I_6Xsa9t5Tjh",
    "outputId": "2e4e8f84-49b2-47ac-a687-67a827c1c5de"
   },
   "outputs": [
    {
     "data": {
      "image/png": "[encoded data removed]",
      "text/plain": [
       "<Figure size 432x288 with 1 Axes>"
      ]
     },
     "metadata": {},
     "output_type": "display_data"
    }
   ],
   "source": [
    "plt.pcolor(x_train[0].reshape(PRUNED_SEQ_LENGTH, len(ORDER_LIST)).transpose(1, 0))\n",
    "plt.show()"
   ]
  },
  {
   "cell_type": "code",
   "execution_count": 64,
   "metadata": {
    "colab": {
     "base_uri": "https://localhost:8080/",
     "height": 71
    },
    "colab_type": "code",
    "executionInfo": {
     "elapsed": 1563,
     "status": "ok",
     "timestamp": 1555377812660,
     "user": {
      "displayName": "Anirudh Suresh",
      "photoUrl": "https://lh4.googleusercontent.com/-C1cjzADetbU/AAAAAAAAAAI/AAAAAAAABMU/EVQSgSzpL1U/s64/photo.jpg",
      "userId": "10961260883155163173"
     },
     "user_tz": 240
    },
    "id": "hIIJ8Jc75Tjj",
    "outputId": "86fb6fd4-d5d4-4f5a-f78c-ba1c1a71c1b2"
   },
   "outputs": [
    {
     "name": "stderr",
     "output_type": "stream",
     "text": [
      "/usr/local/lib/python3.5/dist-packages/ipykernel_launcher.py:5: UserWarning: Implicit dimension choice for softmax has been deprecated. Change the call to include dim=X as an argument.\n",
      "  \"\"\"\n"
     ]
    }
   ],
   "source": [
    "if vae_type == 'full':\n",
    "    m = torch.nn.Softmax()\n",
    "\n",
    "\n",
    "    reshaped_fit_xtrain = m(fit_xtrain.reshape(45000 * PRUNED_SEQ_LENGTH, len(ORDER_LIST))).reshape(45000, PRUNED_SEQ_LENGTH, len(ORDER_LIST)).transpose(2, 1)\n",
    "\n",
    "\n",
    "  # reshaped_fit_xtrain = torch.stack(list(map(m, fit_xtrain))).reshape(50000, 82, 24).transpose(2, 1)\n",
    "elif vae_type == 'conv':\n",
    "    m = torch.nn.Softmax()\n",
    "\n",
    "\n",
    "    reshaped_fit_xtrain = m(fit_xtrain.reshape(45000, 82, 24)).transpose(2, 1)\n",
    "\n",
    "\n",
    "  # reshaped_fit_xtrain = torch.stack(list(map(m, fit_xtrain))).reshape(50000, 82, 24).transpose(2, 1)\n",
    "\n",
    "elif vae_type == 'rec':\n",
    "    m = torch.nn.Softmax()\n",
    "    \n",
    "    reshaped_fit_xtrain = m(fit_xtrain.reshape(len(x_train_data),PRUNED_SEQ_LENGTH,len(ORDER_LIST)).transpose(2,1))"
   ]
  },
  {
   "cell_type": "code",
   "execution_count": 65,
   "metadata": {
    "colab": {
     "base_uri": "https://localhost:8080/",
     "height": 286
    },
    "colab_type": "code",
    "executionInfo": {
     "elapsed": 583,
     "status": "ok",
     "timestamp": 1555377814818,
     "user": {
      "displayName": "Anirudh Suresh",
      "photoUrl": "https://lh4.googleusercontent.com/-C1cjzADetbU/AAAAAAAAAAI/AAAAAAAABMU/EVQSgSzpL1U/s64/photo.jpg",
      "userId": "10961260883155163173"
     },
     "user_tz": 240
    },
    "id": "cej8TrWn5Tjm",
    "outputId": "9820c811-fcca-411d-f038-1996ca9e3c6d"
   },
   "outputs": [
    {
     "data": {
      "text/plain": [
       "<matplotlib.collections.PolyCollection at 0x7fc3b1d150b8>"
      ]
     },
     "execution_count": 65,
     "metadata": {},
     "output_type": "execute_result"
    },
    {
     "data": {
      "image/png": "[encoded data removed]",
      "text/plain": [
       "<Figure size 432x288 with 1 Axes>"
      ]
     },
     "metadata": {},
     "output_type": "display_data"
    }
   ],
   "source": [
    "plt.pcolor(reshaped_fit_xtrain[0].cpu())"
   ]
  },
  {
   "cell_type": "code",
   "execution_count": null,
   "metadata": {},
   "outputs": [],
   "source": []
  },
  {
   "cell_type": "code",
   "execution_count": 66,
   "metadata": {
    "colab": {
     "base_uri": "https://localhost:8080/",
     "height": 173
    },
    "colab_type": "code",
    "executionInfo": {
     "elapsed": 1305,
     "status": "ok",
     "timestamp": 1555377818459,
     "user": {
      "displayName": "Anirudh Suresh",
      "photoUrl": "https://lh4.googleusercontent.com/-C1cjzADetbU/AAAAAAAAAAI/AAAAAAAABMU/EVQSgSzpL1U/s64/photo.jpg",
      "userId": "10961260883155163173"
     },
     "user_tz": 240
    },
    "id": "RxRyEmS75Tjt",
    "outputId": "036488db-3b5d-4f9b-cef4-19cdee96493a"
   },
   "outputs": [
    {
     "name": "stdout",
     "output_type": "stream",
     "text": [
      "Spearman SpearmanrResult(correlation=-0.04805173055548456, pvalue=0.09912016578925573)\n",
      "Pearson (-0.017074882773079423, 0.558067930941718)\n",
      "------------------------------\n",
      "Spearman SpearmanrResult(correlation=0.06723722592567952, pvalue=0.02095135746957971)\n",
      "Pearson (0.07321000084787271, 0.011920516848796565)\n",
      "------------------------------\n",
      "Spearman SpearmanrResult(correlation=0.022892738463790873, pvalue=0.43226174152709707)\n",
      "Pearson (0.02669002180773689, 0.35985847765092105)\n"
     ]
    }
   ],
   "source": [
    "sample_size=batch_size*int(len(test_data_plus)/batch_size)\n",
    "sample_for_averging_size=100\n",
    "sequence_size=PRUNED_SEQ_LENGTH\n",
    "digit_size = len(ORDER_LIST)\n",
    "x_decoded=reshaped_fit_xtrain\n",
    "\n",
    "digit = reshaped_fit_xtrain[0]#fit_xtrain_softmax_reshaped[0]\n",
    "digit_wt = digit\n",
    "digit_wt = normalize(digit.cpu(),axis=0, norm='l1')\n",
    "# print (digit_wt)\n",
    "\n",
    "\n",
    "wt_prob=compute_log_probability(test_data_plus[0].reshape(digit_size, sequence_size),digit_wt)\n",
    "#print (\"wt_log_prob: \", wt_prob)\n",
    "\n",
    "wt_probs=[]\n",
    "digit_avg=np.zeros((digit_size, sequence_size))\n",
    "\n",
    "\n",
    "sample_indices=random.sample(range(sample_size),sample_for_averging_size)\n",
    "\n",
    "counter=0\n",
    "for sample in sample_indices:\n",
    "    digit = x_decoded[sample]\n",
    "#     print (digit)\n",
    "#     print (digit_avg)\n",
    "#     digit_wt_i = normalize(digit,axis=0, norm='l1')\n",
    "    digit_wt_i = digit\n",
    "    \n",
    "#     print (digit_wt_i)\n",
    "    \n",
    "    digit_avg+=np.array(digit_wt_i.cpu()) * 1. / sample_for_averging_size\n",
    "    \n",
    "    wt_p=compute_log_probability(test_data_plus[sample].reshape(digit_size, sequence_size),digit_wt_i.cpu())\n",
    "    wt_probs.append(wt_p)\n",
    "    counter+=1\n",
    "    \n",
    "average_wt_p=np.mean(wt_probs)\n",
    "\n",
    "fitnesses_vs_wt=[]\n",
    "fitnesses=[] #first plug in just the sequences\n",
    "fitnesses_vs_avg=[] \n",
    "\n",
    "for sample in range(1,sample_size):\n",
    "    digit = x_decoded[sample]\n",
    "#     digit = normalize(digit,axis=0, norm='l1')\n",
    "    \n",
    "    fitness=compute_log_probability(test_data_plus[sample].reshape(digit_size, sequence_size),digit.cpu())-wt_prob\n",
    "    fitnesses.append(fitness)\n",
    "    \n",
    "    fitness=compute_log_probability(test_data_plus[sample].reshape(digit_size, sequence_size),digit_wt)-wt_prob\n",
    "    fitnesses_vs_wt.append(fitness)\n",
    "    \n",
    "    fitness=compute_log_probability(test_data_plus[sample].reshape(digit_size, sequence_size),digit_avg)-average_wt_p\n",
    "    fitnesses_vs_avg.append(fitness)\n",
    "    \n",
    "    \n",
    "print (\"Spearman\",spearmanr(fitnesses_vs_avg,target_values_singles[:sample_size-1]))\n",
    "print (\"Pearson\", pearsonr(fitnesses_vs_avg,target_values_singles[:sample_size-1]))\n",
    "print ('------------------------------')\n",
    "print (\"Spearman\",spearmanr(fitnesses_vs_wt,target_values_singles[:sample_size-1]))\n",
    "print (\"Pearson\", pearsonr(fitnesses_vs_wt,target_values_singles[:sample_size-1]))\n",
    "print ('------------------------------')\n",
    "print (\"Spearman\",spearmanr(fitnesses,target_values_singles[:sample_size-1]))\n",
    "print (\"Pearson\", pearsonr(fitnesses,target_values_singles[:sample_size-1])) "
   ]
  },
  {
   "cell_type": "code",
   "execution_count": 70,
   "metadata": {
    "colab": {},
    "colab_type": "code",
    "collapsed": true,
    "id": "9qKBXcPQiP-r"
   },
   "outputs": [],
   "source": [
    "perf = np.array([losses_train,accuracies_train,losses_test,accuracies_test,[0 for i in losses_test]])\n",
    "perf = np.transpose(perf)\n",
    "\n",
    "perf[-6,-1] = spearmanr(fitnesses_vs_avg,target_values_singles[:sample_size-1]).correlation\n",
    "perf[-5,-1] = pearsonr(fitnesses_vs_avg,target_values_singles[:sample_size-1])[0]\n",
    "perf[-4,-1] = spearmanr(fitnesses_vs_wt,target_values_singles[:sample_size-1]).correlation\n",
    "perf[-3,-1] = pearsonr(fitnesses_vs_wt,target_values_singles[:sample_size-1])[0]\n",
    "perf[-2,-1] = spearmanr(fitnesses,target_values_singles[:sample_size-1]).correlation\n",
    "perf[-1,-1] = pearsonr(fitnesses,target_values_singles[:sample_size-1])[0]\n",
    "    \n",
    "np.save('results_{}.txt'.format(run_id),perf)"
   ]
  },
  {
   "cell_type": "code",
   "execution_count": 0,
   "metadata": {
    "colab": {
     "base_uri": "https://localhost:8080/",
     "height": 343
    },
    "colab_type": "code",
    "executionInfo": {
     "elapsed": 470,
     "status": "ok",
     "timestamp": 1555377867613,
     "user": {
      "displayName": "Anirudh Suresh",
      "photoUrl": "https://lh4.googleusercontent.com/-C1cjzADetbU/AAAAAAAAAAI/AAAAAAAABMU/EVQSgSzpL1U/s64/photo.jpg",
      "userId": "10961260883155163173"
     },
     "user_tz": 240
    },
    "id": "L4RDCn1SvqoG",
    "outputId": "42112982-d092-434b-ece5-97c3d653e9e6"
   },
   "outputs": [
    {
     "data": {
      "text/plain": [
       "array([[tensor(46209.6914, grad_fn=<AddBackward0>), 0.683179674796748,\n",
       "        tensor(46217.6641, grad_fn=<AddBackward0>), 0.6841414634146341,\n",
       "        0.4578265313051431],\n",
       "       [tensor(50862.2422, grad_fn=<AddBackward0>), 0.7036788617886179,\n",
       "        tensor(50878.2852, grad_fn=<AddBackward0>), 0.7027926829268293,\n",
       "        0.5079178720488651],\n",
       "       [tensor(59320.0781, grad_fn=<AddBackward0>), 0.7018785907859079,\n",
       "        tensor(59321.6133, grad_fn=<AddBackward0>), 0.7032731707317074,\n",
       "        0.4436030731647449],\n",
       "       [tensor(54943.0195, grad_fn=<AddBackward0>), 0.7167444444444444,\n",
       "        tensor(54955.0117, grad_fn=<AddBackward0>), 0.7172926829268292,\n",
       "        0.48681000381760786],\n",
       "       [tensor(57309.3906, grad_fn=<AddBackward0>), 0.7249265582655826,\n",
       "        tensor(57324.5859, grad_fn=<AddBackward0>), 0.7245121951219512,\n",
       "        0.02598174839699039],\n",
       "       [tensor(55233.3086, grad_fn=<AddBackward0>), 0.7319241192411924,\n",
       "        tensor(55250.3008, grad_fn=<AddBackward0>), 0.7321658536585366,\n",
       "        0.017550713661802993]], dtype=object)"
      ]
     },
     "execution_count": 53,
     "metadata": {
      "tags": []
     },
     "output_type": "execute_result"
    }
   ],
   "source": [
    "perf"
   ]
  },
  {
   "cell_type": "code",
   "execution_count": 0,
   "metadata": {
    "colab": {
     "base_uri": "https://localhost:8080/",
     "height": 286
    },
    "colab_type": "code",
    "executionInfo": {
     "elapsed": 1125,
     "status": "ok",
     "timestamp": 1555273584799,
     "user": {
      "displayName": "Anirudh Suresh",
      "photoUrl": "https://lh4.googleusercontent.com/-C1cjzADetbU/AAAAAAAAAAI/AAAAAAAABMU/EVQSgSzpL1U/s64/photo.jpg",
      "userId": "10961260883155163173"
     },
     "user_tz": 240
    },
    "id": "Uv9CVwsL5Tjp",
    "outputId": "a4a22c9b-2464-4772-9d8f-4a8ce2e0b0a7"
   },
   "outputs": [
    {
     "data": {
      "text/plain": [
       "<matplotlib.collections.PolyCollection at 0x7fe83f248898>"
      ]
     },
     "execution_count": 80,
     "metadata": {
      "tags": []
     },
     "output_type": "execute_result"
    },
    {
     "data": {
      "image/png": "[encoded data removed]",
      "text/plain": [
       "<Figure size 432x288 with 1 Axes>"
      ]
     },
     "metadata": {
      "tags": []
     },
     "output_type": "display_data"
    }
   ],
   "source": [
    "plt.pcolor(np.matmul(test_data_plus[0].reshape(digit_size, sequence_size).T, digit_wt))"
   ]
  },
  {
   "cell_type": "code",
   "execution_count": 0,
   "metadata": {
    "colab": {
     "base_uri": "https://localhost:8080/",
     "height": 286
    },
    "colab_type": "code",
    "executionInfo": {
     "elapsed": 416,
     "status": "ok",
     "timestamp": 1555273585826,
     "user": {
      "displayName": "Anirudh Suresh",
      "photoUrl": "https://lh4.googleusercontent.com/-C1cjzADetbU/AAAAAAAAAAI/AAAAAAAABMU/EVQSgSzpL1U/s64/photo.jpg",
      "userId": "10961260883155163173"
     },
     "user_tz": 240
    },
    "id": "oCTzkmWt5Tjw",
    "outputId": "70ad7123-0504-4140-fea6-a7df1dd1bc4f"
   },
   "outputs": [
    {
     "data": {
      "text/plain": [
       "<matplotlib.collections.PolyCollection at 0x7fe83a0d0b00>"
      ]
     },
     "execution_count": 81,
     "metadata": {
      "tags": []
     },
     "output_type": "execute_result"
    },
    {
     "data": {
      "image/png": "[encoded data removed]",
      "text/plain": [
       "<Figure size 432x288 with 1 Axes>"
      ]
     },
     "metadata": {
      "tags": []
     },
     "output_type": "display_data"
    }
   ],
   "source": [
    "plt.pcolor(test_data_plus[0].reshape(digit_size, sequence_size))"
   ]
  },
  {
   "cell_type": "code",
   "execution_count": 0,
   "metadata": {
    "colab": {
     "base_uri": "https://localhost:8080/",
     "height": 286
    },
    "colab_type": "code",
    "executionInfo": {
     "elapsed": 395,
     "status": "ok",
     "timestamp": 1555273586877,
     "user": {
      "displayName": "Anirudh Suresh",
      "photoUrl": "https://lh4.googleusercontent.com/-C1cjzADetbU/AAAAAAAAAAI/AAAAAAAABMU/EVQSgSzpL1U/s64/photo.jpg",
      "userId": "10961260883155163173"
     },
     "user_tz": 240
    },
    "id": "8GtV15V35Tjy",
    "outputId": "c04362e4-ce2c-4a10-dafe-7af1e168286d",
    "scrolled": false
   },
   "outputs": [
    {
     "data": {
      "text/plain": [
       "<matplotlib.collections.PolyCollection at 0x7fe839f54470>"
      ]
     },
     "execution_count": 82,
     "metadata": {
      "tags": []
     },
     "output_type": "execute_result"
    },
    {
     "data": {
      "image/png": "[encoded data removed]",
      "text/plain": [
       "<Figure size 432x288 with 1 Axes>"
      ]
     },
     "metadata": {
      "tags": []
     },
     "output_type": "display_data"
    }
   ],
   "source": [
    "plt.pcolor(digit_wt)"
   ]
  },
  {
   "cell_type": "code",
   "execution_count": 0,
   "metadata": {
    "colab": {
     "base_uri": "https://localhost:8080/",
     "height": 34
    },
    "colab_type": "code",
    "executionInfo": {
     "elapsed": 433,
     "status": "ok",
     "timestamp": 1555273588311,
     "user": {
      "displayName": "Anirudh Suresh",
      "photoUrl": "https://lh4.googleusercontent.com/-C1cjzADetbU/AAAAAAAAAAI/AAAAAAAABMU/EVQSgSzpL1U/s64/photo.jpg",
      "userId": "10961260883155163173"
     },
     "user_tz": 240
    },
    "id": "I0MrIy-I5Tj0",
    "outputId": "b7a1c650-b8d1-42d6-c2f3-6130b0b30109"
   },
   "outputs": [
    {
     "data": {
      "text/plain": [
       "SpearmanrResult(correlation=-0.009824433997652364, pvalue=0.7361261981734875)"
      ]
     },
     "execution_count": 83,
     "metadata": {
      "tags": []
     },
     "output_type": "execute_result"
    }
   ],
   "source": [
    "spearmanr(fitnesses_vs_avg, fitnesses)"
   ]
  },
  {
   "cell_type": "code",
   "execution_count": 0,
   "metadata": {
    "colab": {
     "base_uri": "https://localhost:8080/",
     "height": 297
    },
    "colab_type": "code",
    "executionInfo": {
     "elapsed": 764,
     "status": "ok",
     "timestamp": 1555277682382,
     "user": {
      "displayName": "Anirudh Suresh",
      "photoUrl": "https://lh4.googleusercontent.com/-C1cjzADetbU/AAAAAAAAAAI/AAAAAAAABMU/EVQSgSzpL1U/s64/photo.jpg",
      "userId": "10961260883155163173"
     },
     "user_tz": 240
    },
    "id": "d8L-i5nZ5Tj2",
    "outputId": "9d033724-6604-43a2-9535-d16d70b91073",
    "scrolled": false
   },
   "outputs": [
    {
     "data": {
      "image/png": "[encoded data removed]",
      "text/plain": [
       "<Figure size 432x288 with 1 Axes>"
      ]
     },
     "metadata": {
      "tags": []
     },
     "output_type": "display_data"
    }
   ],
   "source": [
    "plt.scatter(fitnesses_vs_wt, target_values_singles[:sample_size-1], alpha = 0.5, s = 10)\n",
    "plt.ylabel(\"Fitness vs. wt\")\n",
    "plt.xlabel(\"p(x)\")\n",
    "plt.title(spearmanr(fitnesses_vs_wt, target_values_singles[:sample_size-1]))\n",
    "plt.tight_layout()\n",
    "plt.savefig(\"Correlation.png\")\n",
    "plt.show()\n"
   ]
  },
  {
   "cell_type": "code",
   "execution_count": 0,
   "metadata": {
    "colab": {
     "base_uri": "https://localhost:8080/",
     "height": 269
    },
    "colab_type": "code",
    "executionInfo": {
     "elapsed": 577,
     "status": "ok",
     "timestamp": 1555273605145,
     "user": {
      "displayName": "Anirudh Suresh",
      "photoUrl": "https://lh4.googleusercontent.com/-C1cjzADetbU/AAAAAAAAAAI/AAAAAAAABMU/EVQSgSzpL1U/s64/photo.jpg",
      "userId": "10961260883155163173"
     },
     "user_tz": 240
    },
    "id": "-4TOANTD5Tj3",
    "outputId": "724b7efc-b13a-4e89-c8b5-7519b4c99d0d"
   },
   "outputs": [
    {
     "data": {
      "image/png": "[encoded data removed]",
      "text/plain": [
       "<Figure size 432x288 with 1 Axes>"
      ]
     },
     "metadata": {
      "tags": []
     },
     "output_type": "display_data"
    }
   ],
   "source": [
    "plt.scatter(fitnesses_vs_wt, target_values_singles[:sample_size-1], alpha = 0.5, s = 10)\n",
    "plt.show()"
   ]
  },
  {
   "cell_type": "code",
   "execution_count": 0,
   "metadata": {
    "colab": {
     "base_uri": "https://localhost:8080/",
     "height": 269
    },
    "colab_type": "code",
    "executionInfo": {
     "elapsed": 814,
     "status": "ok",
     "timestamp": 1555273606918,
     "user": {
      "displayName": "Anirudh Suresh",
      "photoUrl": "https://lh4.googleusercontent.com/-C1cjzADetbU/AAAAAAAAAAI/AAAAAAAABMU/EVQSgSzpL1U/s64/photo.jpg",
      "userId": "10961260883155163173"
     },
     "user_tz": 240
    },
    "id": "P0Fnmdpj5Tj4",
    "outputId": "d0426e7d-8ea4-4433-f7ed-4115cd1b9ffb"
   },
   "outputs": [
    {
     "data": {
      "image/png": "[encoded data removed]",
      "text/plain": [
       "<Figure size 432x288 with 1 Axes>"
      ]
     },
     "metadata": {
      "tags": []
     },
     "output_type": "display_data"
    }
   ],
   "source": [
    "plt.hist(fitnesses,bins=30)\n",
    "plt.show()"
   ]
  },
  {
   "cell_type": "code",
   "execution_count": 0,
   "metadata": {
    "colab": {
     "base_uri": "https://localhost:8080/",
     "height": 269
    },
    "colab_type": "code",
    "executionInfo": {
     "elapsed": 534,
     "status": "ok",
     "timestamp": 1555273608021,
     "user": {
      "displayName": "Anirudh Suresh",
      "photoUrl": "https://lh4.googleusercontent.com/-C1cjzADetbU/AAAAAAAAAAI/AAAAAAAABMU/EVQSgSzpL1U/s64/photo.jpg",
      "userId": "10961260883155163173"
     },
     "user_tz": 240
    },
    "id": "LkE73rY65Tj7",
    "outputId": "07329914-166f-4e7f-d76c-7436a2ace0f2"
   },
   "outputs": [
    {
     "data": {
      "image/png": "[encoded data removed]",
      "text/plain": [
       "<Figure size 432x288 with 1 Axes>"
      ]
     },
     "metadata": {
      "tags": []
     },
     "output_type": "display_data"
    }
   ],
   "source": [
    "plt.hist(target_values_singles[:sample_size-1], bins=50)\n",
    "plt.show()"
   ]
  },
  {
   "cell_type": "code",
   "execution_count": 0,
   "metadata": {
    "colab": {},
    "colab_type": "code",
    "collapsed": true,
    "id": "ppGBWTVe5Tj9"
   },
   "outputs": [],
   "source": []
  },
  {
   "cell_type": "code",
   "execution_count": 0,
   "metadata": {
    "colab": {},
    "colab_type": "code",
    "collapsed": true,
    "id": "BKc9fixn5Tj-"
   },
   "outputs": [],
   "source": []
  },
  {
   "cell_type": "code",
   "execution_count": 0,
   "metadata": {
    "colab": {},
    "colab_type": "code",
    "collapsed": true,
    "id": "w_4gbNeo5Tj_"
   },
   "outputs": [],
   "source": []
  },
  {
   "cell_type": "code",
   "execution_count": 0,
   "metadata": {
    "colab": {},
    "colab_type": "code",
    "collapsed": true,
    "id": "dX-B_yHo5TkG"
   },
   "outputs": [],
   "source": []
  },
  {
   "cell_type": "code",
   "execution_count": 0,
   "metadata": {
    "colab": {},
    "colab_type": "code",
    "collapsed": true,
    "id": "wmdEQNQW5TkJ"
   },
   "outputs": [],
   "source": []
  },
  {
   "cell_type": "markdown",
   "metadata": {
    "colab_type": "text",
    "id": "FzFrRh7-5TkL"
   },
   "source": [
    "We have kept track of some performance metrics, so we can follow whether the network was still improving. "
   ]
  },
  {
   "cell_type": "code",
   "execution_count": 0,
   "metadata": {
    "colab": {},
    "colab_type": "code",
    "collapsed": true,
    "id": "au8vScro5TkL"
   },
   "outputs": [],
   "source": [
    "#print performance measures over time\n",
    "keys=[\"categorical_accuracy\",\"top_k_categorical_accuracy\"]\n",
    "for key in keys:\n",
    "    if not key.startswith(\"val_\"):\n",
    "        plt.plot(hist.history[\"val_\"+key],label=\"val_\"+key)\n",
    "plt.xlabel(\"epochs\")\n",
    "plt.legend(bbox_to_anchor=(1.6,0.5));"
   ]
  },
  {
   "cell_type": "markdown",
   "metadata": {
    "colab_type": "text",
    "id": "XLB3-7j25TkM"
   },
   "source": [
    "Our metric of interest of course is the prediction power (here spearman's rank correlation) between protein sequence probability and the actual fitness measurements."
   ]
  },
  {
   "cell_type": "code",
   "execution_count": 0,
   "metadata": {
    "colab": {},
    "colab_type": "code",
    "collapsed": true,
    "id": "C40YJSOo5TkN"
   },
   "outputs": [],
   "source": [
    "plt.plot(spearman_measure.scores)\n",
    "plt.title(\"Spearman corr over epochs\")\n",
    "plt.xlabel(\"epochs\")\n",
    "plt.ylabel(\"Spearman corr\");"
   ]
  },
  {
   "cell_type": "markdown",
   "metadata": {
    "colab_type": "text",
    "id": "zGZieRrf5TkP"
   },
   "source": [
    "## 3. Exploring the Latent Space\n",
    "It is helpful to visualize the latent space to see if the network is separating any mutants (and how the variance is captured). The wildtype sequence is highlighted in red. "
   ]
  },
  {
   "cell_type": "code",
   "execution_count": 0,
   "metadata": {
    "colab": {},
    "colab_type": "code",
    "collapsed": true,
    "id": "KUDZaDF85TkQ"
   },
   "outputs": [],
   "source": [
    "encoder = Model(x, z_mean)\n",
    "sample_points=data_set_size\n",
    "\n",
    "sample_size=batch_size*int(len(test_data_plus)/batch_size)\n",
    "sample_for_averging_size=100\n",
    "sequence_size=PRUNED_SEQ_LENGTH\n",
    "digit_size = len(ORDER_LIST)\n",
    "\n",
    "#wildtype in red\n",
    "x_train_encoded = encoder.predict(training_data[:sample_points], batch_size=batch_size)\n",
    "x_test_encoded=encoder.predict(all_test_data[:15060], batch_size=batch_size)\n",
    "wt_encoding=x_train_encoded[0].reshape(1,latent_dim)\n",
    "\n",
    "x_decoded=vae.predict(test_data_plus[0:sample_size],batch_size=batch_size)\n",
    "digit = x_decoded[0].reshape(digit_size,sequence_size)\n",
    "digit_wt = normalize(digit,axis=0, norm='l1')\n",
    "wt_prob=compute_log_probability(test_data_plus[0].reshape(digit_size,sequence_size),digit_wt)\n",
    "\n",
    "fig = plt.figure(figsize=(12,12))\n",
    "counter=0\n",
    "cmap=[\"r\" if i==0 else \"b\" for i in range(sample_points)]\n",
    "for z1 in range(latent_dim):\n",
    "    for z2 in range(z1+1,latent_dim):\n",
    "        counter+=1\n",
    "        fig.add_subplot(latent_dim,latent_dim,counter)\n",
    "        plt.title(str(z1)+\"_\"+str(z2))\n",
    "        plt.scatter(x_train_encoded[:, z1][::-1], x_train_encoded[:, z2][::-1],c=cmap[::-1] ,alpha=0.01)\n",
    "\n",
    "        plt.scatter(x_test_encoded[:, z1][::-1], x_test_encoded[:, z2][::-1],c=\"y\" ,alpha=0.3)\n",
    "        plt.scatter(x_train_encoded[0][z1], x_train_encoded[0][z2],c=\"r\" ,alpha=1)\n",
    "        plt.xlabel(\"Latent dim\"+str(z1+1))\n",
    "        plt.ylabel(\"Latent dim\"+str(z2+1));"
   ]
  },
  {
   "cell_type": "markdown",
   "metadata": {
    "colab_type": "text",
    "id": "9rTe9_g75TkT"
   },
   "source": [
    "We can see that there is an interesting branching structure occuring. We can decipher this structure. It is also possible to run the network with more latent variables (usually improves the results by a little). In such cases we can also plot the latent dimensions 3 at a time (instead of 2 at a time above)."
   ]
  },
  {
   "cell_type": "code",
   "execution_count": 0,
   "metadata": {
    "colab": {},
    "colab_type": "code",
    "collapsed": true,
    "id": "wF5KIdt35TkU"
   },
   "outputs": [],
   "source": [
    "# for 3d Visualization of latent space if at least three dimensions existed\n",
    "if latent_dim>2:\n",
    "    %matplotlib inline\n",
    "    from mpl_toolkits.mplot3d import Axes3D\n",
    "    fig = plt.figure()\n",
    "    ax = fig.add_subplot(111, projection='3d')\n",
    "    encoder = Model(x, z_mean)\n",
    "    # display a 2D plot of the digit classes in the latent space\n",
    "    #x_test_encoded = encoder.predict(x_test, batch_size=batch_size)\n",
    "\n",
    "    plt.figure(figsize=(8, 8))\n",
    "    #plt.scatter(x_test_encoded[:, 0], x_test_encoded[: ,1])#, c=y_test)\n",
    "    ax.scatter(x_train_encoded[:, 0], x_train_encoded[:, 1],x_train_encoded[:, 2],c=\"b\",alpha=0.01)\n",
    "    ax.scatter(x_test_encoded[:, 0], x_test_encoded[:, 1],x_test_encoded[:, 2],c=\"y\",alpha=0.75)\n",
    "    ax.scatter(x_train_encoded[0][0], x_train_encoded[0][1],x_train_encoded[0][2], c=\"r\" ,alpha=1)\n"
   ]
  },
  {
   "cell_type": "markdown",
   "metadata": {
    "colab_type": "text",
    "id": "D5m3IUwE5TkV"
   },
   "source": [
    "To further understand the structure we saw above we first look at the distribution of distances of sequences from each other. We can cluster the data using a simple approach like k-means, and then re-map that onto our plot above."
   ]
  },
  {
   "cell_type": "code",
   "execution_count": 0,
   "metadata": {
    "colab": {},
    "colab_type": "code",
    "collapsed": true,
    "id": "LyMeA1_u5TkW"
   },
   "outputs": [],
   "source": [
    "from sklearn.cluster import KMeans\n",
    "kmeans = KMeans(n_clusters=12, random_state=1).fit(training_data[:data_set_size])"
   ]
  },
  {
   "cell_type": "code",
   "execution_count": 0,
   "metadata": {
    "colab": {},
    "colab_type": "code",
    "collapsed": true,
    "id": "8RKP0LEt5TkX"
   },
   "outputs": [],
   "source": [
    "sample_points=data_set_size\n",
    "\n",
    "fig = plt.figure(figsize=(12,12))\n",
    "counter=0\n",
    "cmap=kmeans.labels_\n",
    "for z1 in range(latent_dim):\n",
    "    for z2 in range(z1+1,latent_dim):\n",
    "        counter+=1\n",
    "        fig.add_subplot(latent_dim,latent_dim,counter)\n",
    "        plt.title(str(z1)+\"_\"+str(z2))\n",
    "        plt.scatter(x_train_encoded[:, z1][::-1], x_train_encoded[:, z2][::-1],c=cmap[::-1] ,alpha=0.01,marker=\"o\")\n",
    "        plt.scatter(x_test_encoded[:, z1][::-1], x_test_encoded[:, z2][::-1],c=\"y\" ,alpha=0.3,marker=\"o\")\n",
    "        plt.scatter(x_test_encoded[0][z1], x_test_encoded[0][z2],c=\"r\" ,alpha=1,s=40,marker=\"s\")\n",
    "        plt.xlabel(\"Latent dim\"+str(z1+1))\n",
    "        plt.ylabel(\"Latent dim\"+str(z2+1));\n"
   ]
  },
  {
   "cell_type": "markdown",
   "metadata": {
    "colab_type": "text",
    "id": "ITfsKaiM5Tka"
   },
   "source": [
    "It appears that the k-means clustering strongly aligns with how the network has split the training data into branches. Hence sequence distances are a large factor in this projection onto the latent space. "
   ]
  },
  {
   "cell_type": "markdown",
   "metadata": {
    "colab_type": "text",
    "collapsed": true,
    "id": "2kTbligt5Tkb"
   },
   "source": [
    "Next, I compute the likelihood of the wildtype sequence occuring in each position within the latent space. This is interesting because it lets us visually how much the distribution of sequences is favorable to the wildtype at that particular place in the latent space. To see how this probability is computed, see [below](#P_compute).\n"
   ]
  },
  {
   "cell_type": "code",
   "execution_count": 0,
   "metadata": {
    "colab": {},
    "colab_type": "code",
    "collapsed": true,
    "id": "wT58D8xy5Tkb"
   },
   "outputs": [],
   "source": [
    "probs=[]\n",
    "points_x=np.arange(min(x_train_encoded[:, 0]),max(x_train_encoded[:, 0]),(max(x_train_encoded[:, 0])-min(x_train_encoded[:, 0]))*0.0025)\n",
    "points_y=np.arange(min(x_train_encoded[:, 1]),max(x_train_encoded[:, 1]),(max(x_train_encoded[:, 1])-min(x_train_encoded[:, 1]))*0.0025)\n",
    "\n",
    "decoder_input = Input(shape=(latent_dim,))\n",
    "_x_decoded_mean= decoder_out(decoder_3(decoder_2d(decoder_2(decoder_1(decoder_input)))))\n",
    "\n",
    "generator = Model(decoder_input, _x_decoded_mean)\n",
    "\n",
    "for i in points_x:\n",
    "    for j in points_y:\n",
    "        x_decoded=generator.predict(np.array([i,j]).reshape(1,-1)).reshape(digit_size,sequence_size)\n",
    "        digit_prob=normalize(x_decoded,axis=0, norm='l1')\n",
    "        value_to_append=compute_log_probability(all_test_data[0].reshape(digit_size,sequence_size),digit_prob)\n",
    "        probs.append(value_to_append)\n",
    "       #if interested in seeing which points in the matrix come closest to the wildtype, they can be printed using the code that follows \n",
    "        #if i<wt_encoding[0][0]+0.1 and i>=wt_encoding[0][0]-0.1:\n",
    "         #   if j<wt_encoding[0][1]+0.1 and j>=wt_encoding[0][1]-0.1:\n",
    "          #      print (i,j,value_to_append)\n",
    "            \n",
    "            \n",
    "probs=np.array(probs)\n",
    "probs[probs<-2000]=-2000\n",
    "probs=probs.reshape(len(points_x),len(points_y)).T"
   ]
  },
  {
   "cell_type": "markdown",
   "metadata": {
    "colab_type": "text",
    "id": "O5GtGQP65Tke"
   },
   "source": [
    "We can now plot the probabilities onto the latent space. White areas are where wildtype occurs with the same probability as it’s own coordinate in the latent space. Red means that wildtype is less favored in those locations, and blue means it is more favored (than it’s own location). Notice that in certain datasets (and realizations of the latent space), the positive range is very small and it may appear that there is a flat dark blue area. This is simply because the sequences that are better than wildtype are usually just slightly better, and hence there is little room for the positive side of the colorbar to show its gradient. The wildtype may also be in a blue area because of the \"binning\" or pixelation as a result of the way we compute the probabilities.  "
   ]
  },
  {
   "cell_type": "code",
   "execution_count": 0,
   "metadata": {
    "colab": {},
    "colab_type": "code",
    "collapsed": true,
    "id": "XF5CRYau5Tke"
   },
   "outputs": [],
   "source": [
    "import matplotlib.cm \n",
    "fig = plt.figure(figsize=(12,9))\n",
    "orig_cmap = matplotlib.cm.bwr_r\n",
    "midpoint=((np.min(probs)-wt_prob)/(np.min(probs)-np.max(probs)))\n",
    "offset_top=np.max(probs)+5 #better visualization because often the \"beneficial\" coords are very close to wildtype in fitness, coarse graining may result in misleading visuals\n",
    "\n",
    "shrunk_cmap = shiftedColorMap(orig_cmap, start=0.0, midpoint=midpoint, stop=1, name='shrunk')\n",
    "plt.pcolormesh(points_x,points_y, probs,cmap=shrunk_cmap,vmin=np.min(probs), vmax=offset_top)\n",
    "ax=plt.colorbar()\n",
    "ax.set_label(\"log probability of wildtype\")\n",
    "plt.scatter(x_train_encoded[:, 0][::-1], x_train_encoded[:, 1][::-1],c=cmap[::-1] ,alpha=0.1)\n",
    "plt.scatter(x_test_encoded[:, 0][1180:], x_test_encoded[:, 1][1180:],c=\"purple\" ,alpha=0.3)\n",
    "plt.scatter(x_test_encoded[:, 0][1:1180], x_test_encoded[:, 1][1:1180],c=\"g\" ,alpha=0.3)\n",
    "plt.scatter(x_train_encoded[0][0], x_train_encoded[0][1],c=\"r\" ,alpha=1,s=40,marker=\"s\")\n",
    "plt.xlabel(\"latent dim 1\")\n",
    "plt.ylabel(\"latent dim 2\")\n",
    "\n",
    "plt.xlim(min(points_x),max(points_x))\n",
    "plt.ylim(min(points_y),max(points_y));"
   ]
  },
  {
   "cell_type": "markdown",
   "metadata": {
    "colab_type": "text",
    "id": "T9lu1eM35Tkh"
   },
   "source": [
    "We can zoom in closer to the wildtype, here we removed the cluster colors, and the yellow dots show the test data (single and double mutants). "
   ]
  },
  {
   "cell_type": "code",
   "execution_count": 0,
   "metadata": {
    "colab": {},
    "colab_type": "code",
    "collapsed": true,
    "id": "2OLdx_xU5Tki"
   },
   "outputs": [],
   "source": [
    "fig = plt.figure(figsize=(12,8))\n",
    "\n",
    "plt.pcolor(points_x,points_y, probs,cmap=shrunk_cmap,vmax=offset_top)\n",
    "ax=plt.colorbar()\n",
    "ax.set_label(\"log probability of wildtype\")\n",
    "\n",
    "plt.scatter(x_train_encoded[:, 0][::-1], x_train_encoded[:, 1][::-1],c=cmap[::-1] ,alpha=0.5)\n",
    "plt.scatter(x_test_encoded[:, 0][1180:], x_test_encoded[:, 1][1180:],c=\"purple\" ,alpha=0.3,label=\"double_mut\")\n",
    "plt.scatter(x_test_encoded[:, 0][1:1180], x_test_encoded[:, 1][1:1180],c=\"g\" ,alpha=0.3,label=\"single_mut\")\n",
    "plt.scatter(x_train_encoded[0][0], x_train_encoded[0][1],c=\"r\" ,alpha=1,s=40,marker=\"s\",label=\"wt\")\n",
    "\n",
    "wt_x=wt_encoding[0][0]\n",
    "wt_y=wt_encoding[0][1]\n",
    "offset=2\n",
    "plt.xlim(wt_x-offset,wt_x+offset);\n",
    "plt.ylim(wt_y-offset,wt_y+offset);\n",
    "\n",
    "plt.legend();\n",
    "plt.xlabel(\"latent dim 1\")\n",
    "plt.xlabel(\"latent dim 2\");"
   ]
  },
  {
   "cell_type": "markdown",
   "metadata": {
    "colab_type": "text",
    "id": "erZC3MRN5Tko"
   },
   "source": [
    "We can see how the reconstruction changes as we walk from a wildtype to a mutant in latent space."
   ]
  },
  {
   "cell_type": "code",
   "execution_count": 0,
   "metadata": {
    "colab": {},
    "colab_type": "code",
    "collapsed": true,
    "id": "0CqPDOc05Tkp"
   },
   "outputs": [],
   "source": [
    "x_decoded=vae.predict(test_data_plus[0:200],batch_size=batch_size)\n",
    "digit_wt = x_decoded[0].reshape(digit_size,sequence_size)\n",
    "digit_wt = normalize(digit_wt,axis=0, norm='l1')\n",
    "\n",
    "mut_sample=100\n",
    "\n",
    "digit_p= x_decoded[mut_sample].reshape(digit_size,sequence_size)\n",
    "digit_p = normalize(digit_p,axis=0, norm='l1')\n",
    "\n",
    "fig = plt.figure(figsize=(12,18))\n",
    "\n",
    "fig.add_subplot(412)\n",
    "\n",
    "plt.pcolor(digit_wt,cmap=\"hot\",vmin=0,vmax=1)\n",
    "plt.colorbar()\n",
    "\n",
    "plt.xlim(0,82);\n",
    "plt.ylim(0,24);\n",
    "plt.title(\"wild_type_reconstruction\")\n",
    "plt.yticks(range(24),ORDER_LIST)\n",
    "\n",
    "fig.add_subplot(413)\n",
    "\n",
    "plt.pcolor(digit_p,cmap=\"hot\",vmin=0,vmax=1)\n",
    "plt.colorbar()\n",
    "\n",
    "plt.xlim(0,82);\n",
    "plt.ylim(0,24);\n",
    "plt.yticks(range(24),ORDER_LIST)\n",
    "\n",
    "plt.title(\"mutant_reconstruction\")\n",
    "\n",
    "fig.add_subplot(411)\n",
    "\n",
    "plt.pcolor(abs(test_data_plus[0].reshape(digit_size,sequence_size)+(test_data_plus[mut_sample].reshape(digit_size,sequence_size))*2),cmap=\"hot\",vmin=0,vmax=3)\n",
    "\n",
    "plt.xlim(0,82);\n",
    "plt.ylim(0,24);\n",
    "plt.yticks(range(24),ORDER_LIST)\n",
    "\n",
    "plt.title(\"one hot encoding of input sequence (wt(red), mut(yellow))\")\n",
    "\n",
    "fig.add_subplot(414)\n",
    "\n",
    "plt.pcolor(-digit_wt+digit_p,cmap=\"bwr\",vmin=-0.05,vmax=0.05)\n",
    "plt.colorbar()\n",
    "plt.xlim(0,82);\n",
    "plt.ylim(0,24);\n",
    "plt.yticks(range(24),ORDER_LIST)\n",
    "\n",
    "plt.title(\"difference in distribution (mutant-wt): Notice that the scale is different\");"
   ]
  },
  {
   "cell_type": "markdown",
   "metadata": {
    "colab_type": "text",
    "id": "Qs9zBLOM5Tkr"
   },
   "source": [
    "Notice the slight change in the probabilities, for other positions in the sequence, not just those that differed in the original input sequence (fourth panel).  \n",
    "\n",
    "\n",
    "Alternatively, we can move in the latent dimension (along the eigen basis) by preturbing coordinates starting at the wildtype and observe the change in probabilities. To do so, we first compute the principal eigenvector for the test data."
   ]
  },
  {
   "cell_type": "code",
   "execution_count": 0,
   "metadata": {
    "colab": {},
    "colab_type": "code",
    "collapsed": true,
    "id": "frjXG3Gx5Tkt"
   },
   "outputs": [],
   "source": [
    "from sklearn.decomposition import PCA\n",
    "\n",
    "pca = PCA(n_components=1)\n",
    "pca_result=pca.fit(x_test_encoded)\n",
    "\n",
    "print(\"Explained variance by first component\", pca.explained_variance_ratio_) "
   ]
  },
  {
   "cell_type": "markdown",
   "metadata": {
    "colab_type": "text",
    "id": "7ypfBOP05Tkv"
   },
   "source": [
    "We can plot the points along the eigenvector in the latent space (shown in cyan)."
   ]
  },
  {
   "cell_type": "code",
   "execution_count": 0,
   "metadata": {
    "colab": {},
    "colab_type": "code",
    "collapsed": true,
    "id": "zkNe0jzu5Tkv"
   },
   "outputs": [],
   "source": [
    "fig = plt.figure(figsize=(10,10))\n",
    "plt.pcolormesh(points_x,points_y, probs,cmap=shrunk_cmap,vmin=np.min(probs), vmax=offset_top)\n",
    "\n",
    "\n",
    "plt.colorbar() \n",
    "plt.scatter(x_train_encoded[:,0][::-1], x_train_encoded[:, 1][::-1],c=\"b\" ,alpha=0.05)\n",
    "plt.scatter(x_test_encoded[:, 0][::-1], x_test_encoded[:, 1][::-1],c=\"y\" ,alpha=0.3)\n",
    "\n",
    "\n",
    "start_l=-5\n",
    "end_l=5\n",
    "line_start=pca.inverse_transform(np.array([start_l]).reshape(1,-1))\n",
    "line_end=pca.inverse_transform(np.array([end_l]).reshape(1,-1))\n",
    "\n",
    "for i in np.arange(start_l,end_l,0.25):\n",
    "    \n",
    "    perturb=pca.inverse_transform(np.array([i]).reshape(1,-1))\n",
    "    perturbed=perturb\n",
    "    plt.scatter(perturbed[0][0],perturbed[0][1],c=\"c\",alpha=1,s=40)\n",
    "\n",
    "plt.plot([line_start[0][0],line_end[0][0]],[line_start[0][1],line_end[0][1]],c=\"c\")\n",
    "\n",
    "plt.scatter(wt_encoding[0][0],wt_encoding[0][1],c=\"red\",s=40)\n",
    "\n",
    "offset=8\n",
    "plt.xlim(wt_x-offset,wt_x+offset);\n",
    "plt.ylim(wt_y-offset,wt_y+offset);"
   ]
  },
  {
   "cell_type": "markdown",
   "metadata": {
    "colab_type": "text",
    "id": "i8DC-fi25Tky"
   },
   "source": [
    "If we move along that axis by a tiny amount and reconstruct the sequence, we will see what is being updated."
   ]
  },
  {
   "cell_type": "code",
   "execution_count": 0,
   "metadata": {
    "colab": {},
    "colab_type": "code",
    "collapsed": true,
    "id": "gBrOBm9w5Tkz"
   },
   "outputs": [],
   "source": [
    "perturb=pca.inverse_transform(np.array([0.01]).reshape(1,-1))\n",
    "\n",
    "x_decoded=generator.predict(perturb)\n",
    "\n",
    "digit_p = x_decoded.reshape(digit_size,sequence_size)\n",
    "digit_p = normalize(digit_p,axis=0, norm='l1')\n",
    "fig = plt.figure(figsize=(12,15))\n",
    "\n",
    "fig.add_subplot(311)\n",
    "plt.title(\"wild_type_reconstruction\")\n",
    "\n",
    "plt.pcolor(digit_wt,cmap=\"hot\")\n",
    "plt.colorbar()\n",
    "plt.xlim(0,82);\n",
    "plt.ylim(0,24);\n",
    "plt.ylabel(\"AA\")\n",
    "plt.yticks(range(24),ORDER_LIST)\n",
    "\n",
    "\n",
    "\n",
    "fig.add_subplot(312)\n",
    "plt.title(\"mutant_reconstruction\")\n",
    "plt.pcolor(digit_p,cmap=\"hot\")\n",
    "plt.colorbar()\n",
    "plt.xlim(0,82);\n",
    "plt.ylim(0,24);\n",
    "plt.ylabel(\"AA\")\n",
    "plt.yticks(range(24),ORDER_LIST)\n",
    "\n",
    "fig.add_subplot(313)\n",
    "\n",
    "plt.pcolor(-digit_wt+digit_p,cmap=\"bwr\",vmin=-0.05,vmax=0.05)\n",
    "plt.colorbar()\n",
    "plt.xlim(0,82);\n",
    "plt.ylim(0,24);\n",
    "plt.yticks(range(24),ORDER_LIST)\n",
    "\n",
    "plt.title(\"difference in distribution (mutant-wt): Notice that the scale is different\");"
   ]
  },
  {
   "cell_type": "markdown",
   "metadata": {
    "colab_type": "text",
    "id": "JOVbLWjt5Tk1"
   },
   "source": [
    "If you want to see how the walk along the axis changes the sequence, you can use the code below to generate a set of images (like the gif on the blog). "
   ]
  },
  {
   "cell_type": "code",
   "execution_count": 0,
   "metadata": {
    "colab": {},
    "colab_type": "code",
    "collapsed": true,
    "id": "jmB2PsNv5Tk1"
   },
   "outputs": [],
   "source": [
    "count=0\n",
    "\n",
    "start_l=-15\n",
    "end_l=15\n",
    "line_start=pca.inverse_transform(np.array([start_l]).reshape(1,-1))\n",
    "line_end=pca.inverse_transform(np.array([end_l]).reshape(1,-1))\n",
    "\n",
    "\n",
    "for i in np.arange(start_l,end_l,1):\n",
    "    perturb=pca.inverse_transform(np.array([i]).reshape(1,-1))\n",
    "\n",
    "    x_decoded=generator.predict(perturb)\n",
    "\n",
    "    digit_p = x_decoded.reshape(digit_size,sequence_size)\n",
    "    digit_p = normalize(digit_p,axis=0, norm='l1')\n",
    "    most_likely=most_likely_seq(digit_p,ORDER_LIST)\n",
    "    fig = plt.figure(figsize=(20,8))\n",
    "    fig.add_subplot(121)\n",
    "    plt.xlabel(\"wt preturbed by \"+str(i))\n",
    "    plt.title(most_likely)\n",
    "    plt.pcolor(digit_p,cmap=\"hot\");\n",
    "    plt.xlim(0,82);\n",
    "    plt.ylim(0,24);\n",
    "    plt.ylabel(\"AA\")\n",
    "    plt.yticks(range(24),ORDER_LIST)\n",
    "    plt.xticks(range(82),list(most_likely))\n",
    "    fig.add_subplot(122)\n",
    "    plt.pcolormesh(points_x,points_y, probs,cmap=shrunk_cmap,vmin=np.min(probs), vmax=offset_top)\n",
    "    plt.colorbar() \n",
    "    \n",
    "    perturbed=perturb\n",
    "\n",
    "    plt.scatter(x_train_encoded[:,0][::-1], x_train_encoded[:, 1][::-1],c=\"b\" ,alpha=0.05)\n",
    "    plt.scatter(x_test_encoded[:, 0][::-1], x_test_encoded[:, 1][::-1],c=\"g\" ,alpha=0.25,s=25)\n",
    "    plt.plot([line_start[0][0],line_end[0][0]],[line_start[0][1],line_end[0][1]],\"--\",c=\"c\",linewidth=2,alpha=0.4)\n",
    "\n",
    "    plt.scatter(wt_encoding[0][0],wt_encoding[0][1],c=\"r\",s=40)\n",
    "    plt.scatter(perturbed[0][0],perturbed[0][1],c=\"c\",s=60,alpha=1)\n",
    "\n",
    "\n",
    "\n",
    "    offset=15\n",
    "    plt.xlim(wt_x-offset,wt_x+offset);\n",
    "    plt.ylim(wt_y-offset,wt_y+offset);\n",
    "    plt.savefig(\"exploration/\"+str(count)+\".png\");\n",
    "    count+=1"
   ]
  },
  {
   "cell_type": "markdown",
   "metadata": {
    "colab_type": "text",
    "id": "mrc147xo5Tk4"
   },
   "source": [
    "Another approach to study the effects of particular mutations in the latent space is to actually annotate the location that each mutation occupies (on average) within the latent space. Below, I have mutated the same \"G\" amino acid into all of its variants in 3 different positions on the sequence (27,40,44, on the aligned columns). Then I plot the location of those mutations."
   ]
  },
  {
   "cell_type": "code",
   "execution_count": 0,
   "metadata": {
    "colab": {},
    "colab_type": "code",
    "collapsed": true,
    "id": "yQrPgybS5Tk4"
   },
   "outputs": [],
   "source": [
    "g_indices=[27,40, 44]#g\n",
    "#k_indices=[33,41, 43] #k\n",
    "#s_indices=[31,32,42] #s\n",
    "single_mutants_g=[]\n",
    "ref_seq=data.iloc[0][\"seq\"]\n",
    "for ind in g_indices:\n",
    "    for aa in ORDER_LIST:\n",
    "        new_sequence=ref_seq[:ind]+aa+ref_seq[ind+1:]\n",
    "        single_mutants_g.append(new_sequence)\n",
    "        \n",
    "one_hot_single_mutants_g=[]  \n",
    "\n",
    "for mutant in single_mutants_g:\n",
    "    one_hot_single_mutants_g.append(translate_string_to_one_hot(mutant,ORDER_LIST))\n",
    "\n",
    "single_mutants_g_OH=np.array([np.array(list(sample.flatten())).T for sample in one_hot_single_mutants_g])\n",
    "single_mutants_g_padded=np.vstack([single_mutants_g_OH,single_mutants_g_OH[:8]]) #padding so I can feed all of it to "
   ]
  },
  {
   "cell_type": "code",
   "execution_count": 0,
   "metadata": {
    "colab": {},
    "colab_type": "code",
    "collapsed": true,
    "id": "n9ciduyF5Tk7"
   },
   "outputs": [],
   "source": [
    "mutant_g_encoded = encoder.predict(single_mutants_g_padded, batch_size=batch_size)\n",
    "mutant_g_encoded=mutant_g_encoded[:72]\n",
    "fig, ax = plt.subplots(figsize=(9,9))\n",
    "ax.scatter(x_train_encoded[0][0], x_train_encoded[0][1],c=\"r\" ,alpha=1,s=40,marker=\"s\",label=\"wt\")\n",
    "ax.scatter(mutant_g_encoded[:,0][:24], mutant_g_encoded[:, 1][:24],c=\"b\" ,alpha=0,label=\"pos 27\")\n",
    "\n",
    "for i, txt in enumerate(ORDER_LIST):\n",
    "    ax.annotate(txt, (mutant_g_encoded[:,0][i],mutant_g_encoded[:,1][i]),color=\"b\",size=\"large\")\n",
    "    \n",
    "ax.scatter(mutant_g_encoded[:,0][24:48], mutant_g_encoded[:, 1][24:48],c=\"g\" ,alpha=0,label=\"pos 40\")\n",
    "\n",
    "for i, txt in enumerate(ORDER_LIST):\n",
    "    ax.annotate(txt, (mutant_g_encoded[:,0][i+24],mutant_g_encoded[:,1][i+24]),color=\"g\",size=\"large\")\n",
    "    \n",
    "ax.scatter(mutant_g_encoded[:,0][48:], mutant_g_encoded[:, 1][48:],c=\"g\" ,alpha=0,label=\"pos 44\")\n",
    "\n",
    "for i, txt in enumerate(ORDER_LIST):\n",
    "    ax.annotate(txt, (mutant_g_encoded[:,0][i+48],mutant_g_encoded[:,1][i+48]),color=\"r\",size=\"large\")\n",
    "    \n",
    "plt.title(\"position 27 blue, postition 40 green, position 44 red, wt red square\")\n",
    "plt.xlabel(\"Latent dim 1\")\n",
    "plt.ylabel(\"Latent dim 2\");\n",
    "offset=0.5\n",
    "plt.xlim(wt_x-offset,wt_x+offset);\n",
    "plt.ylim(wt_y-offset,wt_y+offset);"
   ]
  },
  {
   "cell_type": "markdown",
   "metadata": {
    "colab_type": "text",
    "id": "_Cr67yIx5Tk9"
   },
   "source": [
    "While there is some clustering of amino acids based on similarity and position, this trend is not consistent depending on the amino-acid/mutation and position of choice. We can also project the measured fitness onto the latent space. "
   ]
  },
  {
   "cell_type": "code",
   "execution_count": 0,
   "metadata": {
    "colab": {},
    "colab_type": "code",
    "collapsed": true,
    "id": "6KxMRS1E5Tk9"
   },
   "outputs": [],
   "source": [
    "fig = plt.figure(figsize=(12,8))\n",
    "import matplotlib.cm as cm\n",
    "from matplotlib import colors\n",
    "\n",
    "norm = colors.Normalize(vmin=min(target_values_doubles), vmax=1)\n",
    "cmap_v = cm.hot\n",
    "m = cm.ScalarMappable(norm=norm, cmap=cmap_v)\n",
    "\n",
    "plt.scatter(x_test_encoded[:, 0][1180:], x_test_encoded[:, 1][1180:],c=list(map(m.to_rgba,target_values_doubles[:len(x_test_encoded[:, 1][1180:])])) ,alpha=0.3,label=\"double_mut\")\n",
    "plt.scatter(x_test_encoded[:, 0][1:1180], x_test_encoded[:, 1][1:1180],c=list(map(m.to_rgba,target_values_singles[1:1180])) ,alpha=0.3,label=\"single_mut\")\n",
    "plt.scatter(x_train_encoded[0][0], x_train_encoded[0][1],c=\"w\" ,alpha=1,s=40,marker=\"s\",label=\"wt\")\n",
    "\n",
    "wt_x=wt_encoding[0][0]\n",
    "wt_y=wt_encoding[0][1]\n",
    "offset=2\n",
    "plt.xlim(wt_x-offset,wt_x+offset);\n",
    "plt.ylim(wt_y-offset,wt_y+offset);\n",
    "\n",
    "plt.legend();\n",
    "plt.xlabel(\"latent dim 1\")\n",
    "plt.ylabel(\"latent dim 2\");"
   ]
  },
  {
   "cell_type": "markdown",
   "metadata": {
    "colab_type": "text",
    "id": "6HEw19PB5Tk-"
   },
   "source": [
    "There are no obvious trends in the latent space that would correspond to fitness values. "
   ]
  },
  {
   "cell_type": "markdown",
   "metadata": {
    "colab_type": "text",
    "id": "cJr1ybE85Tk_"
   },
   "source": [
    "<a id='P_compute'></a>\n",
    "\n",
    "\n",
    "## 4. Predicting fitness based on sequence probability\n",
    "\n",
    "We compute the (log) probability of a sequence as:\n",
    "$$ \\log(trace(H^T P)) $$\n",
    "\n",
    "Where $H$ is the one-hot encoding of the sequence of interest, and $P$ is the probability weight matrix generated by feeding the network a sequence. Taking the trace of the matrix product is similar to the dot product of two vectors. We compute the fitness in three highly correlated ways (although depending on the dataset, these correlations change). The difference in these approaches is in how to compute $P$. \n",
    "\n",
    "(1)$P$ is the reconstruction of the same sequence that $H$ represents. (we call this prediction or \"fitness\" in the code)\n",
    "\n",
    "(2) $P$ is the reconstruction of the wildtype sequence.  (we call this prediction_wt or \"fitness_wt\" in the code)\n",
    "\n",
    "(3) $P$ is an average reconstruction of 100 samples of mutants. (we call this prediction_avg or \"fitness_avg\" in the code)"
   ]
  },
  {
   "cell_type": "markdown",
   "metadata": {
    "colab_type": "text",
    "id": "UQnhWqe15Tk_"
   },
   "source": [
    "### 4.1. Single mutants\n",
    "\n",
    "We can now use the trained network to predict the fitnesses. The first step is to compute the fitnesses for all single mutant sequences (and compare it to the wildtype). "
   ]
  },
  {
   "cell_type": "code",
   "execution_count": 0,
   "metadata": {
    "colab": {},
    "colab_type": "code",
    "collapsed": true,
    "id": "E0CCNMSz5Tk_"
   },
   "outputs": [],
   "source": [
    "sample_size=batch_size*int(len(test_data_plus)/batch_size)\n",
    "sample_for_averging_size=100\n",
    "sequence_size=PRUNED_SEQ_LENGTH\n",
    "digit_size = len(ORDER_LIST)\n",
    "x_decoded=vae.predict(test_data_plus[0:sample_size],batch_size=batch_size)\n",
    "\n",
    "digit = x_decoded[0].reshape(digit_size,sequence_size)\n",
    "digit_wt = normalize(digit,axis=0, norm='l1')\n",
    "wt_prob=compute_log_probability(test_data_plus[0].reshape(digit_size,sequence_size),digit_wt)\n",
    "#print (\"wt_log_prob: \", wt_prob)\n",
    "\n",
    "wt_probs=[]\n",
    "digit_avg=np.zeros((digit_size,sequence_size))\n",
    "\n",
    "\n",
    "sample_indices=random.sample(range(sample_size),sample_for_averging_size)\n",
    "\n",
    "counter=0\n",
    "for sample in sample_indices:\n",
    "    digit = x_decoded[sample].reshape(digit_size,sequence_size)\n",
    "    digit_wt_i = normalize(digit,axis=0, norm='l1')\n",
    "    \n",
    "    digit_avg+=digit_wt_i*1./sample_for_averging_size\n",
    "    wt_p=compute_log_probability(test_data_plus[sample].reshape(digit_size,sequence_size),digit_wt_i)\n",
    "    wt_probs.append(wt_p)\n",
    "    counter+=1\n",
    "average_wt_p=np.mean(wt_probs)\n",
    "\n",
    "fitnesses_vs_wt=[]\n",
    "fitnesses=[]\n",
    "fitnesses_vs_avg=[]\n",
    "\n",
    "for sample in range(1,sample_size):\n",
    "    digit = x_decoded[sample].reshape(digit_size,sequence_size)\n",
    "    digit = normalize(digit,axis=0, norm='l1')\n",
    "    fitness=compute_log_probability(test_data_plus[sample].reshape(digit_size,sequence_size),digit)-wt_prob\n",
    "    fitnesses.append(fitness)\n",
    "    \n",
    "    fitness=compute_log_probability(test_data_plus[sample].reshape(digit_size,sequence_size),digit_wt)-wt_prob\n",
    "    fitnesses_vs_wt.append(fitness)\n",
    "    \n",
    "    fitness=compute_log_probability(test_data_plus[sample].reshape(digit_size,sequence_size),digit_avg)-average_wt_p\n",
    "    fitnesses_vs_avg.append(fitness)\n",
    "    \n",
    "    \n",
    "print (\"Spearman\",spearmanr(fitnesses,target_values_singles[:sample_size-1]))\n",
    "print (\"Pearson\", pearsonr(fitnesses,target_values_singles[:sample_size-1]))"
   ]
  },
  {
   "cell_type": "markdown",
   "metadata": {
    "colab_type": "text",
    "id": "dvM51hKN5TlF"
   },
   "source": [
    "As a first step, we draw the distribution of the normalized predicted fitnesses vs. the experimental data. We care about the relative distributions, rather than the exact values, so we can renormalize the predictions to roughly fall in the range of the data."
   ]
  },
  {
   "cell_type": "code",
   "execution_count": 0,
   "metadata": {
    "colab": {},
    "colab_type": "code",
    "collapsed": true,
    "id": "uIis60D55TlF"
   },
   "outputs": [],
   "source": [
    "predictions=np.array(list(map(lambda x: x*1./(4*(max (fitnesses))),fitnesses))) #arbitrary renormalization\n",
    "indip=list(map(lambda x: x*1./max (exp_data_singles[\"effect_prediction_independent\"]),exp_data_singles[\"effect_prediction_independent\"]))\n",
    "epis=list(map(lambda x: x*1./max (exp_data_singles[\"effect_prediction_epistatic\"]),exp_data_singles[\"effect_prediction_epistatic\"]))"
   ]
  },
  {
   "cell_type": "code",
   "execution_count": 0,
   "metadata": {
    "colab": {},
    "colab_type": "code",
    "collapsed": true,
    "id": "nS8PS8IG5TlH"
   },
   "outputs": [],
   "source": [
    "plt.hist(predictions[predictions > -1E10],alpha=0.7,label=\"predicted fitness\"); #filter out -inf\n",
    "plt.hist(np.array(target_values_singles)-1,alpha=0.5,label=\"experimental fitness\");\n",
    "plt.xlabel(\"relative fitness\");\n",
    "plt.ylabel(\"count\")\n",
    "plt.legend();"
   ]
  },
  {
   "cell_type": "code",
   "execution_count": 0,
   "metadata": {
    "colab": {},
    "colab_type": "code",
    "collapsed": true,
    "id": "0cMbA9zS5TlJ"
   },
   "outputs": [],
   "source": [
    "len(predictions),len(target_values_singles)"
   ]
  },
  {
   "cell_type": "markdown",
   "metadata": {
    "colab_type": "text",
    "id": "dpDRTG-q5TlL"
   },
   "source": [
    "Note that the mismatch in lenght is due to batch size partitioning of the data (this can be fixed, but doesn't change much about the results). We can also explicitly look at how these values change together along all possible mutations. To visualize the predictions vs the real data, we use a [smoothing function](http://scipy.github.io/old-wiki/pages/Cookbook/SavitzkyGolay) to be able to visually relate the fitness ascribed to many variants, with those that the network predicted.  "
   ]
  },
  {
   "cell_type": "code",
   "execution_count": 0,
   "metadata": {
    "colab": {},
    "colab_type": "code",
    "collapsed": true,
    "id": "XxqhRavV5TlM"
   },
   "outputs": [],
   "source": [
    "fig, ax = plt.subplots(num=None, figsize=(18,4), dpi=90)\n",
    "window=9\n",
    "poly=3\n",
    "plt.step(range(len(target_values_singles)),savitzky_golay(list(target_values_singles),window,poly),label=\"experiment\")\n",
    "plt.step(range(len(predictions)),savitzky_golay(predictions,window,poly),linewidth=2,alpha=0.6,label=\"predictions\")\n",
    "plt.legend();\n",
    "plt.xlabel(\"mutations\")\n",
    "plt.ylabel(\"fitness\");"
   ]
  },
  {
   "cell_type": "markdown",
   "metadata": {
    "colab_type": "text",
    "id": "lH6J3j0Z5TlN"
   },
   "source": [
    "To remove the information that is purely due to column entropy, we subtract it from our prediction values and compare it to the epistatic predictions from Hopf paper. "
   ]
  },
  {
   "cell_type": "code",
   "execution_count": 0,
   "metadata": {
    "colab": {},
    "colab_type": "code",
    "collapsed": true,
    "id": "D8M1iTJW5TlN"
   },
   "outputs": [],
   "source": [
    "fig, ax = plt.subplots(num=None, figsize=(18,4), dpi=90)\n",
    "plt.step(range(len(predictions)),savitzky_golay(([a-b for a,b in zip(predictions,indip)]),window,poly))\n",
    "plt.step(range(len(epis)),savitzky_golay(([a-b for a,b in zip(epis,indip)]),window,poly))\n",
    "plt.xlabel(\"mutations\")\n",
    "plt.ylabel(\"fitness\");"
   ]
  },
  {
   "cell_type": "markdown",
   "metadata": {
    "colab_type": "text",
    "id": "ibn6pB3F5TlP"
   },
   "source": [
    "Finally, we can plot the predictions across the entire mutation landscape and compare it with the two other prediction methods (column entropy and second-order epistasis). "
   ]
  },
  {
   "cell_type": "code",
   "execution_count": 0,
   "metadata": {
    "colab": {},
    "colab_type": "code",
    "collapsed": true,
    "id": "Rq32v0CZ5TlP"
   },
   "outputs": [],
   "source": [
    "len_seq=batch_size*int(len(test_data_plus)/batch_size)\n",
    "compare_on=False\n",
    "\n",
    "\n",
    "fig, ax = plt.subplots(num=4, figsize=(18,8), dpi=90)#, facecolor='w', edgecolor='k'),\n",
    "plt.subplot(311)\n",
    "plt.xlim(0,len_seq*1./3)\n",
    "plt.step(range(int(len_seq*1./3)),savitzky_golay(list(target_values_singles[:int(len_seq*1./3)]),window,poly),label=\"experimental $\\Delta f$ measurement\")\n",
    "plt.step(range(int(len_seq*1./3)),savitzky_golay(predictions[:int(len_seq*1./3)],window,poly), label=\"predicted $\\Delta f$\")\n",
    "if compare_on: \n",
    "    plt.plot(range(int(len_seq*1./3)),savitzky_golay(indip[:int(len_seq*1./3)],window,poly))\n",
    "    plt.plot(range(int(len_seq*1./3)),savitzky_golay(epis[:int(len_seq*1./3)],window,poly))\n",
    "\n",
    "\n",
    "plt.legend(bbox_to_anchor=(0.58,1.05))\n",
    "plt.ylabel(\"$\\Delta$ fitness\")\n",
    "\n",
    "plt.subplot(312)\n",
    "plt.xlim(len_seq*1./3,len_seq*2./3)\n",
    "plt.step(range(int(len_seq*1./3),int(len_seq*2./3)),savitzky_golay(list(target_values_singles[int(len_seq*1./3):int(len_seq*2./3)]),window,poly))\n",
    "plt.step(range(int(len_seq*1./3),int(len_seq*2./3)),savitzky_golay(predictions[int(len_seq*1./3):int(len_seq*2./3)],window,poly),linewidth=2)\n",
    "plt.ylabel(\"$\\Delta$ fitness\")\n",
    "if compare_on: \n",
    "    plt.plot(range(int(len_seq*1./3),int(len_seq*2./3)),savitzky_golay(indip[int(len_seq*1./3):int(len_seq*2./3)],window,poly))\n",
    "    plt.plot(range(int(len_seq*1./3),int(len_seq*2./3)),savitzky_golay(epis[int(len_seq*1./3):int(len_seq*2./3)],window,poly))\n",
    "\n",
    "plt.subplot(313)\n",
    "plt.xlim(len_seq*2./3,len_seq)\n",
    "plt.step(range(int(len_seq*2./3),len_seq),savitzky_golay(list(target_values_singles[int(len_seq*2./3):len_seq]),window,poly))\n",
    "plt.step(range(int(len_seq*2./3),len_seq-1),savitzky_golay(predictions[int(len_seq*2./3):len_seq],window,poly),linewidth=2)\n",
    "\n",
    "if compare_on: \n",
    "    plt.plot(range(int(len_seq*2./3),len_seq),savitzky_golay(indip[int(len_seq*2./3):len_seq],window,poly))\n",
    "    plt.plot(range(int(len_seq*2./3),len_seq),savitzky_golay(epis[int(len_seq*2./3):len_seq],window,poly))\n",
    "\n",
    "plt.ylabel(\"$\\Delta$ fitness\")\n",
    "plt.xlabel(\"Position\");"
   ]
  },
  {
   "cell_type": "markdown",
   "metadata": {
    "colab_type": "text",
    "collapsed": true,
    "id": "L-Yr4s_x5TlR"
   },
   "source": [
    "We can also visualize the prediction vs. fitness data differently. The red line represents perfect correlation, the blue distribution is the actual comparison. "
   ]
  },
  {
   "cell_type": "code",
   "execution_count": 0,
   "metadata": {
    "colab": {},
    "colab_type": "code",
    "collapsed": true,
    "id": "PVGQHGzE5TlR"
   },
   "outputs": [],
   "source": [
    "from sklearn.metrics.cluster import normalized_mutual_info_score\n",
    "fig = plt.figure(figsize=(8,5))\n",
    "\n",
    "x1=predictions\n",
    "\n",
    "y1=target_values_singles[:len(predictions)]\n",
    "\n",
    "plt.scatter(x1,y1,alpha=0.2)\n",
    "plt.plot(sorted(x1),sorted(y1),\"r\",linewidth=4,alpha=0.9)\n",
    "plt.title(str(spearmanr(x1,y1)))\n",
    "plt.xlabel(\"prediction\")\n",
    "plt.ylabel(\"experiment\")\n",
    "print(\"Mutual info:\", normalized_mutual_info_score(x1,y1))"
   ]
  },
  {
   "cell_type": "markdown",
   "metadata": {
    "colab_type": "text",
    "id": "Cz7FOq__5TlT"
   },
   "source": [
    "He is a summary of the results in a table. "
   ]
  },
  {
   "cell_type": "code",
   "execution_count": 0,
   "metadata": {
    "colab": {},
    "colab_type": "code",
    "collapsed": true,
    "id": "ehss1PNX5TlT"
   },
   "outputs": [],
   "source": [
    "size=len(predictions)\n",
    "fitness_data=pd.DataFrame(columns=[\"lin\",\"log\",\"pred_wt\",\"pred\",\"pred_avg\"])\n",
    "\n",
    "fitness_data[\"experimental\"]=exp_data_singles[\"linear\"][:size]\n",
    "fitness_data[\"effect_prediction_epistatic\"]=exp_data_singles[\"effect_prediction_epistatic\"][:size]\n",
    "fitness_data[\"effect_prediction_independent\"]=exp_data_singles['effect_prediction_independent'][:size]\n",
    "\n",
    "fitness_data[\"prediction\"]=fitnesses\n",
    "fitness_data[\"prediction_wt\"]=fitnesses_vs_wt\n",
    "fitness_data[\"prediction_avg\"]=fitnesses_vs_avg\n",
    "\n",
    "corr_pred_singles=fitness_data.corr(method=\"spearman\")\n",
    "print(\"spearman rho correlations\")\n",
    "corr_pred_singles[[\"experimental\"]]"
   ]
  },
  {
   "cell_type": "markdown",
   "metadata": {
    "colab_type": "text",
    "id": "Uxm3ICVm5TlU"
   },
   "source": [
    "### 4.2. Double mutants\n",
    "We repeat the same analysis for double mutants. "
   ]
  },
  {
   "cell_type": "code",
   "execution_count": 0,
   "metadata": {
    "colab": {},
    "colab_type": "code",
    "collapsed": true,
    "id": "kzw8fOPV5TlV"
   },
   "outputs": [],
   "source": [
    "x_decoded=vae.predict(test_data_doubles_plus[0:sample_size],batch_size=batch_size)\n",
    "digit_wt = x_decoded[0].reshape(digit_size,sequence_size)\n",
    "digit_wt = normalize(digit_wt,axis=0, norm='l1')\n",
    "\n",
    "mut_sample=100\n",
    "\n",
    "digit_p= x_decoded[mut_sample].reshape(digit_size,sequence_size)\n",
    "digit_p = normalize(digit_p,axis=0, norm='l1')"
   ]
  },
  {
   "cell_type": "code",
   "execution_count": 0,
   "metadata": {
    "colab": {},
    "colab_type": "code",
    "collapsed": true,
    "id": "UW2xqAXA5TlX"
   },
   "outputs": [],
   "source": [
    "fig = plt.figure(figsize=(12,18))\n",
    "\n",
    "fig.add_subplot(412)\n",
    "\n",
    "plt.pcolor(digit_wt,cmap=\"hot\",vmin=0,vmax=1)\n",
    "plt.colorbar()\n",
    "\n",
    "plt.xlim(0,82);\n",
    "plt.ylim(0,24);\n",
    "plt.yticks(range(24),ORDER_LIST)\n",
    "plt.title(\"wild_type_reconstruction\")\n",
    "\n",
    "fig.add_subplot(413)\n",
    "\n",
    "plt.pcolor(digit_p,cmap=\"hot\",vmin=0,vmax=1)\n",
    "plt.colorbar()\n",
    "\n",
    "plt.xlim(0,82);\n",
    "plt.ylim(0,24);\n",
    "plt.yticks(range(24),ORDER_LIST)\n",
    "plt.title(\"mutant_reconstruction\")\n",
    "\n",
    "fig.add_subplot(411)\n",
    "\n",
    "plt.pcolor(abs(test_data_doubles_plus[0].reshape(digit_size,sequence_size)+(test_data_doubles_plus[mut_sample].reshape(digit_size,sequence_size))*2),cmap=\"hot\",vmin=0,vmax=3)\n",
    "plt.xlim(0,82);\n",
    "plt.ylim(0,24);\n",
    "plt.yticks(range(24),ORDER_LIST)\n",
    "\n",
    "plt.title(\"One hot encoding of sequences (wt(red), mut(yellow))\")\n",
    "\n",
    "fig.add_subplot(414)\n",
    "\n",
    "plt.pcolor(-digit_wt+digit_p,cmap=\"bwr\",vmin=-0.05,vmax=0.05)\n",
    "plt.colorbar()\n",
    "plt.xlim(0,82);\n",
    "plt.ylim(0,24);\n",
    "plt.yticks(range(24),ORDER_LIST)\n",
    "\n",
    "plt.title(\"difference in distribution (mutant-wt): Notice that the scale is different\");"
   ]
  },
  {
   "cell_type": "code",
   "execution_count": 0,
   "metadata": {
    "colab": {},
    "colab_type": "code",
    "collapsed": true,
    "id": "b6lf8BzC5TlY"
   },
   "outputs": [],
   "source": [
    "sample_size=batch_size*int(len(test_data_doubles_plus)/batch_size)\n",
    "sample_for_averging_size=100\n",
    "sequence_size=PRUNED_SEQ_LENGTH\n",
    "digit_size = len(ORDER_LIST)\n",
    "x_decoded=vae.predict(test_data_doubles_plus[0:sample_size],batch_size=batch_size)\n",
    "\n",
    "digit = x_decoded[0].reshape(digit_size,sequence_size)\n",
    "digit_wt = normalize(digit,axis=0, norm='l1')\n",
    "wt_prob=compute_log_probability(test_data_doubles_plus[0].reshape(digit_size,sequence_size),digit_wt)\n",
    "print (\"wt_log_prob: \", wt_prob)\n",
    "\n",
    "wt_probs=[]\n",
    "digit_avg=np.zeros((digit_size,sequence_size))\n",
    "\n",
    "\n",
    "sample_indices=random.sample(range(sample_size),sample_for_averging_size)\n",
    "\n",
    "counter=0\n",
    "for sample in sample_indices:\n",
    "    digit = x_decoded[sample].reshape(digit_size,sequence_size)\n",
    "    digit_wt_i = normalize(digit,axis=0, norm='l1')\n",
    "    \n",
    "    digit_avg+=digit_wt_i*1./sample_for_averging_size\n",
    "    wt_p=compute_log_probability(test_data_doubles_plus[sample].reshape(digit_size,sequence_size),digit_wt_i)\n",
    "    wt_probs.append(wt_p)\n",
    "    counter+=1\n",
    "average_wt_p=np.mean(wt_probs)\n",
    "\n",
    "fitnesses_vs_wt=[]\n",
    "fitnesses=[]\n",
    "fitnesses_vs_avg=[]\n",
    "\n",
    "for sample in range(1,sample_size):\n",
    "    digit = x_decoded[sample].reshape(digit_size,sequence_size)\n",
    "    digit = normalize(digit,axis=0, norm='l1')\n",
    "    fitness=compute_log_probability(test_data_doubles_plus[sample].reshape(digit_size,sequence_size),digit)-wt_prob\n",
    "    fitnesses.append(fitness)\n",
    "    \n",
    "    fitness=compute_log_probability(test_data_doubles_plus[sample].reshape(digit_size,sequence_size),digit_wt)-wt_prob\n",
    "    fitnesses_vs_wt.append(fitness)\n",
    "    \n",
    "    fitness=compute_log_probability(test_data_doubles_plus[sample].reshape(digit_size,sequence_size),digit_avg)-average_wt_p\n",
    "    fitnesses_vs_avg.append(fitness)"
   ]
  },
  {
   "cell_type": "code",
   "execution_count": 0,
   "metadata": {
    "colab": {},
    "colab_type": "code",
    "collapsed": true,
    "id": "Y_9MVUM35Tla"
   },
   "outputs": [],
   "source": [
    "predictions=np.array(list(map(lambda x: x*1./(4*max (fitnesses)),fitnesses))) #arbitrary renormalization\n",
    "indip=list(map(lambda x: x*1./max (exp_data_singles[\"effect_prediction_independent\"]),exp_data_singles[\"effect_prediction_independent\"]))\n",
    "epis=list(map(lambda x: x*1./max (exp_data_singles[\"effect_prediction_epistatic\"]),exp_data_singles[\"effect_prediction_epistatic\"]))\n",
    "plt.hist(predictions[predictions > -1E10],alpha=0.7,label=\"predicted fitness\"); #filter out -inf\n",
    "plt.hist(np.array(target_values_doubles)-1,alpha=0.5,label=\"experimental fitness\");\n",
    "plt.xlabel(\"relative fitness\");\n",
    "plt.ylabel(\"count\")\n",
    "plt.legend();"
   ]
  },
  {
   "cell_type": "code",
   "execution_count": 0,
   "metadata": {
    "colab": {},
    "colab_type": "code",
    "collapsed": true,
    "id": "idA7e0LV5Tlc"
   },
   "outputs": [],
   "source": [
    "fig = plt.figure(figsize=(8,5))\n",
    "\n",
    "x1=predictions\n",
    "y1=target_values_doubles[:len(predictions)]\n",
    "\n",
    "plt.scatter(x1,y1,alpha=0.1)\n",
    "plt.plot(sorted(x1),sorted(y1),\"r\",linewidth=4,alpha=0.9)\n",
    "plt.title(str(spearmanr(x1,y1)))\n",
    "plt.xlabel(\"prediction\")\n",
    "plt.ylabel(\"experiment\")\n",
    "print(\"Mutual info:\", normalized_mutual_info_score(x1,y1))"
   ]
  },
  {
   "cell_type": "code",
   "execution_count": 0,
   "metadata": {
    "colab": {},
    "colab_type": "code",
    "collapsed": true,
    "id": "vfTm7lYJ5Tld"
   },
   "outputs": [],
   "source": [
    "size=len(predictions)\n",
    "fitness_data=pd.DataFrame(columns=[\"lin\",\"log\",\"pred_wt\",\"pred\",\"pred_avg\"])\n",
    "\n",
    "fitness_data[\"experimental\"]=exp_data_doubles[\"XY_Enrichment_score\"][:size]\n",
    "fitness_data[\"effect_prediction_epistatic\"]=exp_data_doubles[\"effect_prediction_epistatic\"][:size]\n",
    "fitness_data[\"effect_prediction_independent\"]=exp_data_doubles['effect_prediction_independent'][:size]\n",
    "\n",
    "fitness_data[\"prediction\"]=fitnesses\n",
    "fitness_data[\"prediction_wt\"]=fitnesses_vs_wt\n",
    "fitness_data[\"prediction_avg\"]=fitnesses_vs_avg\n",
    "\n",
    "corr_pred_doubles=fitness_data.corr(method=\"spearman\")\n",
    "corr_pred_doubles[[\"experimental\"]]"
   ]
  },
  {
   "cell_type": "markdown",
   "metadata": {
    "colab_type": "text",
    "id": "SyuQ-3qH5Tle"
   },
   "source": [
    "## Other datasets\n",
    "\n",
    "We chose this dataset for demonstration because there was the possiblitiy of testing the model on both the single and double mutants. This also happens to be the dataset that our model performs best compared to the epistatic model. We summarize the results from some other datasets in compiled by the Hopf et al. paper below.  \n",
    "\n",
    "**Important remark**: Note in the original version of this experiment we also ran this network on one viral dataset. However the size of the viral DNA (535), and diversity presented (requiring different re-weighting), relative to the size of this network made the training difficult to run to convergence. Hence we could not present the performance with the same confidence as the other datasets we tested our model on. Notably, in the viral case, the network did not perform better than the independent model. "
   ]
  },
  {
   "cell_type": "code",
   "execution_count": 0,
   "metadata": {
    "colab": {},
    "colab_type": "code",
    "collapsed": true,
    "id": "7Fs1F-w-5Tlf"
   },
   "outputs": [],
   "source": [
    "import seaborn as sns"
   ]
  },
  {
   "cell_type": "code",
   "execution_count": 0,
   "metadata": {
    "colab": {},
    "colab_type": "code",
    "collapsed": true,
    "id": "2x1EPWA25Tlg"
   },
   "outputs": [],
   "source": [
    "meta_data=pd.DataFrame.from_csv(\"other_datasets.csv\")"
   ]
  },
  {
   "cell_type": "code",
   "execution_count": 0,
   "metadata": {
    "colab": {},
    "colab_type": "code",
    "collapsed": true,
    "id": "tJN5Or0V5Tlh"
   },
   "outputs": [],
   "source": [
    "meta_data.head()"
   ]
  },
  {
   "cell_type": "code",
   "execution_count": 0,
   "metadata": {
    "colab": {},
    "colab_type": "code",
    "collapsed": true,
    "id": "cr3ORqdz5Tli"
   },
   "outputs": [],
   "source": [
    "meta_data[\"ratio\"]=meta_data[\"training_data_size(used)\"]*1./meta_data[\"alignment_length\"]\n",
    "meta_data[\"diff_eps\"]=meta_data[\"prediction_avg\"]/meta_data[\"effect_prediction_epistasis\"]\n",
    "meta_data[\"diff_ind\"]=meta_data[\"prediction_avg\"]/meta_data[\"effect_prediction_independent\"]"
   ]
  },
  {
   "cell_type": "code",
   "execution_count": 0,
   "metadata": {
    "colab": {},
    "colab_type": "code",
    "collapsed": true,
    "id": "B4Q-BB1h5Tlj"
   },
   "outputs": [],
   "source": [
    "meta_data=meta_data.sort_values(by=[\"prediction_avg\"])\n",
    "meta_data=meta_data.reset_index()\n",
    "del meta_data[\"index\"]\n",
    "meta_data"
   ]
  },
  {
   "cell_type": "code",
   "execution_count": 0,
   "metadata": {
    "colab": {},
    "colab_type": "code",
    "collapsed": true,
    "id": "Ipo4pqm45Tlo"
   },
   "outputs": [],
   "source": [
    "sns.jointplot(x=\"training_data_size(used)\",y=\"diff_eps\",data=meta_data,kind=\"reg\")"
   ]
  },
  {
   "cell_type": "code",
   "execution_count": 0,
   "metadata": {
    "colab": {},
    "colab_type": "code",
    "collapsed": true,
    "id": "u9m1JaN95Tlr"
   },
   "outputs": [],
   "source": [
    "#fig = plt.figure()\n",
    "fig, ax = plt.subplots(figsize=(8,5))\n",
    "\n",
    "plt.plot(meta_data[\"prediction_avg\"],\"rx-\",label=\"prediction\",linewidth=2)\n",
    "#plt.plot(meta_data[\"prediction\"],\"r-\",label=\"prediction\")\n",
    "#plt.plot(meta_data[\"prediction_wt\"],\"r--\",label=\"prediction_wt\")\n",
    "plt.plot(meta_data[\"effect_prediction_epistasis\"],\"bx--\",label=\"epistatic model Hopf et al.\",linewidth=2)\n",
    "plt.plot(meta_data[\"effect_prediction_independent\"],\"bx:\",label=\"Independent model\",linewidth=2)\n",
    "ax.set_xticks(range(len(meta_data)))\n",
    "ax.set_xticklabels(meta_data.dataset,rotation=45)\n",
    "plt.xlabel(\"dataset\")\n",
    "plt.ylabel(\"Spearman rho\")\n",
    "plt.legend(bbox_to_anchor=(1.5,.75));"
   ]
  },
  {
   "cell_type": "code",
   "execution_count": 0,
   "metadata": {
    "colab": {},
    "colab_type": "code",
    "collapsed": true,
    "id": "Kv9yjZ5o5Tlt"
   },
   "outputs": [],
   "source": []
  }
 ],
 "metadata": {
  "accelerator": "GPU",
  "colab": {
   "collapsed_sections": [
    "zGZieRrf5TkP",
    "cJr1ybE85Tk_",
    "UQnhWqe15Tk_",
    "Uxm3ICVm5TlU",
    "SyuQ-3qH5Tle"
   ],
   "name": "VAE_for_protein_function_prediction-TORCH.ipynb",
   "provenance": [],
   "version": "0.3.2"
  },
  "kernelspec": {
   "display_name": "Python 3",
   "language": "python",
   "name": "python3"
  },
  "language_info": {
   "codemirror_mode": {
    "name": "ipython",
    "version": 3
   },
   "file_extension": ".py",
   "mimetype": "text/x-python",
   "name": "python",
   "nbconvert_exporter": "python",
   "pygments_lexer": "ipython3",
   "version": "3.5.3"
  }
 },
 "nbformat": 4,
 "nbformat_minor": 1
}
