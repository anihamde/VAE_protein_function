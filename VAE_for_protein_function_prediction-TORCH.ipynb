{
 "cells": [
  {
   "cell_type": "markdown",
   "metadata": {},
   "source": [
    "### Using a Variational Auto-encoder to predict protein fitness from evolutionary data\n",
    "\n",
    "July 20, 2017\n",
    "### Sam Sinai and Eric Kelsic\n",
    "\n",
    "\n",
    "## For the blog post associated with this notebook see [this post](https://samsinai.github.io/jekyll/update/2017/08/14/Using-a-Variational-Autoencoder-to-predict-protein-function.html). \n",
    "\n",
    "\n",
    "This notebook it organized in 3 sections. In section 1 we show our workflow for pre-processing the biological data. We then train the model on the alignment data in section 2. In section 3 we compare the predictions of the model on the [PABP yeast](https://www.ncbi.nlm.nih.gov/pmc/articles/PMC3851721/) dataset. In section 4 we report the results from analyzing multiple other datasets. Finally we pose some questions with regards to improving the model for interested researcher."
   ]
  },
  {
   "cell_type": "code",
   "execution_count": 3,
   "metadata": {
    "collapsed": true
   },
   "outputs": [],
   "source": [
    "### IT'S 82 x 24"
   ]
  },
  {
   "cell_type": "code",
   "execution_count": 4,
   "metadata": {
    "collapsed": true
   },
   "outputs": [],
   "source": [
    "# Generic imports\n",
    "from __future__ import print_function\n",
    "%matplotlib inline\n",
    "import matplotlib.pyplot as plt\n",
    "import numpy as np\n",
    "import pandas as pd\n",
    "import math,random,re\n",
    "import time"
   ]
  },
  {
   "cell_type": "code",
   "execution_count": 5,
   "metadata": {
    "collapsed": true
   },
   "outputs": [],
   "source": [
    "#Machine learning/Stats imports \n",
    "from scipy.stats import norm\n",
    "from scipy.stats import spearmanr,pearsonr\n",
    "from sklearn.preprocessing import normalize\n",
    "from sklearn.model_selection import train_test_split\n",
    "import torch\n",
    "import torch.nn as nn\n",
    "import torch.nn.functional as F\n",
    "from torch.autograd import Variable\n",
    "import torch.distributions as D\n",
    "# import tensorflow as tf\n",
    "# import keras\n",
    "# from keras.layers import Input, Dense\n",
    "# from keras.models import Model\n",
    "# from keras import regularizers\n",
    "# from keras.layers import LSTM, RepeatVector\n",
    "# from keras.layers import Input, Dense, Lambda, Dropout,Activation, TimeDistributed\n",
    "# from keras import backend as K\n",
    "# from keras import objectives\n",
    "# from keras.callbacks import EarlyStopping\n",
    "# from keras.layers.normalization import BatchNormalization\n",
    "# from keras import regularizers"
   ]
  },
  {
   "cell_type": "code",
   "execution_count": 6,
   "metadata": {
    "collapsed": true
   },
   "outputs": [],
   "source": [
    "from models import *"
   ]
  },
  {
   "cell_type": "markdown",
   "metadata": {},
   "source": [
    "## 1.  Data pre-processing\n",
    "\n",
    "Defining the alphabet that is used for Amino-Acids throughout."
   ]
  },
  {
   "cell_type": "code",
   "execution_count": 7,
   "metadata": {
    "collapsed": true
   },
   "outputs": [],
   "source": [
    "#Invariants\n",
    "ORDER_KEY=\"XILVAGMFYWEDQNHCRKSTPBZ-\"[::-1]\n",
    "ORDER_LIST=list(ORDER_KEY)"
   ]
  },
  {
   "cell_type": "markdown",
   "metadata": {},
   "source": [
    "These are helper functions to clean and process data. "
   ]
  },
  {
   "cell_type": "code",
   "execution_count": 8,
   "metadata": {
    "collapsed": true
   },
   "outputs": [],
   "source": [
    "%reload_ext autoreload\n",
    "%autoreload 1\n",
    "from helper_tools import *\n",
    "from helper_tools_for_plotting import *"
   ]
  },
  {
   "cell_type": "markdown",
   "metadata": {},
   "source": [
    "Import the alignment data:"
   ]
  },
  {
   "cell_type": "code",
   "execution_count": 9,
   "metadata": {
    "collapsed": false,
    "scrolled": true
   },
   "outputs": [
    {
     "name": "stdout",
     "output_type": "stream",
     "text": [
      "number of data points:  50000\n"
     ]
    },
    {
     "data": {
      "text/html": [
       "<div>\n",
       "<table border=\"1\" class=\"dataframe\">\n",
       "  <thead>\n",
       "    <tr style=\"text-align: right;\">\n",
       "      <th></th>\n",
       "      <th>name</th>\n",
       "      <th>sequence</th>\n",
       "    </tr>\n",
       "  </thead>\n",
       "  <tbody>\n",
       "    <tr>\n",
       "      <th>0</th>\n",
       "      <td>PABP_YEAST/115-210</td>\n",
       "      <td>qrdpslrkKGSGNIFIKNLHPDIDNKALYDTFSVFGDILSSKIATD...</td>\n",
       "    </tr>\n",
       "    <tr>\n",
       "      <th>1</th>\n",
       "      <td>ur|UPI0004E53ABB|UniRef100_UPI0004E53ABB/203-294</td>\n",
       "      <td>..epangsPKFFNVYVKNLPEKYTDDDLKSEFEAFGEITSAVVVKD...</td>\n",
       "    </tr>\n",
       "    <tr>\n",
       "      <th>2</th>\n",
       "      <td>ur|UPI0004E53ABB|UniRef100_UPI0004E53ABB/534-625</td>\n",
       "      <td>..epangsPKFFNVYVKNLPEKYTDDDLKSEFEASGEITSAVVVKD...</td>\n",
       "    </tr>\n",
       "    <tr>\n",
       "      <th>3</th>\n",
       "      <td>ur|UPI0004E53ABB|UniRef100_UPI0004E53ABB/312-398</td>\n",
       "      <td>........IRGLNLYLKNLDDTIDDERLKELFRPFGTIISCKVMVD...</td>\n",
       "    </tr>\n",
       "    <tr>\n",
       "      <th>4</th>\n",
       "      <td>ur|UPI0004E53ABB|UniRef100_UPI0004E53ABB/33-112</td>\n",
       "      <td>........---ASLYVGDLDLSVTEGQLFDLFSQIGPVASVRVCRD...</td>\n",
       "    </tr>\n",
       "  </tbody>\n",
       "</table>\n",
       "</div>"
      ],
      "text/plain": [
       "                                               name  \\\n",
       "0                                PABP_YEAST/115-210   \n",
       "1  ur|UPI0004E53ABB|UniRef100_UPI0004E53ABB/203-294   \n",
       "2  ur|UPI0004E53ABB|UniRef100_UPI0004E53ABB/534-625   \n",
       "3  ur|UPI0004E53ABB|UniRef100_UPI0004E53ABB/312-398   \n",
       "4   ur|UPI0004E53ABB|UniRef100_UPI0004E53ABB/33-112   \n",
       "\n",
       "                                            sequence  \n",
       "0  qrdpslrkKGSGNIFIKNLHPDIDNKALYDTFSVFGDILSSKIATD...  \n",
       "1  ..epangsPKFFNVYVKNLPEKYTDDDLKSEFEAFGEITSAVVVKD...  \n",
       "2  ..epangsPKFFNVYVKNLPEKYTDDDLKSEFEASGEITSAVVVKD...  \n",
       "3  ........IRGLNLYLKNLDDTIDDERLKELFRPFGTIISCKVMVD...  \n",
       "4  ........---ASLYVGDLDLSVTEGQLFDLFSQIGPVASVRVCRD...  "
      ]
     },
     "execution_count": 9,
     "metadata": {},
     "output_type": "execute_result"
    }
   ],
   "source": [
    "data=pdataframe_from_alignment_file(\"PABP_YEAST_hmmerbit_plmc_n5_m30_f50_t0.2_r115-210_id100_b48.a2m\",50000)\n",
    "print (\"number of data points: \",len(data))\n",
    "data_set_size=len(data)\n",
    "data.head()"
   ]
  },
  {
   "cell_type": "markdown",
   "metadata": {},
   "source": [
    "Let's see how long the sequence is"
   ]
  },
  {
   "cell_type": "code",
   "execution_count": 10,
   "metadata": {
    "collapsed": false
   },
   "outputs": [
    {
     "name": "stdout",
     "output_type": "stream",
     "text": [
      "length of sequence: 96\n",
      "sample sequence:  qrdpslrkKGSGNIFIKNLHPDIDNKALYDTFSVFGDILSSKIATDENGKSKGFGFVHFEEEGAAKEAIDALNGMLLNGQEIYVAPHLSRkerdsq\n"
     ]
    }
   ],
   "source": [
    "print (\"length of sequence:\", len(data.iloc[0][\"sequence\"]))#, len(data.iloc[0][\"seq\"]))\n",
    "print (\"sample sequence: \", data.iloc[0][\"sequence\"])"
   ]
  },
  {
   "cell_type": "markdown",
   "metadata": {},
   "source": [
    "We are only really interested in the columns that do align. This means that for every column that we include, at least 50% of sequences are not gaps. Note that this threshold is imposed by the alignment parameters loaded above. So let's make a column for that. Meanwhile, we keep track of the indices that did align."
   ]
  },
  {
   "cell_type": "code",
   "execution_count": 11,
   "metadata": {
    "collapsed": false
   },
   "outputs": [
    {
     "data": {
      "text/html": [
       "<div>\n",
       "<table border=\"1\" class=\"dataframe\">\n",
       "  <thead>\n",
       "    <tr style=\"text-align: right;\">\n",
       "      <th></th>\n",
       "      <th>name</th>\n",
       "      <th>sequence</th>\n",
       "      <th>seq</th>\n",
       "    </tr>\n",
       "  </thead>\n",
       "  <tbody>\n",
       "    <tr>\n",
       "      <th>0</th>\n",
       "      <td>PABP_YEAST/115-210</td>\n",
       "      <td>qrdpslrkKGSGNIFIKNLHPDIDNKALYDTFSVFGDILSSKIATD...</td>\n",
       "      <td>KGSGNIFIKNLHPDIDNKALYDTFSVFGDILSSKIATDENGKSKGF...</td>\n",
       "    </tr>\n",
       "    <tr>\n",
       "      <th>1</th>\n",
       "      <td>ur|UPI0004E53ABB|UniRef100_UPI0004E53ABB/203-294</td>\n",
       "      <td>..epangsPKFFNVYVKNLPEKYTDDDLKSEFEAFGEITSAVVVKD...</td>\n",
       "      <td>PKFFNVYVKNLPEKYTDDDLKSEFEAFGEITSAVVVKDENGNSRGF...</td>\n",
       "    </tr>\n",
       "    <tr>\n",
       "      <th>2</th>\n",
       "      <td>ur|UPI0004E53ABB|UniRef100_UPI0004E53ABB/534-625</td>\n",
       "      <td>..epangsPKFFNVYVKNLPEKYTDDDLKSEFEASGEITSAVVVKD...</td>\n",
       "      <td>PKFFNVYVKNLPEKYTDDDLKSEFEASGEITSAVVVKDENGNSRGF...</td>\n",
       "    </tr>\n",
       "    <tr>\n",
       "      <th>3</th>\n",
       "      <td>ur|UPI0004E53ABB|UniRef100_UPI0004E53ABB/312-398</td>\n",
       "      <td>........IRGLNLYLKNLDDTIDDERLKELFRPFGTIISCKVMVD...</td>\n",
       "      <td>IRGLNLYLKNLDDTIDDERLKELFRPFGTIISCKVMVDSQGQSKGS...</td>\n",
       "    </tr>\n",
       "    <tr>\n",
       "      <th>4</th>\n",
       "      <td>ur|UPI0004E53ABB|UniRef100_UPI0004E53ABB/33-112</td>\n",
       "      <td>........---ASLYVGDLDLSVTEGQLFDLFSQIGPVASVRVCRD...</td>\n",
       "      <td>---ASLYVGDLDLSVTEGQLFDLFSQIGPVASVRVCRDIRRVSLGY...</td>\n",
       "    </tr>\n",
       "  </tbody>\n",
       "</table>\n",
       "</div>"
      ],
      "text/plain": [
       "                                               name  \\\n",
       "0                                PABP_YEAST/115-210   \n",
       "1  ur|UPI0004E53ABB|UniRef100_UPI0004E53ABB/203-294   \n",
       "2  ur|UPI0004E53ABB|UniRef100_UPI0004E53ABB/534-625   \n",
       "3  ur|UPI0004E53ABB|UniRef100_UPI0004E53ABB/312-398   \n",
       "4   ur|UPI0004E53ABB|UniRef100_UPI0004E53ABB/33-112   \n",
       "\n",
       "                                            sequence  \\\n",
       "0  qrdpslrkKGSGNIFIKNLHPDIDNKALYDTFSVFGDILSSKIATD...   \n",
       "1  ..epangsPKFFNVYVKNLPEKYTDDDLKSEFEAFGEITSAVVVKD...   \n",
       "2  ..epangsPKFFNVYVKNLPEKYTDDDLKSEFEASGEITSAVVVKD...   \n",
       "3  ........IRGLNLYLKNLDDTIDDERLKELFRPFGTIISCKVMVD...   \n",
       "4  ........---ASLYVGDLDLSVTEGQLFDLFSQIGPVASVRVCRD...   \n",
       "\n",
       "                                                 seq  \n",
       "0  KGSGNIFIKNLHPDIDNKALYDTFSVFGDILSSKIATDENGKSKGF...  \n",
       "1  PKFFNVYVKNLPEKYTDDDLKSEFEAFGEITSAVVVKDENGNSRGF...  \n",
       "2  PKFFNVYVKNLPEKYTDDDLKSEFEASGEITSAVVVKDENGNSRGF...  \n",
       "3  IRGLNLYLKNLDDTIDDERLKELFRPFGTIISCKVMVDSQGQSKGS...  \n",
       "4  ---ASLYVGDLDLSVTEGQLFDLFSQIGPVASVRVCRDIRRVSLGY...  "
      ]
     },
     "execution_count": 11,
     "metadata": {},
     "output_type": "execute_result"
    }
   ],
   "source": [
    "indices=index_of_non_lower_case_dot(data.iloc[0][\"sequence\"])\n",
    "data[\"seq\"]=list(map(prune_seq,data[\"sequence\"]))\n",
    "data.head()"
   ]
  },
  {
   "cell_type": "markdown",
   "metadata": {},
   "source": [
    "Let's see how many columns remained. "
   ]
  },
  {
   "cell_type": "code",
   "execution_count": 12,
   "metadata": {
    "collapsed": false
   },
   "outputs": [
    {
     "name": "stdout",
     "output_type": "stream",
     "text": [
      "pruned sequence length: 82\n"
     ]
    }
   ],
   "source": [
    "print (\"pruned sequence length:\", len(data.iloc[0][\"seq\"]))\n",
    "PRUNED_SEQ_LENGTH=len(data.iloc[0][\"seq\"])"
   ]
  },
  {
   "cell_type": "markdown",
   "metadata": {},
   "source": [
    "A few optional lines of code to run. Printing indices, and deleting the sequence column so that it doesn't stay in memory for no reason. "
   ]
  },
  {
   "cell_type": "code",
   "execution_count": 13,
   "metadata": {
    "collapsed": true
   },
   "outputs": [],
   "source": [
    "#print (indices,len(indices))\n",
    "## you can do this to reduce memory load\n",
    "#del data[\"sequence\"]\n",
    "#data.head()\n",
    "#data.iloc[0][\"sequence\"][9]"
   ]
  },
  {
   "cell_type": "markdown",
   "metadata": {},
   "source": [
    "Another useful preprocessing step is to reweight the sequences based on some similarity threshold. This helps us feed the network with more informative samples (namely discount sequences that are very close to each other). We weight all $n$ sequences that are more that 1-$\\theta$ similar to each other as $1/n$. Computing this step is rather slow, so I've provided the sample weights for $\\theta=0.2$, which is standard in the studies I reference. You can run the process for arbitrary $\\theta$ using the commented out line."
   ]
  },
  {
   "cell_type": "code",
   "execution_count": 14,
   "metadata": {
    "collapsed": false
   },
   "outputs": [
    {
     "data": {
      "text/plain": [
       "(50000, array([0.03125   , 0.2       , 0.2       , 0.2       , 0.16666667,\n",
       "        0.2       , 0.16666667, 0.16666667, 0.0625    , 1.        ]))"
      ]
     },
     "execution_count": 14,
     "metadata": {},
     "output_type": "execute_result"
    }
   ],
   "source": [
    "with open (\"PABP_YEAST_hmmerbit_t0.2_r50000.reweight\",\"rb\") as to_read:\n",
    "    new_weights=np.load(to_read)\n",
    "\n",
    "#new_weights=reweight_sequences(data[\"seq\"],0.1)\n",
    "len(new_weights),new_weights[:10]"
   ]
  },
  {
   "cell_type": "markdown",
   "metadata": {},
   "source": [
    "Next we translate the sequence into a one hot encoding and shape the input sequences into a m*n matrix. Here m is the number of the data points and $n=$ alphbet size $\\times$ sequence length."
   ]
  },
  {
   "cell_type": "code",
   "execution_count": 15,
   "metadata": {
    "collapsed": false
   },
   "outputs": [
    {
     "name": "stdout",
     "output_type": "stream",
     "text": [
      "50000 24 82\n",
      "(50000, 1968)\n"
     ]
    }
   ],
   "source": [
    "#Encode training data in one_hot vectors\n",
    "training_data_one_hot=[]\n",
    "labels=[]\n",
    "for i, row in data.iterrows():\n",
    "    training_data_one_hot.append(translate_string_to_one_hot(row[\"seq\"],ORDER_LIST))\n",
    "print (len(training_data_one_hot),len(training_data_one_hot[0]),len(training_data_one_hot[0][0]))\n",
    "#plt.imshow(training_data_one_hot[0],cmap=\"Greys\")\n",
    "training_data=np.array([np.array(list(sample.T.flatten())) for sample in training_data_one_hot])\n",
    "# training_data=np.array([np.array(list(sample.flatten())).T for sample in training_data_one_hot])\n",
    "print(training_data.shape)"
   ]
  },
  {
   "cell_type": "code",
   "execution_count": 16,
   "metadata": {
    "collapsed": true
   },
   "outputs": [],
   "source": [
    "### seq_len = 82, alphabet_size = 24"
   ]
  },
  {
   "cell_type": "code",
   "execution_count": 17,
   "metadata": {
    "collapsed": false
   },
   "outputs": [
    {
     "data": {
      "text/plain": [
       "array([ 6, 18,  5, 18, 10, 22, 16, 22,  6, 10, 21,  9,  3, 12, 22, 12, 10,\n",
       "        6, 19, 21, 15, 12,  4, 16,  5, 20, 16, 18, 12, 22, 21,  5,  5,  6,\n",
       "       22, 19,  4, 12, 13, 10, 18,  6,  5,  6, 18, 16, 18, 16, 20,  9, 16,\n",
       "       13, 13, 13, 18, 19, 19,  6, 13, 19, 22, 12, 19, 21, 10, 18, 17, 21,\n",
       "       21, 10, 18, 11, 13, 22, 15, 20, 19,  3,  9, 21,  5,  7])"
      ]
     },
     "execution_count": 17,
     "metadata": {},
     "output_type": "execute_result"
    }
   ],
   "source": [
    "np.argmax(training_data_one_hot[0],axis=0)"
   ]
  },
  {
   "cell_type": "markdown",
   "metadata": {},
   "source": [
    "That takes care of the training data. But we also need to test our model on something. Thankfully, some neat experiments have been done to actually measure the effects of change in a sequence on the performance of the protein. We load this data next (because we want to make use of this test data to evaluate our performance at the end of each epoch). "
   ]
  },
  {
   "cell_type": "code",
   "execution_count": 18,
   "metadata": {
    "collapsed": false,
    "scrolled": true
   },
   "outputs": [
    {
     "name": "stdout",
     "output_type": "stream",
     "text": [
      "number of mutants:  1188\n"
     ]
    },
    {
     "data": {
      "text/plain": [
       "mutant                               K131V\n",
       "effect_prediction_epistatic         -10.06\n",
       "effect_prediction_independent     -3.36052\n",
       "linear                           0.0425856\n",
       "Name: 87, dtype: object"
      ]
     },
     "execution_count": 18,
     "metadata": {},
     "output_type": "execute_result"
    }
   ],
   "source": [
    "exp_data_full=pd.read_csv(\n",
    "    \"PABP_YEAST_Fields2013-singles.csv\", sep=\";\", comment=\"#\"\n",
    ")\n",
    "print (\"number of mutants: \",len(exp_data_full))\n",
    "exp_data_full.head()\n",
    "exp_data_full.iloc[87]"
   ]
  },
  {
   "cell_type": "markdown",
   "metadata": {},
   "source": [
    "The \"linear\" column is the experimental data. The other two predictions are the results as obtained by the method described in the [Hopf et al paper](https://www.nature.com/nbt/journal/v35/n2/abs/nbt.3769.html). "
   ]
  },
  {
   "cell_type": "code",
   "execution_count": 19,
   "metadata": {
    "collapsed": false
   },
   "outputs": [
    {
     "data": {
      "text/html": [
       "<div>\n",
       "<table border=\"1\" class=\"dataframe\">\n",
       "  <thead>\n",
       "    <tr style=\"text-align: right;\">\n",
       "      <th></th>\n",
       "      <th>effect_prediction_epistatic</th>\n",
       "      <th>effect_prediction_independent</th>\n",
       "      <th>linear</th>\n",
       "    </tr>\n",
       "  </thead>\n",
       "  <tbody>\n",
       "    <tr>\n",
       "      <th>effect_prediction_epistatic</th>\n",
       "      <td>1.000000</td>\n",
       "      <td>0.745161</td>\n",
       "      <td>0.592781</td>\n",
       "    </tr>\n",
       "    <tr>\n",
       "      <th>effect_prediction_independent</th>\n",
       "      <td>0.745161</td>\n",
       "      <td>1.000000</td>\n",
       "      <td>0.423680</td>\n",
       "    </tr>\n",
       "    <tr>\n",
       "      <th>linear</th>\n",
       "      <td>0.592781</td>\n",
       "      <td>0.423680</td>\n",
       "      <td>1.000000</td>\n",
       "    </tr>\n",
       "  </tbody>\n",
       "</table>\n",
       "</div>"
      ],
      "text/plain": [
       "                               effect_prediction_epistatic  \\\n",
       "effect_prediction_epistatic                       1.000000   \n",
       "effect_prediction_independent                     0.745161   \n",
       "linear                                            0.592781   \n",
       "\n",
       "                               effect_prediction_independent    linear  \n",
       "effect_prediction_epistatic                         0.745161  0.592781  \n",
       "effect_prediction_independent                       1.000000  0.423680  \n",
       "linear                                              0.423680  1.000000  "
      ]
     },
     "execution_count": 19,
     "metadata": {},
     "output_type": "execute_result"
    }
   ],
   "source": [
    "exp_data_full.corr(method=\"spearman\")"
   ]
  },
  {
   "cell_type": "markdown",
   "metadata": {},
   "source": [
    "The experimentalists have made the mutations on specific positions on the sequence. We restrict our target data to the subset of those experiments that we have aligned columns for. "
   ]
  },
  {
   "cell_type": "code",
   "execution_count": 20,
   "metadata": {
    "collapsed": false
   },
   "outputs": [
    {
     "data": {
      "text/html": [
       "<div>\n",
       "<table border=\"1\" class=\"dataframe\">\n",
       "  <thead>\n",
       "    <tr style=\"text-align: right;\">\n",
       "      <th></th>\n",
       "      <th>index</th>\n",
       "      <th>mutant</th>\n",
       "      <th>effect_prediction_epistatic</th>\n",
       "      <th>effect_prediction_independent</th>\n",
       "      <th>linear</th>\n",
       "    </tr>\n",
       "  </thead>\n",
       "  <tbody>\n",
       "    <tr>\n",
       "      <th>0</th>\n",
       "      <td>1</td>\n",
       "      <td>G126C</td>\n",
       "      <td>-5.663638</td>\n",
       "      <td>-0.027602</td>\n",
       "      <td>0.449027</td>\n",
       "    </tr>\n",
       "    <tr>\n",
       "      <th>1</th>\n",
       "      <td>2</td>\n",
       "      <td>G126E</td>\n",
       "      <td>-6.611062</td>\n",
       "      <td>-1.827612</td>\n",
       "      <td>0.588928</td>\n",
       "    </tr>\n",
       "    <tr>\n",
       "      <th>2</th>\n",
       "      <td>3</td>\n",
       "      <td>G126D</td>\n",
       "      <td>-7.270577</td>\n",
       "      <td>-1.180094</td>\n",
       "      <td>0.229853</td>\n",
       "    </tr>\n",
       "    <tr>\n",
       "      <th>3</th>\n",
       "      <td>4</td>\n",
       "      <td>G126N</td>\n",
       "      <td>-5.809167</td>\n",
       "      <td>0.387443</td>\n",
       "      <td>0.679435</td>\n",
       "    </tr>\n",
       "    <tr>\n",
       "      <th>4</th>\n",
       "      <td>5</td>\n",
       "      <td>G126S</td>\n",
       "      <td>-4.617248</td>\n",
       "      <td>0.661686</td>\n",
       "      <td>0.721788</td>\n",
       "    </tr>\n",
       "    <tr>\n",
       "      <th>5</th>\n",
       "      <td>6</td>\n",
       "      <td>G126R</td>\n",
       "      <td>-5.582381</td>\n",
       "      <td>1.144148</td>\n",
       "      <td>0.313690</td>\n",
       "    </tr>\n",
       "    <tr>\n",
       "      <th>6</th>\n",
       "      <td>7</td>\n",
       "      <td>G126W</td>\n",
       "      <td>-8.079901</td>\n",
       "      <td>-2.052391</td>\n",
       "      <td>0.226032</td>\n",
       "    </tr>\n",
       "    <tr>\n",
       "      <th>7</th>\n",
       "      <td>8</td>\n",
       "      <td>G126V</td>\n",
       "      <td>-5.435631</td>\n",
       "      <td>-0.800307</td>\n",
       "      <td>0.230315</td>\n",
       "    </tr>\n",
       "    <tr>\n",
       "      <th>8</th>\n",
       "      <td>9</td>\n",
       "      <td>N127A</td>\n",
       "      <td>-4.987206</td>\n",
       "      <td>-2.251823</td>\n",
       "      <td>0.062650</td>\n",
       "    </tr>\n",
       "    <tr>\n",
       "      <th>9</th>\n",
       "      <td>10</td>\n",
       "      <td>N127C</td>\n",
       "      <td>-8.044181</td>\n",
       "      <td>-2.215639</td>\n",
       "      <td>0.024996</td>\n",
       "    </tr>\n",
       "  </tbody>\n",
       "</table>\n",
       "</div>"
      ],
      "text/plain": [
       "   index mutant  effect_prediction_epistatic  effect_prediction_independent  \\\n",
       "0      1  G126C                    -5.663638                      -0.027602   \n",
       "1      2  G126E                    -6.611062                      -1.827612   \n",
       "2      3  G126D                    -7.270577                      -1.180094   \n",
       "3      4  G126N                    -5.809167                       0.387443   \n",
       "4      5  G126S                    -4.617248                       0.661686   \n",
       "5      6  G126R                    -5.582381                       1.144148   \n",
       "6      7  G126W                    -8.079901                      -2.052391   \n",
       "7      8  G126V                    -5.435631                      -0.800307   \n",
       "8      9  N127A                    -4.987206                      -2.251823   \n",
       "9     10  N127C                    -8.044181                      -2.215639   \n",
       "\n",
       "     linear  \n",
       "0  0.449027  \n",
       "1  0.588928  \n",
       "2  0.229853  \n",
       "3  0.679435  \n",
       "4  0.721788  \n",
       "5  0.313690  \n",
       "6  0.226032  \n",
       "7  0.230315  \n",
       "8  0.062650  \n",
       "9  0.024996  "
      ]
     },
     "execution_count": 20,
     "metadata": {},
     "output_type": "execute_result"
    }
   ],
   "source": [
    "OFFSET=117\n",
    "#Deciding offset requires investigating the dataset and alignment.\n",
    "exp_data_singles=pd.DataFrame(columns=exp_data_full.columns)\n",
    "#decide starting index depending on how the file is \"headered\"\n",
    "for i,row in exp_data_full[1:].iterrows():\n",
    "        pos=re.split(r'(\\d+)', row.mutant) \n",
    "        if int(pos[1])-OFFSET in indices:\n",
    "            exp_data_singles=exp_data_singles.append(row)\n",
    "exp_data_singles=exp_data_singles.reset_index()\n",
    "target_values_singles=list(exp_data_singles[\"linear\"])\n",
    "exp_data_singles.head(10)        "
   ]
  },
  {
   "cell_type": "markdown",
   "metadata": {},
   "source": [
    "Using this data, we can now make a library of sequences of single mutants, in the same form of the alignment data."
   ]
  },
  {
   "cell_type": "code",
   "execution_count": 21,
   "metadata": {
    "collapsed": false
   },
   "outputs": [
    {
     "name": "stdout",
     "output_type": "stream",
     "text": [
      "1187 1187\n",
      "[('K', 'K'), ('G', 'G'), ('S', 'S'), ('G', 'N'), ('N', 'N'), ('I', 'I'), ('F', 'F'), ('I', 'I'), ('K', 'K'), ('N', 'N')]\n"
     ]
    }
   ],
   "source": [
    "mutation_data=[re.split(r'(\\d+)', s) for s in exp_data_singles.mutant]\n",
    "wt_sequence=data.iloc[0].seq\n",
    "mutants=mutate_single(wt_sequence,mutation_data,offset=0,index=3) #note that you change index to 1\n",
    "\n",
    "#sanity checks\n",
    "print (len(mutants),len(exp_data_singles))\n",
    "#the mutant should be in the correct place\n",
    "print (list(zip(wt_sequence,mutants[3]))[:10])"
   ]
  },
  {
   "cell_type": "markdown",
   "metadata": {},
   "source": [
    "The last print above is a simple check to show that the mutation in the sequence is indeed an G to N (in the third mutant). We also make the one-hot vectors for this data."
   ]
  },
  {
   "cell_type": "code",
   "execution_count": 22,
   "metadata": {
    "collapsed": true
   },
   "outputs": [],
   "source": [
    "#Test data with wt at 0 index\n",
    "one_hot_mutants=[]\n",
    "mutants_plus=[data.iloc[0][\"seq\"]]+mutants\n",
    "for mutant in mutants_plus:\n",
    "    one_hot_mutants.append(translate_string_to_one_hot(\"\".join(mutant),ORDER_LIST))\n",
    "\n",
    "test_data_plus=np.array([np.array(list(sample.flatten())).T for sample in one_hot_mutants])"
   ]
  },
  {
   "cell_type": "markdown",
   "metadata": {},
   "source": [
    "We also construct the double mutant sequences using the same process"
   ]
  },
  {
   "cell_type": "code",
   "execution_count": 23,
   "metadata": {
    "collapsed": false
   },
   "outputs": [
    {
     "name": "stdout",
     "output_type": "stream",
     "text": [
      "number of mutants:  36522\n"
     ]
    },
    {
     "data": {
      "text/plain": [
       "mutant                           G169W,F170V\n",
       "effect_prediction_epistatic          -18.161\n",
       "effect_prediction_independent       -15.1525\n",
       "XY_Enrichment_score                  0.05916\n",
       "Name: 0, dtype: object"
      ]
     },
     "execution_count": 23,
     "metadata": {},
     "output_type": "execute_result"
    }
   ],
   "source": [
    "exp_data_full=pd.read_csv(\n",
    "    \"PABP_YEAST_Fields2013-doubles.csv\", sep=\";\", comment=\"#\"\n",
    ")\n",
    "print (\"number of mutants: \",len(exp_data_full))\n",
    "exp_data_full.head()\n",
    "exp_data_full.iloc[0]"
   ]
  },
  {
   "cell_type": "code",
   "execution_count": 24,
   "metadata": {
    "collapsed": false
   },
   "outputs": [
    {
     "data": {
      "text/html": [
       "<div>\n",
       "<table border=\"1\" class=\"dataframe\">\n",
       "  <thead>\n",
       "    <tr style=\"text-align: right;\">\n",
       "      <th></th>\n",
       "      <th>effect_prediction_epistatic</th>\n",
       "      <th>effect_prediction_independent</th>\n",
       "      <th>XY_Enrichment_score</th>\n",
       "    </tr>\n",
       "  </thead>\n",
       "  <tbody>\n",
       "    <tr>\n",
       "      <th>effect_prediction_epistatic</th>\n",
       "      <td>1.000000</td>\n",
       "      <td>0.715371</td>\n",
       "      <td>0.620022</td>\n",
       "    </tr>\n",
       "    <tr>\n",
       "      <th>effect_prediction_independent</th>\n",
       "      <td>0.715371</td>\n",
       "      <td>1.000000</td>\n",
       "      <td>0.497743</td>\n",
       "    </tr>\n",
       "    <tr>\n",
       "      <th>XY_Enrichment_score</th>\n",
       "      <td>0.620022</td>\n",
       "      <td>0.497743</td>\n",
       "      <td>1.000000</td>\n",
       "    </tr>\n",
       "  </tbody>\n",
       "</table>\n",
       "</div>"
      ],
      "text/plain": [
       "                               effect_prediction_epistatic  \\\n",
       "effect_prediction_epistatic                       1.000000   \n",
       "effect_prediction_independent                     0.715371   \n",
       "XY_Enrichment_score                               0.620022   \n",
       "\n",
       "                               effect_prediction_independent  \\\n",
       "effect_prediction_epistatic                         0.715371   \n",
       "effect_prediction_independent                       1.000000   \n",
       "XY_Enrichment_score                                 0.497743   \n",
       "\n",
       "                               XY_Enrichment_score  \n",
       "effect_prediction_epistatic               0.620022  \n",
       "effect_prediction_independent             0.497743  \n",
       "XY_Enrichment_score                       1.000000  "
      ]
     },
     "execution_count": 24,
     "metadata": {},
     "output_type": "execute_result"
    }
   ],
   "source": [
    "exp_data_full.corr(method=\"spearman\")"
   ]
  },
  {
   "cell_type": "code",
   "execution_count": 25,
   "metadata": {
    "collapsed": false
   },
   "outputs": [
    {
     "data": {
      "text/html": [
       "<div>\n",
       "<table border=\"1\" class=\"dataframe\">\n",
       "  <thead>\n",
       "    <tr style=\"text-align: right;\">\n",
       "      <th></th>\n",
       "      <th>index</th>\n",
       "      <th>mutant</th>\n",
       "      <th>effect_prediction_epistatic</th>\n",
       "      <th>effect_prediction_independent</th>\n",
       "      <th>XY_Enrichment_score</th>\n",
       "    </tr>\n",
       "  </thead>\n",
       "  <tbody>\n",
       "    <tr>\n",
       "      <th>0</th>\n",
       "      <td>0</td>\n",
       "      <td>G169W,F170V</td>\n",
       "      <td>-18.161003</td>\n",
       "      <td>-15.152495</td>\n",
       "      <td>0.059160</td>\n",
       "    </tr>\n",
       "    <tr>\n",
       "      <th>1</th>\n",
       "      <td>1</td>\n",
       "      <td>G169V,F170V</td>\n",
       "      <td>-13.753099</td>\n",
       "      <td>-8.845704</td>\n",
       "      <td>0.045765</td>\n",
       "    </tr>\n",
       "    <tr>\n",
       "      <th>2</th>\n",
       "      <td>2</td>\n",
       "      <td>G169A,F170I</td>\n",
       "      <td>-9.115749</td>\n",
       "      <td>-3.954389</td>\n",
       "      <td>0.075799</td>\n",
       "    </tr>\n",
       "    <tr>\n",
       "      <th>3</th>\n",
       "      <td>3</td>\n",
       "      <td>G169C,F170Y</td>\n",
       "      <td>-9.761077</td>\n",
       "      <td>-4.004533</td>\n",
       "      <td>0.700485</td>\n",
       "    </tr>\n",
       "    <tr>\n",
       "      <th>4</th>\n",
       "      <td>4</td>\n",
       "      <td>G169A,F170S</td>\n",
       "      <td>-10.212144</td>\n",
       "      <td>-5.743002</td>\n",
       "      <td>0.061518</td>\n",
       "    </tr>\n",
       "  </tbody>\n",
       "</table>\n",
       "</div>"
      ],
      "text/plain": [
       "   index       mutant  effect_prediction_epistatic  \\\n",
       "0      0  G169W,F170V                   -18.161003   \n",
       "1      1  G169V,F170V                   -13.753099   \n",
       "2      2  G169A,F170I                    -9.115749   \n",
       "3      3  G169C,F170Y                    -9.761077   \n",
       "4      4  G169A,F170S                   -10.212144   \n",
       "\n",
       "   effect_prediction_independent  XY_Enrichment_score  \n",
       "0                     -15.152495             0.059160  \n",
       "1                      -8.845704             0.045765  \n",
       "2                      -3.954389             0.075799  \n",
       "3                      -4.004533             0.700485  \n",
       "4                      -5.743002             0.061518  "
      ]
     },
     "execution_count": 25,
     "metadata": {},
     "output_type": "execute_result"
    }
   ],
   "source": [
    "OFFSET=160\n",
    "#Deciding offset requires investigating the dataset and alignment.\n",
    "exp_data_doubles=pd.DataFrame(columns=exp_data_full.columns)\n",
    "#decide starting index depending on how the file is \"headered\"\n",
    "for i,row in exp_data_full[0:].iterrows():\n",
    "        pos=re.split(r'(\\d+)', row.mutant)\n",
    "        if int(pos[1])-OFFSET in indices and int(pos[3])-OFFSET in indices:\n",
    "            exp_data_doubles=exp_data_doubles.append(row)\n",
    "exp_data_doubles=exp_data_doubles.reset_index()\n",
    "exp_data_doubles.head(5)"
   ]
  },
  {
   "cell_type": "code",
   "execution_count": 26,
   "metadata": {
    "collapsed": false
   },
   "outputs": [
    {
     "data": {
      "text/html": [
       "<div>\n",
       "<table border=\"1\" class=\"dataframe\">\n",
       "  <thead>\n",
       "    <tr style=\"text-align: right;\">\n",
       "      <th></th>\n",
       "      <th>index</th>\n",
       "      <th>effect_prediction_epistatic</th>\n",
       "      <th>effect_prediction_independent</th>\n",
       "      <th>XY_Enrichment_score</th>\n",
       "    </tr>\n",
       "  </thead>\n",
       "  <tbody>\n",
       "    <tr>\n",
       "      <th>index</th>\n",
       "      <td>1.000000</td>\n",
       "      <td>0.143941</td>\n",
       "      <td>0.140272</td>\n",
       "      <td>0.117997</td>\n",
       "    </tr>\n",
       "    <tr>\n",
       "      <th>effect_prediction_epistatic</th>\n",
       "      <td>0.143941</td>\n",
       "      <td>1.000000</td>\n",
       "      <td>0.773236</td>\n",
       "      <td>0.520277</td>\n",
       "    </tr>\n",
       "    <tr>\n",
       "      <th>effect_prediction_independent</th>\n",
       "      <td>0.140272</td>\n",
       "      <td>0.773236</td>\n",
       "      <td>1.000000</td>\n",
       "      <td>0.488397</td>\n",
       "    </tr>\n",
       "    <tr>\n",
       "      <th>XY_Enrichment_score</th>\n",
       "      <td>0.117997</td>\n",
       "      <td>0.520277</td>\n",
       "      <td>0.488397</td>\n",
       "      <td>1.000000</td>\n",
       "    </tr>\n",
       "  </tbody>\n",
       "</table>\n",
       "</div>"
      ],
      "text/plain": [
       "                                  index  effect_prediction_epistatic  \\\n",
       "index                          1.000000                     0.143941   \n",
       "effect_prediction_epistatic    0.143941                     1.000000   \n",
       "effect_prediction_independent  0.140272                     0.773236   \n",
       "XY_Enrichment_score            0.117997                     0.520277   \n",
       "\n",
       "                               effect_prediction_independent  \\\n",
       "index                                               0.140272   \n",
       "effect_prediction_epistatic                         0.773236   \n",
       "effect_prediction_independent                       1.000000   \n",
       "XY_Enrichment_score                                 0.488397   \n",
       "\n",
       "                               XY_Enrichment_score  \n",
       "index                                     0.117997  \n",
       "effect_prediction_epistatic               0.520277  \n",
       "effect_prediction_independent             0.488397  \n",
       "XY_Enrichment_score                       1.000000  "
      ]
     },
     "execution_count": 26,
     "metadata": {},
     "output_type": "execute_result"
    }
   ],
   "source": [
    "target_values_doubles=list(exp_data_doubles[\"XY_Enrichment_score\"])\n",
    "exp_data_doubles.corr(method=\"spearman\")"
   ]
  },
  {
   "cell_type": "code",
   "execution_count": 27,
   "metadata": {
    "collapsed": false
   },
   "outputs": [
    {
     "name": "stdout",
     "output_type": "stream",
     "text": [
      "13876 13876\n",
      "[('G', 'G'), ('K', 'K'), ('S', 'S'), ('K', 'K'), ('G', 'G'), ('F', 'F'), ('G', 'A'), ('F', 'I'), ('V', 'V'), ('H', 'H')]\n"
     ]
    }
   ],
   "source": [
    "mutation_data1=[re.split(r'(\\d+)', s.split(\",\")[0]) for s in exp_data_doubles.mutant]\n",
    "mutation_data2=[re.split(r'(\\d+)', s.split(\",\")[1]) for s in exp_data_doubles.mutant]\n",
    "wt_sequence=data.iloc[0].seq\n",
    "\n",
    "mutants_double=mutate_double(wt_sequence,mutation_data1,mutation_data2,offset=0,index=46)\n",
    "\n",
    "#sanity checks\n",
    "print (len(mutants_double),len(exp_data_doubles))\n",
    "#the mutant should be in the correct place\n",
    "print (list(zip(wt_sequence,mutants_double[2]))[40:50])"
   ]
  },
  {
   "cell_type": "markdown",
   "metadata": {},
   "source": [
    "Again, we can check that the second mutant is indeed a double G169A, F170I mutant."
   ]
  },
  {
   "cell_type": "code",
   "execution_count": 28,
   "metadata": {
    "collapsed": true
   },
   "outputs": [],
   "source": [
    "#Test data with wt at 0 index\n",
    "one_hot_mutants=[]\n",
    "mutants_plus=[data.iloc[0][\"seq\"]]+mutants_double\n",
    "for mutant in mutants_plus:\n",
    "    one_hot_mutants.append(translate_string_to_one_hot(\"\".join(mutant),ORDER_LIST))\n",
    "\n",
    "test_data_doubles_plus=np.array([np.array(list(sample.flatten())).T for sample in one_hot_mutants])"
   ]
  },
  {
   "cell_type": "markdown",
   "metadata": {},
   "source": [
    "We can combine the singles and doubles training data for convenience"
   ]
  },
  {
   "cell_type": "code",
   "execution_count": 29,
   "metadata": {
    "collapsed": true
   },
   "outputs": [],
   "source": [
    "all_test_data=np.vstack([test_data_plus,test_data_doubles_plus[1:]])\n",
    "all_test_data_flattened=np.array([np.array(list(sample.flatten())).T for sample in all_test_data])"
   ]
  },
  {
   "cell_type": "markdown",
   "metadata": {},
   "source": [
    "This concludes the pre-processing we need to do on the data.\n",
    "\n",
    "## 2.  Training the model\n",
    "We now move on to define our neural network. This is essentially a vanilla VAE in keras (with some optimization on hyperparameters). For optimization purposes we define a callback function that reports the predictive power of the model in the end of each epoch. Note that while this passes the -test data- through the model, it is kosher because we never pass in the values we are actually interested in and the network is not in \"training phase\", i.e. no weights are updated during this pass. "
   ]
  },
  {
   "cell_type": "code",
   "execution_count": 30,
   "metadata": {
    "collapsed": true
   },
   "outputs": [],
   "source": [
    "class rho_vs_mutants():\n",
    "    def __init__(self,mutants,test_set_size,aa_size,sequence_size):\n",
    "        self.mutants=mutants\n",
    "        self.sample_size=test_set_size\n",
    "        self.aa_size=aa_size\n",
    "        self.sequence_size=sequence_size\n",
    "        self.scores=[]\n",
    "        self.count_batch=0\n",
    "    def on_train_begin(self, logs={}):\n",
    "        self.losses = []\n",
    "    def on_batch_end(self, batch, logs={}):\n",
    "        self.losses.append(logs.get('loss'))\n",
    "    #This allows us to track the \"progress\" of the model on different epochs\n",
    "    def on_epoch_end(self,model,batch,logs):\n",
    "        x_decoded=model(test_data_plus[0:self.sample_size],batch_size=batch_size)\n",
    "        digit = x_decoded[0].reshape(self.aa_size,self.sequence_size)\n",
    "        digit_wt = normalize(digit,axis=0, norm='l1')\n",
    "        wt_prob=compute_log_probability(digit,digit_wt)\n",
    "        fitnesses=[]\n",
    "        for sample in range(1,self.sample_size):\n",
    "            digit = x_decoded[sample].reshape(self.aa_size,self.sequence_size)\n",
    "            digit = normalize(digit,axis=0, norm='l1')\n",
    "            fitness=compute_log_probability(test_data_plus[sample].reshape(self.aa_size,self.sequence_size),digit)-wt_prob\n",
    "            fitnesses.append(fitness)\n",
    "        print (\",\"+str(spearmanr(fitnesses,target_values_singles[:self.sample_size-1])))\n",
    "        self.scores.append(spearmanr(fitnesses,target_values_singles[:self.sample_size-1])[0])"
   ]
  },
  {
   "cell_type": "markdown",
   "metadata": {},
   "source": [
    "Now we are ready to specify the network architecture, this is adapted from [here](https://github.com/fchollet/keras/blob/master/examples/variational_autoencoder.py)."
   ]
  },
  {
   "cell_type": "code",
   "execution_count": 31,
   "metadata": {
    "collapsed": true
   },
   "outputs": [],
   "source": [
    "# torch.sum(1 + model.z_log_var - (model.z_mean)**2 - torch.exp(model.z_log_var),-1)"
   ]
  },
  {
   "cell_type": "code",
   "execution_count": 32,
   "metadata": {
    "collapsed": true
   },
   "outputs": [],
   "source": [
    "batch_size = 20\n",
    "original_dim=len(ORDER_LIST)*PRUNED_SEQ_LENGTH\n",
    "output_dim=len(ORDER_LIST)*PRUNED_SEQ_LENGTH\n",
    "latent_dim = 2\n",
    "intermediate_dim = 250\n",
    "nb_epoch = 10\n",
    "epsilon_std = 1.0\n",
    "np.random.seed(42)  \n",
    "\n",
    "loss1 = nn.CrossEntropyLoss()\n",
    "\n",
    "def vae_loss(x_true, x_decoded_mean, z_mean, z_log_var):\n",
    "    xent_loss = original_dim * loss1(x_decoded_mean, x_true)\n",
    "    kl_loss = -0.5 * torch.sum(1 + z_log_var - (z_mean)**2 - torch.exp(z_log_var))\n",
    "    return (xent_loss + kl_loss)\n",
    "\n",
    "# #Encoding Layers\n",
    "# x = Input(batch_shape=(batch_size, original_dim))\n",
    "# h = Dense(intermediate_dim,activation=\"elu\")(x)\n",
    "# h= Dropout(0.7)(h)\n",
    "# h = Dense(intermediate_dim, activation='elu')(h)\n",
    "# h=BatchNormalization(mode=0)(h)\n",
    "# h = Dense(intermediate_dim, activation='elu')(h)\n",
    "\n",
    "# #Latent layers\n",
    "# z_mean=Dense(latent_dim)(h)\n",
    "# z_log_var=Dense(latent_dim)(h)\n",
    "# z = Lambda(sampling, output_shape=(latent_dim,))([z_mean, z_log_var])\n",
    "\n",
    "# #Decoding layers \n",
    "\n",
    "# decoder_1= Dense(intermediate_dim, activation='elu')\n",
    "# decoder_2=Dense(intermediate_dim, activation='elu')\n",
    "# decoder_2d=Dropout(0.7)\n",
    "# decoder_3=Dense(intermediate_dim, activation='elu')\n",
    "# decoder_out=Dense(output_dim, activation='sigmoid')\n",
    "# x_decoded_mean = decoder_out(decoder_3(decoder_2d(decoder_2(decoder_1(z)))))\n",
    "\n",
    "# vae = Model(x, x_decoded_mean)\n",
    "\n",
    "# #Potentially better results, but requires further hyperparameter tuning\n",
    "# #optimizer=keras.optimizers.SGD(lr=0.005, momentum=0.001, decay=0.0, nesterov=False,clipvalue=0.05)\n",
    "# vae.compile(optimizer=\"adam\", loss=vae_loss,metrics=[\"categorical_accuracy\",\"fmeasure\",\"top_k_categorical_accuracy\"])"
   ]
  },
  {
   "cell_type": "markdown",
   "metadata": {},
   "source": [
    "And run it through our training data."
   ]
  },
  {
   "cell_type": "code",
   "execution_count": 33,
   "metadata": {
    "collapsed": true
   },
   "outputs": [],
   "source": [
    "x_train=training_data[:data_set_size] #this needs to be divisible by batch size and less than or equal to dataset size\n",
    "x_train = x_train.astype('float32')\n",
    "x_train = x_train.reshape((len(x_train), np.prod(x_train.shape[1:])))\n",
    "\n",
    "# early_stopping = EarlyStopping(monitor='val_loss', patience=3)\n",
    "spearman_measure=rho_vs_mutants(test_data_plus,batch_size*int(len(test_data_plus)/batch_size),len(ORDER_LIST),PRUNED_SEQ_LENGTH)"
   ]
  },
  {
   "cell_type": "code",
   "execution_count": 34,
   "metadata": {
    "collapsed": true
   },
   "outputs": [],
   "source": [
    "vae_type = 'conv'"
   ]
  },
  {
   "cell_type": "code",
   "execution_count": 55,
   "metadata": {
    "collapsed": false
   },
   "outputs": [],
   "source": [
    "if vae_type == 'full':\n",
    "    univ_dropout = [0.2]*3\n",
    "    dropout_enc = univ_dropout\n",
    "    dropout_dec = univ_dropout\n",
    "\n",
    "    layers_enc = nn.ModuleList([nn.Linear(original_dim,intermediate_dim),nn.Dropout(dropout_enc[0]),nn.ELU()])\n",
    "    for i in range(2):\n",
    "        layers_enc.append(nn.Linear(intermediate_dim,intermediate_dim))\n",
    "        layers_enc.append(nn.Dropout(dropout_enc[i+1]))\n",
    "        layers_enc.append(nn.ELU())\n",
    "\n",
    "    layers_dec = nn.ModuleList([nn.Linear(latent_dim,intermediate_dim),nn.Dropout(dropout_dec[0]),nn.ELU()])\n",
    "    for i in range(2):\n",
    "        layers_dec.append(nn.Linear(intermediate_dim,intermediate_dim))\n",
    "        layers_dec.append(nn.Dropout(dropout_dec[i+1]))\n",
    "        layers_dec.append(nn.ELU())\n",
    "\n",
    "    layers_dec.append(nn.Linear(intermediate_dim,output_dim))\n",
    "\n",
    "    layers_ae = nn.ModuleList([nn.Linear(intermediate_dim,latent_dim),nn.Linear(intermediate_dim,latent_dim)])\n",
    "elif vae_type == 'conv':\n",
    "    out_conv_enc = [100,100]\n",
    "    kernels_enc = [6,10]\n",
    "    out_lin_enc = [200,100]\n",
    "    dropout_enc = [0.2,0.2]\n",
    "    \n",
    "    out_lin_dec = [200,250]\n",
    "    dropout_dec = [0.2,0.2]\n",
    "    \n",
    "    layers_enc_pre_view = nn.ModuleList([nn.Conv1d(len(ORDER_LIST),out_conv_enc[0],kernels_enc[0],stride=1),\n",
    "                                nn.ELU(),\n",
    "                                nn.MaxPool1d(4,padding=0),\n",
    "                                nn.ZeroPad2d((2,3,0,0)),\n",
    "                                nn.Conv1d(out_conv_enc[0],out_conv_enc[1],kernels_enc[1],stride=1),\n",
    "                                nn.ELU(),\n",
    "                                nn.MaxPool1d(3,padding=0)])\n",
    "    \n",
    "    enc_view = 100*5\n",
    "    \n",
    "    layers_enc_post_view = nn.ModuleList([nn.Linear(enc_view,out_lin_enc[0]),\n",
    "                                          nn.Dropout(dropout_enc[0]),\n",
    "                                          nn.ELU(),\n",
    "                                          nn.Linear(out_lin_enc[0],out_lin_enc[1]),\n",
    "                                          nn.Dropout(dropout_enc[1]),\n",
    "                                          nn.ELU()])\n",
    "    \n",
    "    layers_dec = nn.ModuleList([nn.Linear(latent_dim,out_lin_dec[0]),\n",
    "                                nn.Dropout(dropout_dec[0]),\n",
    "                                nn.ELU(),\n",
    "                                nn.Linear(out_lin_dec[0],out_lin_dec[1]),\n",
    "                                nn.Dropout(dropout_dec[1]),\n",
    "                                nn.ELU(),\n",
    "                                nn.Linear(out_lin_dec[1],output_dim)])\n",
    "    \n",
    "    layers_ae = nn.ModuleList([nn.Linear(out_lin_enc[-1],latent_dim),nn.Linear(out_lin_enc[-1],latent_dim)])"
   ]
  },
  {
   "cell_type": "code",
   "execution_count": null,
   "metadata": {
    "collapsed": false
   },
   "outputs": [],
   "source": [
    "if vae_type == 'full':\n",
    "    model = VAE(layers_enc,layers_ae,layers_dec)\n",
    "\n",
    "    prams = list(model.parameters())\n",
    "\n",
    "    optimizer = torch.optim.Adam(prams, lr = 0.001)\n",
    "\n",
    "    x_train_data, x_val_data = train_test_split(x_train, test_size = 0.1)\n",
    "\n",
    "    ins_train = x_train_data.reshape(len(x_train_data)*PRUNED_SEQ_LENGTH,len(ORDER_LIST))\n",
    "    ins_train = torch.Tensor(ins_train)\n",
    "    ins_train = torch.argmax(ins_train,1)\n",
    "\n",
    "    ins_val = x_val_data.reshape(len(x_val_data)*PRUNED_SEQ_LENGTH,len(ORDER_LIST))\n",
    "    ins_val = torch.Tensor(ins_val)\n",
    "    ins_val = torch.argmax(ins_val,1)\n",
    "\n",
    "    for epoch in range(nb_epoch):\n",
    "        model.train()\n",
    "\n",
    "        train = np.random.permutation(x_train_data)\n",
    "        train = train.reshape(-1,batch_size,1968)\n",
    "\n",
    "        train = torch.Tensor(train)\n",
    "\n",
    "        for batch in train:\n",
    "            out = model(batch)\n",
    "\n",
    "            batch = batch.reshape(batch_size*PRUNED_SEQ_LENGTH,len(ORDER_LIST))\n",
    "            batch = torch.argmax(batch,1)\n",
    "            out = out.reshape(batch_size*PRUNED_SEQ_LENGTH,len(ORDER_LIST))\n",
    "\n",
    "            loss = vae_loss(batch,out,model.z_mean,model.z_log_var)\n",
    "\n",
    "            optimizer.zero_grad()\n",
    "            loss.backward()\n",
    "            optimizer.step()\n",
    "\n",
    "        model.eval()\n",
    "\n",
    "        out_train = model(torch.Tensor(x_train_data))\n",
    "        out_train = torch.Tensor(out_train)\n",
    "        out_train = out_train.reshape(len(x_train_data)*PRUNED_SEQ_LENGTH,len(ORDER_LIST))\n",
    "\n",
    "        classpreds_train = torch.argmax(out_train,dim=1)\n",
    "        bool_train = (classpreds_train==ins_train)\n",
    "        class_acc_train = bool_train.sum().item()/bool_train.shape[0]\n",
    "\n",
    "        out_val = model(torch.Tensor(x_val_data))\n",
    "        out_val = torch.Tensor(out_val)\n",
    "        out_val = out_val.reshape(len(x_val_data)*PRUNED_SEQ_LENGTH,len(ORDER_LIST))\n",
    "\n",
    "        classpreds_val = torch.argmax(out_val,dim=1)\n",
    "        bool_val = (classpreds_val==ins_val)\n",
    "        class_acc_val = bool_val.sum().item()/bool_val.shape[0]\n",
    "\n",
    "        loss_train = vae_loss(ins_train,out_train,model.z_mean,model.z_log_var)\n",
    "        loss_val = vae_loss(ins_val,out_val,model.z_mean,model.z_log_var)\n",
    "\n",
    "        print('Epoch %s | Training Loss: %s, Training Accuracy: %s, Validation Loss: %s, Validation Accuracy: %s'\n",
    "              %( epoch, loss_train.item(), class_acc_train, loss_val.item(), class_acc_val ) )\n",
    "\n",
    "elif vae_type == 'conv':\n",
    "    model = VAE_conv(layers_enc_pre_view,enc_view,layers_enc_post_view,layers_ae,layers_dec)\n",
    "\n",
    "    prams = list(model.parameters())\n",
    "\n",
    "    optimizer = torch.optim.Adam(prams, lr = 0.001)\n",
    "\n",
    "    x_train_data, x_val_data = train_test_split(x_train, test_size = 0.1)\n",
    "\n",
    "    ins_train = x_train_data.reshape(len(x_train_data)*PRUNED_SEQ_LENGTH,len(ORDER_LIST))\n",
    "    ins_train = torch.Tensor(ins_train)\n",
    "    ins_train = torch.argmax(ins_train,1)\n",
    "\n",
    "    ins_val = x_val_data.reshape(len(x_val_data)*PRUNED_SEQ_LENGTH,len(ORDER_LIST))\n",
    "    ins_val = torch.Tensor(ins_val)\n",
    "    ins_val = torch.argmax(ins_val,1)\n",
    "\n",
    "    for epoch in range(nb_epoch):\n",
    "        model.train()\n",
    "\n",
    "        train = np.random.permutation(x_train_data)\n",
    "        train = train.reshape(-1,batch_size,PRUNED_SEQ_LENGTH,len(ORDER_LIST))\n",
    "\n",
    "        train = torch.Tensor(train)\n",
    "        train = train.transpose(-2,-1)\n",
    "\n",
    "        for batch in train:\n",
    "            out = model(batch)\n",
    "\n",
    "            batch = batch.transpose(-2,-1).reshape(batch_size*PRUNED_SEQ_LENGTH,len(ORDER_LIST))\n",
    "            batch = torch.argmax(batch,1)\n",
    "            out = out.reshape(batch_size*PRUNED_SEQ_LENGTH,len(ORDER_LIST))\n",
    "\n",
    "            loss = vae_loss(batch,out,model.z_mean,model.z_log_var)\n",
    "\n",
    "            optimizer.zero_grad()\n",
    "            loss.backward()\n",
    "            optimizer.step()\n",
    "\n",
    "        model.eval()\n",
    "\n",
    "        out_train = model(torch.Tensor(x_train_data).reshape(-1,PRUNED_SEQ_LENGTH,len(ORDER_LIST)).transpose(-2,-1))\n",
    "        out_train = torch.Tensor(out_train)\n",
    "        out_train = out_train.reshape(len(x_train_data)*PRUNED_SEQ_LENGTH,len(ORDER_LIST))\n",
    "\n",
    "        classpreds_train = torch.argmax(out_train,dim=1)\n",
    "        bool_train = (classpreds_train==ins_train)\n",
    "        class_acc_train = bool_train.sum().item()/bool_train.shape[0]\n",
    "\n",
    "        out_val = model(torch.Tensor(x_val_data).reshape(-1,PRUNED_SEQ_LENGTH,len(ORDER_LIST)).transpose(-2,-1))\n",
    "        out_val = torch.Tensor(out_val)\n",
    "        out_val = out_val.reshape(len(x_val_data)*PRUNED_SEQ_LENGTH,len(ORDER_LIST))\n",
    "\n",
    "        classpreds_val = torch.argmax(out_val,dim=1)\n",
    "        bool_val = (classpreds_val==ins_val)\n",
    "        class_acc_val = bool_val.sum().item()/bool_val.shape[0]\n",
    "\n",
    "        loss_train = vae_loss(ins_train,out_train,model.z_mean,model.z_log_var)\n",
    "        loss_val = vae_loss(ins_val,out_val,model.z_mean,model.z_log_var)\n",
    "\n",
    "        print('Epoch %s | Training Loss: %s, Training Accuracy: %s, Validation Loss: %s, Validation Accuracy: %s'\n",
    "              %( epoch, loss_train.item(), class_acc_train, loss_val.item(), class_acc_val ) )"
   ]
  },
  {
   "cell_type": "code",
   "execution_count": 50,
   "metadata": {
    "collapsed": false
   },
   "outputs": [
    {
     "data": {
      "text/plain": [
       "torch.Size([20, 24, 82])"
      ]
     },
     "execution_count": 50,
     "metadata": {},
     "output_type": "execute_result"
    }
   ],
   "source": [
    "batch.shape"
   ]
  },
  {
   "cell_type": "markdown",
   "metadata": {},
   "source": [
    "Let's explore the latent space"
   ]
  },
  {
   "cell_type": "code",
   "execution_count": 33,
   "metadata": {
    "collapsed": true
   },
   "outputs": [],
   "source": [
    "fit_xtrain = model(torch.Tensor(x_train)).detach()\n",
    "z_means = model.z_mean.detach()"
   ]
  },
  {
   "cell_type": "code",
   "execution_count": 35,
   "metadata": {
    "collapsed": false
   },
   "outputs": [
    {
     "data": {
      "image/png": "[encoded data removed]",
      "text/plain": [
       "<Figure size 432x288 with 1 Axes>"
      ]
     },
     "metadata": {
      "needs_background": "light"
     },
     "output_type": "display_data"
    }
   ],
   "source": [
    "transposed_zmeans = np.array(z_means).transpose()\n",
    "\n",
    "plt.scatter(transposed_zmeans[0], transposed_zmeans[1], s = 1, linewidths = 0)\n",
    "plt.show()"
   ]
  },
  {
   "cell_type": "code",
   "execution_count": 36,
   "metadata": {
    "collapsed": true
   },
   "outputs": [],
   "source": [
    "from sklearn.cluster import KMeans\n",
    "\n",
    "z_means_np = np.array(z_means)\n",
    "kmeans = KMeans(n_clusters=12, random_state=1).fit(z_means_np)"
   ]
  },
  {
   "cell_type": "code",
   "execution_count": 37,
   "metadata": {
    "collapsed": false
   },
   "outputs": [
    {
     "data": {
      "image/png": "[encoded data removed]",
      "text/plain": [
       "<Figure size 864x864 with 1 Axes>"
      ]
     },
     "metadata": {
      "needs_background": "light"
     },
     "output_type": "display_data"
    }
   ],
   "source": [
    "sample_points=len(z_means_np)\n",
    "\n",
    "latent_dim = 2\n",
    "fig = plt.figure(figsize=(12,12))\n",
    "counter=0\n",
    "cmap=kmeans.labels_\n",
    "for z1 in range(latent_dim):\n",
    "    for z2 in range(z1+1,latent_dim):\n",
    "        counter+=1\n",
    "        fig.add_subplot(latent_dim,latent_dim,counter)\n",
    "        plt.title(str(z1)+\"_\"+str(z2))\n",
    "        plt.scatter(z_means_np[:, z1][::-1], z_means_np[:, z2][::-1],c=cmap[::-1], s = 15, alpha=0.01,marker=\"o\")\n",
    "#         plt.scatter(z_means_np[:, z1][::-1], z_means_np[:, z2][::-1],c=\"y\" ,alpha=0.3,marker=\"o\")\n",
    "        plt.scatter(z_means_np[0][z1], z_means_np[0][z2],c=\"r\" ,alpha=1,s=40,marker=\"s\")\n",
    "        plt.xlabel(\"Latent dim\"+str(z1+1))\n",
    "        plt.ylabel(\"Latent dim\"+str(z2+1));\n",
    "plt.savefig(\"Try2_originalDropout.png\")\n"
   ]
  },
  {
   "cell_type": "code",
   "execution_count": 46,
   "metadata": {
    "collapsed": false
   },
   "outputs": [
    {
     "data": {
      "image/png": "[encoded data removed]",
      "text/plain": [
       "<Figure size 432x288 with 1 Axes>"
      ]
     },
     "metadata": {
      "needs_background": "light"
     },
     "output_type": "display_data"
    }
   ],
   "source": [
    "plt.pcolor(x_train[0].reshape(82, 24).transpose(1, 0))\n",
    "plt.show()"
   ]
  },
  {
   "cell_type": "code",
   "execution_count": 116,
   "metadata": {
    "collapsed": false
   },
   "outputs": [
    {
     "name": "stderr",
     "output_type": "stream",
     "text": [
      "//anaconda/envs/ML_env/lib/python3.6/site-packages/ipykernel_launcher.py:4: UserWarning: Implicit dimension choice for softmax has been deprecated. Change the call to include dim=X as an argument.\n",
      "  after removing the cwd from sys.path.\n"
     ]
    }
   ],
   "source": [
    "# reshaped_fit_xtrain = fit_xtrain.reshape(len(x_train)*len(ORDER_LIST),PRUNED_SEQ_LENGTH)\n",
    "m = torch.nn.Softmax()\n",
    "\n",
    "reshaped_fit_xtrain = m(fit_xtrain.reshape(50000 * 82, 24)).reshape(50000, 82, 24).transpose(2, 1)\n",
    "\n",
    "# m = torch.nn.Sigmoid()\n",
    "\n",
    "# reshaped_fit_xtrain = torch.stack(list(map(m, fit_xtrain))).reshape(50000, 82, 24).transpose(2, 1)"
   ]
  },
  {
   "cell_type": "code",
   "execution_count": 118,
   "metadata": {
    "collapsed": false
   },
   "outputs": [
    {
     "data": {
      "text/plain": [
       "<matplotlib.collections.PolyCollection at 0x1c9cc2f28>"
      ]
     },
     "execution_count": 118,
     "metadata": {},
     "output_type": "execute_result"
    },
    {
     "data": {
      "image/png": "[encoded data removed]",
      "text/plain": [
       "<Figure size 432x288 with 1 Axes>"
      ]
     },
     "metadata": {
      "needs_background": "light"
     },
     "output_type": "display_data"
    }
   ],
   "source": [
    "plt.pcolor(reshaped_fit_xtrain[0])"
   ]
  },
  {
   "cell_type": "code",
   "execution_count": 119,
   "metadata": {
    "collapsed": false
   },
   "outputs": [
    {
     "data": {
      "text/plain": [
       "<matplotlib.collections.PolyCollection at 0x1dc1e04e0>"
      ]
     },
     "execution_count": 119,
     "metadata": {},
     "output_type": "execute_result"
    },
    {
     "data": {
      "image/png": "[encoded data removed]",
      "text/plain": [
       "<Figure size 432x288 with 1 Axes>"
      ]
     },
     "metadata": {
      "needs_background": "light"
     },
     "output_type": "display_data"
    }
   ],
   "source": [
    "plt.pcolor(np.matmul(test_data_plus[0].reshape(digit_size, sequence_size).T, digit_wt))"
   ]
  },
  {
   "cell_type": "code",
   "execution_count": 134,
   "metadata": {
    "collapsed": false
   },
   "outputs": [
    {
     "name": "stdout",
     "output_type": "stream",
     "text": [
      "Spearman SpearmanrResult(correlation=0.6171665938583073, pvalue=1.0688605025322733e-124)\n",
      "Pearson (0.6220679102309152, 3.2038257430910975e-127)\n"
     ]
    }
   ],
   "source": [
    "sample_size=batch_size*int(len(test_data_plus)/batch_size)\n",
    "sample_for_averging_size=100\n",
    "sequence_size=PRUNED_SEQ_LENGTH\n",
    "digit_size = len(ORDER_LIST)\n",
    "x_decoded=reshaped_fit_xtrain\n",
    "\n",
    "digit = reshaped_fit_xtrain[0]#fit_xtrain_softmax_reshaped[0]\n",
    "digit_wt = digit\n",
    "digit_wt = normalize(digit,axis=0, norm='l1')\n",
    "# print (digit_wt)\n",
    "\n",
    "\n",
    "wt_prob=compute_log_probability(test_data_plus[0].reshape(digit_size, sequence_size),digit_wt)\n",
    "#print (\"wt_log_prob: \", wt_prob)\n",
    "\n",
    "wt_probs=[]\n",
    "digit_avg=np.zeros((digit_size, sequence_size))\n",
    "\n",
    "\n",
    "sample_indices=random.sample(range(sample_size),sample_for_averging_size)\n",
    "\n",
    "counter=0\n",
    "for sample in sample_indices:\n",
    "    digit = x_decoded[sample]\n",
    "#     print (digit)\n",
    "#     print (digit_avg)\n",
    "#     digit_wt_i = normalize(digit,axis=0, norm='l1')\n",
    "    digit_wt_i = digit\n",
    "    \n",
    "#     print (digit_wt_i)\n",
    "    \n",
    "    digit_avg+=np.array(digit_wt_i) * 1. / sample_for_averging_size\n",
    "    \n",
    "    wt_p=compute_log_probability(test_data_plus[sample].reshape(digit_size, sequence_size),digit_wt_i)\n",
    "    wt_probs.append(wt_p)\n",
    "    counter+=1\n",
    "    \n",
    "average_wt_p=np.mean(wt_probs)\n",
    "\n",
    "fitnesses_vs_wt=[]\n",
    "fitnesses=[] #first plug in just the sequences\n",
    "fitnesses_vs_avg=[] \n",
    "\n",
    "for sample in range(1,sample_size):\n",
    "    digit = x_decoded[sample]\n",
    "#     digit = normalize(digit,axis=0, norm='l1')\n",
    "    \n",
    "    fitness=compute_log_probability(test_data_plus[sample].reshape(digit_size, sequence_size),digit)-wt_prob\n",
    "    fitnesses.append(fitness)\n",
    "    \n",
    "    fitness=compute_log_probability(test_data_plus[sample].reshape(digit_size, sequence_size),digit_wt)-wt_prob\n",
    "    fitnesses_vs_wt.append(fitness)\n",
    "    \n",
    "    fitness=compute_log_probability(test_data_plus[sample].reshape(digit_size, sequence_size),digit_avg)-average_wt_p\n",
    "    fitnesses_vs_avg.append(fitness)\n",
    "    \n",
    "    \n",
    "print (\"Spearman\",spearmanr(fitnesses_vs_wt,target_values_singles[:sample_size-1]))\n",
    "print (\"Pearson\", pearsonr(fitnesses_vs_wt,target_values_singles[:sample_size-1]))"
   ]
  },
  {
   "cell_type": "code",
   "execution_count": 89,
   "metadata": {
    "collapsed": false
   },
   "outputs": [
    {
     "data": {
      "text/plain": [
       "<matplotlib.collections.PolyCollection at 0x13a8fa6d8>"
      ]
     },
     "execution_count": 89,
     "metadata": {},
     "output_type": "execute_result"
    },
    {
     "data": {
      "image/png": "[encoded data removed]",
      "text/plain": [
       "<Figure size 432x288 with 1 Axes>"
      ]
     },
     "metadata": {
      "needs_background": "light"
     },
     "output_type": "display_data"
    }
   ],
   "source": [
    "plt.pcolor(test_data_plus[0].reshape(digit_size, sequence_size))"
   ]
  },
  {
   "cell_type": "code",
   "execution_count": 70,
   "metadata": {
    "collapsed": false,
    "scrolled": false
   },
   "outputs": [
    {
     "data": {
      "text/plain": [
       "<matplotlib.collections.PolyCollection at 0x1c9376710>"
      ]
     },
     "execution_count": 70,
     "metadata": {},
     "output_type": "execute_result"
    },
    {
     "data": {
      "image/png": "[encoded data removed]",
      "text/plain": [
       "<Figure size 432x288 with 1 Axes>"
      ]
     },
     "metadata": {
      "needs_background": "light"
     },
     "output_type": "display_data"
    }
   ],
   "source": [
    "plt.pcolor(digit_wt)"
   ]
  },
  {
   "cell_type": "code",
   "execution_count": 133,
   "metadata": {
    "collapsed": false
   },
   "outputs": [
    {
     "data": {
      "text/plain": [
       "SpearmanrResult(correlation=-0.03928022866861686, pvalue=0.17771055460550264)"
      ]
     },
     "execution_count": 133,
     "metadata": {},
     "output_type": "execute_result"
    }
   ],
   "source": [
    "spearmanr(fitnesses_vs_avg, fitnesses)"
   ]
  },
  {
   "cell_type": "code",
   "execution_count": 142,
   "metadata": {
    "collapsed": false,
    "scrolled": false
   },
   "outputs": [
    {
     "data": {
      "image/png": "[encoded data removed]",
      "text/plain": [
       "<Figure size 432x288 with 1 Axes>"
      ]
     },
     "metadata": {
      "needs_background": "light"
     },
     "output_type": "display_data"
    }
   ],
   "source": [
    "plt.scatter(fitnesses_vs_wt, target_values_singles[:sample_size-1], alpha = 0.5, s = 10)\n",
    "plt.ylabel(\"Fitness vs. wt\")\n",
    "plt.xlabel(\"p(x)\")\n",
    "plt.title(spearmanr(fitnesses_vs_wt, target_values_singles[:sample_size-1]))\n",
    "plt.tight_layout()\n",
    "plt.savefig(\"Correlation.png\")\n",
    "plt.show()\n"
   ]
  },
  {
   "cell_type": "code",
   "execution_count": 130,
   "metadata": {
    "collapsed": false
   },
   "outputs": [
    {
     "data": {
      "image/png": "[encoded data removed]",
      "text/plain": [
       "<Figure size 432x288 with 1 Axes>"
      ]
     },
     "metadata": {
      "needs_background": "light"
     },
     "output_type": "display_data"
    }
   ],
   "source": [
    "plt.scatter(fitnesses_vs_wt, target_values_singles[:sample_size-1], alpha = 0.5, s = 10)\n",
    "plt.show()"
   ]
  },
  {
   "cell_type": "code",
   "execution_count": null,
   "metadata": {
    "collapsed": true
   },
   "outputs": [],
   "source": [
    "plt.hist(fitnesses,bins=30)\n",
    "plt.show()"
   ]
  },
  {
   "cell_type": "code",
   "execution_count": null,
   "metadata": {
    "collapsed": true
   },
   "outputs": [],
   "source": [
    "plt.hist(target_values_singles[:sample_size-1], bins=50)\n",
    "plt.show()"
   ]
  },
  {
   "cell_type": "code",
   "execution_count": null,
   "metadata": {
    "collapsed": true
   },
   "outputs": [],
   "source": []
  },
  {
   "cell_type": "code",
   "execution_count": null,
   "metadata": {
    "collapsed": true
   },
   "outputs": [],
   "source": []
  },
  {
   "cell_type": "code",
   "execution_count": null,
   "metadata": {
    "collapsed": true
   },
   "outputs": [],
   "source": []
  },
  {
   "cell_type": "code",
   "execution_count": null,
   "metadata": {
    "collapsed": true
   },
   "outputs": [],
   "source": []
  },
  {
   "cell_type": "code",
   "execution_count": null,
   "metadata": {
    "collapsed": true
   },
   "outputs": [],
   "source": []
  },
  {
   "cell_type": "markdown",
   "metadata": {},
   "source": [
    "We have kept track of some performance metrics, so we can follow whether the network was still improving. "
   ]
  },
  {
   "cell_type": "code",
   "execution_count": null,
   "metadata": {
    "collapsed": true
   },
   "outputs": [],
   "source": [
    "#print performance measures over time\n",
    "keys=[\"categorical_accuracy\",\"top_k_categorical_accuracy\"]\n",
    "for key in keys:\n",
    "    if not key.startswith(\"val_\"):\n",
    "        plt.plot(hist.history[\"val_\"+key],label=\"val_\"+key)\n",
    "plt.xlabel(\"epochs\")\n",
    "plt.legend(bbox_to_anchor=(1.6,0.5));"
   ]
  },
  {
   "cell_type": "markdown",
   "metadata": {},
   "source": [
    "Our metric of interest of course is the prediction power (here spearman's rank correlation) between protein sequence probability and the actual fitness measurements."
   ]
  },
  {
   "cell_type": "code",
   "execution_count": null,
   "metadata": {
    "collapsed": true
   },
   "outputs": [],
   "source": [
    "plt.plot(spearman_measure.scores)\n",
    "plt.title(\"Spearman corr over epochs\")\n",
    "plt.xlabel(\"epochs\")\n",
    "plt.ylabel(\"Spearman corr\");"
   ]
  },
  {
   "cell_type": "markdown",
   "metadata": {},
   "source": [
    "## 3. Exploring the Latent Space\n",
    "It is helpful to visualize the latent space to see if the network is separating any mutants (and how the variance is captured). The wildtype sequence is highlighted in red. "
   ]
  },
  {
   "cell_type": "code",
   "execution_count": null,
   "metadata": {
    "collapsed": true
   },
   "outputs": [],
   "source": [
    "encoder = Model(x, z_mean)\n",
    "sample_points=data_set_size\n",
    "\n",
    "sample_size=batch_size*int(len(test_data_plus)/batch_size)\n",
    "sample_for_averging_size=100\n",
    "sequence_size=PRUNED_SEQ_LENGTH\n",
    "digit_size = len(ORDER_LIST)\n",
    "\n",
    "#wildtype in red\n",
    "x_train_encoded = encoder.predict(training_data[:sample_points], batch_size=batch_size)\n",
    "x_test_encoded=encoder.predict(all_test_data[:15060], batch_size=batch_size)\n",
    "wt_encoding=x_train_encoded[0].reshape(1,latent_dim)\n",
    "\n",
    "x_decoded=vae.predict(test_data_plus[0:sample_size],batch_size=batch_size)\n",
    "digit = x_decoded[0].reshape(digit_size,sequence_size)\n",
    "digit_wt = normalize(digit,axis=0, norm='l1')\n",
    "wt_prob=compute_log_probability(test_data_plus[0].reshape(digit_size,sequence_size),digit_wt)\n",
    "\n",
    "fig = plt.figure(figsize=(12,12))\n",
    "counter=0\n",
    "cmap=[\"r\" if i==0 else \"b\" for i in range(sample_points)]\n",
    "for z1 in range(latent_dim):\n",
    "    for z2 in range(z1+1,latent_dim):\n",
    "        counter+=1\n",
    "        fig.add_subplot(latent_dim,latent_dim,counter)\n",
    "        plt.title(str(z1)+\"_\"+str(z2))\n",
    "        plt.scatter(x_train_encoded[:, z1][::-1], x_train_encoded[:, z2][::-1],c=cmap[::-1] ,alpha=0.01)\n",
    "\n",
    "        plt.scatter(x_test_encoded[:, z1][::-1], x_test_encoded[:, z2][::-1],c=\"y\" ,alpha=0.3)\n",
    "        plt.scatter(x_train_encoded[0][z1], x_train_encoded[0][z2],c=\"r\" ,alpha=1)\n",
    "        plt.xlabel(\"Latent dim\"+str(z1+1))\n",
    "        plt.ylabel(\"Latent dim\"+str(z2+1));"
   ]
  },
  {
   "cell_type": "markdown",
   "metadata": {},
   "source": [
    "We can see that there is an interesting branching structure occuring. We can decipher this structure. It is also possible to run the network with more latent variables (usually improves the results by a little). In such cases we can also plot the latent dimensions 3 at a time (instead of 2 at a time above)."
   ]
  },
  {
   "cell_type": "code",
   "execution_count": null,
   "metadata": {
    "collapsed": true
   },
   "outputs": [],
   "source": [
    "# for 3d Visualization of latent space if at least three dimensions existed\n",
    "if latent_dim>2:\n",
    "    %matplotlib inline\n",
    "    from mpl_toolkits.mplot3d import Axes3D\n",
    "    fig = plt.figure()\n",
    "    ax = fig.add_subplot(111, projection='3d')\n",
    "    encoder = Model(x, z_mean)\n",
    "    # display a 2D plot of the digit classes in the latent space\n",
    "    #x_test_encoded = encoder.predict(x_test, batch_size=batch_size)\n",
    "\n",
    "    plt.figure(figsize=(8, 8))\n",
    "    #plt.scatter(x_test_encoded[:, 0], x_test_encoded[: ,1])#, c=y_test)\n",
    "    ax.scatter(x_train_encoded[:, 0], x_train_encoded[:, 1],x_train_encoded[:, 2],c=\"b\",alpha=0.01)\n",
    "    ax.scatter(x_test_encoded[:, 0], x_test_encoded[:, 1],x_test_encoded[:, 2],c=\"y\",alpha=0.75)\n",
    "    ax.scatter(x_train_encoded[0][0], x_train_encoded[0][1],x_train_encoded[0][2], c=\"r\" ,alpha=1)\n"
   ]
  },
  {
   "cell_type": "markdown",
   "metadata": {},
   "source": [
    "To further understand the structure we saw above we first look at the distribution of distances of sequences from each other. We can cluster the data using a simple approach like k-means, and then re-map that onto our plot above."
   ]
  },
  {
   "cell_type": "code",
   "execution_count": null,
   "metadata": {
    "collapsed": true
   },
   "outputs": [],
   "source": [
    "from sklearn.cluster import KMeans\n",
    "kmeans = KMeans(n_clusters=12, random_state=1).fit(training_data[:data_set_size])"
   ]
  },
  {
   "cell_type": "code",
   "execution_count": null,
   "metadata": {
    "collapsed": true
   },
   "outputs": [],
   "source": [
    "sample_points=data_set_size\n",
    "\n",
    "fig = plt.figure(figsize=(12,12))\n",
    "counter=0\n",
    "cmap=kmeans.labels_\n",
    "for z1 in range(latent_dim):\n",
    "    for z2 in range(z1+1,latent_dim):\n",
    "        counter+=1\n",
    "        fig.add_subplot(latent_dim,latent_dim,counter)\n",
    "        plt.title(str(z1)+\"_\"+str(z2))\n",
    "        plt.scatter(x_train_encoded[:, z1][::-1], x_train_encoded[:, z2][::-1],c=cmap[::-1] ,alpha=0.01,marker=\"o\")\n",
    "        plt.scatter(x_test_encoded[:, z1][::-1], x_test_encoded[:, z2][::-1],c=\"y\" ,alpha=0.3,marker=\"o\")\n",
    "        plt.scatter(x_test_encoded[0][z1], x_test_encoded[0][z2],c=\"r\" ,alpha=1,s=40,marker=\"s\")\n",
    "        plt.xlabel(\"Latent dim\"+str(z1+1))\n",
    "        plt.ylabel(\"Latent dim\"+str(z2+1));\n"
   ]
  },
  {
   "cell_type": "markdown",
   "metadata": {},
   "source": [
    "It appears that the k-means clustering strongly aligns with how the network has split the training data into branches. Hence sequence distances are a large factor in this projection onto the latent space. "
   ]
  },
  {
   "cell_type": "markdown",
   "metadata": {
    "collapsed": true
   },
   "source": [
    "Next, I compute the likelihood of the wildtype sequence occuring in each position within the latent space. This is interesting because it lets us visually how much the distribution of sequences is favorable to the wildtype at that particular place in the latent space. To see how this probability is computed, see [below](#P_compute).\n"
   ]
  },
  {
   "cell_type": "code",
   "execution_count": null,
   "metadata": {
    "collapsed": true
   },
   "outputs": [],
   "source": [
    "probs=[]\n",
    "points_x=np.arange(min(x_train_encoded[:, 0]),max(x_train_encoded[:, 0]),(max(x_train_encoded[:, 0])-min(x_train_encoded[:, 0]))*0.0025)\n",
    "points_y=np.arange(min(x_train_encoded[:, 1]),max(x_train_encoded[:, 1]),(max(x_train_encoded[:, 1])-min(x_train_encoded[:, 1]))*0.0025)\n",
    "\n",
    "decoder_input = Input(shape=(latent_dim,))\n",
    "_x_decoded_mean= decoder_out(decoder_3(decoder_2d(decoder_2(decoder_1(decoder_input)))))\n",
    "\n",
    "generator = Model(decoder_input, _x_decoded_mean)\n",
    "\n",
    "for i in points_x:\n",
    "    for j in points_y:\n",
    "        x_decoded=generator.predict(np.array([i,j]).reshape(1,-1)).reshape(digit_size,sequence_size)\n",
    "        digit_prob=normalize(x_decoded,axis=0, norm='l1')\n",
    "        value_to_append=compute_log_probability(all_test_data[0].reshape(digit_size,sequence_size),digit_prob)\n",
    "        probs.append(value_to_append)\n",
    "       #if interested in seeing which points in the matrix come closest to the wildtype, they can be printed using the code that follows \n",
    "        #if i<wt_encoding[0][0]+0.1 and i>=wt_encoding[0][0]-0.1:\n",
    "         #   if j<wt_encoding[0][1]+0.1 and j>=wt_encoding[0][1]-0.1:\n",
    "          #      print (i,j,value_to_append)\n",
    "            \n",
    "            \n",
    "probs=np.array(probs)\n",
    "probs[probs<-2000]=-2000\n",
    "probs=probs.reshape(len(points_x),len(points_y)).T"
   ]
  },
  {
   "cell_type": "markdown",
   "metadata": {},
   "source": [
    "We can now plot the probabilities onto the latent space. White areas are where wildtype occurs with the same probability as it’s own coordinate in the latent space. Red means that wildtype is less favored in those locations, and blue means it is more favored (than it’s own location). Notice that in certain datasets (and realizations of the latent space), the positive range is very small and it may appear that there is a flat dark blue area. This is simply because the sequences that are better than wildtype are usually just slightly better, and hence there is little room for the positive side of the colorbar to show its gradient. The wildtype may also be in a blue area because of the \"binning\" or pixelation as a result of the way we compute the probabilities.  "
   ]
  },
  {
   "cell_type": "code",
   "execution_count": null,
   "metadata": {
    "collapsed": true
   },
   "outputs": [],
   "source": [
    "import matplotlib.cm \n",
    "fig = plt.figure(figsize=(12,9))\n",
    "orig_cmap = matplotlib.cm.bwr_r\n",
    "midpoint=((np.min(probs)-wt_prob)/(np.min(probs)-np.max(probs)))\n",
    "offset_top=np.max(probs)+5 #better visualization because often the \"beneficial\" coords are very close to wildtype in fitness, coarse graining may result in misleading visuals\n",
    "\n",
    "shrunk_cmap = shiftedColorMap(orig_cmap, start=0.0, midpoint=midpoint, stop=1, name='shrunk')\n",
    "plt.pcolormesh(points_x,points_y, probs,cmap=shrunk_cmap,vmin=np.min(probs), vmax=offset_top)\n",
    "ax=plt.colorbar()\n",
    "ax.set_label(\"log probability of wildtype\")\n",
    "plt.scatter(x_train_encoded[:, 0][::-1], x_train_encoded[:, 1][::-1],c=cmap[::-1] ,alpha=0.1)\n",
    "plt.scatter(x_test_encoded[:, 0][1180:], x_test_encoded[:, 1][1180:],c=\"purple\" ,alpha=0.3)\n",
    "plt.scatter(x_test_encoded[:, 0][1:1180], x_test_encoded[:, 1][1:1180],c=\"g\" ,alpha=0.3)\n",
    "plt.scatter(x_train_encoded[0][0], x_train_encoded[0][1],c=\"r\" ,alpha=1,s=40,marker=\"s\")\n",
    "plt.xlabel(\"latent dim 1\")\n",
    "plt.ylabel(\"latent dim 2\")\n",
    "\n",
    "plt.xlim(min(points_x),max(points_x))\n",
    "plt.ylim(min(points_y),max(points_y));"
   ]
  },
  {
   "cell_type": "markdown",
   "metadata": {},
   "source": [
    "We can zoom in closer to the wildtype, here we removed the cluster colors, and the yellow dots show the test data (single and double mutants). "
   ]
  },
  {
   "cell_type": "code",
   "execution_count": null,
   "metadata": {
    "collapsed": true
   },
   "outputs": [],
   "source": [
    "fig = plt.figure(figsize=(12,8))\n",
    "\n",
    "plt.pcolor(points_x,points_y, probs,cmap=shrunk_cmap,vmax=offset_top)\n",
    "ax=plt.colorbar()\n",
    "ax.set_label(\"log probability of wildtype\")\n",
    "\n",
    "plt.scatter(x_train_encoded[:, 0][::-1], x_train_encoded[:, 1][::-1],c=cmap[::-1] ,alpha=0.5)\n",
    "plt.scatter(x_test_encoded[:, 0][1180:], x_test_encoded[:, 1][1180:],c=\"purple\" ,alpha=0.3,label=\"double_mut\")\n",
    "plt.scatter(x_test_encoded[:, 0][1:1180], x_test_encoded[:, 1][1:1180],c=\"g\" ,alpha=0.3,label=\"single_mut\")\n",
    "plt.scatter(x_train_encoded[0][0], x_train_encoded[0][1],c=\"r\" ,alpha=1,s=40,marker=\"s\",label=\"wt\")\n",
    "\n",
    "wt_x=wt_encoding[0][0]\n",
    "wt_y=wt_encoding[0][1]\n",
    "offset=2\n",
    "plt.xlim(wt_x-offset,wt_x+offset);\n",
    "plt.ylim(wt_y-offset,wt_y+offset);\n",
    "\n",
    "plt.legend();\n",
    "plt.xlabel(\"latent dim 1\")\n",
    "plt.xlabel(\"latent dim 2\");"
   ]
  },
  {
   "cell_type": "markdown",
   "metadata": {},
   "source": [
    "We can see how the reconstruction changes as we walk from a wildtype to a mutant in latent space."
   ]
  },
  {
   "cell_type": "code",
   "execution_count": null,
   "metadata": {
    "collapsed": true
   },
   "outputs": [],
   "source": [
    "x_decoded=vae.predict(test_data_plus[0:200],batch_size=batch_size)\n",
    "digit_wt = x_decoded[0].reshape(digit_size,sequence_size)\n",
    "digit_wt = normalize(digit_wt,axis=0, norm='l1')\n",
    "\n",
    "mut_sample=100\n",
    "\n",
    "digit_p= x_decoded[mut_sample].reshape(digit_size,sequence_size)\n",
    "digit_p = normalize(digit_p,axis=0, norm='l1')\n",
    "\n",
    "fig = plt.figure(figsize=(12,18))\n",
    "\n",
    "fig.add_subplot(412)\n",
    "\n",
    "plt.pcolor(digit_wt,cmap=\"hot\",vmin=0,vmax=1)\n",
    "plt.colorbar()\n",
    "\n",
    "plt.xlim(0,82);\n",
    "plt.ylim(0,24);\n",
    "plt.title(\"wild_type_reconstruction\")\n",
    "plt.yticks(range(24),ORDER_LIST)\n",
    "\n",
    "fig.add_subplot(413)\n",
    "\n",
    "plt.pcolor(digit_p,cmap=\"hot\",vmin=0,vmax=1)\n",
    "plt.colorbar()\n",
    "\n",
    "plt.xlim(0,82);\n",
    "plt.ylim(0,24);\n",
    "plt.yticks(range(24),ORDER_LIST)\n",
    "\n",
    "plt.title(\"mutant_reconstruction\")\n",
    "\n",
    "fig.add_subplot(411)\n",
    "\n",
    "plt.pcolor(abs(test_data_plus[0].reshape(digit_size,sequence_size)+(test_data_plus[mut_sample].reshape(digit_size,sequence_size))*2),cmap=\"hot\",vmin=0,vmax=3)\n",
    "\n",
    "plt.xlim(0,82);\n",
    "plt.ylim(0,24);\n",
    "plt.yticks(range(24),ORDER_LIST)\n",
    "\n",
    "plt.title(\"one hot encoding of input sequence (wt(red), mut(yellow))\")\n",
    "\n",
    "fig.add_subplot(414)\n",
    "\n",
    "plt.pcolor(-digit_wt+digit_p,cmap=\"bwr\",vmin=-0.05,vmax=0.05)\n",
    "plt.colorbar()\n",
    "plt.xlim(0,82);\n",
    "plt.ylim(0,24);\n",
    "plt.yticks(range(24),ORDER_LIST)\n",
    "\n",
    "plt.title(\"difference in distribution (mutant-wt): Notice that the scale is different\");"
   ]
  },
  {
   "cell_type": "markdown",
   "metadata": {},
   "source": [
    "Notice the slight change in the probabilities, for other positions in the sequence, not just those that differed in the original input sequence (fourth panel).  \n",
    "\n",
    "\n",
    "Alternatively, we can move in the latent dimension (along the eigen basis) by preturbing coordinates starting at the wildtype and observe the change in probabilities. To do so, we first compute the principal eigenvector for the test data."
   ]
  },
  {
   "cell_type": "code",
   "execution_count": null,
   "metadata": {
    "collapsed": true
   },
   "outputs": [],
   "source": [
    "from sklearn.decomposition import PCA\n",
    "\n",
    "pca = PCA(n_components=1)\n",
    "pca_result=pca.fit(x_test_encoded)\n",
    "\n",
    "print(\"Explained variance by first component\", pca.explained_variance_ratio_) "
   ]
  },
  {
   "cell_type": "markdown",
   "metadata": {},
   "source": [
    "We can plot the points along the eigenvector in the latent space (shown in cyan)."
   ]
  },
  {
   "cell_type": "code",
   "execution_count": null,
   "metadata": {
    "collapsed": true
   },
   "outputs": [],
   "source": [
    "fig = plt.figure(figsize=(10,10))\n",
    "plt.pcolormesh(points_x,points_y, probs,cmap=shrunk_cmap,vmin=np.min(probs), vmax=offset_top)\n",
    "\n",
    "\n",
    "plt.colorbar() \n",
    "plt.scatter(x_train_encoded[:,0][::-1], x_train_encoded[:, 1][::-1],c=\"b\" ,alpha=0.05)\n",
    "plt.scatter(x_test_encoded[:, 0][::-1], x_test_encoded[:, 1][::-1],c=\"y\" ,alpha=0.3)\n",
    "\n",
    "\n",
    "start_l=-5\n",
    "end_l=5\n",
    "line_start=pca.inverse_transform(np.array([start_l]).reshape(1,-1))\n",
    "line_end=pca.inverse_transform(np.array([end_l]).reshape(1,-1))\n",
    "\n",
    "for i in np.arange(start_l,end_l,0.25):\n",
    "    \n",
    "    perturb=pca.inverse_transform(np.array([i]).reshape(1,-1))\n",
    "    perturbed=perturb\n",
    "    plt.scatter(perturbed[0][0],perturbed[0][1],c=\"c\",alpha=1,s=40)\n",
    "\n",
    "plt.plot([line_start[0][0],line_end[0][0]],[line_start[0][1],line_end[0][1]],c=\"c\")\n",
    "\n",
    "plt.scatter(wt_encoding[0][0],wt_encoding[0][1],c=\"red\",s=40)\n",
    "\n",
    "offset=8\n",
    "plt.xlim(wt_x-offset,wt_x+offset);\n",
    "plt.ylim(wt_y-offset,wt_y+offset);"
   ]
  },
  {
   "cell_type": "markdown",
   "metadata": {},
   "source": [
    "If we move along that axis by a tiny amount and reconstruct the sequence, we will see what is being updated."
   ]
  },
  {
   "cell_type": "code",
   "execution_count": null,
   "metadata": {
    "collapsed": true
   },
   "outputs": [],
   "source": [
    "perturb=pca.inverse_transform(np.array([0.01]).reshape(1,-1))\n",
    "\n",
    "x_decoded=generator.predict(perturb)\n",
    "\n",
    "digit_p = x_decoded.reshape(digit_size,sequence_size)\n",
    "digit_p = normalize(digit_p,axis=0, norm='l1')\n",
    "fig = plt.figure(figsize=(12,15))\n",
    "\n",
    "fig.add_subplot(311)\n",
    "plt.title(\"wild_type_reconstruction\")\n",
    "\n",
    "plt.pcolor(digit_wt,cmap=\"hot\")\n",
    "plt.colorbar()\n",
    "plt.xlim(0,82);\n",
    "plt.ylim(0,24);\n",
    "plt.ylabel(\"AA\")\n",
    "plt.yticks(range(24),ORDER_LIST)\n",
    "\n",
    "\n",
    "\n",
    "fig.add_subplot(312)\n",
    "plt.title(\"mutant_reconstruction\")\n",
    "plt.pcolor(digit_p,cmap=\"hot\")\n",
    "plt.colorbar()\n",
    "plt.xlim(0,82);\n",
    "plt.ylim(0,24);\n",
    "plt.ylabel(\"AA\")\n",
    "plt.yticks(range(24),ORDER_LIST)\n",
    "\n",
    "fig.add_subplot(313)\n",
    "\n",
    "plt.pcolor(-digit_wt+digit_p,cmap=\"bwr\",vmin=-0.05,vmax=0.05)\n",
    "plt.colorbar()\n",
    "plt.xlim(0,82);\n",
    "plt.ylim(0,24);\n",
    "plt.yticks(range(24),ORDER_LIST)\n",
    "\n",
    "plt.title(\"difference in distribution (mutant-wt): Notice that the scale is different\");"
   ]
  },
  {
   "cell_type": "markdown",
   "metadata": {},
   "source": [
    "If you want to see how the walk along the axis changes the sequence, you can use the code below to generate a set of images (like the gif on the blog). "
   ]
  },
  {
   "cell_type": "code",
   "execution_count": null,
   "metadata": {
    "collapsed": true
   },
   "outputs": [],
   "source": [
    "count=0\n",
    "\n",
    "start_l=-15\n",
    "end_l=15\n",
    "line_start=pca.inverse_transform(np.array([start_l]).reshape(1,-1))\n",
    "line_end=pca.inverse_transform(np.array([end_l]).reshape(1,-1))\n",
    "\n",
    "\n",
    "for i in np.arange(start_l,end_l,1):\n",
    "    perturb=pca.inverse_transform(np.array([i]).reshape(1,-1))\n",
    "\n",
    "    x_decoded=generator.predict(perturb)\n",
    "\n",
    "    digit_p = x_decoded.reshape(digit_size,sequence_size)\n",
    "    digit_p = normalize(digit_p,axis=0, norm='l1')\n",
    "    most_likely=most_likely_seq(digit_p)\n",
    "    fig = plt.figure(figsize=(20,8))\n",
    "    fig.add_subplot(121)\n",
    "    plt.xlabel(\"wt preturbed by \"+str(i))\n",
    "    plt.title(most_likely)\n",
    "    plt.pcolor(digit_p,cmap=\"hot\");\n",
    "    plt.xlim(0,82);\n",
    "    plt.ylim(0,24);\n",
    "    plt.ylabel(\"AA\")\n",
    "    plt.yticks(range(24),ORDER_LIST)\n",
    "    plt.xticks(range(82),list(most_likely))\n",
    "    fig.add_subplot(122)\n",
    "    plt.pcolormesh(points_x,points_y, probs,cmap=shrunk_cmap,vmin=np.min(probs), vmax=offset_top)\n",
    "    plt.colorbar() \n",
    "    \n",
    "    perturbed=perturb\n",
    "\n",
    "    plt.scatter(x_train_encoded[:,0][::-1], x_train_encoded[:, 1][::-1],c=\"b\" ,alpha=0.05)\n",
    "    plt.scatter(x_test_encoded[:, 0][::-1], x_test_encoded[:, 1][::-1],c=\"g\" ,alpha=0.25,s=25)\n",
    "    plt.plot([line_start[0][0],line_end[0][0]],[line_start[0][1],line_end[0][1]],\"--\",c=\"c\",linewidth=2,alpha=0.4)\n",
    "\n",
    "    plt.scatter(wt_encoding[0][0],wt_encoding[0][1],c=\"r\",s=40)\n",
    "    plt.scatter(perturbed[0][0],perturbed[0][1],c=\"c\",s=60,alpha=1)\n",
    "\n",
    "\n",
    "\n",
    "    offset=15\n",
    "    plt.xlim(wt_x-offset,wt_x+offset);\n",
    "    plt.ylim(wt_y-offset,wt_y+offset);\n",
    "    plt.savefig(\"exploration/\"+str(count)+\".png\");\n",
    "    count+=1"
   ]
  },
  {
   "cell_type": "markdown",
   "metadata": {},
   "source": [
    "Another approach to study the effects of particular mutations in the latent space is to actually annotate the location that each mutation occupies (on average) within the latent space. Below, I have mutated the same \"G\" amino acid into all of its variants in 3 different positions on the sequence (27,40,44, on the aligned columns). Then I plot the location of those mutations."
   ]
  },
  {
   "cell_type": "code",
   "execution_count": null,
   "metadata": {
    "collapsed": true
   },
   "outputs": [],
   "source": [
    "g_indices=[27,40, 44]#g\n",
    "#k_indices=[33,41, 43] #k\n",
    "#s_indices=[31,32,42] #s\n",
    "single_mutants_g=[]\n",
    "ref_seq=data.iloc[0][\"seq\"]\n",
    "for ind in g_indices:\n",
    "    for aa in ORDER_LIST:\n",
    "        new_sequence=ref_seq[:ind]+aa+ref_seq[ind+1:]\n",
    "        single_mutants_g.append(new_sequence)\n",
    "        \n",
    "one_hot_single_mutants_g=[]  \n",
    "\n",
    "for mutant in single_mutants_g:\n",
    "    one_hot_single_mutants_g.append(translate_string_to_one_hot(mutant,ORDER_LIST))\n",
    "\n",
    "single_mutants_g_OH=np.array([np.array(list(sample.flatten())).T for sample in one_hot_single_mutants_g])\n",
    "single_mutants_g_padded=np.vstack([single_mutants_g_OH,single_mutants_g_OH[:8]]) #padding so I can feed all of it to "
   ]
  },
  {
   "cell_type": "code",
   "execution_count": null,
   "metadata": {
    "collapsed": true
   },
   "outputs": [],
   "source": [
    "mutant_g_encoded = encoder.predict(single_mutants_g_padded, batch_size=batch_size)\n",
    "mutant_g_encoded=mutant_g_encoded[:72]\n",
    "fig, ax = plt.subplots(figsize=(9,9))\n",
    "ax.scatter(x_train_encoded[0][0], x_train_encoded[0][1],c=\"r\" ,alpha=1,s=40,marker=\"s\",label=\"wt\")\n",
    "ax.scatter(mutant_g_encoded[:,0][:24], mutant_g_encoded[:, 1][:24],c=\"b\" ,alpha=0,label=\"pos 27\")\n",
    "\n",
    "for i, txt in enumerate(ORDER_LIST):\n",
    "    ax.annotate(txt, (mutant_g_encoded[:,0][i],mutant_g_encoded[:,1][i]),color=\"b\",size=\"large\")\n",
    "    \n",
    "ax.scatter(mutant_g_encoded[:,0][24:48], mutant_g_encoded[:, 1][24:48],c=\"g\" ,alpha=0,label=\"pos 40\")\n",
    "\n",
    "for i, txt in enumerate(ORDER_LIST):\n",
    "    ax.annotate(txt, (mutant_g_encoded[:,0][i+24],mutant_g_encoded[:,1][i+24]),color=\"g\",size=\"large\")\n",
    "    \n",
    "ax.scatter(mutant_g_encoded[:,0][48:], mutant_g_encoded[:, 1][48:],c=\"g\" ,alpha=0,label=\"pos 44\")\n",
    "\n",
    "for i, txt in enumerate(ORDER_LIST):\n",
    "    ax.annotate(txt, (mutant_g_encoded[:,0][i+48],mutant_g_encoded[:,1][i+48]),color=\"r\",size=\"large\")\n",
    "    \n",
    "plt.title(\"position 27 blue, postition 40 green, position 44 red, wt red square\")\n",
    "plt.xlabel(\"Latent dim 1\")\n",
    "plt.ylabel(\"Latent dim 2\");\n",
    "offset=0.5\n",
    "plt.xlim(wt_x-offset,wt_x+offset);\n",
    "plt.ylim(wt_y-offset,wt_y+offset);"
   ]
  },
  {
   "cell_type": "markdown",
   "metadata": {},
   "source": [
    "While there is some clustering of amino acids based on similarity and position, this trend is not consistent depending on the amino-acid/mutation and position of choice. We can also project the measured fitness onto the latent space. "
   ]
  },
  {
   "cell_type": "code",
   "execution_count": null,
   "metadata": {
    "collapsed": true
   },
   "outputs": [],
   "source": [
    "fig = plt.figure(figsize=(12,8))\n",
    "import matplotlib.cm as cm\n",
    "from matplotlib import colors\n",
    "\n",
    "norm = colors.Normalize(vmin=min(target_values_doubles), vmax=1)\n",
    "cmap_v = cm.hot\n",
    "m = cm.ScalarMappable(norm=norm, cmap=cmap_v)\n",
    "\n",
    "plt.scatter(x_test_encoded[:, 0][1180:], x_test_encoded[:, 1][1180:],c=list(map(m.to_rgba,target_values_doubles[:len(x_test_encoded[:, 1][1180:])])) ,alpha=0.3,label=\"double_mut\")\n",
    "plt.scatter(x_test_encoded[:, 0][1:1180], x_test_encoded[:, 1][1:1180],c=list(map(m.to_rgba,target_values_singles[1:1180])) ,alpha=0.3,label=\"single_mut\")\n",
    "plt.scatter(x_train_encoded[0][0], x_train_encoded[0][1],c=\"w\" ,alpha=1,s=40,marker=\"s\",label=\"wt\")\n",
    "\n",
    "wt_x=wt_encoding[0][0]\n",
    "wt_y=wt_encoding[0][1]\n",
    "offset=2\n",
    "plt.xlim(wt_x-offset,wt_x+offset);\n",
    "plt.ylim(wt_y-offset,wt_y+offset);\n",
    "\n",
    "plt.legend();\n",
    "plt.xlabel(\"latent dim 1\")\n",
    "plt.ylabel(\"latent dim 2\");"
   ]
  },
  {
   "cell_type": "markdown",
   "metadata": {},
   "source": [
    "There are no obvious trends in the latent space that would correspond to fitness values. "
   ]
  },
  {
   "cell_type": "markdown",
   "metadata": {},
   "source": [
    "<a id='P_compute'></a>\n",
    "\n",
    "\n",
    "## 4. Predicting fitness based on sequence probability\n",
    "\n",
    "We compute the (log) probability of a sequence as:\n",
    "$$ \\log(trace(H^T P)) $$\n",
    "\n",
    "Where $H$ is the one-hot encoding of the sequence of interest, and $P$ is the probability weight matrix generated by feeding the network a sequence. Taking the trace of the matrix product is similar to the dot product of two vectors. We compute the fitness in three highly correlated ways (although depending on the dataset, these correlations change). The difference in these approaches is in how to compute $P$. \n",
    "\n",
    "(1)$P$ is the reconstruction of the same sequence that $H$ represents. (we call this prediction or \"fitness\" in the code)\n",
    "\n",
    "(2) $P$ is the reconstruction of the wildtype sequence.  (we call this prediction_wt or \"fitness_wt\" in the code)\n",
    "\n",
    "(3) $P$ is an average reconstruction of 100 samples of mutants. (we call this prediction_avg or \"fitness_avg\" in the code)"
   ]
  },
  {
   "cell_type": "markdown",
   "metadata": {},
   "source": [
    "### 4.1. Single mutants\n",
    "\n",
    "We can now use the trained network to predict the fitnesses. The first step is to compute the fitnesses for all single mutant sequences (and compare it to the wildtype). "
   ]
  },
  {
   "cell_type": "code",
   "execution_count": null,
   "metadata": {
    "collapsed": true
   },
   "outputs": [],
   "source": [
    "sample_size=batch_size*int(len(test_data_plus)/batch_size)\n",
    "sample_for_averging_size=100\n",
    "sequence_size=PRUNED_SEQ_LENGTH\n",
    "digit_size = len(ORDER_LIST)\n",
    "x_decoded=vae.predict(test_data_plus[0:sample_size],batch_size=batch_size)\n",
    "\n",
    "digit = x_decoded[0].reshape(digit_size,sequence_size)\n",
    "digit_wt = normalize(digit,axis=0, norm='l1')\n",
    "wt_prob=compute_log_probability(test_data_plus[0].reshape(digit_size,sequence_size),digit_wt)\n",
    "#print (\"wt_log_prob: \", wt_prob)\n",
    "\n",
    "wt_probs=[]\n",
    "digit_avg=np.zeros((digit_size,sequence_size))\n",
    "\n",
    "\n",
    "sample_indices=random.sample(range(sample_size),sample_for_averging_size)\n",
    "\n",
    "counter=0\n",
    "for sample in sample_indices:\n",
    "    digit = x_decoded[sample].reshape(digit_size,sequence_size)\n",
    "    digit_wt_i = normalize(digit,axis=0, norm='l1')\n",
    "    \n",
    "    digit_avg+=digit_wt_i*1./sample_for_averging_size\n",
    "    wt_p=compute_log_probability(test_data_plus[sample].reshape(digit_size,sequence_size),digit_wt_i)\n",
    "    wt_probs.append(wt_p)\n",
    "    counter+=1\n",
    "average_wt_p=np.mean(wt_probs)\n",
    "\n",
    "fitnesses_vs_wt=[]\n",
    "fitnesses=[]\n",
    "fitnesses_vs_avg=[]\n",
    "\n",
    "for sample in range(1,sample_size):\n",
    "    digit = x_decoded[sample].reshape(digit_size,sequence_size)\n",
    "    digit = normalize(digit,axis=0, norm='l1')\n",
    "    fitness=compute_log_probability(test_data_plus[sample].reshape(digit_size,sequence_size),digit)-wt_prob\n",
    "    fitnesses.append(fitness)\n",
    "    \n",
    "    fitness=compute_log_probability(test_data_plus[sample].reshape(digit_size,sequence_size),digit_wt)-wt_prob\n",
    "    fitnesses_vs_wt.append(fitness)\n",
    "    \n",
    "    fitness=compute_log_probability(test_data_plus[sample].reshape(digit_size,sequence_size),digit_avg)-average_wt_p\n",
    "    fitnesses_vs_avg.append(fitness)\n",
    "    \n",
    "    \n",
    "print (\"Spearman\",spearmanr(fitnesses,target_values_singles[:sample_size-1]))\n",
    "print (\"Pearson\", pearsonr(fitnesses,target_values_singles[:sample_size-1]))"
   ]
  },
  {
   "cell_type": "markdown",
   "metadata": {},
   "source": [
    "As a first step, we draw the distribution of the normalized predicted fitnesses vs. the experimental data. We care about the relative distributions, rather than the exact values, so we can renormalize the predictions to roughly fall in the range of the data."
   ]
  },
  {
   "cell_type": "code",
   "execution_count": null,
   "metadata": {
    "collapsed": true
   },
   "outputs": [],
   "source": [
    "predictions=np.array(list(map(lambda x: x*1./(4*(max (fitnesses))),fitnesses))) #arbitrary renormalization\n",
    "indip=list(map(lambda x: x*1./max (exp_data_singles[\"effect_prediction_independent\"]),exp_data_singles[\"effect_prediction_independent\"]))\n",
    "epis=list(map(lambda x: x*1./max (exp_data_singles[\"effect_prediction_epistatic\"]),exp_data_singles[\"effect_prediction_epistatic\"]))"
   ]
  },
  {
   "cell_type": "code",
   "execution_count": null,
   "metadata": {
    "collapsed": true
   },
   "outputs": [],
   "source": [
    "plt.hist(predictions[predictions > -1E10],alpha=0.7,label=\"predicted fitness\"); #filter out -inf\n",
    "plt.hist(np.array(target_values_singles)-1,alpha=0.5,label=\"experimental fitness\");\n",
    "plt.xlabel(\"relative fitness\");\n",
    "plt.ylabel(\"count\")\n",
    "plt.legend();"
   ]
  },
  {
   "cell_type": "code",
   "execution_count": null,
   "metadata": {
    "collapsed": true
   },
   "outputs": [],
   "source": [
    "len(predictions),len(target_values_singles)"
   ]
  },
  {
   "cell_type": "markdown",
   "metadata": {},
   "source": [
    "Note that the mismatch in lenght is due to batch size partitioning of the data (this can be fixed, but doesn't change much about the results). We can also explicitly look at how these values change together along all possible mutations. To visualize the predictions vs the real data, we use a [smoothing function](http://scipy.github.io/old-wiki/pages/Cookbook/SavitzkyGolay) to be able to visually relate the fitness ascribed to many variants, with those that the network predicted.  "
   ]
  },
  {
   "cell_type": "code",
   "execution_count": null,
   "metadata": {
    "collapsed": true
   },
   "outputs": [],
   "source": [
    "fig, ax = plt.subplots(num=None, figsize=(18,4), dpi=90)\n",
    "window=9\n",
    "poly=3\n",
    "plt.step(range(len(target_values_singles)),savitzky_golay(list(target_values_singles),window,poly),label=\"experiment\")\n",
    "plt.step(range(len(predictions)),savitzky_golay(predictions,window,poly),linewidth=2,alpha=0.6,label=\"predictions\")\n",
    "plt.legend();\n",
    "plt.xlabel(\"mutations\")\n",
    "plt.ylabel(\"fitness\");"
   ]
  },
  {
   "cell_type": "markdown",
   "metadata": {},
   "source": [
    "To remove the information that is purely due to column entropy, we subtract it from our prediction values and compare it to the epistatic predictions from Hopf paper. "
   ]
  },
  {
   "cell_type": "code",
   "execution_count": null,
   "metadata": {
    "collapsed": true
   },
   "outputs": [],
   "source": [
    "fig, ax = plt.subplots(num=None, figsize=(18,4), dpi=90)\n",
    "plt.step(range(len(predictions)),savitzky_golay(([a-b for a,b in zip(predictions,indip)]),window,poly))\n",
    "plt.step(range(len(epis)),savitzky_golay(([a-b for a,b in zip(epis,indip)]),window,poly))\n",
    "plt.xlabel(\"mutations\")\n",
    "plt.ylabel(\"fitness\");"
   ]
  },
  {
   "cell_type": "markdown",
   "metadata": {},
   "source": [
    "Finally, we can plot the predictions across the entire mutation landscape and compare it with the two other prediction methods (column entropy and second-order epistasis). "
   ]
  },
  {
   "cell_type": "code",
   "execution_count": null,
   "metadata": {
    "collapsed": true
   },
   "outputs": [],
   "source": [
    "len_seq=batch_size*int(len(test_data_plus)/batch_size)\n",
    "compare_on=False\n",
    "\n",
    "\n",
    "fig, ax = plt.subplots(num=4, figsize=(18,8), dpi=90)#, facecolor='w', edgecolor='k'),\n",
    "plt.subplot(311)\n",
    "plt.xlim(0,len_seq*1./3)\n",
    "plt.step(range(int(len_seq*1./3)),savitzky_golay(list(target_values_singles[:int(len_seq*1./3)]),window,poly),label=\"experimental $\\Delta f$ measurement\")\n",
    "plt.step(range(int(len_seq*1./3)),savitzky_golay(predictions[:int(len_seq*1./3)],window,poly), label=\"predicted $\\Delta f$\")\n",
    "if compare_on: \n",
    "    plt.plot(range(int(len_seq*1./3)),savitzky_golay(indip[:int(len_seq*1./3)],window,poly))\n",
    "    plt.plot(range(int(len_seq*1./3)),savitzky_golay(epis[:int(len_seq*1./3)],window,poly))\n",
    "\n",
    "\n",
    "plt.legend(bbox_to_anchor=(0.58,1.05))\n",
    "plt.ylabel(\"$\\Delta$ fitness\")\n",
    "\n",
    "plt.subplot(312)\n",
    "plt.xlim(len_seq*1./3,len_seq*2./3)\n",
    "plt.step(range(int(len_seq*1./3),int(len_seq*2./3)),savitzky_golay(list(target_values_singles[int(len_seq*1./3):int(len_seq*2./3)]),window,poly))\n",
    "plt.step(range(int(len_seq*1./3),int(len_seq*2./3)),savitzky_golay(predictions[int(len_seq*1./3):int(len_seq*2./3)],window,poly),linewidth=2)\n",
    "plt.ylabel(\"$\\Delta$ fitness\")\n",
    "if compare_on: \n",
    "    plt.plot(range(int(len_seq*1./3),int(len_seq*2./3)),savitzky_golay(indip[int(len_seq*1./3):int(len_seq*2./3)],window,poly))\n",
    "    plt.plot(range(int(len_seq*1./3),int(len_seq*2./3)),savitzky_golay(epis[int(len_seq*1./3):int(len_seq*2./3)],window,poly))\n",
    "\n",
    "plt.subplot(313)\n",
    "plt.xlim(len_seq*2./3,len_seq)\n",
    "plt.step(range(int(len_seq*2./3),len_seq),savitzky_golay(list(target_values_singles[int(len_seq*2./3):len_seq]),window,poly))\n",
    "plt.step(range(int(len_seq*2./3),len_seq-1),savitzky_golay(predictions[int(len_seq*2./3):len_seq],window,poly),linewidth=2)\n",
    "\n",
    "if compare_on: \n",
    "    plt.plot(range(int(len_seq*2./3),len_seq),savitzky_golay(indip[int(len_seq*2./3):len_seq],window,poly))\n",
    "    plt.plot(range(int(len_seq*2./3),len_seq),savitzky_golay(epis[int(len_seq*2./3):len_seq],window,poly))\n",
    "\n",
    "plt.ylabel(\"$\\Delta$ fitness\")\n",
    "plt.xlabel(\"Position\");"
   ]
  },
  {
   "cell_type": "markdown",
   "metadata": {
    "collapsed": true
   },
   "source": [
    "We can also visualize the prediction vs. fitness data differently. The red line represents perfect correlation, the blue distribution is the actual comparison. "
   ]
  },
  {
   "cell_type": "code",
   "execution_count": null,
   "metadata": {
    "collapsed": true
   },
   "outputs": [],
   "source": [
    "from sklearn.metrics.cluster import normalized_mutual_info_score\n",
    "fig = plt.figure(figsize=(8,5))\n",
    "\n",
    "x1=predictions\n",
    "\n",
    "y1=target_values_singles[:len(predictions)]\n",
    "\n",
    "plt.scatter(x1,y1,alpha=0.2)\n",
    "plt.plot(sorted(x1),sorted(y1),\"r\",linewidth=4,alpha=0.9)\n",
    "plt.title(str(spearmanr(x1,y1)))\n",
    "plt.xlabel(\"prediction\")\n",
    "plt.ylabel(\"experiment\")\n",
    "print(\"Mutual info:\", normalized_mutual_info_score(x1,y1))"
   ]
  },
  {
   "cell_type": "markdown",
   "metadata": {},
   "source": [
    "He is a summary of the results in a table. "
   ]
  },
  {
   "cell_type": "code",
   "execution_count": null,
   "metadata": {
    "collapsed": true
   },
   "outputs": [],
   "source": [
    "size=len(predictions)\n",
    "fitness_data=pd.DataFrame(columns=[\"lin\",\"log\",\"pred_wt\",\"pred\",\"pred_avg\"])\n",
    "\n",
    "fitness_data[\"experimental\"]=exp_data_singles[\"linear\"][:size]\n",
    "fitness_data[\"effect_prediction_epistatic\"]=exp_data_singles[\"effect_prediction_epistatic\"][:size]\n",
    "fitness_data[\"effect_prediction_independent\"]=exp_data_singles['effect_prediction_independent'][:size]\n",
    "\n",
    "fitness_data[\"prediction\"]=fitnesses\n",
    "fitness_data[\"prediction_wt\"]=fitnesses_vs_wt\n",
    "fitness_data[\"prediction_avg\"]=fitnesses_vs_avg\n",
    "\n",
    "corr_pred_singles=fitness_data.corr(method=\"spearman\")\n",
    "print(\"spearman rho correlations\")\n",
    "corr_pred_singles[[\"experimental\"]]"
   ]
  },
  {
   "cell_type": "markdown",
   "metadata": {},
   "source": [
    "### 4.2. Double mutants\n",
    "We repeat the same analysis for double mutants. "
   ]
  },
  {
   "cell_type": "code",
   "execution_count": null,
   "metadata": {
    "collapsed": true
   },
   "outputs": [],
   "source": [
    "x_decoded=vae.predict(test_data_doubles_plus[0:sample_size],batch_size=batch_size)\n",
    "digit_wt = x_decoded[0].reshape(digit_size,sequence_size)\n",
    "digit_wt = normalize(digit_wt,axis=0, norm='l1')\n",
    "\n",
    "mut_sample=100\n",
    "\n",
    "digit_p= x_decoded[mut_sample].reshape(digit_size,sequence_size)\n",
    "digit_p = normalize(digit_p,axis=0, norm='l1')"
   ]
  },
  {
   "cell_type": "code",
   "execution_count": null,
   "metadata": {
    "collapsed": true
   },
   "outputs": [],
   "source": [
    "fig = plt.figure(figsize=(12,18))\n",
    "\n",
    "fig.add_subplot(412)\n",
    "\n",
    "plt.pcolor(digit_wt,cmap=\"hot\",vmin=0,vmax=1)\n",
    "plt.colorbar()\n",
    "\n",
    "plt.xlim(0,82);\n",
    "plt.ylim(0,24);\n",
    "plt.yticks(range(24),ORDER_LIST)\n",
    "plt.title(\"wild_type_reconstruction\")\n",
    "\n",
    "fig.add_subplot(413)\n",
    "\n",
    "plt.pcolor(digit_p,cmap=\"hot\",vmin=0,vmax=1)\n",
    "plt.colorbar()\n",
    "\n",
    "plt.xlim(0,82);\n",
    "plt.ylim(0,24);\n",
    "plt.yticks(range(24),ORDER_LIST)\n",
    "plt.title(\"mutant_reconstruction\")\n",
    "\n",
    "fig.add_subplot(411)\n",
    "\n",
    "plt.pcolor(abs(test_data_doubles_plus[0].reshape(digit_size,sequence_size)+(test_data_doubles_plus[mut_sample].reshape(digit_size,sequence_size))*2),cmap=\"hot\",vmin=0,vmax=3)\n",
    "plt.xlim(0,82);\n",
    "plt.ylim(0,24);\n",
    "plt.yticks(range(24),ORDER_LIST)\n",
    "\n",
    "plt.title(\"One hot encoding of sequences (wt(red), mut(yellow))\")\n",
    "\n",
    "fig.add_subplot(414)\n",
    "\n",
    "plt.pcolor(-digit_wt+digit_p,cmap=\"bwr\",vmin=-0.05,vmax=0.05)\n",
    "plt.colorbar()\n",
    "plt.xlim(0,82);\n",
    "plt.ylim(0,24);\n",
    "plt.yticks(range(24),ORDER_LIST)\n",
    "\n",
    "plt.title(\"difference in distribution (mutant-wt): Notice that the scale is different\");"
   ]
  },
  {
   "cell_type": "code",
   "execution_count": null,
   "metadata": {
    "collapsed": true
   },
   "outputs": [],
   "source": [
    "sample_size=batch_size*int(len(test_data_doubles_plus)/batch_size)\n",
    "sample_for_averging_size=100\n",
    "sequence_size=PRUNED_SEQ_LENGTH\n",
    "digit_size = len(ORDER_LIST)\n",
    "x_decoded=vae.predict(test_data_doubles_plus[0:sample_size],batch_size=batch_size)\n",
    "\n",
    "digit = x_decoded[0].reshape(digit_size,sequence_size)\n",
    "digit_wt = normalize(digit,axis=0, norm='l1')\n",
    "wt_prob=compute_log_probability(test_data_doubles_plus[0].reshape(digit_size,sequence_size),digit_wt)\n",
    "print (\"wt_log_prob: \", wt_prob)\n",
    "\n",
    "wt_probs=[]\n",
    "digit_avg=np.zeros((digit_size,sequence_size))\n",
    "\n",
    "\n",
    "sample_indices=random.sample(range(sample_size),sample_for_averging_size)\n",
    "\n",
    "counter=0\n",
    "for sample in sample_indices:\n",
    "    digit = x_decoded[sample].reshape(digit_size,sequence_size)\n",
    "    digit_wt_i = normalize(digit,axis=0, norm='l1')\n",
    "    \n",
    "    digit_avg+=digit_wt_i*1./sample_for_averging_size\n",
    "    wt_p=compute_log_probability(test_data_doubles_plus[sample].reshape(digit_size,sequence_size),digit_wt_i)\n",
    "    wt_probs.append(wt_p)\n",
    "    counter+=1\n",
    "average_wt_p=np.mean(wt_probs)\n",
    "\n",
    "fitnesses_vs_wt=[]\n",
    "fitnesses=[]\n",
    "fitnesses_vs_avg=[]\n",
    "\n",
    "for sample in range(1,sample_size):\n",
    "    digit = x_decoded[sample].reshape(digit_size,sequence_size)\n",
    "    digit = normalize(digit,axis=0, norm='l1')\n",
    "    fitness=compute_log_probability(test_data_doubles_plus[sample].reshape(digit_size,sequence_size),digit)-wt_prob\n",
    "    fitnesses.append(fitness)\n",
    "    \n",
    "    fitness=compute_log_probability(test_data_doubles_plus[sample].reshape(digit_size,sequence_size),digit_wt)-wt_prob\n",
    "    fitnesses_vs_wt.append(fitness)\n",
    "    \n",
    "    fitness=compute_log_probability(test_data_doubles_plus[sample].reshape(digit_size,sequence_size),digit_avg)-average_wt_p\n",
    "    fitnesses_vs_avg.append(fitness)"
   ]
  },
  {
   "cell_type": "code",
   "execution_count": null,
   "metadata": {
    "collapsed": true
   },
   "outputs": [],
   "source": [
    "predictions=np.array(list(map(lambda x: x*1./(4*max (fitnesses)),fitnesses))) #arbitrary renormalization\n",
    "indip=list(map(lambda x: x*1./max (exp_data_singles[\"effect_prediction_independent\"]),exp_data_singles[\"effect_prediction_independent\"]))\n",
    "epis=list(map(lambda x: x*1./max (exp_data_singles[\"effect_prediction_epistatic\"]),exp_data_singles[\"effect_prediction_epistatic\"]))\n",
    "plt.hist(predictions[predictions > -1E10],alpha=0.7,label=\"predicted fitness\"); #filter out -inf\n",
    "plt.hist(np.array(target_values_doubles)-1,alpha=0.5,label=\"experimental fitness\");\n",
    "plt.xlabel(\"relative fitness\");\n",
    "plt.ylabel(\"count\")\n",
    "plt.legend();"
   ]
  },
  {
   "cell_type": "code",
   "execution_count": null,
   "metadata": {
    "collapsed": true
   },
   "outputs": [],
   "source": [
    "fig = plt.figure(figsize=(8,5))\n",
    "\n",
    "x1=predictions\n",
    "y1=target_values_doubles[:len(predictions)]\n",
    "\n",
    "plt.scatter(x1,y1,alpha=0.1)\n",
    "plt.plot(sorted(x1),sorted(y1),\"r\",linewidth=4,alpha=0.9)\n",
    "plt.title(str(spearmanr(x1,y1)))\n",
    "plt.xlabel(\"prediction\")\n",
    "plt.ylabel(\"experiment\")\n",
    "print(\"Mutual info:\", normalized_mutual_info_score(x1,y1))"
   ]
  },
  {
   "cell_type": "code",
   "execution_count": null,
   "metadata": {
    "collapsed": true
   },
   "outputs": [],
   "source": [
    "size=len(predictions)\n",
    "fitness_data=pd.DataFrame(columns=[\"lin\",\"log\",\"pred_wt\",\"pred\",\"pred_avg\"])\n",
    "\n",
    "fitness_data[\"experimental\"]=exp_data_doubles[\"XY_Enrichment_score\"][:size]\n",
    "fitness_data[\"effect_prediction_epistatic\"]=exp_data_doubles[\"effect_prediction_epistatic\"][:size]\n",
    "fitness_data[\"effect_prediction_independent\"]=exp_data_doubles['effect_prediction_independent'][:size]\n",
    "\n",
    "fitness_data[\"prediction\"]=fitnesses\n",
    "fitness_data[\"prediction_wt\"]=fitnesses_vs_wt\n",
    "fitness_data[\"prediction_avg\"]=fitnesses_vs_avg\n",
    "\n",
    "corr_pred_doubles=fitness_data.corr(method=\"spearman\")\n",
    "corr_pred_doubles[[\"experimental\"]]"
   ]
  },
  {
   "cell_type": "markdown",
   "metadata": {},
   "source": [
    "## Other datasets\n",
    "\n",
    "We chose this dataset for demonstration because there was the possiblitiy of testing the model on both the single and double mutants. This also happens to be the dataset that our model performs best compared to the epistatic model. We summarize the results from some other datasets in compiled by the Hopf et al. paper below.  \n",
    "\n",
    "**Important remark**: Note in the original version of this experiment we also ran this network on one viral dataset. However the size of the viral DNA (535), and diversity presented (requiring different re-weighting), relative to the size of this network made the training difficult to run to convergence. Hence we could not present the performance with the same confidence as the other datasets we tested our model on. Notably, in the viral case, the network did not perform better than the independent model. "
   ]
  },
  {
   "cell_type": "code",
   "execution_count": null,
   "metadata": {
    "collapsed": true
   },
   "outputs": [],
   "source": [
    "import seaborn as sns"
   ]
  },
  {
   "cell_type": "code",
   "execution_count": null,
   "metadata": {
    "collapsed": true
   },
   "outputs": [],
   "source": [
    "meta_data=pd.DataFrame.from_csv(\"other_datasets.csv\")"
   ]
  },
  {
   "cell_type": "code",
   "execution_count": null,
   "metadata": {
    "collapsed": true
   },
   "outputs": [],
   "source": [
    "meta_data.head()"
   ]
  },
  {
   "cell_type": "code",
   "execution_count": null,
   "metadata": {
    "collapsed": true
   },
   "outputs": [],
   "source": [
    "meta_data[\"ratio\"]=meta_data[\"training_data_size(used)\"]*1./meta_data[\"alignment_length\"]\n",
    "meta_data[\"diff_eps\"]=meta_data[\"prediction_avg\"]/meta_data[\"effect_prediction_epistasis\"]\n",
    "meta_data[\"diff_ind\"]=meta_data[\"prediction_avg\"]/meta_data[\"effect_prediction_independent\"]"
   ]
  },
  {
   "cell_type": "code",
   "execution_count": null,
   "metadata": {
    "collapsed": true
   },
   "outputs": [],
   "source": [
    "meta_data=meta_data.sort_values(by=[\"prediction_avg\"])\n",
    "meta_data=meta_data.reset_index()\n",
    "del meta_data[\"index\"]\n",
    "meta_data"
   ]
  },
  {
   "cell_type": "code",
   "execution_count": null,
   "metadata": {
    "collapsed": true
   },
   "outputs": [],
   "source": [
    "sns.jointplot(x=\"training_data_size(used)\",y=\"diff_eps\",data=meta_data,kind=\"reg\")"
   ]
  },
  {
   "cell_type": "code",
   "execution_count": null,
   "metadata": {
    "collapsed": true
   },
   "outputs": [],
   "source": [
    "#fig = plt.figure()\n",
    "fig, ax = plt.subplots(figsize=(8,5))\n",
    "\n",
    "plt.plot(meta_data[\"prediction_avg\"],\"rx-\",label=\"prediction\",linewidth=2)\n",
    "#plt.plot(meta_data[\"prediction\"],\"r-\",label=\"prediction\")\n",
    "#plt.plot(meta_data[\"prediction_wt\"],\"r--\",label=\"prediction_wt\")\n",
    "plt.plot(meta_data[\"effect_prediction_epistasis\"],\"bx--\",label=\"epistatic model Hopf et al.\",linewidth=2)\n",
    "plt.plot(meta_data[\"effect_prediction_independent\"],\"bx:\",label=\"Independent model\",linewidth=2)\n",
    "ax.set_xticks(range(len(meta_data)))\n",
    "ax.set_xticklabels(meta_data.dataset,rotation=45)\n",
    "plt.xlabel(\"dataset\")\n",
    "plt.ylabel(\"Spearman rho\")\n",
    "plt.legend(bbox_to_anchor=(1.5,.75));"
   ]
  },
  {
   "cell_type": "code",
   "execution_count": null,
   "metadata": {
    "collapsed": true
   },
   "outputs": [],
   "source": []
  }
 ],
 "metadata": {
  "anaconda-cloud": {},
  "kernelspec": {
   "display_name": "Python 3",
   "language": "python",
   "name": "python3"
  },
  "language_info": {
   "codemirror_mode": {
    "name": "ipython",
    "version": 3
   },
   "file_extension": ".py",
   "mimetype": "text/x-python",
   "name": "python",
   "nbconvert_exporter": "python",
   "pygments_lexer": "ipython3",
   "version": "3.5.2"
  }
 },
 "nbformat": 4,
 "nbformat_minor": 1
}
